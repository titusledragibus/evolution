{
 "cells": [
  {
   "cell_type": "markdown",
   "metadata": {
    "slideshow": {
     "slide_type": "slide"
    }
   },
   "source": [
    "<img src=\"../imgs/logo.png\" width=\"20%\" align=\"right\" style=\"margin:0px 20px\">\n",
    "\n",
    "\n",
    "# Evolutionary Computation\n",
    "\n",
    "## 3.2 NSGA-II\n",
    "\n",
    "<a rel=\"license\" href=\"http://creativecommons.org/licenses/by-sa/4.0/\"><img alt=\"Creative Commons License\" align=\"left\" src=\"https://i.creativecommons.org/l/by-sa/4.0/80x15.png\" /></a>&nbsp;| Dennis G. Wilson | <a href=\"https://d9w.github.io/evolution/\">https://d9w.github.io/evolution/</a>"
   ]
  },
  {
   "cell_type": "markdown",
   "metadata": {
    "slideshow": {
     "slide_type": "slide"
    }
   },
   "source": [
    "## Outline\n",
    "\n",
    "1. [The Knapsack Problem](#knapsack)\n",
    "2. [Evolution](#evolution)\n",
    "3. [Visualization](#visualization)"
   ]
  },
  {
   "cell_type": "code",
   "execution_count": 1,
   "metadata": {
    "slideshow": {
     "slide_type": "slide"
    }
   },
   "outputs": [
    {
     "name": "stderr",
     "output_type": "stream",
     "text": [
      "┌ Info: Recompiling stale cache file /Users/titouan/.julia/compiled/v1.0/JuMP/DmXqY.ji for JuMP [4076af6c-e467-56ae-b986-b466b2749572]\n",
      "└ @ Base loading.jl:1190\n",
      "┌ Info: Recompiling stale cache file /Users/titouan/.julia/compiled/v1.0/GLPK/r6CoY.ji for GLPK [60bf3e95-4087-53dc-ae20-288a0d20c6a6]\n",
      "└ @ Base loading.jl:1190\n",
      "┌ Info: Recompiling stale cache file /Users/titouan/.julia/compiled/v1.0/Plots/ld3vC.ji for Plots [91a5bcdd-55d7-5caf-9e0b-520d859cae80]\n",
      "└ @ Base loading.jl:1190\n"
     ]
    }
   ],
   "source": [
    "using NSGAII\n",
    "using JuMP, GLPK\n",
    "using Plots\n",
    "default(show=:ijulia)"
   ]
  },
  {
   "cell_type": "markdown",
   "metadata": {
    "slideshow": {
     "slide_type": "fragment"
    }
   },
   "source": [
    "To experiment with NSGAII we'll be using a rather new implementation of it from Github: https://github.com/gsoleilhac/NSGAII.jl/.\n",
    "\n",
    "This implementation isn't so complicated and if we look at the code, we can see that much of it resembles our [notebook code](https://github.com/d9w/evolution/blob/master/2_ga/1_GAs.ipynb) on Genetic Algorithms. Let's look at the [functions](https://github.com/gsoleilhac/NSGAII.jl/blob/master/src/functions.jl) code which contains the main Genetic Algorithm loop, as well as the [NSGA-II](http://repository.ias.ac.in/83498/1/2-a.pdf) Fast Non-Dominated Sort and Crowding Distance Algorithm."
   ]
  },
  {
   "cell_type": "markdown",
   "metadata": {
    "slideshow": {
     "slide_type": "slide"
    }
   },
   "source": [
    "## <a id=\"knapsack\"></a>The Knapsack Problem"
   ]
  },
  {
   "cell_type": "markdown",
   "metadata": {
    "slideshow": {
     "slide_type": "fragment"
    }
   },
   "source": [
    "<img src=\"https://imgs.xkcd.com/comics/np_complete.png\">\n",
    "<div style=\"text-align:center\"><a href=\"https://xkcd.com/287/\">XKCD on the Knapsack Problem</a></div>\n"
   ]
  },
  {
   "cell_type": "markdown",
   "metadata": {
    "slideshow": {
     "slide_type": "slide"
    }
   },
   "source": [
    "Imagine we're travelling and our bag has a maximum weight limit. We want to fill this bag with items of different value and maximize the total value in our bag, as long as it stays in the weight limit. This is known as the \"knapsack problem\".\n",
    "<img src=\"../imgs/knapsack.png\" width=\"30%\" height=\"auto\">\n",
    "Instead of a bag with items, you could imagine a scenario like the comic. You want to order different appetizers, but you only want to spend a fixed maximum amount. How can you get the best appetizers?"
   ]
  },
  {
   "cell_type": "markdown",
   "metadata": {
    "slideshow": {
     "slide_type": "slide"
    }
   },
   "source": [
    "Let's look at an example, specifically using the version of the Knapsack problem known as the \"0-1 knapsack problem\" where we can have at most 1 copy of each item. We'll use 5 items and randomly geneate values for them."
   ]
  },
  {
   "cell_type": "code",
   "execution_count": 2,
   "metadata": {
    "slideshow": {
     "slide_type": "fragment"
    }
   },
   "outputs": [
    {
     "name": "stdout",
     "output_type": "stream",
     "text": [
      "[84, 64, 7, 11, 1] total value: 167\n"
     ]
    }
   ],
   "source": [
    "n = 5\n",
    "values = rand(0:100, n)\n",
    "println(values, \" total value: \", sum(values))"
   ]
  },
  {
   "cell_type": "code",
   "execution_count": 3,
   "metadata": {
    "slideshow": {
     "slide_type": "fragment"
    }
   },
   "outputs": [
    {
     "name": "stdout",
     "output_type": "stream",
     "text": [
      "[10, 11, 20, 20, 13] total weight: 74\n"
     ]
    }
   ],
   "source": [
    "weights = rand(10:20, n)\n",
    "max_weight = 55\n",
    "println(weights, \" total weight: \", sum(weights))"
   ]
  },
  {
   "cell_type": "markdown",
   "metadata": {
    "slideshow": {
     "slide_type": "fragment"
    }
   },
   "source": [
    "We won't be able to take all items because of the maximum weight of 55. We'll express our choice of items using a binary string, 1 if we take the item and 0 otherwise."
   ]
  },
  {
   "cell_type": "code",
   "execution_count": 4,
   "metadata": {
    "slideshow": {
     "slide_type": "fragment"
    }
   },
   "outputs": [
    {
     "name": "stdout",
     "output_type": "stream",
     "text": [
      "Bool[false, true, true, true, true]\n"
     ]
    }
   ],
   "source": [
    "using Random: bitrand\n",
    "choices = bitrand(n)\n",
    "println(choices)"
   ]
  },
  {
   "cell_type": "markdown",
   "metadata": {
    "slideshow": {
     "slide_type": "slide"
    }
   },
   "source": [
    "The total value of our knapsack is therefore the sum of the element-wise multiplication of our choices and the individual item values."
   ]
  },
  {
   "cell_type": "code",
   "execution_count": 5,
   "metadata": {
    "slideshow": {
     "slide_type": "fragment"
    }
   },
   "outputs": [
    {
     "data": {
      "text/plain": [
       "83"
      ]
     },
     "execution_count": 5,
     "metadata": {},
     "output_type": "execute_result"
    }
   ],
   "source": [
    "sum(choices .* values)"
   ]
  },
  {
   "cell_type": "markdown",
   "metadata": {
    "slideshow": {
     "slide_type": "fragment"
    }
   },
   "source": [
    "In other words, the dot product of the two vectors."
   ]
  },
  {
   "cell_type": "code",
   "execution_count": 6,
   "metadata": {
    "slideshow": {
     "slide_type": "fragment"
    }
   },
   "outputs": [
    {
     "data": {
      "text/plain": [
       "83"
      ]
     },
     "execution_count": 6,
     "metadata": {},
     "output_type": "execute_result"
    }
   ],
   "source": [
    "using LinearAlgebra: dot\n",
    "dot(choices, values)"
   ]
  },
  {
   "cell_type": "markdown",
   "metadata": {
    "slideshow": {
     "slide_type": "fragment"
    }
   },
   "source": [
    "We can also use the dot product to check if our choices fall under the weight limit"
   ]
  },
  {
   "cell_type": "code",
   "execution_count": 7,
   "metadata": {
    "slideshow": {
     "slide_type": "fragment"
    }
   },
   "outputs": [
    {
     "data": {
      "text/plain": [
       "(64, 55)"
      ]
     },
     "execution_count": 7,
     "metadata": {},
     "output_type": "execute_result"
    }
   ],
   "source": [
    "dot(choices, weights), max_weight"
   ]
  },
  {
   "cell_type": "markdown",
   "metadata": {
    "slideshow": {
     "slide_type": "slide"
    }
   },
   "source": [
    "Let's say you and a friend are travelling together and to make it cheaper, you're sharing a bag. You and your friend assign different values to each item based on what you want to bring on the trip. Your preferences are in `values` and your friends preferences are:"
   ]
  },
  {
   "cell_type": "code",
   "execution_count": 8,
   "metadata": {
    "slideshow": {
     "slide_type": "fragment"
    }
   },
   "outputs": [
    {
     "name": "stdout",
     "output_type": "stream",
     "text": [
      "You:\t[84, 64, 7, 11, 1] total value: 167\n",
      "Friend:\t[79, 4, 88, 59, 69] total value: 299\n"
     ]
    }
   ],
   "source": [
    "values2 = rand(0:100, n)\n",
    "println(\"You:\\t\", values, \" total value: \", sum(values))\n",
    "println(\"Friend:\\t\", values2, \" total value: \", sum(values2))"
   ]
  },
  {
   "cell_type": "markdown",
   "metadata": {
    "slideshow": {
     "slide_type": "fragment"
    }
   },
   "source": [
    "Let's see who is happier with the choices we made"
   ]
  },
  {
   "cell_type": "code",
   "execution_count": 9,
   "metadata": {
    "slideshow": {
     "slide_type": "fragment"
    }
   },
   "outputs": [
    {
     "name": "stdout",
     "output_type": "stream",
     "text": [
      "Bool[true, true, true, false, false]\n",
      "weight: 41\n",
      "You: 155 Friend: 171\n"
     ]
    }
   ],
   "source": [
    "choices = bitrand(n)\n",
    "println(choices)\n",
    "println(\"weight: \", dot(choices, weights))\n",
    "println(\"You: \", dot(choices, values), \" Friend: \", dot(choices, values2))"
   ]
  },
  {
   "cell_type": "markdown",
   "metadata": {
    "slideshow": {
     "slide_type": "fragment"
    }
   },
   "source": [
    "This is the multi-objective version of the Knapsack problem where we use $K$ different value vectors for $K$ objectives."
   ]
  },
  {
   "cell_type": "markdown",
   "metadata": {
    "slideshow": {
     "slide_type": "slide"
    }
   },
   "source": [
    "[The Knapsack problem](https://en.wikipedia.org/wiki/Knapsack_problem) has been thoroughly studied in theoretical computer science and evolutionary computation is not the only choice for solving it; dynamic programming and mixed integer programming are what [JuMP](https://github.com/JuliaOpt/JuMP.jl), an optimization library, uses."
   ]
  },
  {
   "cell_type": "code",
   "execution_count": 10,
   "metadata": {
    "collapsed": true,
    "slideshow": {
     "slide_type": "fragment"
    }
   },
   "outputs": [],
   "source": [
    "m = Model(GLPK.Optimizer)\n",
    "@variable(m, x[1:n], Bin)\n",
    "# Objective: maximize profit\n",
    "@objective(m, Max, dot(values, x))\n",
    "@objective(m, Max, dot(values2, x))\n",
    "# Constraint: can carry all\n",
    "@constraint(m, dot(weights, x) <= max_weight)\n",
    "# Solve problem using MIP solver\n",
    "JuMP.optimize!(m)"
   ]
  },
  {
   "cell_type": "code",
   "execution_count": 11,
   "metadata": {
    "slideshow": {
     "slide_type": "fragment"
    }
   },
   "outputs": [
    {
     "name": "stdout",
     "output_type": "stream",
     "text": [
      "Objective is: 240.0\n",
      "Solution is:\n",
      "x[1] = 1.0, p[1]/w[1] = 8.4, p[1]/w[1] = 7.9\n",
      "x[2] = 1.0, p[2]/w[2] = 5.818181818181818, p[2]/w[2] = 0.36363636363636365\n",
      "x[3] = 1.0, p[3]/w[3] = 0.35, p[3]/w[3] = 4.4\n",
      "x[4] = 0.0, p[4]/w[4] = 0.55, p[4]/w[4] = 2.95\n",
      "x[5] = 1.0, p[5]/w[5] = 0.07692307692307693, p[5]/w[5] = 5.3076923076923075\n"
     ]
    }
   ],
   "source": [
    "println(\"Objective is: \", JuMP.objective_value(m))\n",
    "println(\"Solution is:\")\n",
    "for i = 1:5\n",
    "    print(\"x[$i] = \", JuMP.value(x[i]))\n",
    "    print(\", p[$i]/w[$i] = \", values[i]/weights[i])\n",
    "    println(\", p[$i]/w[$i] = \", values2[i]/weights[i])\n",
    "end"
   ]
  },
  {
   "cell_type": "markdown",
   "metadata": {
    "slideshow": {
     "slide_type": "slide"
    }
   },
   "source": [
    "## <a id=\"evolution\"></a>Evolution"
   ]
  },
  {
   "cell_type": "markdown",
   "metadata": {
    "slideshow": {
     "slide_type": "fragment"
    }
   },
   "source": [
    "To apply NSGA-II to this problem, let's scale up the number of items to 100. "
   ]
  },
  {
   "cell_type": "code",
   "execution_count": 12,
   "metadata": {
    "slideshow": {
     "slide_type": "fragment"
    }
   },
   "outputs": [
    {
     "data": {
      "text/plain": [
       "100×2 Array{Float64,2}:\n",
       " 0.504556    0.65618  \n",
       " 0.952525    0.295073 \n",
       " 0.407927    0.480355 \n",
       " 0.680246    0.0221339\n",
       " 0.24691     0.236379 \n",
       " 0.4613      0.571805 \n",
       " 0.866387    0.638884 \n",
       " 0.782797    0.988186 \n",
       " 0.729354    0.661598 \n",
       " 0.765133    0.997977 \n",
       " 0.25375     0.0354896\n",
       " 0.0244057   0.357661 \n",
       " 0.0845848   0.425593 \n",
       " ⋮                    \n",
       " 0.807824    0.142091 \n",
       " 0.557757    0.600024 \n",
       " 0.71001     0.606787 \n",
       " 0.917287    0.548818 \n",
       " 0.946169    0.6636   \n",
       " 0.94209     0.463741 \n",
       " 0.949028    0.272053 \n",
       " 0.670404    0.0829967\n",
       " 0.945733    0.445787 \n",
       " 0.00838531  0.763543 \n",
       " 0.149878    0.200047 \n",
       " 0.338546    0.693509 "
      ]
     },
     "execution_count": 12,
     "metadata": {},
     "output_type": "execute_result"
    }
   ],
   "source": [
    "n = 100\n",
    "n_objectives = 2\n",
    "values = rand(n, n_objectives)"
   ]
  },
  {
   "cell_type": "markdown",
   "metadata": {
    "slideshow": {
     "slide_type": "slide"
    }
   },
   "source": [
    "Let's normalize our fitness values by their sum, so that the total maximum value is 1.0 which will help with plotting later."
   ]
  },
  {
   "cell_type": "code",
   "execution_count": 13,
   "metadata": {
    "slideshow": {
     "slide_type": "fragment"
    }
   },
   "outputs": [
    {
     "data": {
      "text/plain": [
       "1×2 Array{Float64,2}:\n",
       " 1.0  1.0"
      ]
     },
     "execution_count": 13,
     "metadata": {},
     "output_type": "execute_result"
    }
   ],
   "source": [
    "values = values ./ sum(values, dims=1);\n",
    "sum(values, dims=1)"
   ]
  },
  {
   "cell_type": "markdown",
   "metadata": {
    "slideshow": {
     "slide_type": "slide"
    }
   },
   "source": [
    "Similarly, let's normalize the weights to sum to 1 and set a maximum weight of 0.5, meaning we can keep only half the items on average. This will let us change the number of items more easily later on but doesn't impact the problem in any way."
   ]
  },
  {
   "cell_type": "code",
   "execution_count": 14,
   "metadata": {
    "slideshow": {
     "slide_type": "fragment"
    }
   },
   "outputs": [
    {
     "data": {
      "text/plain": [
       "0.5"
      ]
     },
     "execution_count": 14,
     "metadata": {},
     "output_type": "execute_result"
    }
   ],
   "source": [
    "weights = rand(n)\n",
    "weights = weights ./ sum(weights)\n",
    "max_weight = 0.5"
   ]
  },
  {
   "cell_type": "markdown",
   "metadata": {
    "slideshow": {
     "slide_type": "slide"
    }
   },
   "source": [
    "Let's write our objective function which will compute the value of our knapsack using each different column of profit values."
   ]
  },
  {
   "cell_type": "code",
   "execution_count": 15,
   "metadata": {
    "slideshow": {
     "slide_type": "fragment"
    }
   },
   "outputs": [
    {
     "data": {
      "text/plain": [
       "objective (generic function with 1 method)"
      ]
     },
     "execution_count": 15,
     "metadata": {},
     "output_type": "execute_result"
    }
   ],
   "source": [
    "function objective(genes::AbstractArray)\n",
    "    fits = zeros(n_objectives)\n",
    "    for i in 1:n_objectives\n",
    "        fits[i] = dot(genes, values[:, i])\n",
    "    end\n",
    "    tuple(fits...)\n",
    "end"
   ]
  },
  {
   "cell_type": "markdown",
   "metadata": {
    "slideshow": {
     "slide_type": "slide"
    }
   },
   "source": [
    "We'll add in our weight constraint separately. This is used in the evaluation of individuals and is considered a part of our objective function, but is handled separately. Our lecture on evolution with constraints will go into more detail on that. For this NSGA-II implementation, we return 0 if the condition passes and the distance from meeting the condition otherwise."
   ]
  },
  {
   "cell_type": "code",
   "execution_count": 16,
   "metadata": {
    "slideshow": {
     "slide_type": "fragment"
    }
   },
   "outputs": [
    {
     "data": {
      "text/plain": [
       "constraint (generic function with 1 method)"
      ]
     },
     "execution_count": 16,
     "metadata": {},
     "output_type": "execute_result"
    }
   ],
   "source": [
    "function constraint(genes::AbstractArray)\n",
    "    sum_weights = dot(genes, weights)\n",
    "    return sum_weights <= max_weight ? 0 : sum_weights - max_weight\n",
    "end"
   ]
  },
  {
   "cell_type": "markdown",
   "metadata": {
    "slideshow": {
     "slide_type": "slide"
    }
   },
   "source": [
    "That's all, so now we're ready to run NSGA-II. Let's run it for 100 generations on a population of 100. The function returns the set of non-dominated individuals at the end"
   ]
  },
  {
   "cell_type": "code",
   "execution_count": 17,
   "metadata": {
    "slideshow": {
     "slide_type": "fragment"
    }
   },
   "outputs": [
    {
     "data": {
      "text/plain": [
       "indiv([011001111100010...011111111101101] : (0.7058975584222303, 0.7401040157851408) | rank : 1)"
      ]
     },
     "execution_count": 17,
     "metadata": {},
     "output_type": "execute_result"
    }
   ],
   "source": [
    "popsize = 100\n",
    "nbgen = 100\n",
    "init() = bitrand(n)\n",
    "non_dominated =  nsga_max(popsize, nbgen, objective, init, fCV=constraint)\n",
    "non_dominated[1]"
   ]
  },
  {
   "cell_type": "markdown",
   "metadata": {
    "slideshow": {
     "slide_type": "slide"
    }
   },
   "source": [
    "Let's see what type of total profit values we have from our two objectives."
   ]
  },
  {
   "cell_type": "code",
   "execution_count": 18,
   "metadata": {
    "slideshow": {
     "slide_type": "fragment"
    }
   },
   "outputs": [
    {
     "data": {
      "text/plain": [
       "9-element Array{Array{Float64,1},1}:\n",
       " [0.705898, 0.740104]\n",
       " [0.742446, 0.681577]\n",
       " [0.713847, 0.73707] \n",
       " [0.714921, 0.724193]\n",
       " [0.729973, 0.723431]\n",
       " [0.731047, 0.710554]\n",
       " [0.735724, 0.694611]\n",
       " [0.742256, 0.6822]  \n",
       " [0.736879, 0.691776]"
      ]
     },
     "execution_count": 18,
     "metadata": {},
     "output_type": "execute_result"
    }
   ],
   "source": [
    "unique([collect(i.y) for i in non_dominated])"
   ]
  },
  {
   "cell_type": "markdown",
   "metadata": {
    "slideshow": {
     "slide_type": "slide"
    }
   },
   "source": [
    "Finally, we can compare this value to a value obtained by JuMP"
   ]
  },
  {
   "cell_type": "code",
   "execution_count": 19,
   "metadata": {
    "slideshow": {
     "slide_type": "fragment"
    }
   },
   "outputs": [
    {
     "name": "stdout",
     "output_type": "stream",
     "text": [
      "JuMP: 0.5995174889252876 0.8188850436015855\n"
     ]
    }
   ],
   "source": [
    "m = Model(GLPK.Optimizer)\n",
    "@variable(m, x[1:n], Bin)\n",
    "@objective(m, Max, dot(values[:, 1], x))\n",
    "@objective(m, Max, dot(values[:, 2], x))\n",
    "@constraint(m, dot(weights, x) <= max_weight)\n",
    "status = optimize!(m)\n",
    "best_solution = [JuMP.value(x[i]) for i in 1:n]\n",
    "println(\"JuMP: \", dot(values[:, 1], best_solution), \" \", dot(values[:, 2], best_solution))"
   ]
  },
  {
   "cell_type": "code",
   "execution_count": null,
   "metadata": {
    "collapsed": true
   },
   "outputs": [],
   "source": []
  },
  {
   "cell_type": "markdown",
   "metadata": {
    "slideshow": {
     "slide_type": "slide"
    }
   },
   "source": [
    "<div class=\"alert alert-success\">\n",
    "    <b>Exercise 2</b>\n",
    "    <br/>\n",
    "    Increase the problem difficulty by increasing the number of items and reducing the weight limit. How does NSGA-II do?\n",
    "    <br/>\n",
    "</div>"
   ]
  },
  {
   "cell_type": "code",
   "execution_count": 20,
   "metadata": {},
   "outputs": [
    {
     "name": "stderr",
     "output_type": "stream",
     "text": [
      "\u001b[32mProgress: 100%|█████████████████████████████████████████| Time: 0:00:01\u001b[39m\n"
     ]
    },
    {
     "data": {
      "text/plain": [
       "indiv([011001111100010...011011011100000] : (0.6380938501826667, 0.6684492056164015) | rank : 1)"
      ]
     },
     "execution_count": 20,
     "metadata": {},
     "output_type": "execute_result"
    }
   ],
   "source": [
    "popsize = 100\n",
    "n = 100\n",
    "max_weight = 0.4\n",
    "nbgen = 1000\n",
    "init() = bitrand(n)\n",
    "non_dominated =  nsga_max(popsize, nbgen, objective, init, fCV=constraint)\n",
    "non_dominated[1]"
   ]
  },
  {
   "cell_type": "code",
   "execution_count": 21,
   "metadata": {},
   "outputs": [
    {
     "data": {
      "text/plain": [
       "18-element Array{Array{Float64,1},1}:\n",
       " [0.638094, 0.668449]\n",
       " [0.696779, 0.614859]\n",
       " [0.689976, 0.61961] \n",
       " [0.687863, 0.632278]\n",
       " [0.65948, 0.660047] \n",
       " [0.647415, 0.660898]\n",
       " [0.672765, 0.643118]\n",
       " [0.683429, 0.641528]\n",
       " [0.684134, 0.632395]\n",
       " [0.690536, 0.619283]\n",
       " [0.696219, 0.615186]\n",
       " [0.670357, 0.648189]\n",
       " [0.667695, 0.65416] \n",
       " [0.641056, 0.66356] \n",
       " [0.663438, 0.656371]\n",
       " [0.672674, 0.645162]\n",
       " [0.642885, 0.661135]\n",
       " [0.662476, 0.658989]"
      ]
     },
     "execution_count": 21,
     "metadata": {},
     "output_type": "execute_result"
    }
   ],
   "source": [
    "unique([collect(i.y) for i in non_dominated])"
   ]
  },
  {
   "cell_type": "code",
   "execution_count": 24,
   "metadata": {},
   "outputs": [
    {
     "name": "stdout",
     "output_type": "stream",
     "text": [
      "JuMP: 0.5308049335362758 0.7317410723906128\n"
     ]
    }
   ],
   "source": [
    "m = Model(GLPK.Optimizer)\n",
    "@variable(m, x[1:n], Bin)\n",
    "@objective(m, Max, dot(values[:, 1], x))\n",
    "@objective(m, Max, dot(values[:, 2], x))\n",
    "@constraint(m, dot(weights, x) <= max_weight)\n",
    "status = optimize!(m)\n",
    "best_solution = [JuMP.value(x[i]) for i in 1:n]\n",
    "println(\"JuMP: \", dot(values[:, 1], best_solution), \" \", dot(values[:, 2], best_solution))"
   ]
  },
  {
   "cell_type": "markdown",
   "metadata": {
    "slideshow": {
     "slide_type": "slide"
    }
   },
   "source": [
    "## <a id=\"visualization\"></a>Visualization"
   ]
  },
  {
   "cell_type": "markdown",
   "metadata": {
    "slideshow": {
     "slide_type": "fragment"
    }
   },
   "source": [
    "To better understand NSGA-II's evolution, let's observe the population over time."
   ]
  },
  {
   "cell_type": "code",
   "execution_count": 27,
   "metadata": {
    "slideshow": {
     "slide_type": "slide"
    }
   },
   "outputs": [
    {
     "data": {
      "image/svg+xml": [
       "<?xml version=\"1.0\" encoding=\"utf-8\"?>\n",
       "<svg xmlns=\"http://www.w3.org/2000/svg\" xmlns:xlink=\"http://www.w3.org/1999/xlink\" width=\"600\" height=\"400\" viewBox=\"0 0 2400 1600\">\n",
       "<defs>\n",
       "  <clipPath id=\"clip6700\">\n",
       "    <rect x=\"0\" y=\"0\" width=\"2400\" height=\"1600\"/>\n",
       "  </clipPath>\n",
       "</defs>\n",
       "<path clip-path=\"url(#clip6700)\" d=\"\n",
       "M0 1600 L2400 1600 L2400 0 L0 0  Z\n",
       "  \" fill=\"#ffffff\" fill-rule=\"evenodd\" fill-opacity=\"1\"/>\n",
       "<defs>\n",
       "  <clipPath id=\"clip6701\">\n",
       "    <rect x=\"480\" y=\"0\" width=\"1681\" height=\"1600\"/>\n",
       "  </clipPath>\n",
       "</defs>\n",
       "<path clip-path=\"url(#clip6700)\" d=\"\n",
       "M148.334 1486.45 L2352.76 1486.45 L2352.76 47.2441 L148.334 47.2441  Z\n",
       "  \" fill=\"#ffffff\" fill-rule=\"evenodd\" fill-opacity=\"1\"/>\n",
       "<defs>\n",
       "  <clipPath id=\"clip6702\">\n",
       "    <rect x=\"148\" y=\"47\" width=\"2205\" height=\"1440\"/>\n",
       "  </clipPath>\n",
       "</defs>\n",
       "<polyline clip-path=\"url(#clip6702)\" style=\"stroke:#000000; stroke-width:2; stroke-opacity:0.1; fill:none\" points=\"\n",
       "  148.334,1486.45 148.334,47.2441 \n",
       "  \"/>\n",
       "<polyline clip-path=\"url(#clip6702)\" style=\"stroke:#000000; stroke-width:2; stroke-opacity:0.1; fill:none\" points=\"\n",
       "  589.219,1486.45 589.219,47.2441 \n",
       "  \"/>\n",
       "<polyline clip-path=\"url(#clip6702)\" style=\"stroke:#000000; stroke-width:2; stroke-opacity:0.1; fill:none\" points=\"\n",
       "  1030.1,1486.45 1030.1,47.2441 \n",
       "  \"/>\n",
       "<polyline clip-path=\"url(#clip6702)\" style=\"stroke:#000000; stroke-width:2; stroke-opacity:0.1; fill:none\" points=\"\n",
       "  1470.99,1486.45 1470.99,47.2441 \n",
       "  \"/>\n",
       "<polyline clip-path=\"url(#clip6702)\" style=\"stroke:#000000; stroke-width:2; stroke-opacity:0.1; fill:none\" points=\"\n",
       "  1911.87,1486.45 1911.87,47.2441 \n",
       "  \"/>\n",
       "<polyline clip-path=\"url(#clip6702)\" style=\"stroke:#000000; stroke-width:2; stroke-opacity:0.1; fill:none\" points=\"\n",
       "  2352.76,1486.45 2352.76,47.2441 \n",
       "  \"/>\n",
       "<polyline clip-path=\"url(#clip6702)\" style=\"stroke:#000000; stroke-width:2; stroke-opacity:0.1; fill:none\" points=\"\n",
       "  148.334,1486.45 2352.76,1486.45 \n",
       "  \"/>\n",
       "<polyline clip-path=\"url(#clip6702)\" style=\"stroke:#000000; stroke-width:2; stroke-opacity:0.1; fill:none\" points=\"\n",
       "  148.334,1198.61 2352.76,1198.61 \n",
       "  \"/>\n",
       "<polyline clip-path=\"url(#clip6702)\" style=\"stroke:#000000; stroke-width:2; stroke-opacity:0.1; fill:none\" points=\"\n",
       "  148.334,910.766 2352.76,910.766 \n",
       "  \"/>\n",
       "<polyline clip-path=\"url(#clip6702)\" style=\"stroke:#000000; stroke-width:2; stroke-opacity:0.1; fill:none\" points=\"\n",
       "  148.334,622.926 2352.76,622.926 \n",
       "  \"/>\n",
       "<polyline clip-path=\"url(#clip6702)\" style=\"stroke:#000000; stroke-width:2; stroke-opacity:0.1; fill:none\" points=\"\n",
       "  148.334,335.085 2352.76,335.085 \n",
       "  \"/>\n",
       "<polyline clip-path=\"url(#clip6702)\" style=\"stroke:#000000; stroke-width:2; stroke-opacity:0.1; fill:none\" points=\"\n",
       "  148.334,47.2441 2352.76,47.2441 \n",
       "  \"/>\n",
       "<polyline clip-path=\"url(#clip6700)\" style=\"stroke:#000000; stroke-width:4; stroke-opacity:1; fill:none\" points=\"\n",
       "  148.334,1486.45 2352.76,1486.45 \n",
       "  \"/>\n",
       "<polyline clip-path=\"url(#clip6700)\" style=\"stroke:#000000; stroke-width:4; stroke-opacity:1; fill:none\" points=\"\n",
       "  148.334,1486.45 148.334,47.2441 \n",
       "  \"/>\n",
       "<polyline clip-path=\"url(#clip6700)\" style=\"stroke:#000000; stroke-width:4; stroke-opacity:1; fill:none\" points=\"\n",
       "  148.334,1486.45 148.334,1469.18 \n",
       "  \"/>\n",
       "<polyline clip-path=\"url(#clip6700)\" style=\"stroke:#000000; stroke-width:4; stroke-opacity:1; fill:none\" points=\"\n",
       "  589.219,1486.45 589.219,1469.18 \n",
       "  \"/>\n",
       "<polyline clip-path=\"url(#clip6700)\" style=\"stroke:#000000; stroke-width:4; stroke-opacity:1; fill:none\" points=\"\n",
       "  1030.1,1486.45 1030.1,1469.18 \n",
       "  \"/>\n",
       "<polyline clip-path=\"url(#clip6700)\" style=\"stroke:#000000; stroke-width:4; stroke-opacity:1; fill:none\" points=\"\n",
       "  1470.99,1486.45 1470.99,1469.18 \n",
       "  \"/>\n",
       "<polyline clip-path=\"url(#clip6700)\" style=\"stroke:#000000; stroke-width:4; stroke-opacity:1; fill:none\" points=\"\n",
       "  1911.87,1486.45 1911.87,1469.18 \n",
       "  \"/>\n",
       "<polyline clip-path=\"url(#clip6700)\" style=\"stroke:#000000; stroke-width:4; stroke-opacity:1; fill:none\" points=\"\n",
       "  2352.76,1486.45 2352.76,1469.18 \n",
       "  \"/>\n",
       "<polyline clip-path=\"url(#clip6700)\" style=\"stroke:#000000; stroke-width:4; stroke-opacity:1; fill:none\" points=\"\n",
       "  148.334,1486.45 174.787,1486.45 \n",
       "  \"/>\n",
       "<polyline clip-path=\"url(#clip6700)\" style=\"stroke:#000000; stroke-width:4; stroke-opacity:1; fill:none\" points=\"\n",
       "  148.334,1198.61 174.787,1198.61 \n",
       "  \"/>\n",
       "<polyline clip-path=\"url(#clip6700)\" style=\"stroke:#000000; stroke-width:4; stroke-opacity:1; fill:none\" points=\"\n",
       "  148.334,910.766 174.787,910.766 \n",
       "  \"/>\n",
       "<polyline clip-path=\"url(#clip6700)\" style=\"stroke:#000000; stroke-width:4; stroke-opacity:1; fill:none\" points=\"\n",
       "  148.334,622.926 174.787,622.926 \n",
       "  \"/>\n",
       "<polyline clip-path=\"url(#clip6700)\" style=\"stroke:#000000; stroke-width:4; stroke-opacity:1; fill:none\" points=\"\n",
       "  148.334,335.085 174.787,335.085 \n",
       "  \"/>\n",
       "<polyline clip-path=\"url(#clip6700)\" style=\"stroke:#000000; stroke-width:4; stroke-opacity:1; fill:none\" points=\"\n",
       "  148.334,47.2441 174.787,47.2441 \n",
       "  \"/>\n",
       "<path clip-path=\"url(#clip6700)\" d=\"M 0 0 M129.851 1508.44 Q126.24 1508.44 124.411 1512 Q122.605 1515.55 122.605 1522.67 Q122.605 1529.78 124.411 1533.35 Q126.24 1536.89 129.851 1536.89 Q133.485 1536.89 135.29 1533.35 Q137.119 1529.78 137.119 1522.67 Q137.119 1515.55 135.29 1512 Q133.485 1508.44 129.851 1508.44 M129.851 1504.73 Q135.661 1504.73 138.716 1509.34 Q141.795 1513.92 141.795 1522.67 Q141.795 1531.4 138.716 1536.01 Q135.661 1540.59 129.851 1540.59 Q124.041 1540.59 120.962 1536.01 Q117.906 1531.4 117.906 1522.67 Q117.906 1513.92 120.962 1509.34 Q124.041 1504.73 129.851 1504.73 Z\" fill=\"#000000\" fill-rule=\"evenodd\" fill-opacity=\"1\" /><path clip-path=\"url(#clip6700)\" d=\"M 0 0 M146.864 1534.04 L151.749 1534.04 L151.749 1539.92 L146.864 1539.92 L146.864 1534.04 Z\" fill=\"#000000\" fill-rule=\"evenodd\" fill-opacity=\"1\" /><path clip-path=\"url(#clip6700)\" d=\"M 0 0 M166.818 1508.44 Q163.207 1508.44 161.378 1512 Q159.573 1515.55 159.573 1522.67 Q159.573 1529.78 161.378 1533.35 Q163.207 1536.89 166.818 1536.89 Q170.452 1536.89 172.258 1533.35 Q174.087 1529.78 174.087 1522.67 Q174.087 1515.55 172.258 1512 Q170.452 1508.44 166.818 1508.44 M166.818 1504.73 Q172.628 1504.73 175.684 1509.34 Q178.762 1513.92 178.762 1522.67 Q178.762 1531.4 175.684 1536.01 Q172.628 1540.59 166.818 1540.59 Q161.008 1540.59 157.929 1536.01 Q154.874 1531.4 154.874 1522.67 Q154.874 1513.92 157.929 1509.34 Q161.008 1504.73 166.818 1504.73 Z\" fill=\"#000000\" fill-rule=\"evenodd\" fill-opacity=\"1\" /><path clip-path=\"url(#clip6700)\" d=\"M 0 0 M571.534 1508.44 Q567.923 1508.44 566.094 1512 Q564.288 1515.55 564.288 1522.67 Q564.288 1529.78 566.094 1533.35 Q567.923 1536.89 571.534 1536.89 Q575.168 1536.89 576.973 1533.35 Q578.802 1529.78 578.802 1522.67 Q578.802 1515.55 576.973 1512 Q575.168 1508.44 571.534 1508.44 M571.534 1504.73 Q577.344 1504.73 580.399 1509.34 Q583.478 1513.92 583.478 1522.67 Q583.478 1531.4 580.399 1536.01 Q577.344 1540.59 571.534 1540.59 Q565.723 1540.59 562.645 1536.01 Q559.589 1531.4 559.589 1522.67 Q559.589 1513.92 562.645 1509.34 Q565.723 1504.73 571.534 1504.73 Z\" fill=\"#000000\" fill-rule=\"evenodd\" fill-opacity=\"1\" /><path clip-path=\"url(#clip6700)\" d=\"M 0 0 M588.547 1534.04 L593.432 1534.04 L593.432 1539.92 L588.547 1539.92 L588.547 1534.04 Z\" fill=\"#000000\" fill-rule=\"evenodd\" fill-opacity=\"1\" /><path clip-path=\"url(#clip6700)\" d=\"M 0 0 M602.529 1535.98 L618.848 1535.98 L618.848 1539.92 L596.904 1539.92 L596.904 1535.98 Q599.566 1533.23 604.149 1528.6 Q608.756 1523.95 609.936 1522.61 Q612.182 1520.08 613.061 1518.35 Q613.964 1516.59 613.964 1514.9 Q613.964 1512.14 612.019 1510.41 Q610.098 1508.67 606.996 1508.67 Q604.797 1508.67 602.344 1509.43 Q599.913 1510.2 597.135 1511.75 L597.135 1507.03 Q599.959 1505.89 602.413 1505.31 Q604.867 1504.73 606.904 1504.73 Q612.274 1504.73 615.469 1507.42 Q618.663 1510.11 618.663 1514.6 Q618.663 1516.73 617.853 1518.65 Q617.066 1520.54 614.959 1523.14 Q614.381 1523.81 611.279 1527.03 Q608.177 1530.22 602.529 1535.98 Z\" fill=\"#000000\" fill-rule=\"evenodd\" fill-opacity=\"1\" /><path clip-path=\"url(#clip6700)\" d=\"M 0 0 M1011.38 1508.44 Q1007.77 1508.44 1005.94 1512 Q1004.13 1515.55 1004.13 1522.67 Q1004.13 1529.78 1005.94 1533.35 Q1007.77 1536.89 1011.38 1536.89 Q1015.01 1536.89 1016.82 1533.35 Q1018.64 1529.78 1018.64 1522.67 Q1018.64 1515.55 1016.82 1512 Q1015.01 1508.44 1011.38 1508.44 M1011.38 1504.73 Q1017.19 1504.73 1020.24 1509.34 Q1023.32 1513.92 1023.32 1522.67 Q1023.32 1531.4 1020.24 1536.01 Q1017.19 1540.59 1011.38 1540.59 Q1005.57 1540.59 1002.49 1536.01 Q999.432 1531.4 999.432 1522.67 Q999.432 1513.92 1002.49 1509.34 Q1005.57 1504.73 1011.38 1504.73 Z\" fill=\"#000000\" fill-rule=\"evenodd\" fill-opacity=\"1\" /><path clip-path=\"url(#clip6700)\" d=\"M 0 0 M1028.39 1534.04 L1033.27 1534.04 L1033.27 1539.92 L1028.39 1539.92 L1028.39 1534.04 Z\" fill=\"#000000\" fill-rule=\"evenodd\" fill-opacity=\"1\" /><path clip-path=\"url(#clip6700)\" d=\"M 0 0 M1051.19 1509.43 L1039.39 1527.88 L1051.19 1527.88 L1051.19 1509.43 M1049.96 1505.36 L1055.84 1505.36 L1055.84 1527.88 L1060.77 1527.88 L1060.77 1531.77 L1055.84 1531.77 L1055.84 1539.92 L1051.19 1539.92 L1051.19 1531.77 L1035.59 1531.77 L1035.59 1527.26 L1049.96 1505.36 Z\" fill=\"#000000\" fill-rule=\"evenodd\" fill-opacity=\"1\" /><path clip-path=\"url(#clip6700)\" d=\"M 0 0 M1452.42 1508.44 Q1448.81 1508.44 1446.98 1512 Q1445.18 1515.55 1445.18 1522.67 Q1445.18 1529.78 1446.98 1533.35 Q1448.81 1536.89 1452.42 1536.89 Q1456.06 1536.89 1457.86 1533.35 Q1459.69 1529.78 1459.69 1522.67 Q1459.69 1515.55 1457.86 1512 Q1456.06 1508.44 1452.42 1508.44 M1452.42 1504.73 Q1458.23 1504.73 1461.29 1509.34 Q1464.37 1513.92 1464.37 1522.67 Q1464.37 1531.4 1461.29 1536.01 Q1458.23 1540.59 1452.42 1540.59 Q1446.61 1540.59 1443.53 1536.01 Q1440.48 1531.4 1440.48 1522.67 Q1440.48 1513.92 1443.53 1509.34 Q1446.61 1504.73 1452.42 1504.73 Z\" fill=\"#000000\" fill-rule=\"evenodd\" fill-opacity=\"1\" /><path clip-path=\"url(#clip6700)\" d=\"M 0 0 M1469.44 1534.04 L1474.32 1534.04 L1474.32 1539.92 L1469.44 1539.92 L1469.44 1534.04 Z\" fill=\"#000000\" fill-rule=\"evenodd\" fill-opacity=\"1\" /><path clip-path=\"url(#clip6700)\" d=\"M 0 0 M1489.97 1520.78 Q1486.82 1520.78 1484.97 1522.93 Q1483.14 1525.08 1483.14 1528.83 Q1483.14 1532.56 1484.97 1534.73 Q1486.82 1536.89 1489.97 1536.89 Q1493.12 1536.89 1494.95 1534.73 Q1496.8 1532.56 1496.8 1528.83 Q1496.8 1525.08 1494.95 1522.93 Q1493.12 1520.78 1489.97 1520.78 M1499.25 1506.12 L1499.25 1510.38 Q1497.49 1509.55 1495.69 1509.11 Q1493.9 1508.67 1492.14 1508.67 Q1487.51 1508.67 1485.06 1511.8 Q1482.63 1514.92 1482.28 1521.24 Q1483.65 1519.23 1485.71 1518.16 Q1487.77 1517.07 1490.25 1517.07 Q1495.45 1517.07 1498.46 1520.24 Q1501.5 1523.39 1501.5 1528.83 Q1501.5 1534.16 1498.35 1537.37 Q1495.2 1540.59 1489.97 1540.59 Q1483.97 1540.59 1480.8 1536.01 Q1477.63 1531.4 1477.63 1522.67 Q1477.63 1514.48 1481.52 1509.62 Q1485.41 1504.73 1491.96 1504.73 Q1493.72 1504.73 1495.5 1505.08 Q1497.31 1505.43 1499.25 1506.12 Z\" fill=\"#000000\" fill-rule=\"evenodd\" fill-opacity=\"1\" /><path clip-path=\"url(#clip6700)\" d=\"M 0 0 M1893.43 1508.44 Q1889.82 1508.44 1887.99 1512 Q1886.19 1515.55 1886.19 1522.67 Q1886.19 1529.78 1887.99 1533.35 Q1889.82 1536.89 1893.43 1536.89 Q1897.07 1536.89 1898.87 1533.35 Q1900.7 1529.78 1900.7 1522.67 Q1900.7 1515.55 1898.87 1512 Q1897.07 1508.44 1893.43 1508.44 M1893.43 1504.73 Q1899.24 1504.73 1902.3 1509.34 Q1905.38 1513.92 1905.38 1522.67 Q1905.38 1531.4 1902.3 1536.01 Q1899.24 1540.59 1893.43 1540.59 Q1887.62 1540.59 1884.55 1536.01 Q1881.49 1531.4 1881.49 1522.67 Q1881.49 1513.92 1884.55 1509.34 Q1887.62 1504.73 1893.43 1504.73 Z\" fill=\"#000000\" fill-rule=\"evenodd\" fill-opacity=\"1\" /><path clip-path=\"url(#clip6700)\" d=\"M 0 0 M1910.45 1534.04 L1915.33 1534.04 L1915.33 1539.92 L1910.45 1539.92 L1910.45 1534.04 Z\" fill=\"#000000\" fill-rule=\"evenodd\" fill-opacity=\"1\" /><path clip-path=\"url(#clip6700)\" d=\"M 0 0 M1930.4 1523.51 Q1927.07 1523.51 1925.15 1525.29 Q1923.25 1527.07 1923.25 1530.2 Q1923.25 1533.32 1925.15 1535.11 Q1927.07 1536.89 1930.4 1536.89 Q1933.73 1536.89 1935.66 1535.11 Q1937.58 1533.3 1937.58 1530.2 Q1937.58 1527.07 1935.66 1525.29 Q1933.76 1523.51 1930.4 1523.51 M1925.73 1521.52 Q1922.72 1520.78 1921.03 1518.72 Q1919.36 1516.66 1919.36 1513.69 Q1919.36 1509.55 1922.3 1507.14 Q1925.26 1504.73 1930.4 1504.73 Q1935.56 1504.73 1938.5 1507.14 Q1941.44 1509.55 1941.44 1513.69 Q1941.44 1516.66 1939.75 1518.72 Q1938.09 1520.78 1935.1 1521.52 Q1938.48 1522.3 1940.36 1524.6 Q1942.25 1526.89 1942.25 1530.2 Q1942.25 1535.22 1939.17 1537.91 Q1936.12 1540.59 1930.4 1540.59 Q1924.68 1540.59 1921.61 1537.91 Q1918.55 1535.22 1918.55 1530.2 Q1918.55 1526.89 1920.45 1524.6 Q1922.35 1522.3 1925.73 1521.52 M1924.01 1514.13 Q1924.01 1516.82 1925.68 1518.32 Q1927.37 1519.83 1930.4 1519.83 Q1933.41 1519.83 1935.1 1518.32 Q1936.81 1516.82 1936.81 1514.13 Q1936.81 1511.45 1935.1 1509.94 Q1933.41 1508.44 1930.4 1508.44 Q1927.37 1508.44 1925.68 1509.94 Q1924.01 1511.45 1924.01 1514.13 Z\" fill=\"#000000\" fill-rule=\"evenodd\" fill-opacity=\"1\" /><path clip-path=\"url(#clip6700)\" d=\"M 0 0 M2324.65 1535.98 L2332.29 1535.98 L2332.29 1509.62 L2323.98 1511.29 L2323.98 1507.03 L2332.25 1505.36 L2336.92 1505.36 L2336.92 1535.98 L2344.56 1535.98 L2344.56 1539.92 L2324.65 1539.92 L2324.65 1535.98 Z\" fill=\"#000000\" fill-rule=\"evenodd\" fill-opacity=\"1\" /><path clip-path=\"url(#clip6700)\" d=\"M 0 0 M2349.63 1534.04 L2354.52 1534.04 L2354.52 1539.92 L2349.63 1539.92 L2349.63 1534.04 Z\" fill=\"#000000\" fill-rule=\"evenodd\" fill-opacity=\"1\" /><path clip-path=\"url(#clip6700)\" d=\"M 0 0 M2369.58 1508.44 Q2365.97 1508.44 2364.14 1512 Q2362.34 1515.55 2362.34 1522.67 Q2362.34 1529.78 2364.14 1533.35 Q2365.97 1536.89 2369.58 1536.89 Q2373.22 1536.89 2375.02 1533.35 Q2376.85 1529.78 2376.85 1522.67 Q2376.85 1515.55 2375.02 1512 Q2373.22 1508.44 2369.58 1508.44 M2369.58 1504.73 Q2375.39 1504.73 2378.45 1509.34 Q2381.53 1513.92 2381.53 1522.67 Q2381.53 1531.4 2378.45 1536.01 Q2375.39 1540.59 2369.58 1540.59 Q2363.77 1540.59 2360.7 1536.01 Q2357.64 1531.4 2357.64 1522.67 Q2357.64 1513.92 2360.7 1509.34 Q2363.77 1504.73 2369.58 1504.73 Z\" fill=\"#000000\" fill-rule=\"evenodd\" fill-opacity=\"1\" /><path clip-path=\"url(#clip6700)\" d=\"M 0 0 M75.4226 1472.25 Q71.8115 1472.25 69.9828 1475.81 Q68.1773 1479.35 68.1773 1486.48 Q68.1773 1493.59 69.9828 1497.15 Q71.8115 1500.7 75.4226 1500.7 Q79.0569 1500.7 80.8624 1497.15 Q82.6911 1493.59 82.6911 1486.48 Q82.6911 1479.35 80.8624 1475.81 Q79.0569 1472.25 75.4226 1472.25 M75.4226 1468.54 Q81.2328 1468.54 84.2883 1473.15 Q87.367 1477.73 87.367 1486.48 Q87.367 1495.21 84.2883 1499.82 Q81.2328 1504.4 75.4226 1504.4 Q69.6125 1504.4 66.5338 1499.82 Q63.4782 1495.21 63.4782 1486.48 Q63.4782 1477.73 66.5338 1473.15 Q69.6125 1468.54 75.4226 1468.54 Z\" fill=\"#000000\" fill-rule=\"evenodd\" fill-opacity=\"1\" /><path clip-path=\"url(#clip6700)\" d=\"M 0 0 M92.4364 1497.85 L97.3206 1497.85 L97.3206 1503.73 L92.4364 1503.73 L92.4364 1497.85 Z\" fill=\"#000000\" fill-rule=\"evenodd\" fill-opacity=\"1\" /><path clip-path=\"url(#clip6700)\" d=\"M 0 0 M112.39 1472.25 Q108.779 1472.25 106.95 1475.81 Q105.145 1479.35 105.145 1486.48 Q105.145 1493.59 106.95 1497.15 Q108.779 1500.7 112.39 1500.7 Q116.024 1500.7 117.83 1497.15 Q119.658 1493.59 119.658 1486.48 Q119.658 1479.35 117.83 1475.81 Q116.024 1472.25 112.39 1472.25 M112.39 1468.54 Q118.2 1468.54 121.256 1473.15 Q124.334 1477.73 124.334 1486.48 Q124.334 1495.21 121.256 1499.82 Q118.2 1504.4 112.39 1504.4 Q106.58 1504.4 103.501 1499.82 Q100.446 1495.21 100.446 1486.48 Q100.446 1477.73 103.501 1473.15 Q106.58 1468.54 112.39 1468.54 Z\" fill=\"#000000\" fill-rule=\"evenodd\" fill-opacity=\"1\" /><path clip-path=\"url(#clip6700)\" d=\"M 0 0 M77.0198 1184.41 Q73.4087 1184.41 71.58 1187.97 Q69.7745 1191.51 69.7745 1198.64 Q69.7745 1205.75 71.58 1209.31 Q73.4087 1212.85 77.0198 1212.85 Q80.6541 1212.85 82.4596 1209.31 Q84.2883 1205.75 84.2883 1198.64 Q84.2883 1191.51 82.4596 1187.97 Q80.6541 1184.41 77.0198 1184.41 M77.0198 1180.7 Q82.83 1180.7 85.8855 1185.31 Q88.9642 1189.89 88.9642 1198.64 Q88.9642 1207.37 85.8855 1211.98 Q82.83 1216.56 77.0198 1216.56 Q71.2097 1216.56 68.131 1211.98 Q65.0754 1207.37 65.0754 1198.64 Q65.0754 1189.89 68.131 1185.31 Q71.2097 1180.7 77.0198 1180.7 Z\" fill=\"#000000\" fill-rule=\"evenodd\" fill-opacity=\"1\" /><path clip-path=\"url(#clip6700)\" d=\"M 0 0 M94.0336 1210.01 L98.9179 1210.01 L98.9179 1215.89 L94.0336 1215.89 L94.0336 1210.01 Z\" fill=\"#000000\" fill-rule=\"evenodd\" fill-opacity=\"1\" /><path clip-path=\"url(#clip6700)\" d=\"M 0 0 M108.015 1211.95 L124.334 1211.95 L124.334 1215.89 L102.39 1215.89 L102.39 1211.95 Q105.052 1209.2 109.635 1204.57 Q114.242 1199.91 115.422 1198.57 Q117.668 1196.05 118.547 1194.31 Q119.45 1192.55 119.45 1190.86 Q119.45 1188.11 117.506 1186.37 Q115.584 1184.64 112.483 1184.64 Q110.284 1184.64 107.83 1185.4 Q105.399 1186.17 102.622 1187.72 L102.622 1182.99 Q105.446 1181.86 107.899 1181.28 Q110.353 1180.7 112.39 1180.7 Q117.76 1180.7 120.955 1183.39 Q124.149 1186.07 124.149 1190.56 Q124.149 1192.69 123.339 1194.61 Q122.552 1196.51 120.446 1199.1 Q119.867 1199.78 116.765 1202.99 Q113.663 1206.19 108.015 1211.95 Z\" fill=\"#000000\" fill-rule=\"evenodd\" fill-opacity=\"1\" /><path clip-path=\"url(#clip6700)\" d=\"M 0 0 M74.9365 896.565 Q71.3254 896.565 69.4967 900.13 Q67.6912 903.671 67.6912 910.801 Q67.6912 917.908 69.4967 921.472 Q71.3254 925.014 74.9365 925.014 Q78.5707 925.014 80.3763 921.472 Q82.205 917.908 82.205 910.801 Q82.205 903.671 80.3763 900.13 Q78.5707 896.565 74.9365 896.565 M74.9365 892.861 Q80.7467 892.861 83.8022 897.468 Q86.8809 902.051 86.8809 910.801 Q86.8809 919.528 83.8022 924.134 Q80.7467 928.718 74.9365 928.718 Q69.1264 928.718 66.0477 924.134 Q62.9921 919.528 62.9921 910.801 Q62.9921 902.051 66.0477 897.468 Q69.1264 892.861 74.9365 892.861 Z\" fill=\"#000000\" fill-rule=\"evenodd\" fill-opacity=\"1\" /><path clip-path=\"url(#clip6700)\" d=\"M 0 0 M91.9503 922.167 L96.8345 922.167 L96.8345 928.046 L91.9503 928.046 L91.9503 922.167 Z\" fill=\"#000000\" fill-rule=\"evenodd\" fill-opacity=\"1\" /><path clip-path=\"url(#clip6700)\" d=\"M 0 0 M114.751 897.56 L102.946 916.009 L114.751 916.009 L114.751 897.56 M113.524 893.486 L119.404 893.486 L119.404 916.009 L124.334 916.009 L124.334 919.898 L119.404 919.898 L119.404 928.046 L114.751 928.046 L114.751 919.898 L99.1493 919.898 L99.1493 915.384 L113.524 893.486 Z\" fill=\"#000000\" fill-rule=\"evenodd\" fill-opacity=\"1\" /><path clip-path=\"url(#clip6700)\" d=\"M 0 0 M75.2606 608.724 Q71.6495 608.724 69.8208 612.289 Q68.0152 615.831 68.0152 622.96 Q68.0152 630.067 69.8208 633.632 Q71.6495 637.173 75.2606 637.173 Q78.8948 637.173 80.7004 633.632 Q82.5291 630.067 82.5291 622.96 Q82.5291 615.831 80.7004 612.289 Q78.8948 608.724 75.2606 608.724 M75.2606 605.021 Q81.0707 605.021 84.1263 609.627 Q87.205 614.21 87.205 622.96 Q87.205 631.687 84.1263 636.294 Q81.0707 640.877 75.2606 640.877 Q69.4504 640.877 66.3717 636.294 Q63.3162 631.687 63.3162 622.96 Q63.3162 614.21 66.3717 609.627 Q69.4504 605.021 75.2606 605.021 Z\" fill=\"#000000\" fill-rule=\"evenodd\" fill-opacity=\"1\" /><path clip-path=\"url(#clip6700)\" d=\"M 0 0 M92.2744 634.326 L97.1586 634.326 L97.1586 640.206 L92.2744 640.206 L92.2744 634.326 Z\" fill=\"#000000\" fill-rule=\"evenodd\" fill-opacity=\"1\" /><path clip-path=\"url(#clip6700)\" d=\"M 0 0 M112.807 621.062 Q109.659 621.062 107.807 623.215 Q105.978 625.368 105.978 629.118 Q105.978 632.845 107.807 635.02 Q109.659 637.173 112.807 637.173 Q115.955 637.173 117.783 635.02 Q119.635 632.845 119.635 629.118 Q119.635 625.368 117.783 623.215 Q115.955 621.062 112.807 621.062 M122.089 606.409 L122.089 610.669 Q120.33 609.835 118.524 609.396 Q116.742 608.956 114.983 608.956 Q110.353 608.956 107.899 612.081 Q105.469 615.206 105.122 621.525 Q106.487 619.511 108.547 618.446 Q110.608 617.359 113.084 617.359 Q118.293 617.359 121.302 620.53 Q124.334 623.678 124.334 629.118 Q124.334 634.442 121.186 637.659 Q118.038 640.877 112.807 640.877 Q106.811 640.877 103.64 636.294 Q100.469 631.687 100.469 622.96 Q100.469 614.766 104.358 609.905 Q108.247 605.021 114.797 605.021 Q116.557 605.021 118.339 605.368 Q120.145 605.715 122.089 606.409 Z\" fill=\"#000000\" fill-rule=\"evenodd\" fill-opacity=\"1\" /><path clip-path=\"url(#clip6700)\" d=\"M 0 0 M75.5152 320.884 Q71.9041 320.884 70.0754 324.448 Q68.2699 327.99 68.2699 335.12 Q68.2699 342.226 70.0754 345.791 Q71.9041 349.332 75.5152 349.332 Q79.1494 349.332 80.955 345.791 Q82.7837 342.226 82.7837 335.12 Q82.7837 327.99 80.955 324.448 Q79.1494 320.884 75.5152 320.884 M75.5152 317.18 Q81.3254 317.18 84.3809 321.786 Q87.4596 326.37 87.4596 335.12 Q87.4596 343.846 84.3809 348.453 Q81.3254 353.036 75.5152 353.036 Q69.7051 353.036 66.6264 348.453 Q63.5708 343.846 63.5708 335.12 Q63.5708 326.37 66.6264 321.786 Q69.7051 317.18 75.5152 317.18 Z\" fill=\"#000000\" fill-rule=\"evenodd\" fill-opacity=\"1\" /><path clip-path=\"url(#clip6700)\" d=\"M 0 0 M92.529 346.485 L97.4132 346.485 L97.4132 352.365 L92.529 352.365 L92.529 346.485 Z\" fill=\"#000000\" fill-rule=\"evenodd\" fill-opacity=\"1\" /><path clip-path=\"url(#clip6700)\" d=\"M 0 0 M112.483 335.953 Q109.149 335.953 107.228 337.735 Q105.33 339.518 105.33 342.643 Q105.33 345.768 107.228 347.55 Q109.149 349.332 112.483 349.332 Q115.816 349.332 117.737 347.55 Q119.658 345.745 119.658 342.643 Q119.658 339.518 117.737 337.735 Q115.839 335.953 112.483 335.953 M107.807 333.962 Q104.797 333.221 103.108 331.161 Q101.441 329.101 101.441 326.138 Q101.441 321.995 104.381 319.587 Q107.344 317.18 112.483 317.18 Q117.645 317.18 120.584 319.587 Q123.524 321.995 123.524 326.138 Q123.524 329.101 121.834 331.161 Q120.168 333.221 117.182 333.962 Q120.561 334.749 122.436 337.041 Q124.334 339.333 124.334 342.643 Q124.334 347.666 121.256 350.351 Q118.2 353.036 112.483 353.036 Q106.765 353.036 103.686 350.351 Q100.631 347.666 100.631 342.643 Q100.631 339.333 102.529 337.041 Q104.427 334.749 107.807 333.962 M106.094 326.578 Q106.094 329.263 107.76 330.768 Q109.45 332.272 112.483 332.272 Q115.492 332.272 117.182 330.768 Q118.895 329.263 118.895 326.578 Q118.895 323.893 117.182 322.388 Q115.492 320.884 112.483 320.884 Q109.45 320.884 107.76 322.388 Q106.094 323.893 106.094 326.578 Z\" fill=\"#000000\" fill-rule=\"evenodd\" fill-opacity=\"1\" /><path clip-path=\"url(#clip6700)\" d=\"M 0 0 M67.4597 60.5889 L75.0985 60.5889 L75.0985 34.2233 L66.7884 35.89 L66.7884 31.6308 L75.0522 29.9641 L79.7281 29.9641 L79.7281 60.5889 L87.367 60.5889 L87.367 64.5241 L67.4597 64.5241 L67.4597 60.5889 Z\" fill=\"#000000\" fill-rule=\"evenodd\" fill-opacity=\"1\" /><path clip-path=\"url(#clip6700)\" d=\"M 0 0 M92.4364 58.6445 L97.3206 58.6445 L97.3206 64.5241 L92.4364 64.5241 L92.4364 58.6445 Z\" fill=\"#000000\" fill-rule=\"evenodd\" fill-opacity=\"1\" /><path clip-path=\"url(#clip6700)\" d=\"M 0 0 M112.39 33.0428 Q108.779 33.0428 106.95 36.6076 Q105.145 40.1492 105.145 47.2788 Q105.145 54.3853 106.95 57.9501 Q108.779 61.4917 112.39 61.4917 Q116.024 61.4917 117.83 57.9501 Q119.658 54.3853 119.658 47.2788 Q119.658 40.1492 117.83 36.6076 Q116.024 33.0428 112.39 33.0428 M112.39 29.3391 Q118.2 29.3391 121.256 33.9456 Q124.334 38.5289 124.334 47.2788 Q124.334 56.0056 121.256 60.6121 Q118.2 65.1954 112.39 65.1954 Q106.58 65.1954 103.501 60.6121 Q100.446 56.0056 100.446 47.2788 Q100.446 38.5289 103.501 33.9456 Q106.58 29.3391 112.39 29.3391 Z\" fill=\"#000000\" fill-rule=\"evenodd\" fill-opacity=\"1\" /><circle clip-path=\"url(#clip6702)\" cx=\"1460.02\" cy=\"554.365\" r=\"14\" fill=\"#009af9\" fill-rule=\"evenodd\" fill-opacity=\"1\" stroke=\"#000000\" stroke-opacity=\"1\" stroke-width=\"3.2\"/>\n",
       "<circle clip-path=\"url(#clip6702)\" cx=\"1549.24\" cy=\"602.108\" r=\"14\" fill=\"#009af9\" fill-rule=\"evenodd\" fill-opacity=\"1\" stroke=\"#000000\" stroke-opacity=\"1\" stroke-width=\"3.2\"/>\n",
       "<circle clip-path=\"url(#clip6702)\" cx=\"1461.1\" cy=\"556.854\" r=\"14\" fill=\"#009af9\" fill-rule=\"evenodd\" fill-opacity=\"1\" stroke=\"#000000\" stroke-opacity=\"1\" stroke-width=\"3.2\"/>\n",
       "<circle clip-path=\"url(#clip6702)\" cx=\"1485.5\" cy=\"570.025\" r=\"14\" fill=\"#009af9\" fill-rule=\"evenodd\" fill-opacity=\"1\" stroke=\"#000000\" stroke-opacity=\"1\" stroke-width=\"3.2\"/>\n",
       "<circle clip-path=\"url(#clip6702)\" cx=\"1485.5\" cy=\"570.025\" r=\"14\" fill=\"#009af9\" fill-rule=\"evenodd\" fill-opacity=\"1\" stroke=\"#000000\" stroke-opacity=\"1\" stroke-width=\"3.2\"/>\n",
       "<circle clip-path=\"url(#clip6702)\" cx=\"1520.39\" cy=\"576.074\" r=\"14\" fill=\"#009af9\" fill-rule=\"evenodd\" fill-opacity=\"1\" stroke=\"#000000\" stroke-opacity=\"1\" stroke-width=\"3.2\"/>\n",
       "<circle clip-path=\"url(#clip6702)\" cx=\"1545.87\" cy=\"591.734\" r=\"14\" fill=\"#009af9\" fill-rule=\"evenodd\" fill-opacity=\"1\" stroke=\"#000000\" stroke-opacity=\"1\" stroke-width=\"3.2\"/>\n",
       "<circle clip-path=\"url(#clip6702)\" cx=\"1524.84\" cy=\"588.937\" r=\"14\" fill=\"#009af9\" fill-rule=\"evenodd\" fill-opacity=\"1\" stroke=\"#000000\" stroke-opacity=\"1\" stroke-width=\"3.2\"/>\n",
       "<circle clip-path=\"url(#clip6702)\" cx=\"1545.87\" cy=\"591.734\" r=\"14\" fill=\"#009af9\" fill-rule=\"evenodd\" fill-opacity=\"1\" stroke=\"#000000\" stroke-opacity=\"1\" stroke-width=\"3.2\"/>\n",
       "<circle clip-path=\"url(#clip6702)\" cx=\"1549.24\" cy=\"602.108\" r=\"14\" fill=\"#009af9\" fill-rule=\"evenodd\" fill-opacity=\"1\" stroke=\"#000000\" stroke-opacity=\"1\" stroke-width=\"3.2\"/>\n",
       "<circle clip-path=\"url(#clip6702)\" cx=\"1521.46\" cy=\"578.563\" r=\"14\" fill=\"#009af9\" fill-rule=\"evenodd\" fill-opacity=\"1\" stroke=\"#000000\" stroke-opacity=\"1\" stroke-width=\"3.2\"/>\n",
       "<circle clip-path=\"url(#clip6702)\" cx=\"1523.76\" cy=\"586.448\" r=\"14\" fill=\"#009af9\" fill-rule=\"evenodd\" fill-opacity=\"1\" stroke=\"#000000\" stroke-opacity=\"1\" stroke-width=\"3.2\"/>\n",
       "<circle clip-path=\"url(#clip6702)\" cx=\"1461.1\" cy=\"556.854\" r=\"14\" fill=\"#009af9\" fill-rule=\"evenodd\" fill-opacity=\"1\" stroke=\"#000000\" stroke-opacity=\"1\" stroke-width=\"3.2\"/>\n",
       "<circle clip-path=\"url(#clip6702)\" cx=\"1520.39\" cy=\"576.074\" r=\"14\" fill=\"#009af9\" fill-rule=\"evenodd\" fill-opacity=\"1\" stroke=\"#000000\" stroke-opacity=\"1\" stroke-width=\"3.2\"/>\n",
       "<circle clip-path=\"url(#clip6702)\" cx=\"1521.46\" cy=\"578.563\" r=\"14\" fill=\"#009af9\" fill-rule=\"evenodd\" fill-opacity=\"1\" stroke=\"#000000\" stroke-opacity=\"1\" stroke-width=\"3.2\"/>\n",
       "<circle clip-path=\"url(#clip6702)\" cx=\"1460.02\" cy=\"554.365\" r=\"14\" fill=\"#009af9\" fill-rule=\"evenodd\" fill-opacity=\"1\" stroke=\"#000000\" stroke-opacity=\"1\" stroke-width=\"3.2\"/>\n",
       "<circle clip-path=\"url(#clip6702)\" cx=\"1524.84\" cy=\"588.937\" r=\"14\" fill=\"#009af9\" fill-rule=\"evenodd\" fill-opacity=\"1\" stroke=\"#000000\" stroke-opacity=\"1\" stroke-width=\"3.2\"/>\n",
       "<circle clip-path=\"url(#clip6702)\" cx=\"1523.76\" cy=\"586.448\" r=\"14\" fill=\"#009af9\" fill-rule=\"evenodd\" fill-opacity=\"1\" stroke=\"#000000\" stroke-opacity=\"1\" stroke-width=\"3.2\"/>\n",
       "<circle clip-path=\"url(#clip6702)\" cx=\"1549.24\" cy=\"602.108\" r=\"14\" fill=\"#009af9\" fill-rule=\"evenodd\" fill-opacity=\"1\" stroke=\"#000000\" stroke-opacity=\"1\" stroke-width=\"3.2\"/>\n",
       "<circle clip-path=\"url(#clip6702)\" cx=\"1549.24\" cy=\"602.108\" r=\"14\" fill=\"#009af9\" fill-rule=\"evenodd\" fill-opacity=\"1\" stroke=\"#000000\" stroke-opacity=\"1\" stroke-width=\"3.2\"/>\n",
       "<circle clip-path=\"url(#clip6702)\" cx=\"1549.24\" cy=\"602.108\" r=\"14\" fill=\"#009af9\" fill-rule=\"evenodd\" fill-opacity=\"1\" stroke=\"#000000\" stroke-opacity=\"1\" stroke-width=\"3.2\"/>\n",
       "<circle clip-path=\"url(#clip6702)\" cx=\"1549.24\" cy=\"602.108\" r=\"14\" fill=\"#009af9\" fill-rule=\"evenodd\" fill-opacity=\"1\" stroke=\"#000000\" stroke-opacity=\"1\" stroke-width=\"3.2\"/>\n",
       "<circle clip-path=\"url(#clip6702)\" cx=\"1549.24\" cy=\"602.108\" r=\"14\" fill=\"#009af9\" fill-rule=\"evenodd\" fill-opacity=\"1\" stroke=\"#000000\" stroke-opacity=\"1\" stroke-width=\"3.2\"/>\n",
       "<circle clip-path=\"url(#clip6702)\" cx=\"1549.24\" cy=\"602.108\" r=\"14\" fill=\"#009af9\" fill-rule=\"evenodd\" fill-opacity=\"1\" stroke=\"#000000\" stroke-opacity=\"1\" stroke-width=\"3.2\"/>\n",
       "<circle clip-path=\"url(#clip6702)\" cx=\"1549.24\" cy=\"602.108\" r=\"14\" fill=\"#009af9\" fill-rule=\"evenodd\" fill-opacity=\"1\" stroke=\"#000000\" stroke-opacity=\"1\" stroke-width=\"3.2\"/>\n",
       "<circle clip-path=\"url(#clip6702)\" cx=\"1549.24\" cy=\"602.108\" r=\"14\" fill=\"#009af9\" fill-rule=\"evenodd\" fill-opacity=\"1\" stroke=\"#000000\" stroke-opacity=\"1\" stroke-width=\"3.2\"/>\n",
       "<circle clip-path=\"url(#clip6702)\" cx=\"1549.24\" cy=\"602.108\" r=\"14\" fill=\"#009af9\" fill-rule=\"evenodd\" fill-opacity=\"1\" stroke=\"#000000\" stroke-opacity=\"1\" stroke-width=\"3.2\"/>\n",
       "<circle clip-path=\"url(#clip6702)\" cx=\"1549.24\" cy=\"602.108\" r=\"14\" fill=\"#009af9\" fill-rule=\"evenodd\" fill-opacity=\"1\" stroke=\"#000000\" stroke-opacity=\"1\" stroke-width=\"3.2\"/>\n",
       "<circle clip-path=\"url(#clip6702)\" cx=\"1549.24\" cy=\"602.108\" r=\"14\" fill=\"#009af9\" fill-rule=\"evenodd\" fill-opacity=\"1\" stroke=\"#000000\" stroke-opacity=\"1\" stroke-width=\"3.2\"/>\n",
       "<circle clip-path=\"url(#clip6702)\" cx=\"1549.24\" cy=\"602.108\" r=\"14\" fill=\"#009af9\" fill-rule=\"evenodd\" fill-opacity=\"1\" stroke=\"#000000\" stroke-opacity=\"1\" stroke-width=\"3.2\"/>\n",
       "<circle clip-path=\"url(#clip6702)\" cx=\"1549.24\" cy=\"602.108\" r=\"14\" fill=\"#009af9\" fill-rule=\"evenodd\" fill-opacity=\"1\" stroke=\"#000000\" stroke-opacity=\"1\" stroke-width=\"3.2\"/>\n",
       "<circle clip-path=\"url(#clip6702)\" cx=\"1549.24\" cy=\"602.108\" r=\"14\" fill=\"#009af9\" fill-rule=\"evenodd\" fill-opacity=\"1\" stroke=\"#000000\" stroke-opacity=\"1\" stroke-width=\"3.2\"/>\n",
       "<circle clip-path=\"url(#clip6702)\" cx=\"1549.24\" cy=\"602.108\" r=\"14\" fill=\"#009af9\" fill-rule=\"evenodd\" fill-opacity=\"1\" stroke=\"#000000\" stroke-opacity=\"1\" stroke-width=\"3.2\"/>\n",
       "<circle clip-path=\"url(#clip6702)\" cx=\"1549.24\" cy=\"602.108\" r=\"14\" fill=\"#009af9\" fill-rule=\"evenodd\" fill-opacity=\"1\" stroke=\"#000000\" stroke-opacity=\"1\" stroke-width=\"3.2\"/>\n",
       "<circle clip-path=\"url(#clip6702)\" cx=\"1549.24\" cy=\"602.108\" r=\"14\" fill=\"#009af9\" fill-rule=\"evenodd\" fill-opacity=\"1\" stroke=\"#000000\" stroke-opacity=\"1\" stroke-width=\"3.2\"/>\n",
       "<circle clip-path=\"url(#clip6702)\" cx=\"1549.24\" cy=\"602.108\" r=\"14\" fill=\"#009af9\" fill-rule=\"evenodd\" fill-opacity=\"1\" stroke=\"#000000\" stroke-opacity=\"1\" stroke-width=\"3.2\"/>\n",
       "<circle clip-path=\"url(#clip6702)\" cx=\"1549.24\" cy=\"602.108\" r=\"14\" fill=\"#009af9\" fill-rule=\"evenodd\" fill-opacity=\"1\" stroke=\"#000000\" stroke-opacity=\"1\" stroke-width=\"3.2\"/>\n",
       "<circle clip-path=\"url(#clip6702)\" cx=\"1549.24\" cy=\"602.108\" r=\"14\" fill=\"#009af9\" fill-rule=\"evenodd\" fill-opacity=\"1\" stroke=\"#000000\" stroke-opacity=\"1\" stroke-width=\"3.2\"/>\n",
       "<circle clip-path=\"url(#clip6702)\" cx=\"1549.24\" cy=\"602.108\" r=\"14\" fill=\"#009af9\" fill-rule=\"evenodd\" fill-opacity=\"1\" stroke=\"#000000\" stroke-opacity=\"1\" stroke-width=\"3.2\"/>\n",
       "<circle clip-path=\"url(#clip6702)\" cx=\"1549.24\" cy=\"602.108\" r=\"14\" fill=\"#009af9\" fill-rule=\"evenodd\" fill-opacity=\"1\" stroke=\"#000000\" stroke-opacity=\"1\" stroke-width=\"3.2\"/>\n",
       "<circle clip-path=\"url(#clip6702)\" cx=\"1549.24\" cy=\"602.108\" r=\"14\" fill=\"#009af9\" fill-rule=\"evenodd\" fill-opacity=\"1\" stroke=\"#000000\" stroke-opacity=\"1\" stroke-width=\"3.2\"/>\n",
       "<circle clip-path=\"url(#clip6702)\" cx=\"1549.24\" cy=\"602.108\" r=\"14\" fill=\"#009af9\" fill-rule=\"evenodd\" fill-opacity=\"1\" stroke=\"#000000\" stroke-opacity=\"1\" stroke-width=\"3.2\"/>\n",
       "<circle clip-path=\"url(#clip6702)\" cx=\"1549.24\" cy=\"602.108\" r=\"14\" fill=\"#009af9\" fill-rule=\"evenodd\" fill-opacity=\"1\" stroke=\"#000000\" stroke-opacity=\"1\" stroke-width=\"3.2\"/>\n",
       "<circle clip-path=\"url(#clip6702)\" cx=\"1549.24\" cy=\"602.108\" r=\"14\" fill=\"#009af9\" fill-rule=\"evenodd\" fill-opacity=\"1\" stroke=\"#000000\" stroke-opacity=\"1\" stroke-width=\"3.2\"/>\n",
       "<circle clip-path=\"url(#clip6702)\" cx=\"1549.24\" cy=\"602.108\" r=\"14\" fill=\"#009af9\" fill-rule=\"evenodd\" fill-opacity=\"1\" stroke=\"#000000\" stroke-opacity=\"1\" stroke-width=\"3.2\"/>\n",
       "<circle clip-path=\"url(#clip6702)\" cx=\"1549.24\" cy=\"602.108\" r=\"14\" fill=\"#009af9\" fill-rule=\"evenodd\" fill-opacity=\"1\" stroke=\"#000000\" stroke-opacity=\"1\" stroke-width=\"3.2\"/>\n",
       "<circle clip-path=\"url(#clip6702)\" cx=\"1549.24\" cy=\"602.108\" r=\"14\" fill=\"#009af9\" fill-rule=\"evenodd\" fill-opacity=\"1\" stroke=\"#000000\" stroke-opacity=\"1\" stroke-width=\"3.2\"/>\n",
       "<circle clip-path=\"url(#clip6702)\" cx=\"1549.24\" cy=\"602.108\" r=\"14\" fill=\"#009af9\" fill-rule=\"evenodd\" fill-opacity=\"1\" stroke=\"#000000\" stroke-opacity=\"1\" stroke-width=\"3.2\"/>\n",
       "<circle clip-path=\"url(#clip6702)\" cx=\"1549.24\" cy=\"602.108\" r=\"14\" fill=\"#009af9\" fill-rule=\"evenodd\" fill-opacity=\"1\" stroke=\"#000000\" stroke-opacity=\"1\" stroke-width=\"3.2\"/>\n",
       "<circle clip-path=\"url(#clip6702)\" cx=\"1549.24\" cy=\"602.108\" r=\"14\" fill=\"#009af9\" fill-rule=\"evenodd\" fill-opacity=\"1\" stroke=\"#000000\" stroke-opacity=\"1\" stroke-width=\"3.2\"/>\n",
       "<circle clip-path=\"url(#clip6702)\" cx=\"1549.24\" cy=\"602.108\" r=\"14\" fill=\"#009af9\" fill-rule=\"evenodd\" fill-opacity=\"1\" stroke=\"#000000\" stroke-opacity=\"1\" stroke-width=\"3.2\"/>\n",
       "<circle clip-path=\"url(#clip6702)\" cx=\"1549.24\" cy=\"602.108\" r=\"14\" fill=\"#009af9\" fill-rule=\"evenodd\" fill-opacity=\"1\" stroke=\"#000000\" stroke-opacity=\"1\" stroke-width=\"3.2\"/>\n",
       "<circle clip-path=\"url(#clip6702)\" cx=\"1549.24\" cy=\"602.108\" r=\"14\" fill=\"#009af9\" fill-rule=\"evenodd\" fill-opacity=\"1\" stroke=\"#000000\" stroke-opacity=\"1\" stroke-width=\"3.2\"/>\n",
       "<circle clip-path=\"url(#clip6702)\" cx=\"1549.24\" cy=\"602.108\" r=\"14\" fill=\"#009af9\" fill-rule=\"evenodd\" fill-opacity=\"1\" stroke=\"#000000\" stroke-opacity=\"1\" stroke-width=\"3.2\"/>\n",
       "<circle clip-path=\"url(#clip6702)\" cx=\"1549.24\" cy=\"602.108\" r=\"14\" fill=\"#009af9\" fill-rule=\"evenodd\" fill-opacity=\"1\" stroke=\"#000000\" stroke-opacity=\"1\" stroke-width=\"3.2\"/>\n",
       "<circle clip-path=\"url(#clip6702)\" cx=\"1549.24\" cy=\"602.108\" r=\"14\" fill=\"#009af9\" fill-rule=\"evenodd\" fill-opacity=\"1\" stroke=\"#000000\" stroke-opacity=\"1\" stroke-width=\"3.2\"/>\n",
       "<circle clip-path=\"url(#clip6702)\" cx=\"1549.24\" cy=\"602.108\" r=\"14\" fill=\"#009af9\" fill-rule=\"evenodd\" fill-opacity=\"1\" stroke=\"#000000\" stroke-opacity=\"1\" stroke-width=\"3.2\"/>\n",
       "<circle clip-path=\"url(#clip6702)\" cx=\"1549.24\" cy=\"602.108\" r=\"14\" fill=\"#009af9\" fill-rule=\"evenodd\" fill-opacity=\"1\" stroke=\"#000000\" stroke-opacity=\"1\" stroke-width=\"3.2\"/>\n",
       "<circle clip-path=\"url(#clip6702)\" cx=\"1549.24\" cy=\"602.108\" r=\"14\" fill=\"#009af9\" fill-rule=\"evenodd\" fill-opacity=\"1\" stroke=\"#000000\" stroke-opacity=\"1\" stroke-width=\"3.2\"/>\n",
       "<circle clip-path=\"url(#clip6702)\" cx=\"1549.24\" cy=\"602.108\" r=\"14\" fill=\"#009af9\" fill-rule=\"evenodd\" fill-opacity=\"1\" stroke=\"#000000\" stroke-opacity=\"1\" stroke-width=\"3.2\"/>\n",
       "<circle clip-path=\"url(#clip6702)\" cx=\"1549.24\" cy=\"602.108\" r=\"14\" fill=\"#009af9\" fill-rule=\"evenodd\" fill-opacity=\"1\" stroke=\"#000000\" stroke-opacity=\"1\" stroke-width=\"3.2\"/>\n",
       "<circle clip-path=\"url(#clip6702)\" cx=\"1549.24\" cy=\"602.108\" r=\"14\" fill=\"#009af9\" fill-rule=\"evenodd\" fill-opacity=\"1\" stroke=\"#000000\" stroke-opacity=\"1\" stroke-width=\"3.2\"/>\n",
       "<circle clip-path=\"url(#clip6702)\" cx=\"1549.24\" cy=\"602.108\" r=\"14\" fill=\"#009af9\" fill-rule=\"evenodd\" fill-opacity=\"1\" stroke=\"#000000\" stroke-opacity=\"1\" stroke-width=\"3.2\"/>\n",
       "<circle clip-path=\"url(#clip6702)\" cx=\"1549.24\" cy=\"602.108\" r=\"14\" fill=\"#009af9\" fill-rule=\"evenodd\" fill-opacity=\"1\" stroke=\"#000000\" stroke-opacity=\"1\" stroke-width=\"3.2\"/>\n",
       "<circle clip-path=\"url(#clip6702)\" cx=\"1549.24\" cy=\"602.108\" r=\"14\" fill=\"#009af9\" fill-rule=\"evenodd\" fill-opacity=\"1\" stroke=\"#000000\" stroke-opacity=\"1\" stroke-width=\"3.2\"/>\n",
       "<circle clip-path=\"url(#clip6702)\" cx=\"1549.24\" cy=\"602.108\" r=\"14\" fill=\"#009af9\" fill-rule=\"evenodd\" fill-opacity=\"1\" stroke=\"#000000\" stroke-opacity=\"1\" stroke-width=\"3.2\"/>\n",
       "<circle clip-path=\"url(#clip6702)\" cx=\"1549.24\" cy=\"602.108\" r=\"14\" fill=\"#009af9\" fill-rule=\"evenodd\" fill-opacity=\"1\" stroke=\"#000000\" stroke-opacity=\"1\" stroke-width=\"3.2\"/>\n",
       "<circle clip-path=\"url(#clip6702)\" cx=\"1549.24\" cy=\"602.108\" r=\"14\" fill=\"#009af9\" fill-rule=\"evenodd\" fill-opacity=\"1\" stroke=\"#000000\" stroke-opacity=\"1\" stroke-width=\"3.2\"/>\n",
       "<circle clip-path=\"url(#clip6702)\" cx=\"1549.24\" cy=\"602.108\" r=\"14\" fill=\"#009af9\" fill-rule=\"evenodd\" fill-opacity=\"1\" stroke=\"#000000\" stroke-opacity=\"1\" stroke-width=\"3.2\"/>\n",
       "<circle clip-path=\"url(#clip6702)\" cx=\"1549.24\" cy=\"602.108\" r=\"14\" fill=\"#009af9\" fill-rule=\"evenodd\" fill-opacity=\"1\" stroke=\"#000000\" stroke-opacity=\"1\" stroke-width=\"3.2\"/>\n",
       "<circle clip-path=\"url(#clip6702)\" cx=\"1549.24\" cy=\"602.108\" r=\"14\" fill=\"#009af9\" fill-rule=\"evenodd\" fill-opacity=\"1\" stroke=\"#000000\" stroke-opacity=\"1\" stroke-width=\"3.2\"/>\n",
       "<circle clip-path=\"url(#clip6702)\" cx=\"1549.24\" cy=\"602.108\" r=\"14\" fill=\"#009af9\" fill-rule=\"evenodd\" fill-opacity=\"1\" stroke=\"#000000\" stroke-opacity=\"1\" stroke-width=\"3.2\"/>\n",
       "<circle clip-path=\"url(#clip6702)\" cx=\"1549.24\" cy=\"602.108\" r=\"14\" fill=\"#009af9\" fill-rule=\"evenodd\" fill-opacity=\"1\" stroke=\"#000000\" stroke-opacity=\"1\" stroke-width=\"3.2\"/>\n",
       "<circle clip-path=\"url(#clip6702)\" cx=\"1549.24\" cy=\"602.108\" r=\"14\" fill=\"#009af9\" fill-rule=\"evenodd\" fill-opacity=\"1\" stroke=\"#000000\" stroke-opacity=\"1\" stroke-width=\"3.2\"/>\n",
       "<circle clip-path=\"url(#clip6702)\" cx=\"1549.24\" cy=\"602.108\" r=\"14\" fill=\"#009af9\" fill-rule=\"evenodd\" fill-opacity=\"1\" stroke=\"#000000\" stroke-opacity=\"1\" stroke-width=\"3.2\"/>\n",
       "<circle clip-path=\"url(#clip6702)\" cx=\"1549.24\" cy=\"602.108\" r=\"14\" fill=\"#009af9\" fill-rule=\"evenodd\" fill-opacity=\"1\" stroke=\"#000000\" stroke-opacity=\"1\" stroke-width=\"3.2\"/>\n",
       "<circle clip-path=\"url(#clip6702)\" cx=\"1549.24\" cy=\"602.108\" r=\"14\" fill=\"#009af9\" fill-rule=\"evenodd\" fill-opacity=\"1\" stroke=\"#000000\" stroke-opacity=\"1\" stroke-width=\"3.2\"/>\n",
       "<circle clip-path=\"url(#clip6702)\" cx=\"1549.24\" cy=\"602.108\" r=\"14\" fill=\"#009af9\" fill-rule=\"evenodd\" fill-opacity=\"1\" stroke=\"#000000\" stroke-opacity=\"1\" stroke-width=\"3.2\"/>\n",
       "<circle clip-path=\"url(#clip6702)\" cx=\"1549.24\" cy=\"602.108\" r=\"14\" fill=\"#009af9\" fill-rule=\"evenodd\" fill-opacity=\"1\" stroke=\"#000000\" stroke-opacity=\"1\" stroke-width=\"3.2\"/>\n",
       "<circle clip-path=\"url(#clip6702)\" cx=\"1549.24\" cy=\"602.108\" r=\"14\" fill=\"#009af9\" fill-rule=\"evenodd\" fill-opacity=\"1\" stroke=\"#000000\" stroke-opacity=\"1\" stroke-width=\"3.2\"/>\n",
       "<circle clip-path=\"url(#clip6702)\" cx=\"1549.24\" cy=\"602.108\" r=\"14\" fill=\"#009af9\" fill-rule=\"evenodd\" fill-opacity=\"1\" stroke=\"#000000\" stroke-opacity=\"1\" stroke-width=\"3.2\"/>\n",
       "<circle clip-path=\"url(#clip6702)\" cx=\"1549.24\" cy=\"602.108\" r=\"14\" fill=\"#009af9\" fill-rule=\"evenodd\" fill-opacity=\"1\" stroke=\"#000000\" stroke-opacity=\"1\" stroke-width=\"3.2\"/>\n",
       "<circle clip-path=\"url(#clip6702)\" cx=\"1549.24\" cy=\"602.108\" r=\"14\" fill=\"#009af9\" fill-rule=\"evenodd\" fill-opacity=\"1\" stroke=\"#000000\" stroke-opacity=\"1\" stroke-width=\"3.2\"/>\n",
       "<circle clip-path=\"url(#clip6702)\" cx=\"1549.24\" cy=\"602.108\" r=\"14\" fill=\"#009af9\" fill-rule=\"evenodd\" fill-opacity=\"1\" stroke=\"#000000\" stroke-opacity=\"1\" stroke-width=\"3.2\"/>\n",
       "<circle clip-path=\"url(#clip6702)\" cx=\"1549.24\" cy=\"602.108\" r=\"14\" fill=\"#009af9\" fill-rule=\"evenodd\" fill-opacity=\"1\" stroke=\"#000000\" stroke-opacity=\"1\" stroke-width=\"3.2\"/>\n",
       "<circle clip-path=\"url(#clip6702)\" cx=\"1549.24\" cy=\"602.108\" r=\"14\" fill=\"#009af9\" fill-rule=\"evenodd\" fill-opacity=\"1\" stroke=\"#000000\" stroke-opacity=\"1\" stroke-width=\"3.2\"/>\n",
       "<circle clip-path=\"url(#clip6702)\" cx=\"1549.24\" cy=\"602.108\" r=\"14\" fill=\"#009af9\" fill-rule=\"evenodd\" fill-opacity=\"1\" stroke=\"#000000\" stroke-opacity=\"1\" stroke-width=\"3.2\"/>\n",
       "<circle clip-path=\"url(#clip6702)\" cx=\"1549.24\" cy=\"602.108\" r=\"14\" fill=\"#009af9\" fill-rule=\"evenodd\" fill-opacity=\"1\" stroke=\"#000000\" stroke-opacity=\"1\" stroke-width=\"3.2\"/>\n",
       "<circle clip-path=\"url(#clip6702)\" cx=\"1549.24\" cy=\"602.108\" r=\"14\" fill=\"#009af9\" fill-rule=\"evenodd\" fill-opacity=\"1\" stroke=\"#000000\" stroke-opacity=\"1\" stroke-width=\"3.2\"/>\n",
       "<circle clip-path=\"url(#clip6702)\" cx=\"1549.24\" cy=\"602.108\" r=\"14\" fill=\"#009af9\" fill-rule=\"evenodd\" fill-opacity=\"1\" stroke=\"#000000\" stroke-opacity=\"1\" stroke-width=\"3.2\"/>\n",
       "<circle clip-path=\"url(#clip6702)\" cx=\"1549.24\" cy=\"602.108\" r=\"14\" fill=\"#009af9\" fill-rule=\"evenodd\" fill-opacity=\"1\" stroke=\"#000000\" stroke-opacity=\"1\" stroke-width=\"3.2\"/>\n",
       "<circle clip-path=\"url(#clip6702)\" cx=\"1549.24\" cy=\"602.108\" r=\"14\" fill=\"#009af9\" fill-rule=\"evenodd\" fill-opacity=\"1\" stroke=\"#000000\" stroke-opacity=\"1\" stroke-width=\"3.2\"/>\n",
       "<circle clip-path=\"url(#clip6702)\" cx=\"1549.24\" cy=\"602.108\" r=\"14\" fill=\"#009af9\" fill-rule=\"evenodd\" fill-opacity=\"1\" stroke=\"#000000\" stroke-opacity=\"1\" stroke-width=\"3.2\"/>\n",
       "<circle clip-path=\"url(#clip6702)\" cx=\"1549.24\" cy=\"602.108\" r=\"14\" fill=\"#009af9\" fill-rule=\"evenodd\" fill-opacity=\"1\" stroke=\"#000000\" stroke-opacity=\"1\" stroke-width=\"3.2\"/>\n",
       "<circle clip-path=\"url(#clip6702)\" cx=\"1549.24\" cy=\"602.108\" r=\"14\" fill=\"#009af9\" fill-rule=\"evenodd\" fill-opacity=\"1\" stroke=\"#000000\" stroke-opacity=\"1\" stroke-width=\"3.2\"/>\n",
       "<circle clip-path=\"url(#clip6702)\" cx=\"1549.24\" cy=\"602.108\" r=\"14\" fill=\"#009af9\" fill-rule=\"evenodd\" fill-opacity=\"1\" stroke=\"#000000\" stroke-opacity=\"1\" stroke-width=\"3.2\"/>\n",
       "<circle clip-path=\"url(#clip6702)\" cx=\"1549.24\" cy=\"602.108\" r=\"14\" fill=\"#009af9\" fill-rule=\"evenodd\" fill-opacity=\"1\" stroke=\"#000000\" stroke-opacity=\"1\" stroke-width=\"3.2\"/>\n",
       "<circle clip-path=\"url(#clip6702)\" cx=\"1549.24\" cy=\"602.108\" r=\"14\" fill=\"#009af9\" fill-rule=\"evenodd\" fill-opacity=\"1\" stroke=\"#000000\" stroke-opacity=\"1\" stroke-width=\"3.2\"/>\n",
       "<circle clip-path=\"url(#clip6702)\" cx=\"1549.24\" cy=\"602.108\" r=\"14\" fill=\"#009af9\" fill-rule=\"evenodd\" fill-opacity=\"1\" stroke=\"#000000\" stroke-opacity=\"1\" stroke-width=\"3.2\"/>\n",
       "<circle clip-path=\"url(#clip6702)\" cx=\"1549.24\" cy=\"602.108\" r=\"14\" fill=\"#009af9\" fill-rule=\"evenodd\" fill-opacity=\"1\" stroke=\"#000000\" stroke-opacity=\"1\" stroke-width=\"3.2\"/>\n",
       "<circle clip-path=\"url(#clip6702)\" cx=\"1549.24\" cy=\"602.108\" r=\"14\" fill=\"#009af9\" fill-rule=\"evenodd\" fill-opacity=\"1\" stroke=\"#000000\" stroke-opacity=\"1\" stroke-width=\"3.2\"/>\n",
       "<circle clip-path=\"url(#clip6702)\" cx=\"1549.24\" cy=\"602.108\" r=\"14\" fill=\"#009af9\" fill-rule=\"evenodd\" fill-opacity=\"1\" stroke=\"#000000\" stroke-opacity=\"1\" stroke-width=\"3.2\"/>\n",
       "<circle clip-path=\"url(#clip6702)\" cx=\"1549.24\" cy=\"602.108\" r=\"14\" fill=\"#009af9\" fill-rule=\"evenodd\" fill-opacity=\"1\" stroke=\"#000000\" stroke-opacity=\"1\" stroke-width=\"3.2\"/>\n",
       "<circle clip-path=\"url(#clip6702)\" cx=\"1549.24\" cy=\"602.108\" r=\"14\" fill=\"#009af9\" fill-rule=\"evenodd\" fill-opacity=\"1\" stroke=\"#000000\" stroke-opacity=\"1\" stroke-width=\"3.2\"/>\n",
       "<circle clip-path=\"url(#clip6702)\" cx=\"1549.24\" cy=\"602.108\" r=\"14\" fill=\"#009af9\" fill-rule=\"evenodd\" fill-opacity=\"1\" stroke=\"#000000\" stroke-opacity=\"1\" stroke-width=\"3.2\"/>\n",
       "<circle clip-path=\"url(#clip6702)\" cx=\"1549.24\" cy=\"602.108\" r=\"14\" fill=\"#009af9\" fill-rule=\"evenodd\" fill-opacity=\"1\" stroke=\"#000000\" stroke-opacity=\"1\" stroke-width=\"3.2\"/>\n",
       "<circle clip-path=\"url(#clip6702)\" cx=\"1549.24\" cy=\"602.108\" r=\"14\" fill=\"#009af9\" fill-rule=\"evenodd\" fill-opacity=\"1\" stroke=\"#000000\" stroke-opacity=\"1\" stroke-width=\"3.2\"/>\n",
       "<circle clip-path=\"url(#clip6702)\" cx=\"1549.24\" cy=\"602.108\" r=\"14\" fill=\"#009af9\" fill-rule=\"evenodd\" fill-opacity=\"1\" stroke=\"#000000\" stroke-opacity=\"1\" stroke-width=\"3.2\"/>\n",
       "<circle clip-path=\"url(#clip6702)\" cx=\"1549.24\" cy=\"602.108\" r=\"14\" fill=\"#009af9\" fill-rule=\"evenodd\" fill-opacity=\"1\" stroke=\"#000000\" stroke-opacity=\"1\" stroke-width=\"3.2\"/>\n",
       "<circle clip-path=\"url(#clip6702)\" cx=\"1549.24\" cy=\"602.108\" r=\"14\" fill=\"#009af9\" fill-rule=\"evenodd\" fill-opacity=\"1\" stroke=\"#000000\" stroke-opacity=\"1\" stroke-width=\"3.2\"/>\n",
       "<circle clip-path=\"url(#clip6702)\" cx=\"1549.24\" cy=\"602.108\" r=\"14\" fill=\"#009af9\" fill-rule=\"evenodd\" fill-opacity=\"1\" stroke=\"#000000\" stroke-opacity=\"1\" stroke-width=\"3.2\"/>\n",
       "<circle clip-path=\"url(#clip6702)\" cx=\"1549.24\" cy=\"602.108\" r=\"14\" fill=\"#009af9\" fill-rule=\"evenodd\" fill-opacity=\"1\" stroke=\"#000000\" stroke-opacity=\"1\" stroke-width=\"3.2\"/>\n",
       "<circle clip-path=\"url(#clip6702)\" cx=\"1549.24\" cy=\"602.108\" r=\"14\" fill=\"#009af9\" fill-rule=\"evenodd\" fill-opacity=\"1\" stroke=\"#000000\" stroke-opacity=\"1\" stroke-width=\"3.2\"/>\n",
       "<circle clip-path=\"url(#clip6702)\" cx=\"1549.24\" cy=\"602.108\" r=\"14\" fill=\"#009af9\" fill-rule=\"evenodd\" fill-opacity=\"1\" stroke=\"#000000\" stroke-opacity=\"1\" stroke-width=\"3.2\"/>\n",
       "<circle clip-path=\"url(#clip6702)\" cx=\"1549.24\" cy=\"602.108\" r=\"14\" fill=\"#009af9\" fill-rule=\"evenodd\" fill-opacity=\"1\" stroke=\"#000000\" stroke-opacity=\"1\" stroke-width=\"3.2\"/>\n",
       "<circle clip-path=\"url(#clip6702)\" cx=\"1549.24\" cy=\"602.108\" r=\"14\" fill=\"#009af9\" fill-rule=\"evenodd\" fill-opacity=\"1\" stroke=\"#000000\" stroke-opacity=\"1\" stroke-width=\"3.2\"/>\n",
       "<circle clip-path=\"url(#clip6702)\" cx=\"1549.24\" cy=\"602.108\" r=\"14\" fill=\"#009af9\" fill-rule=\"evenodd\" fill-opacity=\"1\" stroke=\"#000000\" stroke-opacity=\"1\" stroke-width=\"3.2\"/>\n",
       "<circle clip-path=\"url(#clip6702)\" cx=\"1549.24\" cy=\"602.108\" r=\"14\" fill=\"#009af9\" fill-rule=\"evenodd\" fill-opacity=\"1\" stroke=\"#000000\" stroke-opacity=\"1\" stroke-width=\"3.2\"/>\n",
       "<circle clip-path=\"url(#clip6702)\" cx=\"1549.24\" cy=\"602.108\" r=\"14\" fill=\"#009af9\" fill-rule=\"evenodd\" fill-opacity=\"1\" stroke=\"#000000\" stroke-opacity=\"1\" stroke-width=\"3.2\"/>\n",
       "<circle clip-path=\"url(#clip6702)\" cx=\"1549.24\" cy=\"602.108\" r=\"14\" fill=\"#009af9\" fill-rule=\"evenodd\" fill-opacity=\"1\" stroke=\"#000000\" stroke-opacity=\"1\" stroke-width=\"3.2\"/>\n",
       "<circle clip-path=\"url(#clip6702)\" cx=\"1549.24\" cy=\"602.108\" r=\"14\" fill=\"#009af9\" fill-rule=\"evenodd\" fill-opacity=\"1\" stroke=\"#000000\" stroke-opacity=\"1\" stroke-width=\"3.2\"/>\n",
       "<circle clip-path=\"url(#clip6702)\" cx=\"1549.24\" cy=\"602.108\" r=\"14\" fill=\"#009af9\" fill-rule=\"evenodd\" fill-opacity=\"1\" stroke=\"#000000\" stroke-opacity=\"1\" stroke-width=\"3.2\"/>\n",
       "<circle clip-path=\"url(#clip6702)\" cx=\"1549.24\" cy=\"602.108\" r=\"14\" fill=\"#009af9\" fill-rule=\"evenodd\" fill-opacity=\"1\" stroke=\"#000000\" stroke-opacity=\"1\" stroke-width=\"3.2\"/>\n",
       "<circle clip-path=\"url(#clip6702)\" cx=\"1549.24\" cy=\"602.108\" r=\"14\" fill=\"#009af9\" fill-rule=\"evenodd\" fill-opacity=\"1\" stroke=\"#000000\" stroke-opacity=\"1\" stroke-width=\"3.2\"/>\n",
       "<circle clip-path=\"url(#clip6702)\" cx=\"1549.24\" cy=\"602.108\" r=\"14\" fill=\"#009af9\" fill-rule=\"evenodd\" fill-opacity=\"1\" stroke=\"#000000\" stroke-opacity=\"1\" stroke-width=\"3.2\"/>\n",
       "<circle clip-path=\"url(#clip6702)\" cx=\"1549.24\" cy=\"602.108\" r=\"14\" fill=\"#009af9\" fill-rule=\"evenodd\" fill-opacity=\"1\" stroke=\"#000000\" stroke-opacity=\"1\" stroke-width=\"3.2\"/>\n",
       "<circle clip-path=\"url(#clip6702)\" cx=\"1549.24\" cy=\"602.108\" r=\"14\" fill=\"#009af9\" fill-rule=\"evenodd\" fill-opacity=\"1\" stroke=\"#000000\" stroke-opacity=\"1\" stroke-width=\"3.2\"/>\n",
       "<circle clip-path=\"url(#clip6702)\" cx=\"1549.24\" cy=\"602.108\" r=\"14\" fill=\"#009af9\" fill-rule=\"evenodd\" fill-opacity=\"1\" stroke=\"#000000\" stroke-opacity=\"1\" stroke-width=\"3.2\"/>\n",
       "<circle clip-path=\"url(#clip6702)\" cx=\"1549.24\" cy=\"602.108\" r=\"14\" fill=\"#009af9\" fill-rule=\"evenodd\" fill-opacity=\"1\" stroke=\"#000000\" stroke-opacity=\"1\" stroke-width=\"3.2\"/>\n",
       "<circle clip-path=\"url(#clip6702)\" cx=\"1549.24\" cy=\"602.108\" r=\"14\" fill=\"#009af9\" fill-rule=\"evenodd\" fill-opacity=\"1\" stroke=\"#000000\" stroke-opacity=\"1\" stroke-width=\"3.2\"/>\n",
       "<circle clip-path=\"url(#clip6702)\" cx=\"1549.24\" cy=\"602.108\" r=\"14\" fill=\"#009af9\" fill-rule=\"evenodd\" fill-opacity=\"1\" stroke=\"#000000\" stroke-opacity=\"1\" stroke-width=\"3.2\"/>\n",
       "<circle clip-path=\"url(#clip6702)\" cx=\"1549.24\" cy=\"602.108\" r=\"14\" fill=\"#009af9\" fill-rule=\"evenodd\" fill-opacity=\"1\" stroke=\"#000000\" stroke-opacity=\"1\" stroke-width=\"3.2\"/>\n",
       "<circle clip-path=\"url(#clip6702)\" cx=\"1549.24\" cy=\"602.108\" r=\"14\" fill=\"#009af9\" fill-rule=\"evenodd\" fill-opacity=\"1\" stroke=\"#000000\" stroke-opacity=\"1\" stroke-width=\"3.2\"/>\n",
       "<circle clip-path=\"url(#clip6702)\" cx=\"1549.24\" cy=\"602.108\" r=\"14\" fill=\"#009af9\" fill-rule=\"evenodd\" fill-opacity=\"1\" stroke=\"#000000\" stroke-opacity=\"1\" stroke-width=\"3.2\"/>\n",
       "<circle clip-path=\"url(#clip6702)\" cx=\"1549.24\" cy=\"602.108\" r=\"14\" fill=\"#009af9\" fill-rule=\"evenodd\" fill-opacity=\"1\" stroke=\"#000000\" stroke-opacity=\"1\" stroke-width=\"3.2\"/>\n",
       "<circle clip-path=\"url(#clip6702)\" cx=\"1549.24\" cy=\"602.108\" r=\"14\" fill=\"#009af9\" fill-rule=\"evenodd\" fill-opacity=\"1\" stroke=\"#000000\" stroke-opacity=\"1\" stroke-width=\"3.2\"/>\n",
       "<circle clip-path=\"url(#clip6702)\" cx=\"1549.24\" cy=\"602.108\" r=\"14\" fill=\"#009af9\" fill-rule=\"evenodd\" fill-opacity=\"1\" stroke=\"#000000\" stroke-opacity=\"1\" stroke-width=\"3.2\"/>\n",
       "<circle clip-path=\"url(#clip6702)\" cx=\"1549.24\" cy=\"602.108\" r=\"14\" fill=\"#009af9\" fill-rule=\"evenodd\" fill-opacity=\"1\" stroke=\"#000000\" stroke-opacity=\"1\" stroke-width=\"3.2\"/>\n",
       "<circle clip-path=\"url(#clip6702)\" cx=\"1549.24\" cy=\"602.108\" r=\"14\" fill=\"#009af9\" fill-rule=\"evenodd\" fill-opacity=\"1\" stroke=\"#000000\" stroke-opacity=\"1\" stroke-width=\"3.2\"/>\n",
       "<circle clip-path=\"url(#clip6702)\" cx=\"1549.24\" cy=\"602.108\" r=\"14\" fill=\"#009af9\" fill-rule=\"evenodd\" fill-opacity=\"1\" stroke=\"#000000\" stroke-opacity=\"1\" stroke-width=\"3.2\"/>\n",
       "<circle clip-path=\"url(#clip6702)\" cx=\"1549.24\" cy=\"602.108\" r=\"14\" fill=\"#009af9\" fill-rule=\"evenodd\" fill-opacity=\"1\" stroke=\"#000000\" stroke-opacity=\"1\" stroke-width=\"3.2\"/>\n",
       "<circle clip-path=\"url(#clip6702)\" cx=\"1549.24\" cy=\"602.108\" r=\"14\" fill=\"#009af9\" fill-rule=\"evenodd\" fill-opacity=\"1\" stroke=\"#000000\" stroke-opacity=\"1\" stroke-width=\"3.2\"/>\n",
       "<circle clip-path=\"url(#clip6702)\" cx=\"1549.24\" cy=\"602.108\" r=\"14\" fill=\"#009af9\" fill-rule=\"evenodd\" fill-opacity=\"1\" stroke=\"#000000\" stroke-opacity=\"1\" stroke-width=\"3.2\"/>\n",
       "<circle clip-path=\"url(#clip6702)\" cx=\"1549.24\" cy=\"602.108\" r=\"14\" fill=\"#009af9\" fill-rule=\"evenodd\" fill-opacity=\"1\" stroke=\"#000000\" stroke-opacity=\"1\" stroke-width=\"3.2\"/>\n",
       "<circle clip-path=\"url(#clip6702)\" cx=\"1549.24\" cy=\"602.108\" r=\"14\" fill=\"#009af9\" fill-rule=\"evenodd\" fill-opacity=\"1\" stroke=\"#000000\" stroke-opacity=\"1\" stroke-width=\"3.2\"/>\n",
       "<circle clip-path=\"url(#clip6702)\" cx=\"1549.24\" cy=\"602.108\" r=\"14\" fill=\"#009af9\" fill-rule=\"evenodd\" fill-opacity=\"1\" stroke=\"#000000\" stroke-opacity=\"1\" stroke-width=\"3.2\"/>\n",
       "<circle clip-path=\"url(#clip6702)\" cx=\"1549.24\" cy=\"602.108\" r=\"14\" fill=\"#009af9\" fill-rule=\"evenodd\" fill-opacity=\"1\" stroke=\"#000000\" stroke-opacity=\"1\" stroke-width=\"3.2\"/>\n",
       "<circle clip-path=\"url(#clip6702)\" cx=\"1549.24\" cy=\"602.108\" r=\"14\" fill=\"#009af9\" fill-rule=\"evenodd\" fill-opacity=\"1\" stroke=\"#000000\" stroke-opacity=\"1\" stroke-width=\"3.2\"/>\n",
       "<circle clip-path=\"url(#clip6702)\" cx=\"1549.24\" cy=\"602.108\" r=\"14\" fill=\"#009af9\" fill-rule=\"evenodd\" fill-opacity=\"1\" stroke=\"#000000\" stroke-opacity=\"1\" stroke-width=\"3.2\"/>\n",
       "<circle clip-path=\"url(#clip6702)\" cx=\"1549.24\" cy=\"602.108\" r=\"14\" fill=\"#009af9\" fill-rule=\"evenodd\" fill-opacity=\"1\" stroke=\"#000000\" stroke-opacity=\"1\" stroke-width=\"3.2\"/>\n",
       "<circle clip-path=\"url(#clip6702)\" cx=\"1549.24\" cy=\"602.108\" r=\"14\" fill=\"#009af9\" fill-rule=\"evenodd\" fill-opacity=\"1\" stroke=\"#000000\" stroke-opacity=\"1\" stroke-width=\"3.2\"/>\n",
       "<circle clip-path=\"url(#clip6702)\" cx=\"1549.24\" cy=\"602.108\" r=\"14\" fill=\"#009af9\" fill-rule=\"evenodd\" fill-opacity=\"1\" stroke=\"#000000\" stroke-opacity=\"1\" stroke-width=\"3.2\"/>\n",
       "<circle clip-path=\"url(#clip6702)\" cx=\"1549.24\" cy=\"602.108\" r=\"14\" fill=\"#009af9\" fill-rule=\"evenodd\" fill-opacity=\"1\" stroke=\"#000000\" stroke-opacity=\"1\" stroke-width=\"3.2\"/>\n",
       "<circle clip-path=\"url(#clip6702)\" cx=\"1549.24\" cy=\"602.108\" r=\"14\" fill=\"#009af9\" fill-rule=\"evenodd\" fill-opacity=\"1\" stroke=\"#000000\" stroke-opacity=\"1\" stroke-width=\"3.2\"/>\n",
       "<circle clip-path=\"url(#clip6702)\" cx=\"1549.24\" cy=\"602.108\" r=\"14\" fill=\"#009af9\" fill-rule=\"evenodd\" fill-opacity=\"1\" stroke=\"#000000\" stroke-opacity=\"1\" stroke-width=\"3.2\"/>\n",
       "<circle clip-path=\"url(#clip6702)\" cx=\"1549.24\" cy=\"602.108\" r=\"14\" fill=\"#009af9\" fill-rule=\"evenodd\" fill-opacity=\"1\" stroke=\"#000000\" stroke-opacity=\"1\" stroke-width=\"3.2\"/>\n",
       "<circle clip-path=\"url(#clip6702)\" cx=\"1549.24\" cy=\"602.108\" r=\"14\" fill=\"#009af9\" fill-rule=\"evenodd\" fill-opacity=\"1\" stroke=\"#000000\" stroke-opacity=\"1\" stroke-width=\"3.2\"/>\n",
       "<circle clip-path=\"url(#clip6702)\" cx=\"1549.24\" cy=\"602.108\" r=\"14\" fill=\"#009af9\" fill-rule=\"evenodd\" fill-opacity=\"1\" stroke=\"#000000\" stroke-opacity=\"1\" stroke-width=\"3.2\"/>\n",
       "<circle clip-path=\"url(#clip6702)\" cx=\"1549.24\" cy=\"602.108\" r=\"14\" fill=\"#009af9\" fill-rule=\"evenodd\" fill-opacity=\"1\" stroke=\"#000000\" stroke-opacity=\"1\" stroke-width=\"3.2\"/>\n",
       "<circle clip-path=\"url(#clip6702)\" cx=\"1549.24\" cy=\"602.108\" r=\"14\" fill=\"#009af9\" fill-rule=\"evenodd\" fill-opacity=\"1\" stroke=\"#000000\" stroke-opacity=\"1\" stroke-width=\"3.2\"/>\n",
       "<circle clip-path=\"url(#clip6702)\" cx=\"1549.24\" cy=\"602.108\" r=\"14\" fill=\"#009af9\" fill-rule=\"evenodd\" fill-opacity=\"1\" stroke=\"#000000\" stroke-opacity=\"1\" stroke-width=\"3.2\"/>\n",
       "<circle clip-path=\"url(#clip6702)\" cx=\"1549.24\" cy=\"602.108\" r=\"14\" fill=\"#009af9\" fill-rule=\"evenodd\" fill-opacity=\"1\" stroke=\"#000000\" stroke-opacity=\"1\" stroke-width=\"3.2\"/>\n",
       "<circle clip-path=\"url(#clip6702)\" cx=\"1545.87\" cy=\"591.734\" r=\"14\" fill=\"#009af9\" fill-rule=\"evenodd\" fill-opacity=\"1\" stroke=\"#000000\" stroke-opacity=\"1\" stroke-width=\"3.2\"/>\n",
       "<circle clip-path=\"url(#clip6702)\" cx=\"1545.87\" cy=\"591.734\" r=\"14\" fill=\"#009af9\" fill-rule=\"evenodd\" fill-opacity=\"1\" stroke=\"#000000\" stroke-opacity=\"1\" stroke-width=\"3.2\"/>\n",
       "<circle clip-path=\"url(#clip6702)\" cx=\"1545.87\" cy=\"591.734\" r=\"14\" fill=\"#009af9\" fill-rule=\"evenodd\" fill-opacity=\"1\" stroke=\"#000000\" stroke-opacity=\"1\" stroke-width=\"3.2\"/>\n",
       "<circle clip-path=\"url(#clip6702)\" cx=\"1545.87\" cy=\"591.734\" r=\"14\" fill=\"#009af9\" fill-rule=\"evenodd\" fill-opacity=\"1\" stroke=\"#000000\" stroke-opacity=\"1\" stroke-width=\"3.2\"/>\n",
       "<circle clip-path=\"url(#clip6702)\" cx=\"1545.87\" cy=\"591.734\" r=\"14\" fill=\"#009af9\" fill-rule=\"evenodd\" fill-opacity=\"1\" stroke=\"#000000\" stroke-opacity=\"1\" stroke-width=\"3.2\"/>\n",
       "<circle clip-path=\"url(#clip6702)\" cx=\"1524.84\" cy=\"588.937\" r=\"14\" fill=\"#009af9\" fill-rule=\"evenodd\" fill-opacity=\"1\" stroke=\"#000000\" stroke-opacity=\"1\" stroke-width=\"3.2\"/>\n",
       "<circle clip-path=\"url(#clip6702)\" cx=\"1523.76\" cy=\"586.448\" r=\"14\" fill=\"#009af9\" fill-rule=\"evenodd\" fill-opacity=\"1\" stroke=\"#000000\" stroke-opacity=\"1\" stroke-width=\"3.2\"/>\n",
       "<circle clip-path=\"url(#clip6702)\" cx=\"1523.76\" cy=\"586.448\" r=\"14\" fill=\"#009af9\" fill-rule=\"evenodd\" fill-opacity=\"1\" stroke=\"#000000\" stroke-opacity=\"1\" stroke-width=\"3.2\"/>\n",
       "<circle clip-path=\"url(#clip6702)\" cx=\"1523.76\" cy=\"586.448\" r=\"14\" fill=\"#009af9\" fill-rule=\"evenodd\" fill-opacity=\"1\" stroke=\"#000000\" stroke-opacity=\"1\" stroke-width=\"3.2\"/>\n",
       "<circle clip-path=\"url(#clip6702)\" cx=\"1523.76\" cy=\"586.448\" r=\"14\" fill=\"#009af9\" fill-rule=\"evenodd\" fill-opacity=\"1\" stroke=\"#000000\" stroke-opacity=\"1\" stroke-width=\"3.2\"/>\n",
       "<circle clip-path=\"url(#clip6702)\" cx=\"1523.76\" cy=\"586.448\" r=\"14\" fill=\"#009af9\" fill-rule=\"evenodd\" fill-opacity=\"1\" stroke=\"#000000\" stroke-opacity=\"1\" stroke-width=\"3.2\"/>\n",
       "<circle clip-path=\"url(#clip6702)\" cx=\"1523.76\" cy=\"586.448\" r=\"14\" fill=\"#009af9\" fill-rule=\"evenodd\" fill-opacity=\"1\" stroke=\"#000000\" stroke-opacity=\"1\" stroke-width=\"3.2\"/>\n",
       "<circle clip-path=\"url(#clip6702)\" cx=\"1521.46\" cy=\"578.563\" r=\"14\" fill=\"#009af9\" fill-rule=\"evenodd\" fill-opacity=\"1\" stroke=\"#000000\" stroke-opacity=\"1\" stroke-width=\"3.2\"/>\n",
       "<circle clip-path=\"url(#clip6702)\" cx=\"1521.46\" cy=\"578.563\" r=\"14\" fill=\"#009af9\" fill-rule=\"evenodd\" fill-opacity=\"1\" stroke=\"#000000\" stroke-opacity=\"1\" stroke-width=\"3.2\"/>\n",
       "<circle clip-path=\"url(#clip6702)\" cx=\"1521.46\" cy=\"578.563\" r=\"14\" fill=\"#009af9\" fill-rule=\"evenodd\" fill-opacity=\"1\" stroke=\"#000000\" stroke-opacity=\"1\" stroke-width=\"3.2\"/>\n",
       "<circle clip-path=\"url(#clip6702)\" cx=\"1520.39\" cy=\"576.074\" r=\"14\" fill=\"#009af9\" fill-rule=\"evenodd\" fill-opacity=\"1\" stroke=\"#000000\" stroke-opacity=\"1\" stroke-width=\"3.2\"/>\n",
       "<circle clip-path=\"url(#clip6702)\" cx=\"1520.39\" cy=\"576.074\" r=\"14\" fill=\"#009af9\" fill-rule=\"evenodd\" fill-opacity=\"1\" stroke=\"#000000\" stroke-opacity=\"1\" stroke-width=\"3.2\"/>\n",
       "<circle clip-path=\"url(#clip6702)\" cx=\"1485.5\" cy=\"570.025\" r=\"14\" fill=\"#009af9\" fill-rule=\"evenodd\" fill-opacity=\"1\" stroke=\"#000000\" stroke-opacity=\"1\" stroke-width=\"3.2\"/>\n",
       "<circle clip-path=\"url(#clip6702)\" cx=\"1485.5\" cy=\"570.025\" r=\"14\" fill=\"#009af9\" fill-rule=\"evenodd\" fill-opacity=\"1\" stroke=\"#000000\" stroke-opacity=\"1\" stroke-width=\"3.2\"/>\n",
       "<circle clip-path=\"url(#clip6702)\" cx=\"1461.1\" cy=\"556.854\" r=\"14\" fill=\"#009af9\" fill-rule=\"evenodd\" fill-opacity=\"1\" stroke=\"#000000\" stroke-opacity=\"1\" stroke-width=\"3.2\"/>\n",
       "<circle clip-path=\"url(#clip6702)\" cx=\"1461.1\" cy=\"556.854\" r=\"14\" fill=\"#009af9\" fill-rule=\"evenodd\" fill-opacity=\"1\" stroke=\"#000000\" stroke-opacity=\"1\" stroke-width=\"3.2\"/>\n",
       "<circle clip-path=\"url(#clip6702)\" cx=\"1461.1\" cy=\"556.854\" r=\"14\" fill=\"#009af9\" fill-rule=\"evenodd\" fill-opacity=\"1\" stroke=\"#000000\" stroke-opacity=\"1\" stroke-width=\"3.2\"/>\n",
       "<circle clip-path=\"url(#clip6702)\" cx=\"1549.24\" cy=\"602.108\" r=\"14\" fill=\"#009af9\" fill-rule=\"evenodd\" fill-opacity=\"1\" stroke=\"#000000\" stroke-opacity=\"1\" stroke-width=\"3.2\"/>\n",
       "<circle clip-path=\"url(#clip6702)\" cx=\"1433.46\" cy=\"573.252\" r=\"14\" fill=\"#009af9\" fill-rule=\"evenodd\" fill-opacity=\"1\" stroke=\"#000000\" stroke-opacity=\"1\" stroke-width=\"3.2\"/>\n",
       "<circle clip-path=\"url(#clip6702)\" cx=\"1544.85\" cy=\"595.984\" r=\"14\" fill=\"#009af9\" fill-rule=\"evenodd\" fill-opacity=\"1\" stroke=\"#000000\" stroke-opacity=\"1\" stroke-width=\"3.2\"/>\n",
       "<circle clip-path=\"url(#clip6702)\" cx=\"1445.71\" cy=\"586.081\" r=\"14\" fill=\"#009af9\" fill-rule=\"evenodd\" fill-opacity=\"1\" stroke=\"#000000\" stroke-opacity=\"1\" stroke-width=\"3.2\"/>\n",
       "<circle clip-path=\"url(#clip6702)\" cx=\"1544.85\" cy=\"595.984\" r=\"14\" fill=\"#009af9\" fill-rule=\"evenodd\" fill-opacity=\"1\" stroke=\"#000000\" stroke-opacity=\"1\" stroke-width=\"3.2\"/>\n",
       "<circle clip-path=\"url(#clip6702)\" cx=\"1519.3\" cy=\"610.62\" r=\"14\" fill=\"#009af9\" fill-rule=\"evenodd\" fill-opacity=\"1\" stroke=\"#000000\" stroke-opacity=\"1\" stroke-width=\"3.2\"/>\n",
       "<circle clip-path=\"url(#clip6702)\" cx=\"1533.66\" cy=\"617.703\" r=\"14\" fill=\"#009af9\" fill-rule=\"evenodd\" fill-opacity=\"1\" stroke=\"#000000\" stroke-opacity=\"1\" stroke-width=\"3.2\"/>\n",
       "<circle clip-path=\"url(#clip6702)\" cx=\"1510.98\" cy=\"617.37\" r=\"14\" fill=\"#009af9\" fill-rule=\"evenodd\" fill-opacity=\"1\" stroke=\"#000000\" stroke-opacity=\"1\" stroke-width=\"3.2\"/>\n",
       "<circle clip-path=\"url(#clip6702)\" cx=\"1509.44\" cy=\"618.163\" r=\"14\" fill=\"#009af9\" fill-rule=\"evenodd\" fill-opacity=\"1\" stroke=\"#000000\" stroke-opacity=\"1\" stroke-width=\"3.2\"/>\n",
       "<circle clip-path=\"url(#clip6702)\" cx=\"1519.3\" cy=\"610.62\" r=\"14\" fill=\"#009af9\" fill-rule=\"evenodd\" fill-opacity=\"1\" stroke=\"#000000\" stroke-opacity=\"1\" stroke-width=\"3.2\"/>\n",
       "<circle clip-path=\"url(#clip6702)\" cx=\"1549.24\" cy=\"602.108\" r=\"14\" fill=\"#009af9\" fill-rule=\"evenodd\" fill-opacity=\"1\" stroke=\"#000000\" stroke-opacity=\"1\" stroke-width=\"3.2\"/>\n",
       "<circle clip-path=\"url(#clip6702)\" cx=\"1549.24\" cy=\"602.108\" r=\"14\" fill=\"#009af9\" fill-rule=\"evenodd\" fill-opacity=\"1\" stroke=\"#000000\" stroke-opacity=\"1\" stroke-width=\"3.2\"/>\n",
       "<circle clip-path=\"url(#clip6702)\" cx=\"1523.76\" cy=\"586.448\" r=\"14\" fill=\"#009af9\" fill-rule=\"evenodd\" fill-opacity=\"1\" stroke=\"#000000\" stroke-opacity=\"1\" stroke-width=\"3.2\"/>\n",
       "<circle clip-path=\"url(#clip6702)\" cx=\"1549.24\" cy=\"602.108\" r=\"14\" fill=\"#009af9\" fill-rule=\"evenodd\" fill-opacity=\"1\" stroke=\"#000000\" stroke-opacity=\"1\" stroke-width=\"3.2\"/>\n",
       "<circle clip-path=\"url(#clip6702)\" cx=\"1549.24\" cy=\"602.108\" r=\"14\" fill=\"#009af9\" fill-rule=\"evenodd\" fill-opacity=\"1\" stroke=\"#000000\" stroke-opacity=\"1\" stroke-width=\"3.2\"/>\n",
       "<circle clip-path=\"url(#clip6702)\" cx=\"1549.24\" cy=\"602.108\" r=\"14\" fill=\"#009af9\" fill-rule=\"evenodd\" fill-opacity=\"1\" stroke=\"#000000\" stroke-opacity=\"1\" stroke-width=\"3.2\"/>\n",
       "</svg>\n"
      ]
     },
     "metadata": {},
     "output_type": "display_data"
    }
   ],
   "source": [
    "n_objectives = 2\n",
    "function plot_pop(P)\n",
    "    scatter([i.y[1] for i in P], [i.y[2] for i in P], xlims=(0.0, 1.0), ylims=(0.0, 1.0), legend=:none)\n",
    "    ND = filter(indiv -> indiv.rank == 1, P)\n",
    "    scatter!([i.y[1] for i in ND], [i.y[2] for i in ND], legend=:none)\n",
    "end\n",
    "\n",
    "nsga_max(popsize, nbgen, objective, init, fCV=constraint, fplot=plot_pop, plotevery=1, showprogress=false);"
   ]
  },
  {
   "cell_type": "markdown",
   "metadata": {
    "slideshow": {
     "slide_type": "slide"
    }
   },
   "source": [
    "This type of visualization, plotting one objective function as X and another as Y, allows us to see the Pareto front for 2 dimensions easily. However, once we increase the number of objectives, this plot is much less useful as we'll always be constrained to looking at 2 dimensions, or at best 3."
   ]
  },
  {
   "cell_type": "markdown",
   "metadata": {
    "slideshow": {
     "slide_type": "fragment"
    }
   },
   "source": [
    "<div class=\"alert alert-success\">\n",
    "    <b>Exercise 3</b>\n",
    "    <br/>\n",
    "    Change the number of objectives to 3. Then use a <tt>scatter3d</tt> plot instead of a <tt>scatter</tt> plot to plot the evolution over 3 objectives.\n",
    "    <br/>\n",
    "    <ul>\n",
    "        <li>Can you still observe the Pareto front?</li>\n",
    "        <li>Can you identify non-dominated individuals easily</li>\n",
    "        <li>Do you see the performance for each objective</li>\n",
    "    </ul>\n",
    "    <br/>\n",
    "</div>"
   ]
  },
  {
   "cell_type": "code",
   "execution_count": 34,
   "metadata": {},
   "outputs": [
    {
     "data": {
      "image/svg+xml": [
       "<?xml version=\"1.0\" encoding=\"utf-8\"?>\n",
       "<svg xmlns=\"http://www.w3.org/2000/svg\" xmlns:xlink=\"http://www.w3.org/1999/xlink\" width=\"600\" height=\"400\" viewBox=\"0 0 2400 1600\">\n",
       "<defs>\n",
       "  <clipPath id=\"clip8700\">\n",
       "    <rect x=\"0\" y=\"0\" width=\"2400\" height=\"1600\"/>\n",
       "  </clipPath>\n",
       "</defs>\n",
       "<path clip-path=\"url(#clip8700)\" d=\"\n",
       "M0 1600 L2400 1600 L2400 0 L0 0  Z\n",
       "  \" fill=\"#ffffff\" fill-rule=\"evenodd\" fill-opacity=\"1\"/>\n",
       "<defs>\n",
       "  <clipPath id=\"clip8701\">\n",
       "    <rect x=\"480\" y=\"0\" width=\"1681\" height=\"1600\"/>\n",
       "  </clipPath>\n",
       "</defs>\n",
       "<defs>\n",
       "  <clipPath id=\"clip8702\">\n",
       "    <rect x=\"148\" y=\"47\" width=\"2205\" height=\"1440\"/>\n",
       "  </clipPath>\n",
       "</defs>\n",
       "<path clip-path=\"url(#clip8702)\" d=\"\n",
       "M148.334 1401.43 L148.334 302.298 L955.209 47.2441 L2352.76 132.262 L2352.76 1231.39 L1545.88 1486.45 L148.334 1401.43  Z\n",
       "  \" fill=\"#ffffff\" fill-rule=\"evenodd\" fill-opacity=\"1\"/>\n",
       "<polyline clip-path=\"url(#clip8702)\" style=\"stroke:#000000; stroke-width:2; stroke-opacity:0.1; fill:none\" points=\"\n",
       "  148.334,1401.43 955.209,1146.38 \n",
       "  \"/>\n",
       "<polyline clip-path=\"url(#clip8702)\" style=\"stroke:#000000; stroke-width:2; stroke-opacity:0.1; fill:none\" points=\"\n",
       "  955.209,1146.38 955.209,47.2441 \n",
       "  \"/>\n",
       "<polyline clip-path=\"url(#clip8702)\" style=\"stroke:#000000; stroke-width:2; stroke-opacity:0.1; fill:none\" points=\"\n",
       "  427.844,1418.43 1234.72,1163.38 \n",
       "  \"/>\n",
       "<polyline clip-path=\"url(#clip8702)\" style=\"stroke:#000000; stroke-width:2; stroke-opacity:0.1; fill:none\" points=\"\n",
       "  1234.72,1163.38 1234.72,64.2477 \n",
       "  \"/>\n",
       "<polyline clip-path=\"url(#clip8702)\" style=\"stroke:#000000; stroke-width:2; stroke-opacity:0.1; fill:none\" points=\"\n",
       "  707.353,1435.44 1514.23,1180.38 \n",
       "  \"/>\n",
       "<polyline clip-path=\"url(#clip8702)\" style=\"stroke:#000000; stroke-width:2; stroke-opacity:0.1; fill:none\" points=\"\n",
       "  1514.23,1180.38 1514.23,81.2513 \n",
       "  \"/>\n",
       "<polyline clip-path=\"url(#clip8702)\" style=\"stroke:#000000; stroke-width:2; stroke-opacity:0.1; fill:none\" points=\"\n",
       "  986.863,1452.44 1793.74,1197.39 \n",
       "  \"/>\n",
       "<polyline clip-path=\"url(#clip8702)\" style=\"stroke:#000000; stroke-width:2; stroke-opacity:0.1; fill:none\" points=\"\n",
       "  1793.74,1197.39 1793.74,98.255 \n",
       "  \"/>\n",
       "<polyline clip-path=\"url(#clip8702)\" style=\"stroke:#000000; stroke-width:2; stroke-opacity:0.1; fill:none\" points=\"\n",
       "  1266.37,1469.44 2073.25,1214.39 \n",
       "  \"/>\n",
       "<polyline clip-path=\"url(#clip8702)\" style=\"stroke:#000000; stroke-width:2; stroke-opacity:0.1; fill:none\" points=\"\n",
       "  2073.25,1214.39 2073.25,115.259 \n",
       "  \"/>\n",
       "<polyline clip-path=\"url(#clip8702)\" style=\"stroke:#000000; stroke-width:2; stroke-opacity:0.1; fill:none\" points=\"\n",
       "  1545.88,1486.45 2352.76,1231.39 \n",
       "  \"/>\n",
       "<polyline clip-path=\"url(#clip8702)\" style=\"stroke:#000000; stroke-width:2; stroke-opacity:0.1; fill:none\" points=\"\n",
       "  2352.76,1231.39 2352.76,132.262 \n",
       "  \"/>\n",
       "<polyline clip-path=\"url(#clip8702)\" style=\"stroke:#000000; stroke-width:2; stroke-opacity:0.1; fill:none\" points=\"\n",
       "  1545.88,1486.45 148.334,1401.43 \n",
       "  \"/>\n",
       "<polyline clip-path=\"url(#clip8702)\" style=\"stroke:#000000; stroke-width:2; stroke-opacity:0.1; fill:none\" points=\"\n",
       "  148.334,1401.43 148.334,302.298 \n",
       "  \"/>\n",
       "<polyline clip-path=\"url(#clip8702)\" style=\"stroke:#000000; stroke-width:2; stroke-opacity:0.1; fill:none\" points=\"\n",
       "  1707.26,1435.44 309.709,1350.42 \n",
       "  \"/>\n",
       "<polyline clip-path=\"url(#clip8702)\" style=\"stroke:#000000; stroke-width:2; stroke-opacity:0.1; fill:none\" points=\"\n",
       "  309.709,1350.42 309.709,251.288 \n",
       "  \"/>\n",
       "<polyline clip-path=\"url(#clip8702)\" style=\"stroke:#000000; stroke-width:2; stroke-opacity:0.1; fill:none\" points=\"\n",
       "  1868.63,1384.43 471.084,1299.41 \n",
       "  \"/>\n",
       "<polyline clip-path=\"url(#clip8702)\" style=\"stroke:#000000; stroke-width:2; stroke-opacity:0.1; fill:none\" points=\"\n",
       "  471.084,1299.41 471.084,200.277 \n",
       "  \"/>\n",
       "<polyline clip-path=\"url(#clip8702)\" style=\"stroke:#000000; stroke-width:2; stroke-opacity:0.1; fill:none\" points=\"\n",
       "  2030.01,1333.42 632.459,1248.4 \n",
       "  \"/>\n",
       "<polyline clip-path=\"url(#clip8702)\" style=\"stroke:#000000; stroke-width:2; stroke-opacity:0.1; fill:none\" points=\"\n",
       "  632.459,1248.4 632.459,149.266 \n",
       "  \"/>\n",
       "<polyline clip-path=\"url(#clip8702)\" style=\"stroke:#000000; stroke-width:2; stroke-opacity:0.1; fill:none\" points=\"\n",
       "  2191.38,1282.4 793.834,1197.39 \n",
       "  \"/>\n",
       "<polyline clip-path=\"url(#clip8702)\" style=\"stroke:#000000; stroke-width:2; stroke-opacity:0.1; fill:none\" points=\"\n",
       "  793.834,1197.39 793.834,98.255 \n",
       "  \"/>\n",
       "<polyline clip-path=\"url(#clip8702)\" style=\"stroke:#000000; stroke-width:2; stroke-opacity:0.1; fill:none\" points=\"\n",
       "  2352.76,1231.39 955.209,1146.38 \n",
       "  \"/>\n",
       "<polyline clip-path=\"url(#clip8702)\" style=\"stroke:#000000; stroke-width:2; stroke-opacity:0.1; fill:none\" points=\"\n",
       "  955.209,1146.38 955.209,47.2441 \n",
       "  \"/>\n",
       "<polyline clip-path=\"url(#clip8702)\" style=\"stroke:#000000; stroke-width:2; stroke-opacity:0.1; fill:none\" points=\"\n",
       "  148.334,1401.43 955.209,1146.38 \n",
       "  \"/>\n",
       "<polyline clip-path=\"url(#clip8702)\" style=\"stroke:#000000; stroke-width:2; stroke-opacity:0.1; fill:none\" points=\"\n",
       "  955.209,1146.38 2352.76,1231.39 \n",
       "  \"/>\n",
       "<polyline clip-path=\"url(#clip8702)\" style=\"stroke:#000000; stroke-width:2; stroke-opacity:0.1; fill:none\" points=\"\n",
       "  148.334,1181.6 955.209,926.549 \n",
       "  \"/>\n",
       "<polyline clip-path=\"url(#clip8702)\" style=\"stroke:#000000; stroke-width:2; stroke-opacity:0.1; fill:none\" points=\"\n",
       "  955.209,926.549 2352.76,1011.57 \n",
       "  \"/>\n",
       "<polyline clip-path=\"url(#clip8702)\" style=\"stroke:#000000; stroke-width:2; stroke-opacity:0.1; fill:none\" points=\"\n",
       "  148.334,961.777 955.209,706.723 \n",
       "  \"/>\n",
       "<polyline clip-path=\"url(#clip8702)\" style=\"stroke:#000000; stroke-width:2; stroke-opacity:0.1; fill:none\" points=\"\n",
       "  955.209,706.723 2352.76,791.741 \n",
       "  \"/>\n",
       "<polyline clip-path=\"url(#clip8702)\" style=\"stroke:#000000; stroke-width:2; stroke-opacity:0.1; fill:none\" points=\"\n",
       "  148.334,741.951 955.209,486.897 \n",
       "  \"/>\n",
       "<polyline clip-path=\"url(#clip8702)\" style=\"stroke:#000000; stroke-width:2; stroke-opacity:0.1; fill:none\" points=\"\n",
       "  955.209,486.897 2352.76,571.915 \n",
       "  \"/>\n",
       "<polyline clip-path=\"url(#clip8702)\" style=\"stroke:#000000; stroke-width:2; stroke-opacity:0.1; fill:none\" points=\"\n",
       "  148.334,522.125 955.209,267.07 \n",
       "  \"/>\n",
       "<polyline clip-path=\"url(#clip8702)\" style=\"stroke:#000000; stroke-width:2; stroke-opacity:0.1; fill:none\" points=\"\n",
       "  955.209,267.07 2352.76,352.088 \n",
       "  \"/>\n",
       "<polyline clip-path=\"url(#clip8702)\" style=\"stroke:#000000; stroke-width:2; stroke-opacity:0.1; fill:none\" points=\"\n",
       "  148.334,302.298 955.209,47.2441 \n",
       "  \"/>\n",
       "<polyline clip-path=\"url(#clip8702)\" style=\"stroke:#000000; stroke-width:2; stroke-opacity:0.1; fill:none\" points=\"\n",
       "  955.209,47.2441 2352.76,132.262 \n",
       "  \"/>\n",
       "<polyline clip-path=\"url(#clip8700)\" style=\"stroke:#000000; stroke-width:4; stroke-opacity:1; fill:none\" points=\"\n",
       "  148.334,1401.43 1545.88,1486.45 \n",
       "  \"/>\n",
       "<polyline clip-path=\"url(#clip8700)\" style=\"stroke:#000000; stroke-width:4; stroke-opacity:1; fill:none\" points=\"\n",
       "  1545.88,1486.45 2352.76,1231.39 \n",
       "  \"/>\n",
       "<polyline clip-path=\"url(#clip8700)\" style=\"stroke:#000000; stroke-width:4; stroke-opacity:1; fill:none\" points=\"\n",
       "  148.334,1401.43 148.334,302.298 \n",
       "  \"/>\n",
       "<polyline clip-path=\"url(#clip8700)\" style=\"stroke:#000000; stroke-width:4; stroke-opacity:1; fill:none\" points=\"\n",
       "  148.334,1401.43 158.017,1398.37 \n",
       "  \"/>\n",
       "<polyline clip-path=\"url(#clip8700)\" style=\"stroke:#000000; stroke-width:4; stroke-opacity:1; fill:none\" points=\"\n",
       "  427.844,1418.43 437.526,1415.37 \n",
       "  \"/>\n",
       "<polyline clip-path=\"url(#clip8700)\" style=\"stroke:#000000; stroke-width:4; stroke-opacity:1; fill:none\" points=\"\n",
       "  707.353,1435.44 717.036,1432.38 \n",
       "  \"/>\n",
       "<polyline clip-path=\"url(#clip8700)\" style=\"stroke:#000000; stroke-width:4; stroke-opacity:1; fill:none\" points=\"\n",
       "  986.863,1452.44 996.545,1449.38 \n",
       "  \"/>\n",
       "<polyline clip-path=\"url(#clip8700)\" style=\"stroke:#000000; stroke-width:4; stroke-opacity:1; fill:none\" points=\"\n",
       "  1266.37,1469.44 1276.05,1466.38 \n",
       "  \"/>\n",
       "<polyline clip-path=\"url(#clip8700)\" style=\"stroke:#000000; stroke-width:4; stroke-opacity:1; fill:none\" points=\"\n",
       "  1545.88,1486.45 1555.56,1483.39 \n",
       "  \"/>\n",
       "<polyline clip-path=\"url(#clip8700)\" style=\"stroke:#000000; stroke-width:4; stroke-opacity:1; fill:none\" points=\"\n",
       "  1545.88,1486.45 1529.11,1485.43 \n",
       "  \"/>\n",
       "<polyline clip-path=\"url(#clip8700)\" style=\"stroke:#000000; stroke-width:4; stroke-opacity:1; fill:none\" points=\"\n",
       "  1707.26,1435.44 1690.49,1434.42 \n",
       "  \"/>\n",
       "<polyline clip-path=\"url(#clip8700)\" style=\"stroke:#000000; stroke-width:4; stroke-opacity:1; fill:none\" points=\"\n",
       "  1868.63,1384.43 1851.86,1383.41 \n",
       "  \"/>\n",
       "<polyline clip-path=\"url(#clip8700)\" style=\"stroke:#000000; stroke-width:4; stroke-opacity:1; fill:none\" points=\"\n",
       "  2030.01,1333.42 2013.24,1332.4 \n",
       "  \"/>\n",
       "<polyline clip-path=\"url(#clip8700)\" style=\"stroke:#000000; stroke-width:4; stroke-opacity:1; fill:none\" points=\"\n",
       "  2191.38,1282.4 2174.61,1281.38 \n",
       "  \"/>\n",
       "<polyline clip-path=\"url(#clip8700)\" style=\"stroke:#000000; stroke-width:4; stroke-opacity:1; fill:none\" points=\"\n",
       "  2352.76,1231.39 2335.99,1230.37 \n",
       "  \"/>\n",
       "<polyline clip-path=\"url(#clip8700)\" style=\"stroke:#000000; stroke-width:4; stroke-opacity:1; fill:none\" points=\"\n",
       "  148.334,1401.43 158.017,1398.37 \n",
       "  \"/>\n",
       "<polyline clip-path=\"url(#clip8700)\" style=\"stroke:#000000; stroke-width:4; stroke-opacity:1; fill:none\" points=\"\n",
       "  148.334,1181.6 158.017,1178.54 \n",
       "  \"/>\n",
       "<polyline clip-path=\"url(#clip8700)\" style=\"stroke:#000000; stroke-width:4; stroke-opacity:1; fill:none\" points=\"\n",
       "  148.334,961.777 158.017,958.717 \n",
       "  \"/>\n",
       "<polyline clip-path=\"url(#clip8700)\" style=\"stroke:#000000; stroke-width:4; stroke-opacity:1; fill:none\" points=\"\n",
       "  148.334,741.951 158.017,738.89 \n",
       "  \"/>\n",
       "<polyline clip-path=\"url(#clip8700)\" style=\"stroke:#000000; stroke-width:4; stroke-opacity:1; fill:none\" points=\"\n",
       "  148.334,522.125 158.017,519.064 \n",
       "  \"/>\n",
       "<polyline clip-path=\"url(#clip8700)\" style=\"stroke:#000000; stroke-width:4; stroke-opacity:1; fill:none\" points=\"\n",
       "  148.334,302.298 158.017,299.238 \n",
       "  \"/>\n",
       "<path clip-path=\"url(#clip8700)\" d=\"M 0 0 M105.851 1423.42 Q102.24 1423.42 100.411 1426.99 Q98.6054 1430.53 98.6054 1437.66 Q98.6054 1444.76 100.411 1448.33 Q102.24 1451.87 105.851 1451.87 Q109.485 1451.87 111.29 1448.33 Q113.119 1444.76 113.119 1437.66 Q113.119 1430.53 111.29 1426.99 Q109.485 1423.42 105.851 1423.42 M105.851 1419.72 Q111.661 1419.72 114.716 1424.32 Q117.795 1428.91 117.795 1437.66 Q117.795 1446.38 114.716 1450.99 Q111.661 1455.57 105.851 1455.57 Q100.041 1455.57 96.9619 1450.99 Q93.9063 1446.38 93.9063 1437.66 Q93.9063 1428.91 96.9619 1424.32 Q100.041 1419.72 105.851 1419.72 Z\" fill=\"#000000\" fill-rule=\"evenodd\" fill-opacity=\"1\" /><path clip-path=\"url(#clip8700)\" d=\"M 0 0 M122.864 1449.02 L127.749 1449.02 L127.749 1454.9 L122.864 1454.9 L122.864 1449.02 Z\" fill=\"#000000\" fill-rule=\"evenodd\" fill-opacity=\"1\" /><path clip-path=\"url(#clip8700)\" d=\"M 0 0 M142.818 1423.42 Q139.207 1423.42 137.378 1426.99 Q135.573 1430.53 135.573 1437.66 Q135.573 1444.76 137.378 1448.33 Q139.207 1451.87 142.818 1451.87 Q146.452 1451.87 148.258 1448.33 Q150.087 1444.76 150.087 1437.66 Q150.087 1430.53 148.258 1426.99 Q146.452 1423.42 142.818 1423.42 M142.818 1419.72 Q148.628 1419.72 151.684 1424.32 Q154.762 1428.91 154.762 1437.66 Q154.762 1446.38 151.684 1450.99 Q148.628 1455.57 142.818 1455.57 Q137.008 1455.57 133.929 1450.99 Q130.874 1446.38 130.874 1437.66 Q130.874 1428.91 133.929 1424.32 Q137.008 1419.72 142.818 1419.72 Z\" fill=\"#000000\" fill-rule=\"evenodd\" fill-opacity=\"1\" /><path clip-path=\"url(#clip8700)\" d=\"M 0 0 M386.159 1440.42 Q382.548 1440.42 380.719 1443.99 Q378.913 1447.53 378.913 1454.66 Q378.913 1461.77 380.719 1465.33 Q382.548 1468.87 386.159 1468.87 Q389.793 1468.87 391.599 1465.33 Q393.427 1461.77 393.427 1454.66 Q393.427 1447.53 391.599 1443.99 Q389.793 1440.42 386.159 1440.42 M386.159 1436.72 Q391.969 1436.72 395.024 1441.33 Q398.103 1445.91 398.103 1454.66 Q398.103 1463.39 395.024 1467.99 Q391.969 1472.58 386.159 1472.58 Q380.349 1472.58 377.27 1467.99 Q374.214 1463.39 374.214 1454.66 Q374.214 1445.91 377.27 1441.33 Q380.349 1436.72 386.159 1436.72 Z\" fill=\"#000000\" fill-rule=\"evenodd\" fill-opacity=\"1\" /><path clip-path=\"url(#clip8700)\" d=\"M 0 0 M403.173 1466.03 L408.057 1466.03 L408.057 1471.91 L403.173 1471.91 L403.173 1466.03 Z\" fill=\"#000000\" fill-rule=\"evenodd\" fill-opacity=\"1\" /><path clip-path=\"url(#clip8700)\" d=\"M 0 0 M417.154 1467.97 L433.473 1467.97 L433.473 1471.91 L411.529 1471.91 L411.529 1467.97 Q414.191 1465.22 418.774 1460.59 Q423.381 1455.93 424.561 1454.59 Q426.807 1452.07 427.686 1450.33 Q428.589 1448.57 428.589 1446.88 Q428.589 1444.13 426.645 1442.39 Q424.723 1440.66 421.622 1440.66 Q419.422 1440.66 416.969 1441.42 Q414.538 1442.18 411.76 1443.73 L411.76 1439.01 Q414.585 1437.88 417.038 1437.3 Q419.492 1436.72 421.529 1436.72 Q426.899 1436.72 430.094 1439.41 Q433.288 1442.09 433.288 1446.58 Q433.288 1448.71 432.478 1450.63 Q431.691 1452.53 429.584 1455.12 Q429.006 1455.79 425.904 1459.01 Q422.802 1462.21 417.154 1467.97 Z\" fill=\"#000000\" fill-rule=\"evenodd\" fill-opacity=\"1\" /><path clip-path=\"url(#clip8700)\" d=\"M 0 0 M664.627 1457.43 Q661.015 1457.43 659.187 1460.99 Q657.381 1464.53 657.381 1471.66 Q657.381 1478.77 659.187 1482.33 Q661.015 1485.88 664.627 1485.88 Q668.261 1485.88 670.066 1482.33 Q671.895 1478.77 671.895 1471.66 Q671.895 1464.53 670.066 1460.99 Q668.261 1457.43 664.627 1457.43 M664.627 1453.72 Q670.437 1453.72 673.492 1458.33 Q676.571 1462.91 676.571 1471.66 Q676.571 1480.39 673.492 1485 Q670.437 1489.58 664.627 1489.58 Q658.816 1489.58 655.738 1485 Q652.682 1480.39 652.682 1471.66 Q652.682 1462.91 655.738 1458.33 Q658.816 1453.72 664.627 1453.72 Z\" fill=\"#000000\" fill-rule=\"evenodd\" fill-opacity=\"1\" /><path clip-path=\"url(#clip8700)\" d=\"M 0 0 M681.64 1483.03 L686.525 1483.03 L686.525 1488.91 L681.64 1488.91 L681.64 1483.03 Z\" fill=\"#000000\" fill-rule=\"evenodd\" fill-opacity=\"1\" /><path clip-path=\"url(#clip8700)\" d=\"M 0 0 M704.441 1458.42 L692.636 1476.87 L704.441 1476.87 L704.441 1458.42 M703.214 1454.35 L709.094 1454.35 L709.094 1476.87 L714.024 1476.87 L714.024 1480.76 L709.094 1480.76 L709.094 1488.91 L704.441 1488.91 L704.441 1480.76 L688.839 1480.76 L688.839 1476.25 L703.214 1454.35 Z\" fill=\"#000000\" fill-rule=\"evenodd\" fill-opacity=\"1\" /><path clip-path=\"url(#clip8700)\" d=\"M 0 0 M944.298 1474.43 Q940.687 1474.43 938.858 1478 Q937.053 1481.54 937.053 1488.67 Q937.053 1495.77 938.858 1499.34 Q940.687 1502.88 944.298 1502.88 Q947.932 1502.88 949.738 1499.34 Q951.566 1495.77 951.566 1488.67 Q951.566 1481.54 949.738 1478 Q947.932 1474.43 944.298 1474.43 M944.298 1470.73 Q950.108 1470.73 953.164 1475.33 Q956.242 1479.92 956.242 1488.67 Q956.242 1497.39 953.164 1502 Q950.108 1506.58 944.298 1506.58 Q938.488 1506.58 935.409 1502 Q932.354 1497.39 932.354 1488.67 Q932.354 1479.92 935.409 1475.33 Q938.488 1470.73 944.298 1470.73 Z\" fill=\"#000000\" fill-rule=\"evenodd\" fill-opacity=\"1\" /><path clip-path=\"url(#clip8700)\" d=\"M 0 0 M961.312 1500.03 L966.196 1500.03 L966.196 1505.91 L961.312 1505.91 L961.312 1500.03 Z\" fill=\"#000000\" fill-rule=\"evenodd\" fill-opacity=\"1\" /><path clip-path=\"url(#clip8700)\" d=\"M 0 0 M981.844 1486.77 Q978.696 1486.77 976.844 1488.92 Q975.015 1491.07 975.015 1494.82 Q975.015 1498.55 976.844 1500.73 Q978.696 1502.88 981.844 1502.88 Q984.992 1502.88 986.821 1500.73 Q988.673 1498.55 988.673 1494.82 Q988.673 1491.07 986.821 1488.92 Q984.992 1486.77 981.844 1486.77 M991.126 1472.12 L991.126 1476.38 Q989.367 1475.54 987.562 1475.1 Q985.779 1474.66 984.02 1474.66 Q979.39 1474.66 976.937 1477.79 Q974.506 1480.91 974.159 1487.23 Q975.525 1485.22 977.585 1484.15 Q979.645 1483.07 982.122 1483.07 Q987.33 1483.07 990.339 1486.24 Q993.372 1489.38 993.372 1494.82 Q993.372 1500.15 990.224 1503.37 Q987.076 1506.58 981.844 1506.58 Q975.849 1506.58 972.677 1502 Q969.506 1497.39 969.506 1488.67 Q969.506 1480.47 973.395 1475.61 Q977.284 1470.73 983.835 1470.73 Q985.594 1470.73 987.376 1471.07 Q989.182 1471.42 991.126 1472.12 Z\" fill=\"#000000\" fill-rule=\"evenodd\" fill-opacity=\"1\" /><path clip-path=\"url(#clip8700)\" d=\"M 0 0 M1223.93 1491.43 Q1220.32 1491.43 1218.49 1495 Q1216.69 1498.54 1216.69 1505.67 Q1216.69 1512.78 1218.49 1516.34 Q1220.32 1519.88 1223.93 1519.88 Q1227.57 1519.88 1229.37 1516.34 Q1231.2 1512.78 1231.2 1505.67 Q1231.2 1498.54 1229.37 1495 Q1227.57 1491.43 1223.93 1491.43 M1223.93 1487.73 Q1229.74 1487.73 1232.8 1492.34 Q1235.88 1496.92 1235.88 1505.67 Q1235.88 1514.4 1232.8 1519 Q1229.74 1523.59 1223.93 1523.59 Q1218.12 1523.59 1215.05 1519 Q1211.99 1514.4 1211.99 1505.67 Q1211.99 1496.92 1215.05 1492.34 Q1218.12 1487.73 1223.93 1487.73 Z\" fill=\"#000000\" fill-rule=\"evenodd\" fill-opacity=\"1\" /><path clip-path=\"url(#clip8700)\" d=\"M 0 0 M1240.95 1517.04 L1245.83 1517.04 L1245.83 1522.92 L1240.95 1522.92 L1240.95 1517.04 Z\" fill=\"#000000\" fill-rule=\"evenodd\" fill-opacity=\"1\" /><path clip-path=\"url(#clip8700)\" d=\"M 0 0 M1260.9 1506.5 Q1257.57 1506.5 1255.65 1508.29 Q1253.75 1510.07 1253.75 1513.19 Q1253.75 1516.32 1255.65 1518.1 Q1257.57 1519.88 1260.9 1519.88 Q1264.24 1519.88 1266.16 1518.1 Q1268.08 1516.3 1268.08 1513.19 Q1268.08 1510.07 1266.16 1508.29 Q1264.26 1506.5 1260.9 1506.5 M1256.23 1504.51 Q1253.22 1503.77 1251.53 1501.71 Q1249.86 1499.65 1249.86 1496.69 Q1249.86 1492.55 1252.8 1490.14 Q1255.76 1487.73 1260.9 1487.73 Q1266.06 1487.73 1269 1490.14 Q1271.94 1492.55 1271.94 1496.69 Q1271.94 1499.65 1270.25 1501.71 Q1268.59 1503.77 1265.6 1504.51 Q1268.98 1505.3 1270.86 1507.59 Q1272.75 1509.88 1272.75 1513.19 Q1272.75 1518.22 1269.68 1520.9 Q1266.62 1523.59 1260.9 1523.59 Q1255.18 1523.59 1252.11 1520.9 Q1249.05 1518.22 1249.05 1513.19 Q1249.05 1509.88 1250.95 1507.59 Q1252.85 1505.3 1256.23 1504.51 M1254.51 1497.13 Q1254.51 1499.81 1256.18 1501.32 Q1257.87 1502.82 1260.9 1502.82 Q1263.91 1502.82 1265.6 1501.32 Q1267.31 1499.81 1267.31 1497.13 Q1267.31 1494.44 1265.6 1492.94 Q1263.91 1491.43 1260.9 1491.43 Q1257.87 1491.43 1256.18 1492.94 Q1254.51 1494.44 1254.51 1497.13 Z\" fill=\"#000000\" fill-rule=\"evenodd\" fill-opacity=\"1\" /><path clip-path=\"url(#clip8700)\" d=\"M 0 0 M1493.78 1535.98 L1501.42 1535.98 L1501.42 1509.62 L1493.11 1511.29 L1493.11 1507.03 L1501.37 1505.36 L1506.05 1505.36 L1506.05 1535.98 L1513.69 1535.98 L1513.69 1539.92 L1493.78 1539.92 L1493.78 1535.98 Z\" fill=\"#000000\" fill-rule=\"evenodd\" fill-opacity=\"1\" /><path clip-path=\"url(#clip8700)\" d=\"M 0 0 M1518.76 1534.04 L1523.64 1534.04 L1523.64 1539.92 L1518.76 1539.92 L1518.76 1534.04 Z\" fill=\"#000000\" fill-rule=\"evenodd\" fill-opacity=\"1\" /><path clip-path=\"url(#clip8700)\" d=\"M 0 0 M1538.71 1508.44 Q1535.1 1508.44 1533.27 1512 Q1531.46 1515.55 1531.46 1522.67 Q1531.46 1529.78 1533.27 1533.35 Q1535.1 1536.89 1538.71 1536.89 Q1542.34 1536.89 1544.15 1533.35 Q1545.98 1529.78 1545.98 1522.67 Q1545.98 1515.55 1544.15 1512 Q1542.34 1508.44 1538.71 1508.44 M1538.71 1504.73 Q1544.52 1504.73 1547.58 1509.34 Q1550.65 1513.92 1550.65 1522.67 Q1550.65 1531.4 1547.58 1536.01 Q1544.52 1540.59 1538.71 1540.59 Q1532.9 1540.59 1529.82 1536.01 Q1526.77 1531.4 1526.77 1522.67 Q1526.77 1513.92 1529.82 1509.34 Q1532.9 1504.73 1538.71 1504.73 Z\" fill=\"#000000\" fill-rule=\"evenodd\" fill-opacity=\"1\" /><path clip-path=\"url(#clip8700)\" d=\"M 0 0 M1551.4 1508.44 Q1547.79 1508.44 1545.96 1512 Q1544.15 1515.55 1544.15 1522.67 Q1544.15 1529.78 1545.96 1533.35 Q1547.79 1536.89 1551.4 1536.89 Q1555.03 1536.89 1556.84 1533.35 Q1558.67 1529.78 1558.67 1522.67 Q1558.67 1515.55 1556.84 1512 Q1555.03 1508.44 1551.4 1508.44 M1551.4 1504.73 Q1557.21 1504.73 1560.26 1509.34 Q1563.34 1513.92 1563.34 1522.67 Q1563.34 1531.4 1560.26 1536.01 Q1557.21 1540.59 1551.4 1540.59 Q1545.59 1540.59 1542.51 1536.01 Q1539.45 1531.4 1539.45 1522.67 Q1539.45 1513.92 1542.51 1509.34 Q1545.59 1504.73 1551.4 1504.73 Z\" fill=\"#000000\" fill-rule=\"evenodd\" fill-opacity=\"1\" /><path clip-path=\"url(#clip8700)\" d=\"M 0 0 M1568.41 1534.04 L1573.3 1534.04 L1573.3 1539.92 L1568.41 1539.92 L1568.41 1534.04 Z\" fill=\"#000000\" fill-rule=\"evenodd\" fill-opacity=\"1\" /><path clip-path=\"url(#clip8700)\" d=\"M 0 0 M1588.37 1508.44 Q1584.75 1508.44 1582.93 1512 Q1581.12 1515.55 1581.12 1522.67 Q1581.12 1529.78 1582.93 1533.35 Q1584.75 1536.89 1588.37 1536.89 Q1592 1536.89 1593.81 1533.35 Q1595.63 1529.78 1595.63 1522.67 Q1595.63 1515.55 1593.81 1512 Q1592 1508.44 1588.37 1508.44 M1588.37 1504.73 Q1594.18 1504.73 1597.23 1509.34 Q1600.31 1513.92 1600.31 1522.67 Q1600.31 1531.4 1597.23 1536.01 Q1594.18 1540.59 1588.37 1540.59 Q1582.56 1540.59 1579.48 1536.01 Q1576.42 1531.4 1576.42 1522.67 Q1576.42 1513.92 1579.48 1509.34 Q1582.56 1504.73 1588.37 1504.73 Z\" fill=\"#000000\" fill-rule=\"evenodd\" fill-opacity=\"1\" /><path clip-path=\"url(#clip8700)\" d=\"M 0 0 M1713.57 1457.43 Q1709.96 1457.43 1708.13 1460.99 Q1706.33 1464.53 1706.33 1471.66 Q1706.33 1478.77 1708.13 1482.33 Q1709.96 1485.88 1713.57 1485.88 Q1717.21 1485.88 1719.01 1482.33 Q1720.84 1478.77 1720.84 1471.66 Q1720.84 1464.53 1719.01 1460.99 Q1717.21 1457.43 1713.57 1457.43 M1713.57 1453.72 Q1719.38 1453.72 1722.44 1458.33 Q1725.52 1462.91 1725.52 1471.66 Q1725.52 1480.39 1722.44 1485 Q1719.38 1489.58 1713.57 1489.58 Q1707.76 1489.58 1704.68 1485 Q1701.63 1480.39 1701.63 1471.66 Q1701.63 1462.91 1704.68 1458.33 Q1707.76 1453.72 1713.57 1453.72 Z\" fill=\"#000000\" fill-rule=\"evenodd\" fill-opacity=\"1\" /><path clip-path=\"url(#clip8700)\" d=\"M 0 0 M1730.59 1483.03 L1735.47 1483.03 L1735.47 1488.91 L1730.59 1488.91 L1730.59 1483.03 Z\" fill=\"#000000\" fill-rule=\"evenodd\" fill-opacity=\"1\" /><path clip-path=\"url(#clip8700)\" d=\"M 0 0 M1744.57 1484.97 L1760.89 1484.97 L1760.89 1488.91 L1738.94 1488.91 L1738.94 1484.97 Q1741.6 1482.22 1746.19 1477.59 Q1750.79 1472.94 1751.97 1471.59 Q1754.22 1469.07 1755.1 1467.34 Q1756 1465.58 1756 1463.89 Q1756 1461.13 1754.06 1459.4 Q1752.14 1457.66 1749.03 1457.66 Q1746.84 1457.66 1744.38 1458.42 Q1741.95 1459.19 1739.17 1460.74 L1739.17 1456.02 Q1742 1454.88 1744.45 1454.3 Q1746.9 1453.72 1748.94 1453.72 Q1754.31 1453.72 1757.51 1456.41 Q1760.7 1459.09 1760.7 1463.59 Q1760.7 1465.71 1759.89 1467.64 Q1759.1 1469.53 1757 1472.13 Q1756.42 1472.8 1753.32 1476.02 Q1750.21 1479.21 1744.57 1484.97 Z\" fill=\"#000000\" fill-rule=\"evenodd\" fill-opacity=\"1\" /><path clip-path=\"url(#clip8700)\" d=\"M 0 0 M1873.9 1406.42 Q1870.29 1406.42 1868.46 1409.98 Q1866.66 1413.52 1866.66 1420.65 Q1866.66 1427.76 1868.46 1431.32 Q1870.29 1434.87 1873.9 1434.87 Q1877.54 1434.87 1879.34 1431.32 Q1881.17 1427.76 1881.17 1420.65 Q1881.17 1413.52 1879.34 1409.98 Q1877.54 1406.42 1873.9 1406.42 M1873.9 1402.71 Q1879.71 1402.71 1882.77 1407.32 Q1885.85 1411.9 1885.85 1420.65 Q1885.85 1429.38 1882.77 1433.99 Q1879.71 1438.57 1873.9 1438.57 Q1868.09 1438.57 1865.02 1433.99 Q1861.96 1429.38 1861.96 1420.65 Q1861.96 1411.9 1865.02 1407.32 Q1868.09 1402.71 1873.9 1402.71 Z\" fill=\"#000000\" fill-rule=\"evenodd\" fill-opacity=\"1\" /><path clip-path=\"url(#clip8700)\" d=\"M 0 0 M1890.92 1432.02 L1895.8 1432.02 L1895.8 1437.9 L1890.92 1437.9 L1890.92 1432.02 Z\" fill=\"#000000\" fill-rule=\"evenodd\" fill-opacity=\"1\" /><path clip-path=\"url(#clip8700)\" d=\"M 0 0 M1913.72 1407.41 L1901.91 1425.86 L1913.72 1425.86 L1913.72 1407.41 M1912.49 1403.34 L1918.37 1403.34 L1918.37 1425.86 L1923.3 1425.86 L1923.3 1429.75 L1918.37 1429.75 L1918.37 1437.9 L1913.72 1437.9 L1913.72 1429.75 L1898.12 1429.75 L1898.12 1425.24 L1912.49 1403.34 Z\" fill=\"#000000\" fill-rule=\"evenodd\" fill-opacity=\"1\" /><path clip-path=\"url(#clip8700)\" d=\"M 0 0 M2035.44 1355.41 Q2031.83 1355.41 2030 1358.97 Q2028.2 1362.51 2028.2 1369.64 Q2028.2 1376.75 2030 1380.31 Q2031.83 1383.85 2035.44 1383.85 Q2039.08 1383.85 2040.88 1380.31 Q2042.71 1376.75 2042.71 1369.64 Q2042.71 1362.51 2040.88 1358.97 Q2039.08 1355.41 2035.44 1355.41 M2035.44 1351.7 Q2041.25 1351.7 2044.31 1356.31 Q2047.39 1360.89 2047.39 1369.64 Q2047.39 1378.37 2044.31 1382.98 Q2041.25 1387.56 2035.44 1387.56 Q2029.63 1387.56 2026.55 1382.98 Q2023.5 1378.37 2023.5 1369.64 Q2023.5 1360.89 2026.55 1356.31 Q2029.63 1351.7 2035.44 1351.7 Z\" fill=\"#000000\" fill-rule=\"evenodd\" fill-opacity=\"1\" /><path clip-path=\"url(#clip8700)\" d=\"M 0 0 M2052.46 1381.01 L2057.34 1381.01 L2057.34 1386.89 L2052.46 1386.89 L2052.46 1381.01 Z\" fill=\"#000000\" fill-rule=\"evenodd\" fill-opacity=\"1\" /><path clip-path=\"url(#clip8700)\" d=\"M 0 0 M2072.99 1367.74 Q2069.84 1367.74 2067.99 1369.9 Q2066.16 1372.05 2066.16 1375.8 Q2066.16 1379.53 2067.99 1381.7 Q2069.84 1383.85 2072.99 1383.85 Q2076.14 1383.85 2077.96 1381.7 Q2079.82 1379.53 2079.82 1375.8 Q2079.82 1372.05 2077.96 1369.9 Q2076.14 1367.74 2072.99 1367.74 M2082.27 1353.09 L2082.27 1357.35 Q2080.51 1356.52 2078.71 1356.08 Q2076.92 1355.64 2075.16 1355.64 Q2070.53 1355.64 2068.08 1358.76 Q2065.65 1361.89 2065.3 1368.21 Q2066.67 1366.19 2068.73 1365.13 Q2070.79 1364.04 2073.27 1364.04 Q2078.47 1364.04 2081.48 1367.21 Q2084.52 1370.36 2084.52 1375.8 Q2084.52 1381.12 2081.37 1384.34 Q2078.22 1387.56 2072.99 1387.56 Q2066.99 1387.56 2063.82 1382.98 Q2060.65 1378.37 2060.65 1369.64 Q2060.65 1361.45 2064.54 1356.59 Q2068.43 1351.7 2074.98 1351.7 Q2076.74 1351.7 2078.52 1352.05 Q2080.33 1352.4 2082.27 1353.09 Z\" fill=\"#000000\" fill-rule=\"evenodd\" fill-opacity=\"1\" /><path clip-path=\"url(#clip8700)\" d=\"M 0 0 M2196.94 1304.4 Q2193.33 1304.4 2191.5 1307.96 Q2189.7 1311.5 2189.7 1318.63 Q2189.7 1325.74 2191.5 1329.3 Q2193.33 1332.84 2196.94 1332.84 Q2200.58 1332.84 2202.38 1329.3 Q2204.21 1325.74 2204.21 1318.63 Q2204.21 1311.5 2202.38 1307.96 Q2200.58 1304.4 2196.94 1304.4 M2196.94 1300.69 Q2202.75 1300.69 2205.81 1305.3 Q2208.89 1309.88 2208.89 1318.63 Q2208.89 1327.36 2205.81 1331.96 Q2202.75 1336.55 2196.94 1336.55 Q2191.13 1336.55 2188.05 1331.96 Q2185 1327.36 2185 1318.63 Q2185 1309.88 2188.05 1305.3 Q2191.13 1300.69 2196.94 1300.69 Z\" fill=\"#000000\" fill-rule=\"evenodd\" fill-opacity=\"1\" /><path clip-path=\"url(#clip8700)\" d=\"M 0 0 M2213.96 1330 L2218.84 1330 L2218.84 1335.88 L2213.96 1335.88 L2213.96 1330 Z\" fill=\"#000000\" fill-rule=\"evenodd\" fill-opacity=\"1\" /><path clip-path=\"url(#clip8700)\" d=\"M 0 0 M2233.91 1319.46 Q2230.58 1319.46 2228.66 1321.25 Q2226.76 1323.03 2226.76 1326.15 Q2226.76 1329.28 2228.66 1331.06 Q2230.58 1332.84 2233.91 1332.84 Q2237.24 1332.84 2239.17 1331.06 Q2241.09 1329.26 2241.09 1326.15 Q2241.09 1323.03 2239.17 1321.25 Q2237.27 1319.46 2233.91 1319.46 M2229.24 1317.47 Q2226.23 1316.73 2224.54 1314.67 Q2222.87 1312.61 2222.87 1309.65 Q2222.87 1305.51 2225.81 1303.1 Q2228.77 1300.69 2233.91 1300.69 Q2239.07 1300.69 2242.01 1303.1 Q2244.95 1305.51 2244.95 1309.65 Q2244.95 1312.61 2243.26 1314.67 Q2241.6 1316.73 2238.61 1317.47 Q2241.99 1318.26 2243.86 1320.55 Q2245.76 1322.84 2245.76 1326.15 Q2245.76 1331.18 2242.68 1333.86 Q2239.63 1336.55 2233.91 1336.55 Q2228.19 1336.55 2225.11 1333.86 Q2222.06 1331.18 2222.06 1326.15 Q2222.06 1322.84 2223.96 1320.55 Q2225.86 1318.26 2229.24 1317.47 M2227.52 1310.09 Q2227.52 1312.77 2229.19 1314.28 Q2230.88 1315.78 2233.91 1315.78 Q2236.92 1315.78 2238.61 1314.28 Q2240.32 1312.77 2240.32 1310.09 Q2240.32 1307.4 2238.61 1305.9 Q2236.92 1304.4 2233.91 1304.4 Q2230.88 1304.4 2229.19 1305.9 Q2227.52 1307.4 2227.52 1310.09 Z\" fill=\"#000000\" fill-rule=\"evenodd\" fill-opacity=\"1\" /><path clip-path=\"url(#clip8700)\" d=\"M 0 0 M2348.65 1280.93 L2356.29 1280.93 L2356.29 1254.56 L2347.98 1256.23 L2347.98 1251.97 L2356.25 1250.31 L2360.92 1250.31 L2360.92 1280.93 L2368.56 1280.93 L2368.56 1284.87 L2348.65 1284.87 L2348.65 1280.93 Z\" fill=\"#000000\" fill-rule=\"evenodd\" fill-opacity=\"1\" /><path clip-path=\"url(#clip8700)\" d=\"M 0 0 M2373.63 1278.99 L2378.52 1278.99 L2378.52 1284.87 L2373.63 1284.87 L2373.63 1278.99 Z\" fill=\"#000000\" fill-rule=\"evenodd\" fill-opacity=\"1\" /><path clip-path=\"url(#clip8700)\" d=\"M 0 0 M2393.58 1253.38 Q2389.97 1253.38 2388.14 1256.95 Q2386.34 1260.49 2386.34 1267.62 Q2386.34 1274.73 2388.14 1278.29 Q2389.97 1281.83 2393.58 1281.83 Q2397.22 1281.83 2399.02 1278.29 Q2400.85 1274.73 2400.85 1267.62 Q2400.85 1260.49 2399.02 1256.95 Q2397.22 1253.38 2393.58 1253.38 M2393.58 1249.68 Q2399.39 1249.68 2402.45 1254.29 Q2405.53 1258.87 2405.53 1267.62 Q2405.53 1276.35 2402.45 1280.95 Q2399.39 1285.54 2393.58 1285.54 Q2387.77 1285.54 2384.7 1280.95 Q2381.64 1276.35 2381.64 1267.62 Q2381.64 1258.87 2384.7 1254.29 Q2387.77 1249.68 2393.58 1249.68 Z\" fill=\"#000000\" fill-rule=\"evenodd\" fill-opacity=\"1\" /><path clip-path=\"url(#clip8700)\" d=\"M 0 0 M75.4226 1387.23 Q71.8115 1387.23 69.9828 1390.79 Q68.1773 1394.33 68.1773 1401.46 Q68.1773 1408.57 69.9828 1412.14 Q71.8115 1415.68 75.4226 1415.68 Q79.0569 1415.68 80.8624 1412.14 Q82.6911 1408.57 82.6911 1401.46 Q82.6911 1394.33 80.8624 1390.79 Q79.0569 1387.23 75.4226 1387.23 M75.4226 1383.52 Q81.2328 1383.52 84.2883 1388.13 Q87.367 1392.71 87.367 1401.46 Q87.367 1410.19 84.2883 1414.8 Q81.2328 1419.38 75.4226 1419.38 Q69.6125 1419.38 66.5338 1414.8 Q63.4782 1410.19 63.4782 1401.46 Q63.4782 1392.71 66.5338 1388.13 Q69.6125 1383.52 75.4226 1383.52 Z\" fill=\"#000000\" fill-rule=\"evenodd\" fill-opacity=\"1\" /><path clip-path=\"url(#clip8700)\" d=\"M 0 0 M92.4364 1412.83 L97.3206 1412.83 L97.3206 1418.71 L92.4364 1418.71 L92.4364 1412.83 Z\" fill=\"#000000\" fill-rule=\"evenodd\" fill-opacity=\"1\" /><path clip-path=\"url(#clip8700)\" d=\"M 0 0 M112.39 1387.23 Q108.779 1387.23 106.95 1390.79 Q105.145 1394.33 105.145 1401.46 Q105.145 1408.57 106.95 1412.14 Q108.779 1415.68 112.39 1415.68 Q116.024 1415.68 117.83 1412.14 Q119.658 1408.57 119.658 1401.46 Q119.658 1394.33 117.83 1390.79 Q116.024 1387.23 112.39 1387.23 M112.39 1383.52 Q118.2 1383.52 121.256 1388.13 Q124.334 1392.71 124.334 1401.46 Q124.334 1410.19 121.256 1414.8 Q118.2 1419.38 112.39 1419.38 Q106.58 1419.38 103.501 1414.8 Q100.446 1410.19 100.446 1401.46 Q100.446 1392.71 103.501 1388.13 Q106.58 1383.52 112.39 1383.52 Z\" fill=\"#000000\" fill-rule=\"evenodd\" fill-opacity=\"1\" /><path clip-path=\"url(#clip8700)\" d=\"M 0 0 M77.0198 1167.4 Q73.4087 1167.4 71.58 1170.97 Q69.7745 1174.51 69.7745 1181.64 Q69.7745 1188.74 71.58 1192.31 Q73.4087 1195.85 77.0198 1195.85 Q80.6541 1195.85 82.4596 1192.31 Q84.2883 1188.74 84.2883 1181.64 Q84.2883 1174.51 82.4596 1170.97 Q80.6541 1167.4 77.0198 1167.4 M77.0198 1163.7 Q82.83 1163.7 85.8855 1168.3 Q88.9642 1172.89 88.9642 1181.64 Q88.9642 1190.37 85.8855 1194.97 Q82.83 1199.55 77.0198 1199.55 Q71.2097 1199.55 68.131 1194.97 Q65.0754 1190.37 65.0754 1181.64 Q65.0754 1172.89 68.131 1168.3 Q71.2097 1163.7 77.0198 1163.7 Z\" fill=\"#000000\" fill-rule=\"evenodd\" fill-opacity=\"1\" /><path clip-path=\"url(#clip8700)\" d=\"M 0 0 M94.0336 1193 L98.9179 1193 L98.9179 1198.88 L94.0336 1198.88 L94.0336 1193 Z\" fill=\"#000000\" fill-rule=\"evenodd\" fill-opacity=\"1\" /><path clip-path=\"url(#clip8700)\" d=\"M 0 0 M108.015 1194.95 L124.334 1194.95 L124.334 1198.88 L102.39 1198.88 L102.39 1194.95 Q105.052 1192.19 109.635 1187.56 Q114.242 1182.91 115.422 1181.57 Q117.668 1179.05 118.547 1177.31 Q119.45 1175.55 119.45 1173.86 Q119.45 1171.11 117.506 1169.37 Q115.584 1167.63 112.483 1167.63 Q110.284 1167.63 107.83 1168.4 Q105.399 1169.16 102.622 1170.71 L102.622 1165.99 Q105.446 1164.86 107.899 1164.28 Q110.353 1163.7 112.39 1163.7 Q117.76 1163.7 120.955 1166.38 Q124.149 1169.07 124.149 1173.56 Q124.149 1175.69 123.339 1177.61 Q122.552 1179.51 120.446 1182.1 Q119.867 1182.77 116.765 1185.99 Q113.663 1189.18 108.015 1194.95 Z\" fill=\"#000000\" fill-rule=\"evenodd\" fill-opacity=\"1\" /><path clip-path=\"url(#clip8700)\" d=\"M 0 0 M74.9365 947.576 Q71.3254 947.576 69.4967 951.141 Q67.6912 954.682 67.6912 961.812 Q67.6912 968.918 69.4967 972.483 Q71.3254 976.025 74.9365 976.025 Q78.5707 976.025 80.3763 972.483 Q82.205 968.918 82.205 961.812 Q82.205 954.682 80.3763 951.141 Q78.5707 947.576 74.9365 947.576 M74.9365 943.872 Q80.7467 943.872 83.8022 948.479 Q86.8809 953.062 86.8809 961.812 Q86.8809 970.539 83.8022 975.145 Q80.7467 979.729 74.9365 979.729 Q69.1264 979.729 66.0477 975.145 Q62.9921 970.539 62.9921 961.812 Q62.9921 953.062 66.0477 948.479 Q69.1264 943.872 74.9365 943.872 Z\" fill=\"#000000\" fill-rule=\"evenodd\" fill-opacity=\"1\" /><path clip-path=\"url(#clip8700)\" d=\"M 0 0 M91.9503 973.178 L96.8345 973.178 L96.8345 979.057 L91.9503 979.057 L91.9503 973.178 Z\" fill=\"#000000\" fill-rule=\"evenodd\" fill-opacity=\"1\" /><path clip-path=\"url(#clip8700)\" d=\"M 0 0 M114.751 948.571 L102.946 967.02 L114.751 967.02 L114.751 948.571 M113.524 944.497 L119.404 944.497 L119.404 967.02 L124.334 967.02 L124.334 970.909 L119.404 970.909 L119.404 979.057 L114.751 979.057 L114.751 970.909 L99.1493 970.909 L99.1493 966.395 L113.524 944.497 Z\" fill=\"#000000\" fill-rule=\"evenodd\" fill-opacity=\"1\" /><path clip-path=\"url(#clip8700)\" d=\"M 0 0 M75.2606 727.75 Q71.6495 727.75 69.8208 731.314 Q68.0152 734.856 68.0152 741.986 Q68.0152 749.092 69.8208 752.657 Q71.6495 756.199 75.2606 756.199 Q78.8948 756.199 80.7004 752.657 Q82.5291 749.092 82.5291 741.986 Q82.5291 734.856 80.7004 731.314 Q78.8948 727.75 75.2606 727.75 M75.2606 724.046 Q81.0707 724.046 84.1263 728.652 Q87.205 733.236 87.205 741.986 Q87.205 750.712 84.1263 755.319 Q81.0707 759.902 75.2606 759.902 Q69.4504 759.902 66.3717 755.319 Q63.3162 750.712 63.3162 741.986 Q63.3162 733.236 66.3717 728.652 Q69.4504 724.046 75.2606 724.046 Z\" fill=\"#000000\" fill-rule=\"evenodd\" fill-opacity=\"1\" /><path clip-path=\"url(#clip8700)\" d=\"M 0 0 M92.2744 753.351 L97.1586 753.351 L97.1586 759.231 L92.2744 759.231 L92.2744 753.351 Z\" fill=\"#000000\" fill-rule=\"evenodd\" fill-opacity=\"1\" /><path clip-path=\"url(#clip8700)\" d=\"M 0 0 M112.807 740.088 Q109.659 740.088 107.807 742.24 Q105.978 744.393 105.978 748.143 Q105.978 751.87 107.807 754.046 Q109.659 756.199 112.807 756.199 Q115.955 756.199 117.783 754.046 Q119.635 751.87 119.635 748.143 Q119.635 744.393 117.783 742.24 Q115.955 740.088 112.807 740.088 M122.089 725.435 L122.089 729.694 Q120.33 728.861 118.524 728.421 Q116.742 727.981 114.983 727.981 Q110.353 727.981 107.899 731.106 Q105.469 734.231 105.122 740.55 Q106.487 738.537 108.547 737.472 Q110.608 736.384 113.084 736.384 Q118.293 736.384 121.302 739.555 Q124.334 742.703 124.334 748.143 Q124.334 753.467 121.186 756.685 Q118.038 759.902 112.807 759.902 Q106.811 759.902 103.64 755.319 Q100.469 750.712 100.469 741.986 Q100.469 733.791 104.358 728.93 Q108.247 724.046 114.797 724.046 Q116.557 724.046 118.339 724.393 Q120.145 724.74 122.089 725.435 Z\" fill=\"#000000\" fill-rule=\"evenodd\" fill-opacity=\"1\" /><path clip-path=\"url(#clip8700)\" d=\"M 0 0 M75.5152 507.923 Q71.9041 507.923 70.0754 511.488 Q68.2699 515.03 68.2699 522.159 Q68.2699 529.266 70.0754 532.831 Q71.9041 536.372 75.5152 536.372 Q79.1494 536.372 80.955 532.831 Q82.7837 529.266 82.7837 522.159 Q82.7837 515.03 80.955 511.488 Q79.1494 507.923 75.5152 507.923 M75.5152 504.22 Q81.3254 504.22 84.3809 508.826 Q87.4596 513.409 87.4596 522.159 Q87.4596 530.886 84.3809 535.493 Q81.3254 540.076 75.5152 540.076 Q69.7051 540.076 66.6264 535.493 Q63.5708 530.886 63.5708 522.159 Q63.5708 513.409 66.6264 508.826 Q69.7051 504.22 75.5152 504.22 Z\" fill=\"#000000\" fill-rule=\"evenodd\" fill-opacity=\"1\" /><path clip-path=\"url(#clip8700)\" d=\"M 0 0 M92.529 533.525 L97.4132 533.525 L97.4132 539.405 L92.529 539.405 L92.529 533.525 Z\" fill=\"#000000\" fill-rule=\"evenodd\" fill-opacity=\"1\" /><path clip-path=\"url(#clip8700)\" d=\"M 0 0 M112.483 522.993 Q109.149 522.993 107.228 524.775 Q105.33 526.558 105.33 529.683 Q105.33 532.807 107.228 534.59 Q109.149 536.372 112.483 536.372 Q115.816 536.372 117.737 534.59 Q119.658 532.784 119.658 529.683 Q119.658 526.558 117.737 524.775 Q115.839 522.993 112.483 522.993 M107.807 521.002 Q104.797 520.261 103.108 518.201 Q101.441 516.141 101.441 513.178 Q101.441 509.034 104.381 506.627 Q107.344 504.22 112.483 504.22 Q117.645 504.22 120.584 506.627 Q123.524 509.034 123.524 513.178 Q123.524 516.141 121.834 518.201 Q120.168 520.261 117.182 521.002 Q120.561 521.789 122.436 524.081 Q124.334 526.372 124.334 529.683 Q124.334 534.706 121.256 537.391 Q118.2 540.076 112.483 540.076 Q106.765 540.076 103.686 537.391 Q100.631 534.706 100.631 529.683 Q100.631 526.372 102.529 524.081 Q104.427 521.789 107.807 521.002 M106.094 513.618 Q106.094 516.303 107.76 517.808 Q109.45 519.312 112.483 519.312 Q115.492 519.312 117.182 517.808 Q118.895 516.303 118.895 513.618 Q118.895 510.933 117.182 509.428 Q115.492 507.923 112.483 507.923 Q109.45 507.923 107.76 509.428 Q106.094 510.933 106.094 513.618 Z\" fill=\"#000000\" fill-rule=\"evenodd\" fill-opacity=\"1\" /><path clip-path=\"url(#clip8700)\" d=\"M 0 0 M67.4597 315.643 L75.0985 315.643 L75.0985 289.278 L66.7884 290.944 L66.7884 286.685 L75.0522 285.018 L79.7281 285.018 L79.7281 315.643 L87.367 315.643 L87.367 319.578 L67.4597 319.578 L67.4597 315.643 Z\" fill=\"#000000\" fill-rule=\"evenodd\" fill-opacity=\"1\" /><path clip-path=\"url(#clip8700)\" d=\"M 0 0 M92.4364 313.699 L97.3206 313.699 L97.3206 319.578 L92.4364 319.578 L92.4364 313.699 Z\" fill=\"#000000\" fill-rule=\"evenodd\" fill-opacity=\"1\" /><path clip-path=\"url(#clip8700)\" d=\"M 0 0 M112.39 288.097 Q108.779 288.097 106.95 291.662 Q105.145 295.204 105.145 302.333 Q105.145 309.44 106.95 313.004 Q108.779 316.546 112.39 316.546 Q116.024 316.546 117.83 313.004 Q119.658 309.44 119.658 302.333 Q119.658 295.204 117.83 291.662 Q116.024 288.097 112.39 288.097 M112.39 284.393 Q118.2 284.393 121.256 289 Q124.334 293.583 124.334 302.333 Q124.334 311.06 121.256 315.666 Q118.2 320.25 112.39 320.25 Q106.58 320.25 103.501 315.666 Q100.446 311.06 100.446 302.333 Q100.446 293.583 103.501 289 Q106.58 284.393 112.39 284.393 Z\" fill=\"#000000\" fill-rule=\"evenodd\" fill-opacity=\"1\" /><circle clip-path=\"url(#clip8702)\" cx=\"1634.38\" cy=\"498.401\" r=\"14\" fill=\"#009af9\" fill-rule=\"evenodd\" fill-opacity=\"1\" stroke=\"#000000\" stroke-opacity=\"1\" stroke-width=\"3.2\"/>\n",
       "<circle clip-path=\"url(#clip8702)\" cx=\"1660.14\" cy=\"460.932\" r=\"14\" fill=\"#009af9\" fill-rule=\"evenodd\" fill-opacity=\"1\" stroke=\"#000000\" stroke-opacity=\"1\" stroke-width=\"3.2\"/>\n",
       "<circle clip-path=\"url(#clip8702)\" cx=\"1606.6\" cy=\"460.577\" r=\"14\" fill=\"#009af9\" fill-rule=\"evenodd\" fill-opacity=\"1\" stroke=\"#000000\" stroke-opacity=\"1\" stroke-width=\"3.2\"/>\n",
       "<circle clip-path=\"url(#clip8702)\" cx=\"1705.71\" cy=\"480.052\" r=\"14\" fill=\"#009af9\" fill-rule=\"evenodd\" fill-opacity=\"1\" stroke=\"#000000\" stroke-opacity=\"1\" stroke-width=\"3.2\"/>\n",
       "<circle clip-path=\"url(#clip8702)\" cx=\"1662.92\" cy=\"505.895\" r=\"14\" fill=\"#009af9\" fill-rule=\"evenodd\" fill-opacity=\"1\" stroke=\"#000000\" stroke-opacity=\"1\" stroke-width=\"3.2\"/>\n",
       "<circle clip-path=\"url(#clip8702)\" cx=\"1611.15\" cy=\"432.114\" r=\"14\" fill=\"#009af9\" fill-rule=\"evenodd\" fill-opacity=\"1\" stroke=\"#000000\" stroke-opacity=\"1\" stroke-width=\"3.2\"/>\n",
       "<circle clip-path=\"url(#clip8702)\" cx=\"1634.38\" cy=\"498.401\" r=\"14\" fill=\"#009af9\" fill-rule=\"evenodd\" fill-opacity=\"1\" stroke=\"#000000\" stroke-opacity=\"1\" stroke-width=\"3.2\"/>\n",
       "<circle clip-path=\"url(#clip8702)\" cx=\"1618.52\" cy=\"474.684\" r=\"14\" fill=\"#009af9\" fill-rule=\"evenodd\" fill-opacity=\"1\" stroke=\"#000000\" stroke-opacity=\"1\" stroke-width=\"3.2\"/>\n",
       "<circle clip-path=\"url(#clip8702)\" cx=\"1636.63\" cy=\"437.144\" r=\"14\" fill=\"#009af9\" fill-rule=\"evenodd\" fill-opacity=\"1\" stroke=\"#000000\" stroke-opacity=\"1\" stroke-width=\"3.2\"/>\n",
       "<circle clip-path=\"url(#clip8702)\" cx=\"1690.07\" cy=\"470.837\" r=\"14\" fill=\"#009af9\" fill-rule=\"evenodd\" fill-opacity=\"1\" stroke=\"#000000\" stroke-opacity=\"1\" stroke-width=\"3.2\"/>\n",
       "<circle clip-path=\"url(#clip8702)\" cx=\"1648.28\" cy=\"497.074\" r=\"14\" fill=\"#009af9\" fill-rule=\"evenodd\" fill-opacity=\"1\" stroke=\"#000000\" stroke-opacity=\"1\" stroke-width=\"3.2\"/>\n",
       "<circle clip-path=\"url(#clip8702)\" cx=\"1633.51\" cy=\"440.501\" r=\"14\" fill=\"#009af9\" fill-rule=\"evenodd\" fill-opacity=\"1\" stroke=\"#000000\" stroke-opacity=\"1\" stroke-width=\"3.2\"/>\n",
       "<circle clip-path=\"url(#clip8702)\" cx=\"1699.51\" cy=\"480.664\" r=\"14\" fill=\"#009af9\" fill-rule=\"evenodd\" fill-opacity=\"1\" stroke=\"#000000\" stroke-opacity=\"1\" stroke-width=\"3.2\"/>\n",
       "<circle clip-path=\"url(#clip8702)\" cx=\"1621.82\" cy=\"454.851\" r=\"14\" fill=\"#009af9\" fill-rule=\"evenodd\" fill-opacity=\"1\" stroke=\"#000000\" stroke-opacity=\"1\" stroke-width=\"3.2\"/>\n",
       "<circle clip-path=\"url(#clip8702)\" cx=\"1685.74\" cy=\"467.87\" r=\"14\" fill=\"#009af9\" fill-rule=\"evenodd\" fill-opacity=\"1\" stroke=\"#000000\" stroke-opacity=\"1\" stroke-width=\"3.2\"/>\n",
       "<circle clip-path=\"url(#clip8702)\" cx=\"1628.47\" cy=\"444.869\" r=\"14\" fill=\"#009af9\" fill-rule=\"evenodd\" fill-opacity=\"1\" stroke=\"#000000\" stroke-opacity=\"1\" stroke-width=\"3.2\"/>\n",
       "<circle clip-path=\"url(#clip8702)\" cx=\"1611.15\" cy=\"432.114\" r=\"14\" fill=\"#009af9\" fill-rule=\"evenodd\" fill-opacity=\"1\" stroke=\"#000000\" stroke-opacity=\"1\" stroke-width=\"3.2\"/>\n",
       "<circle clip-path=\"url(#clip8702)\" cx=\"1683.5\" cy=\"462.232\" r=\"14\" fill=\"#009af9\" fill-rule=\"evenodd\" fill-opacity=\"1\" stroke=\"#000000\" stroke-opacity=\"1\" stroke-width=\"3.2\"/>\n",
       "<circle clip-path=\"url(#clip8702)\" cx=\"1651.12\" cy=\"484.547\" r=\"14\" fill=\"#009af9\" fill-rule=\"evenodd\" fill-opacity=\"1\" stroke=\"#000000\" stroke-opacity=\"1\" stroke-width=\"3.2\"/>\n",
       "<circle clip-path=\"url(#clip8702)\" cx=\"1662.98\" cy=\"476.925\" r=\"14\" fill=\"#009af9\" fill-rule=\"evenodd\" fill-opacity=\"1\" stroke=\"#000000\" stroke-opacity=\"1\" stroke-width=\"3.2\"/>\n",
       "<circle clip-path=\"url(#clip8702)\" cx=\"1660.23\" cy=\"450.65\" r=\"14\" fill=\"#009af9\" fill-rule=\"evenodd\" fill-opacity=\"1\" stroke=\"#000000\" stroke-opacity=\"1\" stroke-width=\"3.2\"/>\n",
       "<circle clip-path=\"url(#clip8702)\" cx=\"1648.28\" cy=\"497.074\" r=\"14\" fill=\"#009af9\" fill-rule=\"evenodd\" fill-opacity=\"1\" stroke=\"#000000\" stroke-opacity=\"1\" stroke-width=\"3.2\"/>\n",
       "<circle clip-path=\"url(#clip8702)\" cx=\"1651.98\" cy=\"495.785\" r=\"14\" fill=\"#009af9\" fill-rule=\"evenodd\" fill-opacity=\"1\" stroke=\"#000000\" stroke-opacity=\"1\" stroke-width=\"3.2\"/>\n",
       "<circle clip-path=\"url(#clip8702)\" cx=\"1649.25\" cy=\"451.969\" r=\"14\" fill=\"#009af9\" fill-rule=\"evenodd\" fill-opacity=\"1\" stroke=\"#000000\" stroke-opacity=\"1\" stroke-width=\"3.2\"/>\n",
       "<circle clip-path=\"url(#clip8702)\" cx=\"1664.79\" cy=\"474.532\" r=\"14\" fill=\"#009af9\" fill-rule=\"evenodd\" fill-opacity=\"1\" stroke=\"#000000\" stroke-opacity=\"1\" stroke-width=\"3.2\"/>\n",
       "<circle clip-path=\"url(#clip8702)\" cx=\"1630.06\" cy=\"451.928\" r=\"14\" fill=\"#009af9\" fill-rule=\"evenodd\" fill-opacity=\"1\" stroke=\"#000000\" stroke-opacity=\"1\" stroke-width=\"3.2\"/>\n",
       "<circle clip-path=\"url(#clip8702)\" cx=\"1677.02\" cy=\"461.469\" r=\"14\" fill=\"#009af9\" fill-rule=\"evenodd\" fill-opacity=\"1\" stroke=\"#000000\" stroke-opacity=\"1\" stroke-width=\"3.2\"/>\n",
       "<circle clip-path=\"url(#clip8702)\" cx=\"1666.55\" cy=\"467.829\" r=\"14\" fill=\"#009af9\" fill-rule=\"evenodd\" fill-opacity=\"1\" stroke=\"#000000\" stroke-opacity=\"1\" stroke-width=\"3.2\"/>\n",
       "<circle clip-path=\"url(#clip8702)\" cx=\"1634.64\" cy=\"438.957\" r=\"14\" fill=\"#009af9\" fill-rule=\"evenodd\" fill-opacity=\"1\" stroke=\"#000000\" stroke-opacity=\"1\" stroke-width=\"3.2\"/>\n",
       "<circle clip-path=\"url(#clip8702)\" cx=\"1666.47\" cy=\"453.336\" r=\"14\" fill=\"#009af9\" fill-rule=\"evenodd\" fill-opacity=\"1\" stroke=\"#000000\" stroke-opacity=\"1\" stroke-width=\"3.2\"/>\n",
       "<circle clip-path=\"url(#clip8702)\" cx=\"1644.14\" cy=\"451.334\" r=\"14\" fill=\"#009af9\" fill-rule=\"evenodd\" fill-opacity=\"1\" stroke=\"#000000\" stroke-opacity=\"1\" stroke-width=\"3.2\"/>\n",
       "<circle clip-path=\"url(#clip8702)\" cx=\"1665.37\" cy=\"457.669\" r=\"14\" fill=\"#009af9\" fill-rule=\"evenodd\" fill-opacity=\"1\" stroke=\"#000000\" stroke-opacity=\"1\" stroke-width=\"3.2\"/>\n",
       "<circle clip-path=\"url(#clip8702)\" cx=\"1635.31\" cy=\"487.561\" r=\"14\" fill=\"#009af9\" fill-rule=\"evenodd\" fill-opacity=\"1\" stroke=\"#000000\" stroke-opacity=\"1\" stroke-width=\"3.2\"/>\n",
       "<circle clip-path=\"url(#clip8702)\" cx=\"1633.04\" cy=\"446.539\" r=\"14\" fill=\"#009af9\" fill-rule=\"evenodd\" fill-opacity=\"1\" stroke=\"#000000\" stroke-opacity=\"1\" stroke-width=\"3.2\"/>\n",
       "<circle clip-path=\"url(#clip8702)\" cx=\"1635.42\" cy=\"479.463\" r=\"14\" fill=\"#009af9\" fill-rule=\"evenodd\" fill-opacity=\"1\" stroke=\"#000000\" stroke-opacity=\"1\" stroke-width=\"3.2\"/>\n",
       "<circle clip-path=\"url(#clip8702)\" cx=\"1632.15\" cy=\"491.374\" r=\"14\" fill=\"#009af9\" fill-rule=\"evenodd\" fill-opacity=\"1\" stroke=\"#000000\" stroke-opacity=\"1\" stroke-width=\"3.2\"/>\n",
       "<circle clip-path=\"url(#clip8702)\" cx=\"1662.34\" cy=\"476.236\" r=\"14\" fill=\"#009af9\" fill-rule=\"evenodd\" fill-opacity=\"1\" stroke=\"#000000\" stroke-opacity=\"1\" stroke-width=\"3.2\"/>\n",
       "<circle clip-path=\"url(#clip8702)\" cx=\"1702.81\" cy=\"478.67\" r=\"14\" fill=\"#009af9\" fill-rule=\"evenodd\" fill-opacity=\"1\" stroke=\"#000000\" stroke-opacity=\"1\" stroke-width=\"3.2\"/>\n",
       "<circle clip-path=\"url(#clip8702)\" cx=\"1644.1\" cy=\"444.949\" r=\"14\" fill=\"#009af9\" fill-rule=\"evenodd\" fill-opacity=\"1\" stroke=\"#000000\" stroke-opacity=\"1\" stroke-width=\"3.2\"/>\n",
       "<circle clip-path=\"url(#clip8702)\" cx=\"1663.49\" cy=\"465.834\" r=\"14\" fill=\"#009af9\" fill-rule=\"evenodd\" fill-opacity=\"1\" stroke=\"#000000\" stroke-opacity=\"1\" stroke-width=\"3.2\"/>\n",
       "<circle clip-path=\"url(#clip8702)\" cx=\"1662.07\" cy=\"463.238\" r=\"14\" fill=\"#009af9\" fill-rule=\"evenodd\" fill-opacity=\"1\" stroke=\"#000000\" stroke-opacity=\"1\" stroke-width=\"3.2\"/>\n",
       "<circle clip-path=\"url(#clip8702)\" cx=\"1654\" cy=\"443.209\" r=\"14\" fill=\"#009af9\" fill-rule=\"evenodd\" fill-opacity=\"1\" stroke=\"#000000\" stroke-opacity=\"1\" stroke-width=\"3.2\"/>\n",
       "<circle clip-path=\"url(#clip8702)\" cx=\"1651.71\" cy=\"482.786\" r=\"14\" fill=\"#009af9\" fill-rule=\"evenodd\" fill-opacity=\"1\" stroke=\"#000000\" stroke-opacity=\"1\" stroke-width=\"3.2\"/>\n",
       "<circle clip-path=\"url(#clip8702)\" cx=\"1660.23\" cy=\"450.65\" r=\"14\" fill=\"#009af9\" fill-rule=\"evenodd\" fill-opacity=\"1\" stroke=\"#000000\" stroke-opacity=\"1\" stroke-width=\"3.2\"/>\n",
       "<circle clip-path=\"url(#clip8702)\" cx=\"1693.33\" cy=\"482.026\" r=\"14\" fill=\"#009af9\" fill-rule=\"evenodd\" fill-opacity=\"1\" stroke=\"#000000\" stroke-opacity=\"1\" stroke-width=\"3.2\"/>\n",
       "<circle clip-path=\"url(#clip8702)\" cx=\"1680.6\" cy=\"460.85\" r=\"14\" fill=\"#009af9\" fill-rule=\"evenodd\" fill-opacity=\"1\" stroke=\"#000000\" stroke-opacity=\"1\" stroke-width=\"3.2\"/>\n",
       "<circle clip-path=\"url(#clip8702)\" cx=\"1705.24\" cy=\"496.134\" r=\"14\" fill=\"#009af9\" fill-rule=\"evenodd\" fill-opacity=\"1\" stroke=\"#000000\" stroke-opacity=\"1\" stroke-width=\"3.2\"/>\n",
       "<circle clip-path=\"url(#clip8702)\" cx=\"1709.45\" cy=\"487.727\" r=\"14\" fill=\"#009af9\" fill-rule=\"evenodd\" fill-opacity=\"1\" stroke=\"#000000\" stroke-opacity=\"1\" stroke-width=\"3.2\"/>\n",
       "<circle clip-path=\"url(#clip8702)\" cx=\"1649.81\" cy=\"490.487\" r=\"14\" fill=\"#009af9\" fill-rule=\"evenodd\" fill-opacity=\"1\" stroke=\"#000000\" stroke-opacity=\"1\" stroke-width=\"3.2\"/>\n",
       "<circle clip-path=\"url(#clip8702)\" cx=\"1648.9\" cy=\"477.52\" r=\"14\" fill=\"#009af9\" fill-rule=\"evenodd\" fill-opacity=\"1\" stroke=\"#000000\" stroke-opacity=\"1\" stroke-width=\"3.2\"/>\n",
       "<circle clip-path=\"url(#clip8702)\" cx=\"1675.18\" cy=\"485.544\" r=\"14\" fill=\"#009af9\" fill-rule=\"evenodd\" fill-opacity=\"1\" stroke=\"#000000\" stroke-opacity=\"1\" stroke-width=\"3.2\"/>\n",
       "<circle clip-path=\"url(#clip8702)\" cx=\"1634.06\" cy=\"440.816\" r=\"14\" fill=\"#009af9\" fill-rule=\"evenodd\" fill-opacity=\"1\" stroke=\"#000000\" stroke-opacity=\"1\" stroke-width=\"3.2\"/>\n",
       "<circle clip-path=\"url(#clip8702)\" cx=\"1683.84\" cy=\"459.401\" r=\"14\" fill=\"#009af9\" fill-rule=\"evenodd\" fill-opacity=\"1\" stroke=\"#000000\" stroke-opacity=\"1\" stroke-width=\"3.2\"/>\n",
       "<circle clip-path=\"url(#clip8702)\" cx=\"1632.52\" cy=\"456.208\" r=\"14\" fill=\"#009af9\" fill-rule=\"evenodd\" fill-opacity=\"1\" stroke=\"#000000\" stroke-opacity=\"1\" stroke-width=\"3.2\"/>\n",
       "<circle clip-path=\"url(#clip8702)\" cx=\"1634.1\" cy=\"485.403\" r=\"14\" fill=\"#009af9\" fill-rule=\"evenodd\" fill-opacity=\"1\" stroke=\"#000000\" stroke-opacity=\"1\" stroke-width=\"3.2\"/>\n",
       "<circle clip-path=\"url(#clip8702)\" cx=\"1649.81\" cy=\"490.487\" r=\"14\" fill=\"#009af9\" fill-rule=\"evenodd\" fill-opacity=\"1\" stroke=\"#000000\" stroke-opacity=\"1\" stroke-width=\"3.2\"/>\n",
       "<circle clip-path=\"url(#clip8702)\" cx=\"1662.74\" cy=\"451.765\" r=\"14\" fill=\"#009af9\" fill-rule=\"evenodd\" fill-opacity=\"1\" stroke=\"#000000\" stroke-opacity=\"1\" stroke-width=\"3.2\"/>\n",
       "<circle clip-path=\"url(#clip8702)\" cx=\"1690.52\" cy=\"473.653\" r=\"14\" fill=\"#009af9\" fill-rule=\"evenodd\" fill-opacity=\"1\" stroke=\"#000000\" stroke-opacity=\"1\" stroke-width=\"3.2\"/>\n",
       "<circle clip-path=\"url(#clip8702)\" cx=\"1679.11\" cy=\"482.626\" r=\"14\" fill=\"#009af9\" fill-rule=\"evenodd\" fill-opacity=\"1\" stroke=\"#000000\" stroke-opacity=\"1\" stroke-width=\"3.2\"/>\n",
       "<circle clip-path=\"url(#clip8702)\" cx=\"1650.88\" cy=\"446.566\" r=\"14\" fill=\"#009af9\" fill-rule=\"evenodd\" fill-opacity=\"1\" stroke=\"#000000\" stroke-opacity=\"1\" stroke-width=\"3.2\"/>\n",
       "<circle clip-path=\"url(#clip8702)\" cx=\"1638.31\" cy=\"476.996\" r=\"14\" fill=\"#009af9\" fill-rule=\"evenodd\" fill-opacity=\"1\" stroke=\"#000000\" stroke-opacity=\"1\" stroke-width=\"3.2\"/>\n",
       "<circle clip-path=\"url(#clip8702)\" cx=\"1644.1\" cy=\"444.949\" r=\"14\" fill=\"#009af9\" fill-rule=\"evenodd\" fill-opacity=\"1\" stroke=\"#000000\" stroke-opacity=\"1\" stroke-width=\"3.2\"/>\n",
       "<circle clip-path=\"url(#clip8702)\" cx=\"1631.88\" cy=\"478.375\" r=\"14\" fill=\"#009af9\" fill-rule=\"evenodd\" fill-opacity=\"1\" stroke=\"#000000\" stroke-opacity=\"1\" stroke-width=\"3.2\"/>\n",
       "<circle clip-path=\"url(#clip8702)\" cx=\"1680.64\" cy=\"467.235\" r=\"14\" fill=\"#009af9\" fill-rule=\"evenodd\" fill-opacity=\"1\" stroke=\"#000000\" stroke-opacity=\"1\" stroke-width=\"3.2\"/>\n",
       "<circle clip-path=\"url(#clip8702)\" cx=\"1655.24\" cy=\"503.394\" r=\"14\" fill=\"#009af9\" fill-rule=\"evenodd\" fill-opacity=\"1\" stroke=\"#000000\" stroke-opacity=\"1\" stroke-width=\"3.2\"/>\n",
       "<circle clip-path=\"url(#clip8702)\" cx=\"1629.78\" cy=\"438.929\" r=\"14\" fill=\"#009af9\" fill-rule=\"evenodd\" fill-opacity=\"1\" stroke=\"#000000\" stroke-opacity=\"1\" stroke-width=\"3.2\"/>\n",
       "<circle clip-path=\"url(#clip8702)\" cx=\"1652.78\" cy=\"455.035\" r=\"14\" fill=\"#009af9\" fill-rule=\"evenodd\" fill-opacity=\"1\" stroke=\"#000000\" stroke-opacity=\"1\" stroke-width=\"3.2\"/>\n",
       "<circle clip-path=\"url(#clip8702)\" cx=\"1664.51\" cy=\"461.534\" r=\"14\" fill=\"#009af9\" fill-rule=\"evenodd\" fill-opacity=\"1\" stroke=\"#000000\" stroke-opacity=\"1\" stroke-width=\"3.2\"/>\n",
       "<circle clip-path=\"url(#clip8702)\" cx=\"1681.13\" cy=\"468.814\" r=\"14\" fill=\"#009af9\" fill-rule=\"evenodd\" fill-opacity=\"1\" stroke=\"#000000\" stroke-opacity=\"1\" stroke-width=\"3.2\"/>\n",
       "<circle clip-path=\"url(#clip8702)\" cx=\"1667.47\" cy=\"481.517\" r=\"14\" fill=\"#009af9\" fill-rule=\"evenodd\" fill-opacity=\"1\" stroke=\"#000000\" stroke-opacity=\"1\" stroke-width=\"3.2\"/>\n",
       "<circle clip-path=\"url(#clip8702)\" cx=\"1635.69\" cy=\"492.461\" r=\"14\" fill=\"#009af9\" fill-rule=\"evenodd\" fill-opacity=\"1\" stroke=\"#000000\" stroke-opacity=\"1\" stroke-width=\"3.2\"/>\n",
       "<circle clip-path=\"url(#clip8702)\" cx=\"1683.39\" cy=\"474.964\" r=\"14\" fill=\"#009af9\" fill-rule=\"evenodd\" fill-opacity=\"1\" stroke=\"#000000\" stroke-opacity=\"1\" stroke-width=\"3.2\"/>\n",
       "<circle clip-path=\"url(#clip8702)\" cx=\"1661.03\" cy=\"482.176\" r=\"14\" fill=\"#009af9\" fill-rule=\"evenodd\" fill-opacity=\"1\" stroke=\"#000000\" stroke-opacity=\"1\" stroke-width=\"3.2\"/>\n",
       "<circle clip-path=\"url(#clip8702)\" cx=\"1706.73\" cy=\"475.752\" r=\"14\" fill=\"#009af9\" fill-rule=\"evenodd\" fill-opacity=\"1\" stroke=\"#000000\" stroke-opacity=\"1\" stroke-width=\"3.2\"/>\n",
       "<circle clip-path=\"url(#clip8702)\" cx=\"1639.21\" cy=\"440.627\" r=\"14\" fill=\"#009af9\" fill-rule=\"evenodd\" fill-opacity=\"1\" stroke=\"#000000\" stroke-opacity=\"1\" stroke-width=\"3.2\"/>\n",
       "<circle clip-path=\"url(#clip8702)\" cx=\"1706.73\" cy=\"475.752\" r=\"14\" fill=\"#009af9\" fill-rule=\"evenodd\" fill-opacity=\"1\" stroke=\"#000000\" stroke-opacity=\"1\" stroke-width=\"3.2\"/>\n",
       "<circle clip-path=\"url(#clip8702)\" cx=\"1709.45\" cy=\"487.727\" r=\"14\" fill=\"#009af9\" fill-rule=\"evenodd\" fill-opacity=\"1\" stroke=\"#000000\" stroke-opacity=\"1\" stroke-width=\"3.2\"/>\n",
       "<circle clip-path=\"url(#clip8702)\" cx=\"1695.3\" cy=\"489.071\" r=\"14\" fill=\"#009af9\" fill-rule=\"evenodd\" fill-opacity=\"1\" stroke=\"#000000\" stroke-opacity=\"1\" stroke-width=\"3.2\"/>\n",
       "<circle clip-path=\"url(#clip8702)\" cx=\"1660.14\" cy=\"460.932\" r=\"14\" fill=\"#009af9\" fill-rule=\"evenodd\" fill-opacity=\"1\" stroke=\"#000000\" stroke-opacity=\"1\" stroke-width=\"3.2\"/>\n",
       "<circle clip-path=\"url(#clip8702)\" cx=\"1678.08\" cy=\"486.926\" r=\"14\" fill=\"#009af9\" fill-rule=\"evenodd\" fill-opacity=\"1\" stroke=\"#000000\" stroke-opacity=\"1\" stroke-width=\"3.2\"/>\n",
       "<circle clip-path=\"url(#clip8702)\" cx=\"1635.69\" cy=\"492.461\" r=\"14\" fill=\"#009af9\" fill-rule=\"evenodd\" fill-opacity=\"1\" stroke=\"#000000\" stroke-opacity=\"1\" stroke-width=\"3.2\"/>\n",
       "<circle clip-path=\"url(#clip8702)\" cx=\"1654.11\" cy=\"479.159\" r=\"14\" fill=\"#009af9\" fill-rule=\"evenodd\" fill-opacity=\"1\" stroke=\"#000000\" stroke-opacity=\"1\" stroke-width=\"3.2\"/>\n",
       "<circle clip-path=\"url(#clip8702)\" cx=\"1650.43\" cy=\"462.128\" r=\"14\" fill=\"#009af9\" fill-rule=\"evenodd\" fill-opacity=\"1\" stroke=\"#000000\" stroke-opacity=\"1\" stroke-width=\"3.2\"/>\n",
       "<circle clip-path=\"url(#clip8702)\" cx=\"1662.92\" cy=\"474.475\" r=\"14\" fill=\"#009af9\" fill-rule=\"evenodd\" fill-opacity=\"1\" stroke=\"#000000\" stroke-opacity=\"1\" stroke-width=\"3.2\"/>\n",
       "<circle clip-path=\"url(#clip8702)\" cx=\"1705.71\" cy=\"480.052\" r=\"14\" fill=\"#009af9\" fill-rule=\"evenodd\" fill-opacity=\"1\" stroke=\"#000000\" stroke-opacity=\"1\" stroke-width=\"3.2\"/>\n",
       "<circle clip-path=\"url(#clip8702)\" cx=\"1654\" cy=\"443.209\" r=\"14\" fill=\"#009af9\" fill-rule=\"evenodd\" fill-opacity=\"1\" stroke=\"#000000\" stroke-opacity=\"1\" stroke-width=\"3.2\"/>\n",
       "<circle clip-path=\"url(#clip8702)\" cx=\"1681.13\" cy=\"468.814\" r=\"14\" fill=\"#009af9\" fill-rule=\"evenodd\" fill-opacity=\"1\" stroke=\"#000000\" stroke-opacity=\"1\" stroke-width=\"3.2\"/>\n",
       "<circle clip-path=\"url(#clip8702)\" cx=\"1626.4\" cy=\"458.325\" r=\"14\" fill=\"#009af9\" fill-rule=\"evenodd\" fill-opacity=\"1\" stroke=\"#000000\" stroke-opacity=\"1\" stroke-width=\"3.2\"/>\n",
       "<circle clip-path=\"url(#clip8702)\" cx=\"1647.82\" cy=\"459.37\" r=\"14\" fill=\"#009af9\" fill-rule=\"evenodd\" fill-opacity=\"1\" stroke=\"#000000\" stroke-opacity=\"1\" stroke-width=\"3.2\"/>\n",
       "<circle clip-path=\"url(#clip8702)\" cx=\"1639.21\" cy=\"440.627\" r=\"14\" fill=\"#009af9\" fill-rule=\"evenodd\" fill-opacity=\"1\" stroke=\"#000000\" stroke-opacity=\"1\" stroke-width=\"3.2\"/>\n",
       "<circle clip-path=\"url(#clip8702)\" cx=\"1665.21\" cy=\"483.953\" r=\"14\" fill=\"#009af9\" fill-rule=\"evenodd\" fill-opacity=\"1\" stroke=\"#000000\" stroke-opacity=\"1\" stroke-width=\"3.2\"/>\n",
       "<circle clip-path=\"url(#clip8702)\" cx=\"1626.54\" cy=\"440.378\" r=\"14\" fill=\"#009af9\" fill-rule=\"evenodd\" fill-opacity=\"1\" stroke=\"#000000\" stroke-opacity=\"1\" stroke-width=\"3.2\"/>\n",
       "<circle clip-path=\"url(#clip8702)\" cx=\"1688.99\" cy=\"489.045\" r=\"14\" fill=\"#009af9\" fill-rule=\"evenodd\" fill-opacity=\"1\" stroke=\"#000000\" stroke-opacity=\"1\" stroke-width=\"3.2\"/>\n",
       "<circle clip-path=\"url(#clip8702)\" cx=\"1677.08\" cy=\"474.937\" r=\"14\" fill=\"#009af9\" fill-rule=\"evenodd\" fill-opacity=\"1\" stroke=\"#000000\" stroke-opacity=\"1\" stroke-width=\"3.2\"/>\n",
       "<circle clip-path=\"url(#clip8702)\" cx=\"1677.08\" cy=\"474.937\" r=\"14\" fill=\"#009af9\" fill-rule=\"evenodd\" fill-opacity=\"1\" stroke=\"#000000\" stroke-opacity=\"1\" stroke-width=\"3.2\"/>\n",
       "<circle clip-path=\"url(#clip8702)\" cx=\"1632.15\" cy=\"491.374\" r=\"14\" fill=\"#009af9\" fill-rule=\"evenodd\" fill-opacity=\"1\" stroke=\"#000000\" stroke-opacity=\"1\" stroke-width=\"3.2\"/>\n",
       "<circle clip-path=\"url(#clip8702)\" cx=\"1677.3\" cy=\"469.335\" r=\"14\" fill=\"#009af9\" fill-rule=\"evenodd\" fill-opacity=\"1\" stroke=\"#000000\" stroke-opacity=\"1\" stroke-width=\"3.2\"/>\n",
       "<circle clip-path=\"url(#clip8702)\" cx=\"1647.31\" cy=\"470.461\" r=\"14\" fill=\"#009af9\" fill-rule=\"evenodd\" fill-opacity=\"1\" stroke=\"#000000\" stroke-opacity=\"1\" stroke-width=\"3.2\"/>\n",
       "<circle clip-path=\"url(#clip8702)\" cx=\"1661.96\" cy=\"481.225\" r=\"14\" fill=\"#009af9\" fill-rule=\"evenodd\" fill-opacity=\"1\" stroke=\"#000000\" stroke-opacity=\"1\" stroke-width=\"3.2\"/>\n",
       "<circle clip-path=\"url(#clip8702)\" cx=\"1635.42\" cy=\"479.463\" r=\"14\" fill=\"#009af9\" fill-rule=\"evenodd\" fill-opacity=\"1\" stroke=\"#000000\" stroke-opacity=\"1\" stroke-width=\"3.2\"/>\n",
       "<circle clip-path=\"url(#clip8702)\" cx=\"1683.39\" cy=\"474.964\" r=\"14\" fill=\"#009af9\" fill-rule=\"evenodd\" fill-opacity=\"1\" stroke=\"#000000\" stroke-opacity=\"1\" stroke-width=\"3.2\"/>\n",
       "<circle clip-path=\"url(#clip8702)\" cx=\"1644.06\" cy=\"448.634\" r=\"14\" fill=\"#009af9\" fill-rule=\"evenodd\" fill-opacity=\"1\" stroke=\"#000000\" stroke-opacity=\"1\" stroke-width=\"3.2\"/>\n",
       "<circle clip-path=\"url(#clip8702)\" cx=\"1635.31\" cy=\"487.561\" r=\"14\" fill=\"#009af9\" fill-rule=\"evenodd\" fill-opacity=\"1\" stroke=\"#000000\" stroke-opacity=\"1\" stroke-width=\"3.2\"/>\n",
       "<circle clip-path=\"url(#clip8702)\" cx=\"1676.71\" cy=\"470.153\" r=\"14\" fill=\"#009af9\" fill-rule=\"evenodd\" fill-opacity=\"1\" stroke=\"#000000\" stroke-opacity=\"1\" stroke-width=\"3.2\"/>\n",
       "<circle clip-path=\"url(#clip8702)\" cx=\"1671.08\" cy=\"469.435\" r=\"14\" fill=\"#009af9\" fill-rule=\"evenodd\" fill-opacity=\"1\" stroke=\"#000000\" stroke-opacity=\"1\" stroke-width=\"3.2\"/>\n",
       "<circle clip-path=\"url(#clip8702)\" cx=\"1650.43\" cy=\"462.128\" r=\"14\" fill=\"#009af9\" fill-rule=\"evenodd\" fill-opacity=\"1\" stroke=\"#000000\" stroke-opacity=\"1\" stroke-width=\"3.2\"/>\n",
       "<circle clip-path=\"url(#clip8702)\" cx=\"1663.49\" cy=\"465.834\" r=\"14\" fill=\"#009af9\" fill-rule=\"evenodd\" fill-opacity=\"1\" stroke=\"#000000\" stroke-opacity=\"1\" stroke-width=\"3.2\"/>\n",
       "<circle clip-path=\"url(#clip8702)\" cx=\"1651.98\" cy=\"495.785\" r=\"14\" fill=\"#009af9\" fill-rule=\"evenodd\" fill-opacity=\"1\" stroke=\"#000000\" stroke-opacity=\"1\" stroke-width=\"3.2\"/>\n",
       "<circle clip-path=\"url(#clip8702)\" cx=\"1688.99\" cy=\"489.045\" r=\"14\" fill=\"#009af9\" fill-rule=\"evenodd\" fill-opacity=\"1\" stroke=\"#000000\" stroke-opacity=\"1\" stroke-width=\"3.2\"/>\n",
       "<circle clip-path=\"url(#clip8702)\" cx=\"1634.1\" cy=\"485.403\" r=\"14\" fill=\"#009af9\" fill-rule=\"evenodd\" fill-opacity=\"1\" stroke=\"#000000\" stroke-opacity=\"1\" stroke-width=\"3.2\"/>\n",
       "<circle clip-path=\"url(#clip8702)\" cx=\"1699.51\" cy=\"480.664\" r=\"14\" fill=\"#009af9\" fill-rule=\"evenodd\" fill-opacity=\"1\" stroke=\"#000000\" stroke-opacity=\"1\" stroke-width=\"3.2\"/>\n",
       "<circle clip-path=\"url(#clip8702)\" cx=\"1665.21\" cy=\"483.953\" r=\"14\" fill=\"#009af9\" fill-rule=\"evenodd\" fill-opacity=\"1\" stroke=\"#000000\" stroke-opacity=\"1\" stroke-width=\"3.2\"/>\n",
       "<circle clip-path=\"url(#clip8702)\" cx=\"1631.88\" cy=\"478.375\" r=\"14\" fill=\"#009af9\" fill-rule=\"evenodd\" fill-opacity=\"1\" stroke=\"#000000\" stroke-opacity=\"1\" stroke-width=\"3.2\"/>\n",
       "<circle clip-path=\"url(#clip8702)\" cx=\"1650.88\" cy=\"446.566\" r=\"14\" fill=\"#009af9\" fill-rule=\"evenodd\" fill-opacity=\"1\" stroke=\"#000000\" stroke-opacity=\"1\" stroke-width=\"3.2\"/>\n",
       "<circle clip-path=\"url(#clip8702)\" cx=\"1647.31\" cy=\"470.461\" r=\"14\" fill=\"#009af9\" fill-rule=\"evenodd\" fill-opacity=\"1\" stroke=\"#000000\" stroke-opacity=\"1\" stroke-width=\"3.2\"/>\n",
       "<circle clip-path=\"url(#clip8702)\" cx=\"1662.92\" cy=\"505.895\" r=\"14\" fill=\"#009af9\" fill-rule=\"evenodd\" fill-opacity=\"1\" stroke=\"#000000\" stroke-opacity=\"1\" stroke-width=\"3.2\"/>\n",
       "<circle clip-path=\"url(#clip8702)\" cx=\"1634.38\" cy=\"498.401\" r=\"14\" fill=\"#009af9\" fill-rule=\"evenodd\" fill-opacity=\"1\" stroke=\"#000000\" stroke-opacity=\"1\" stroke-width=\"3.2\"/>\n",
       "<circle clip-path=\"url(#clip8702)\" cx=\"1635.31\" cy=\"487.561\" r=\"14\" fill=\"#009af9\" fill-rule=\"evenodd\" fill-opacity=\"1\" stroke=\"#000000\" stroke-opacity=\"1\" stroke-width=\"3.2\"/>\n",
       "<circle clip-path=\"url(#clip8702)\" cx=\"1676.71\" cy=\"470.153\" r=\"14\" fill=\"#009af9\" fill-rule=\"evenodd\" fill-opacity=\"1\" stroke=\"#000000\" stroke-opacity=\"1\" stroke-width=\"3.2\"/>\n",
       "<circle clip-path=\"url(#clip8702)\" cx=\"1671.08\" cy=\"469.435\" r=\"14\" fill=\"#009af9\" fill-rule=\"evenodd\" fill-opacity=\"1\" stroke=\"#000000\" stroke-opacity=\"1\" stroke-width=\"3.2\"/>\n",
       "<circle clip-path=\"url(#clip8702)\" cx=\"1626.4\" cy=\"458.325\" r=\"14\" fill=\"#009af9\" fill-rule=\"evenodd\" fill-opacity=\"1\" stroke=\"#000000\" stroke-opacity=\"1\" stroke-width=\"3.2\"/>\n",
       "<circle clip-path=\"url(#clip8702)\" cx=\"1635.69\" cy=\"492.461\" r=\"14\" fill=\"#009af9\" fill-rule=\"evenodd\" fill-opacity=\"1\" stroke=\"#000000\" stroke-opacity=\"1\" stroke-width=\"3.2\"/>\n",
       "<circle clip-path=\"url(#clip8702)\" cx=\"1636.63\" cy=\"437.144\" r=\"14\" fill=\"#009af9\" fill-rule=\"evenodd\" fill-opacity=\"1\" stroke=\"#000000\" stroke-opacity=\"1\" stroke-width=\"3.2\"/>\n",
       "<circle clip-path=\"url(#clip8702)\" cx=\"1664.51\" cy=\"461.534\" r=\"14\" fill=\"#009af9\" fill-rule=\"evenodd\" fill-opacity=\"1\" stroke=\"#000000\" stroke-opacity=\"1\" stroke-width=\"3.2\"/>\n",
       "<circle clip-path=\"url(#clip8702)\" cx=\"1648.28\" cy=\"497.074\" r=\"14\" fill=\"#009af9\" fill-rule=\"evenodd\" fill-opacity=\"1\" stroke=\"#000000\" stroke-opacity=\"1\" stroke-width=\"3.2\"/>\n",
       "<circle clip-path=\"url(#clip8702)\" cx=\"1634.38\" cy=\"498.401\" r=\"14\" fill=\"#009af9\" fill-rule=\"evenodd\" fill-opacity=\"1\" stroke=\"#000000\" stroke-opacity=\"1\" stroke-width=\"3.2\"/>\n",
       "<circle clip-path=\"url(#clip8702)\" cx=\"1642.5\" cy=\"457.952\" r=\"14\" fill=\"#009af9\" fill-rule=\"evenodd\" fill-opacity=\"1\" stroke=\"#000000\" stroke-opacity=\"1\" stroke-width=\"3.2\"/>\n",
       "<circle clip-path=\"url(#clip8702)\" cx=\"1620.96\" cy=\"504.164\" r=\"14\" fill=\"#009af9\" fill-rule=\"evenodd\" fill-opacity=\"1\" stroke=\"#000000\" stroke-opacity=\"1\" stroke-width=\"3.2\"/>\n",
       "<circle clip-path=\"url(#clip8702)\" cx=\"1641.42\" cy=\"473.232\" r=\"14\" fill=\"#009af9\" fill-rule=\"evenodd\" fill-opacity=\"1\" stroke=\"#000000\" stroke-opacity=\"1\" stroke-width=\"3.2\"/>\n",
       "<circle clip-path=\"url(#clip8702)\" cx=\"1670.24\" cy=\"459.851\" r=\"14\" fill=\"#009af9\" fill-rule=\"evenodd\" fill-opacity=\"1\" stroke=\"#000000\" stroke-opacity=\"1\" stroke-width=\"3.2\"/>\n",
       "<circle clip-path=\"url(#clip8702)\" cx=\"1644.16\" cy=\"488.743\" r=\"14\" fill=\"#009af9\" fill-rule=\"evenodd\" fill-opacity=\"1\" stroke=\"#000000\" stroke-opacity=\"1\" stroke-width=\"3.2\"/>\n",
       "<circle clip-path=\"url(#clip8702)\" cx=\"1640.9\" cy=\"452.783\" r=\"14\" fill=\"#009af9\" fill-rule=\"evenodd\" fill-opacity=\"1\" stroke=\"#000000\" stroke-opacity=\"1\" stroke-width=\"3.2\"/>\n",
       "<circle clip-path=\"url(#clip8702)\" cx=\"1653.1\" cy=\"488.493\" r=\"14\" fill=\"#009af9\" fill-rule=\"evenodd\" fill-opacity=\"1\" stroke=\"#000000\" stroke-opacity=\"1\" stroke-width=\"3.2\"/>\n",
       "<circle clip-path=\"url(#clip8702)\" cx=\"1664.81\" cy=\"484.034\" r=\"14\" fill=\"#009af9\" fill-rule=\"evenodd\" fill-opacity=\"1\" stroke=\"#000000\" stroke-opacity=\"1\" stroke-width=\"3.2\"/>\n",
       "<circle clip-path=\"url(#clip8702)\" cx=\"1675.93\" cy=\"504.204\" r=\"14\" fill=\"#009af9\" fill-rule=\"evenodd\" fill-opacity=\"1\" stroke=\"#000000\" stroke-opacity=\"1\" stroke-width=\"3.2\"/>\n",
       "<circle clip-path=\"url(#clip8702)\" cx=\"1639.52\" cy=\"479.154\" r=\"14\" fill=\"#009af9\" fill-rule=\"evenodd\" fill-opacity=\"1\" stroke=\"#000000\" stroke-opacity=\"1\" stroke-width=\"3.2\"/>\n",
       "<circle clip-path=\"url(#clip8702)\" cx=\"1653.17\" cy=\"482.925\" r=\"14\" fill=\"#009af9\" fill-rule=\"evenodd\" fill-opacity=\"1\" stroke=\"#000000\" stroke-opacity=\"1\" stroke-width=\"3.2\"/>\n",
       "<circle clip-path=\"url(#clip8702)\" cx=\"1665.96\" cy=\"501.387\" r=\"14\" fill=\"#009af9\" fill-rule=\"evenodd\" fill-opacity=\"1\" stroke=\"#000000\" stroke-opacity=\"1\" stroke-width=\"3.2\"/>\n",
       "<circle clip-path=\"url(#clip8702)\" cx=\"1647.39\" cy=\"492.678\" r=\"14\" fill=\"#009af9\" fill-rule=\"evenodd\" fill-opacity=\"1\" stroke=\"#000000\" stroke-opacity=\"1\" stroke-width=\"3.2\"/>\n",
       "<circle clip-path=\"url(#clip8702)\" cx=\"1611.06\" cy=\"442.396\" r=\"14\" fill=\"#009af9\" fill-rule=\"evenodd\" fill-opacity=\"1\" stroke=\"#000000\" stroke-opacity=\"1\" stroke-width=\"3.2\"/>\n",
       "<circle clip-path=\"url(#clip8702)\" cx=\"1620.63\" cy=\"479.51\" r=\"14\" fill=\"#009af9\" fill-rule=\"evenodd\" fill-opacity=\"1\" stroke=\"#000000\" stroke-opacity=\"1\" stroke-width=\"3.2\"/>\n",
       "<circle clip-path=\"url(#clip8702)\" cx=\"1665.02\" cy=\"486.738\" r=\"14\" fill=\"#009af9\" fill-rule=\"evenodd\" fill-opacity=\"1\" stroke=\"#000000\" stroke-opacity=\"1\" stroke-width=\"3.2\"/>\n",
       "<circle clip-path=\"url(#clip8702)\" cx=\"1657.89\" cy=\"489.259\" r=\"14\" fill=\"#009af9\" fill-rule=\"evenodd\" fill-opacity=\"1\" stroke=\"#000000\" stroke-opacity=\"1\" stroke-width=\"3.2\"/>\n",
       "<circle clip-path=\"url(#clip8702)\" cx=\"1665.09\" cy=\"497.032\" r=\"14\" fill=\"#009af9\" fill-rule=\"evenodd\" fill-opacity=\"1\" stroke=\"#000000\" stroke-opacity=\"1\" stroke-width=\"3.2\"/>\n",
       "<circle clip-path=\"url(#clip8702)\" cx=\"1652.37\" cy=\"505.048\" r=\"14\" fill=\"#009af9\" fill-rule=\"evenodd\" fill-opacity=\"1\" stroke=\"#000000\" stroke-opacity=\"1\" stroke-width=\"3.2\"/>\n",
       "<circle clip-path=\"url(#clip8702)\" cx=\"1628.4\" cy=\"499.224\" r=\"14\" fill=\"#009af9\" fill-rule=\"evenodd\" fill-opacity=\"1\" stroke=\"#000000\" stroke-opacity=\"1\" stroke-width=\"3.2\"/>\n",
       "<circle clip-path=\"url(#clip8702)\" cx=\"1635.44\" cy=\"483.738\" r=\"14\" fill=\"#009af9\" fill-rule=\"evenodd\" fill-opacity=\"1\" stroke=\"#000000\" stroke-opacity=\"1\" stroke-width=\"3.2\"/>\n",
       "<circle clip-path=\"url(#clip8702)\" cx=\"1626.23\" cy=\"493.926\" r=\"14\" fill=\"#009af9\" fill-rule=\"evenodd\" fill-opacity=\"1\" stroke=\"#000000\" stroke-opacity=\"1\" stroke-width=\"3.2\"/>\n",
       "<circle clip-path=\"url(#clip8702)\" cx=\"1621.05\" cy=\"463.032\" r=\"14\" fill=\"#009af9\" fill-rule=\"evenodd\" fill-opacity=\"1\" stroke=\"#000000\" stroke-opacity=\"1\" stroke-width=\"3.2\"/>\n",
       "<circle clip-path=\"url(#clip8702)\" cx=\"1663.04\" cy=\"502.173\" r=\"14\" fill=\"#009af9\" fill-rule=\"evenodd\" fill-opacity=\"1\" stroke=\"#000000\" stroke-opacity=\"1\" stroke-width=\"3.2\"/>\n",
       "<circle clip-path=\"url(#clip8702)\" cx=\"1656.02\" cy=\"459.057\" r=\"14\" fill=\"#009af9\" fill-rule=\"evenodd\" fill-opacity=\"1\" stroke=\"#000000\" stroke-opacity=\"1\" stroke-width=\"3.2\"/>\n",
       "<circle clip-path=\"url(#clip8702)\" cx=\"1681.15\" cy=\"461.166\" r=\"14\" fill=\"#009af9\" fill-rule=\"evenodd\" fill-opacity=\"1\" stroke=\"#000000\" stroke-opacity=\"1\" stroke-width=\"3.2\"/>\n",
       "<circle clip-path=\"url(#clip8702)\" cx=\"1596.14\" cy=\"478.958\" r=\"14\" fill=\"#009af9\" fill-rule=\"evenodd\" fill-opacity=\"1\" stroke=\"#000000\" stroke-opacity=\"1\" stroke-width=\"3.2\"/>\n",
       "<circle clip-path=\"url(#clip8702)\" cx=\"1629.76\" cy=\"490.779\" r=\"14\" fill=\"#009af9\" fill-rule=\"evenodd\" fill-opacity=\"1\" stroke=\"#000000\" stroke-opacity=\"1\" stroke-width=\"3.2\"/>\n",
       "<circle clip-path=\"url(#clip8702)\" cx=\"1679.29\" cy=\"470.639\" r=\"14\" fill=\"#009af9\" fill-rule=\"evenodd\" fill-opacity=\"1\" stroke=\"#000000\" stroke-opacity=\"1\" stroke-width=\"3.2\"/>\n",
       "<circle clip-path=\"url(#clip8702)\" cx=\"1643.48\" cy=\"501.677\" r=\"14\" fill=\"#009af9\" fill-rule=\"evenodd\" fill-opacity=\"1\" stroke=\"#000000\" stroke-opacity=\"1\" stroke-width=\"3.2\"/>\n",
       "<circle clip-path=\"url(#clip8702)\" cx=\"1604.16\" cy=\"506.362\" r=\"14\" fill=\"#009af9\" fill-rule=\"evenodd\" fill-opacity=\"1\" stroke=\"#000000\" stroke-opacity=\"1\" stroke-width=\"3.2\"/>\n",
       "<circle clip-path=\"url(#clip8702)\" cx=\"1638.36\" cy=\"499.303\" r=\"14\" fill=\"#009af9\" fill-rule=\"evenodd\" fill-opacity=\"1\" stroke=\"#000000\" stroke-opacity=\"1\" stroke-width=\"3.2\"/>\n",
       "<circle clip-path=\"url(#clip8702)\" cx=\"1650.35\" cy=\"487.017\" r=\"14\" fill=\"#009af9\" fill-rule=\"evenodd\" fill-opacity=\"1\" stroke=\"#000000\" stroke-opacity=\"1\" stroke-width=\"3.2\"/>\n",
       "<circle clip-path=\"url(#clip8702)\" cx=\"1615.06\" cy=\"462.558\" r=\"14\" fill=\"#009af9\" fill-rule=\"evenodd\" fill-opacity=\"1\" stroke=\"#000000\" stroke-opacity=\"1\" stroke-width=\"3.2\"/>\n",
       "<circle clip-path=\"url(#clip8702)\" cx=\"1605.39\" cy=\"493.446\" r=\"14\" fill=\"#009af9\" fill-rule=\"evenodd\" fill-opacity=\"1\" stroke=\"#000000\" stroke-opacity=\"1\" stroke-width=\"3.2\"/>\n",
       "<circle clip-path=\"url(#clip8702)\" cx=\"1626.67\" cy=\"472.15\" r=\"14\" fill=\"#009af9\" fill-rule=\"evenodd\" fill-opacity=\"1\" stroke=\"#000000\" stroke-opacity=\"1\" stroke-width=\"3.2\"/>\n",
       "<circle clip-path=\"url(#clip8702)\" cx=\"1613.54\" cy=\"522.637\" r=\"14\" fill=\"#009af9\" fill-rule=\"evenodd\" fill-opacity=\"1\" stroke=\"#000000\" stroke-opacity=\"1\" stroke-width=\"3.2\"/>\n",
       "<circle clip-path=\"url(#clip8702)\" cx=\"1640.87\" cy=\"477.396\" r=\"14\" fill=\"#009af9\" fill-rule=\"evenodd\" fill-opacity=\"1\" stroke=\"#000000\" stroke-opacity=\"1\" stroke-width=\"3.2\"/>\n",
       "<circle clip-path=\"url(#clip8702)\" cx=\"1591.3\" cy=\"502.54\" r=\"14\" fill=\"#009af9\" fill-rule=\"evenodd\" fill-opacity=\"1\" stroke=\"#000000\" stroke-opacity=\"1\" stroke-width=\"3.2\"/>\n",
       "<circle clip-path=\"url(#clip8702)\" cx=\"1623.54\" cy=\"487.106\" r=\"14\" fill=\"#009af9\" fill-rule=\"evenodd\" fill-opacity=\"1\" stroke=\"#000000\" stroke-opacity=\"1\" stroke-width=\"3.2\"/>\n",
       "<circle clip-path=\"url(#clip8702)\" cx=\"1611.07\" cy=\"477.926\" r=\"14\" fill=\"#009af9\" fill-rule=\"evenodd\" fill-opacity=\"1\" stroke=\"#000000\" stroke-opacity=\"1\" stroke-width=\"3.2\"/>\n",
       "<circle clip-path=\"url(#clip8702)\" cx=\"1686.18\" cy=\"476.144\" r=\"14\" fill=\"#009af9\" fill-rule=\"evenodd\" fill-opacity=\"1\" stroke=\"#000000\" stroke-opacity=\"1\" stroke-width=\"3.2\"/>\n",
       "<circle clip-path=\"url(#clip8702)\" cx=\"1681.15\" cy=\"461.166\" r=\"14\" fill=\"#009af9\" fill-rule=\"evenodd\" fill-opacity=\"1\" stroke=\"#000000\" stroke-opacity=\"1\" stroke-width=\"3.2\"/>\n",
       "<circle clip-path=\"url(#clip8702)\" cx=\"1648.28\" cy=\"497.074\" r=\"14\" fill=\"#009af9\" fill-rule=\"evenodd\" fill-opacity=\"1\" stroke=\"#000000\" stroke-opacity=\"1\" stroke-width=\"3.2\"/>\n",
       "<circle clip-path=\"url(#clip8702)\" cx=\"1669.3\" cy=\"488.625\" r=\"14\" fill=\"#009af9\" fill-rule=\"evenodd\" fill-opacity=\"1\" stroke=\"#000000\" stroke-opacity=\"1\" stroke-width=\"3.2\"/>\n",
       "<circle clip-path=\"url(#clip8702)\" cx=\"1626.23\" cy=\"493.926\" r=\"14\" fill=\"#009af9\" fill-rule=\"evenodd\" fill-opacity=\"1\" stroke=\"#000000\" stroke-opacity=\"1\" stroke-width=\"3.2\"/>\n",
       "<circle clip-path=\"url(#clip8702)\" cx=\"1644.21\" cy=\"494.969\" r=\"14\" fill=\"#009af9\" fill-rule=\"evenodd\" fill-opacity=\"1\" stroke=\"#000000\" stroke-opacity=\"1\" stroke-width=\"3.2\"/>\n",
       "<circle clip-path=\"url(#clip8702)\" cx=\"1615.32\" cy=\"496.561\" r=\"14\" fill=\"#009af9\" fill-rule=\"evenodd\" fill-opacity=\"1\" stroke=\"#000000\" stroke-opacity=\"1\" stroke-width=\"3.2\"/>\n",
       "<circle clip-path=\"url(#clip8702)\" cx=\"1664.96\" cy=\"460.771\" r=\"14\" fill=\"#009af9\" fill-rule=\"evenodd\" fill-opacity=\"1\" stroke=\"#000000\" stroke-opacity=\"1\" stroke-width=\"3.2\"/>\n",
       "<circle clip-path=\"url(#clip8702)\" cx=\"1663.49\" cy=\"502.13\" r=\"14\" fill=\"#009af9\" fill-rule=\"evenodd\" fill-opacity=\"1\" stroke=\"#000000\" stroke-opacity=\"1\" stroke-width=\"3.2\"/>\n",
       "<circle clip-path=\"url(#clip8702)\" cx=\"1611.38\" cy=\"440.955\" r=\"14\" fill=\"#009af9\" fill-rule=\"evenodd\" fill-opacity=\"1\" stroke=\"#000000\" stroke-opacity=\"1\" stroke-width=\"3.2\"/>\n",
       "<circle clip-path=\"url(#clip8702)\" cx=\"1653.16\" cy=\"456.634\" r=\"14\" fill=\"#009af9\" fill-rule=\"evenodd\" fill-opacity=\"1\" stroke=\"#000000\" stroke-opacity=\"1\" stroke-width=\"3.2\"/>\n",
       "<circle clip-path=\"url(#clip8702)\" cx=\"1695.3\" cy=\"489.071\" r=\"14\" fill=\"#009af9\" fill-rule=\"evenodd\" fill-opacity=\"1\" stroke=\"#000000\" stroke-opacity=\"1\" stroke-width=\"3.2\"/>\n",
       "<circle clip-path=\"url(#clip8702)\" cx=\"1675.02\" cy=\"481.129\" r=\"14\" fill=\"#009af9\" fill-rule=\"evenodd\" fill-opacity=\"1\" stroke=\"#000000\" stroke-opacity=\"1\" stroke-width=\"3.2\"/>\n",
       "<circle clip-path=\"url(#clip8702)\" cx=\"1630.76\" cy=\"495.533\" r=\"14\" fill=\"#009af9\" fill-rule=\"evenodd\" fill-opacity=\"1\" stroke=\"#000000\" stroke-opacity=\"1\" stroke-width=\"3.2\"/>\n",
       "<circle clip-path=\"url(#clip8702)\" cx=\"1636.63\" cy=\"437.144\" r=\"14\" fill=\"#009af9\" fill-rule=\"evenodd\" fill-opacity=\"1\" stroke=\"#000000\" stroke-opacity=\"1\" stroke-width=\"3.2\"/>\n",
       "<circle clip-path=\"url(#clip8702)\" cx=\"1638.32\" cy=\"475.95\" r=\"14\" fill=\"#009af9\" fill-rule=\"evenodd\" fill-opacity=\"1\" stroke=\"#000000\" stroke-opacity=\"1\" stroke-width=\"3.2\"/>\n",
       "<circle clip-path=\"url(#clip8702)\" cx=\"1599.57\" cy=\"505.916\" r=\"14\" fill=\"#009af9\" fill-rule=\"evenodd\" fill-opacity=\"1\" stroke=\"#000000\" stroke-opacity=\"1\" stroke-width=\"3.2\"/>\n",
       "<circle clip-path=\"url(#clip8702)\" cx=\"1651.01\" cy=\"466.493\" r=\"14\" fill=\"#009af9\" fill-rule=\"evenodd\" fill-opacity=\"1\" stroke=\"#000000\" stroke-opacity=\"1\" stroke-width=\"3.2\"/>\n",
       "<circle clip-path=\"url(#clip8702)\" cx=\"1690.01\" cy=\"483.509\" r=\"14\" fill=\"#009af9\" fill-rule=\"evenodd\" fill-opacity=\"1\" stroke=\"#000000\" stroke-opacity=\"1\" stroke-width=\"3.2\"/>\n",
       "<circle clip-path=\"url(#clip8702)\" cx=\"1610.8\" cy=\"501.84\" r=\"14\" fill=\"#009af9\" fill-rule=\"evenodd\" fill-opacity=\"1\" stroke=\"#000000\" stroke-opacity=\"1\" stroke-width=\"3.2\"/>\n",
       "<circle clip-path=\"url(#clip8702)\" cx=\"1655.71\" cy=\"470.229\" r=\"14\" fill=\"#009af9\" fill-rule=\"evenodd\" fill-opacity=\"1\" stroke=\"#000000\" stroke-opacity=\"1\" stroke-width=\"3.2\"/>\n",
       "<circle clip-path=\"url(#clip8702)\" cx=\"1663.91\" cy=\"468.683\" r=\"14\" fill=\"#009af9\" fill-rule=\"evenodd\" fill-opacity=\"1\" stroke=\"#000000\" stroke-opacity=\"1\" stroke-width=\"3.2\"/>\n",
       "<circle clip-path=\"url(#clip8702)\" cx=\"1669.64\" cy=\"473.308\" r=\"14\" fill=\"#009af9\" fill-rule=\"evenodd\" fill-opacity=\"1\" stroke=\"#000000\" stroke-opacity=\"1\" stroke-width=\"3.2\"/>\n",
       "<circle clip-path=\"url(#clip8702)\" cx=\"1680.6\" cy=\"460.85\" r=\"14\" fill=\"#009af9\" fill-rule=\"evenodd\" fill-opacity=\"1\" stroke=\"#000000\" stroke-opacity=\"1\" stroke-width=\"3.2\"/>\n",
       "<circle clip-path=\"url(#clip8702)\" cx=\"1675.5\" cy=\"488.013\" r=\"14\" fill=\"#009af9\" fill-rule=\"evenodd\" fill-opacity=\"1\" stroke=\"#000000\" stroke-opacity=\"1\" stroke-width=\"3.2\"/>\n",
       "<circle clip-path=\"url(#clip8702)\" cx=\"1666.47\" cy=\"453.336\" r=\"14\" fill=\"#009af9\" fill-rule=\"evenodd\" fill-opacity=\"1\" stroke=\"#000000\" stroke-opacity=\"1\" stroke-width=\"3.2\"/>\n",
       "<circle clip-path=\"url(#clip8702)\" cx=\"1644.21\" cy=\"476.071\" r=\"14\" fill=\"#009af9\" fill-rule=\"evenodd\" fill-opacity=\"1\" stroke=\"#000000\" stroke-opacity=\"1\" stroke-width=\"3.2\"/>\n",
       "<circle clip-path=\"url(#clip8702)\" cx=\"1681.53\" cy=\"476.277\" r=\"14\" fill=\"#009af9\" fill-rule=\"evenodd\" fill-opacity=\"1\" stroke=\"#000000\" stroke-opacity=\"1\" stroke-width=\"3.2\"/>\n",
       "<circle clip-path=\"url(#clip8702)\" cx=\"1626.4\" cy=\"458.325\" r=\"14\" fill=\"#009af9\" fill-rule=\"evenodd\" fill-opacity=\"1\" stroke=\"#000000\" stroke-opacity=\"1\" stroke-width=\"3.2\"/>\n",
       "<circle clip-path=\"url(#clip8702)\" cx=\"1599.89\" cy=\"504.475\" r=\"14\" fill=\"#009af9\" fill-rule=\"evenodd\" fill-opacity=\"1\" stroke=\"#000000\" stroke-opacity=\"1\" stroke-width=\"3.2\"/>\n",
       "<circle clip-path=\"url(#clip8702)\" cx=\"1651.79\" cy=\"475.053\" r=\"14\" fill=\"#009af9\" fill-rule=\"evenodd\" fill-opacity=\"1\" stroke=\"#000000\" stroke-opacity=\"1\" stroke-width=\"3.2\"/>\n",
       "<circle clip-path=\"url(#clip8702)\" cx=\"1632.13\" cy=\"484.197\" r=\"14\" fill=\"#009af9\" fill-rule=\"evenodd\" fill-opacity=\"1\" stroke=\"#000000\" stroke-opacity=\"1\" stroke-width=\"3.2\"/>\n",
       "<circle clip-path=\"url(#clip8702)\" cx=\"1621.82\" cy=\"454.851\" r=\"14\" fill=\"#009af9\" fill-rule=\"evenodd\" fill-opacity=\"1\" stroke=\"#000000\" stroke-opacity=\"1\" stroke-width=\"3.2\"/>\n",
       "<circle clip-path=\"url(#clip8702)\" cx=\"1539.44\" cy=\"408.895\" r=\"14\" fill=\"#e26f46\" fill-rule=\"evenodd\" fill-opacity=\"1\" stroke=\"#000000\" stroke-opacity=\"1\" stroke-width=\"3.2\"/>\n",
       "<circle clip-path=\"url(#clip8702)\" cx=\"1679.9\" cy=\"521.774\" r=\"14\" fill=\"#e26f46\" fill-rule=\"evenodd\" fill-opacity=\"1\" stroke=\"#000000\" stroke-opacity=\"1\" stroke-width=\"3.2\"/>\n",
       "<circle clip-path=\"url(#clip8702)\" cx=\"1521.64\" cy=\"438.307\" r=\"14\" fill=\"#e26f46\" fill-rule=\"evenodd\" fill-opacity=\"1\" stroke=\"#000000\" stroke-opacity=\"1\" stroke-width=\"3.2\"/>\n",
       "<circle clip-path=\"url(#clip8702)\" cx=\"1720.77\" cy=\"486.71\" r=\"14\" fill=\"#e26f46\" fill-rule=\"evenodd\" fill-opacity=\"1\" stroke=\"#000000\" stroke-opacity=\"1\" stroke-width=\"3.2\"/>\n",
       "<circle clip-path=\"url(#clip8702)\" cx=\"1599.83\" cy=\"426.28\" r=\"14\" fill=\"#e26f46\" fill-rule=\"evenodd\" fill-opacity=\"1\" stroke=\"#000000\" stroke-opacity=\"1\" stroke-width=\"3.2\"/>\n",
       "<circle clip-path=\"url(#clip8702)\" cx=\"1590.33\" cy=\"507.884\" r=\"14\" fill=\"#e26f46\" fill-rule=\"evenodd\" fill-opacity=\"1\" stroke=\"#000000\" stroke-opacity=\"1\" stroke-width=\"3.2\"/>\n",
       "<circle clip-path=\"url(#clip8702)\" cx=\"1539.44\" cy=\"408.895\" r=\"14\" fill=\"#e26f46\" fill-rule=\"evenodd\" fill-opacity=\"1\" stroke=\"#000000\" stroke-opacity=\"1\" stroke-width=\"3.2\"/>\n",
       "<circle clip-path=\"url(#clip8702)\" cx=\"1525.59\" cy=\"421.529\" r=\"14\" fill=\"#e26f46\" fill-rule=\"evenodd\" fill-opacity=\"1\" stroke=\"#000000\" stroke-opacity=\"1\" stroke-width=\"3.2\"/>\n",
       "<circle clip-path=\"url(#clip8702)\" cx=\"1622.94\" cy=\"499.312\" r=\"14\" fill=\"#e26f46\" fill-rule=\"evenodd\" fill-opacity=\"1\" stroke=\"#000000\" stroke-opacity=\"1\" stroke-width=\"3.2\"/>\n",
       "<circle clip-path=\"url(#clip8702)\" cx=\"1680.45\" cy=\"469.018\" r=\"14\" fill=\"#e26f46\" fill-rule=\"evenodd\" fill-opacity=\"1\" stroke=\"#000000\" stroke-opacity=\"1\" stroke-width=\"3.2\"/>\n",
       "<circle clip-path=\"url(#clip8702)\" cx=\"1563.37\" cy=\"411.159\" r=\"14\" fill=\"#e26f46\" fill-rule=\"evenodd\" fill-opacity=\"1\" stroke=\"#000000\" stroke-opacity=\"1\" stroke-width=\"3.2\"/>\n",
       "<circle clip-path=\"url(#clip8702)\" cx=\"1609.48\" cy=\"489.648\" r=\"14\" fill=\"#e26f46\" fill-rule=\"evenodd\" fill-opacity=\"1\" stroke=\"#000000\" stroke-opacity=\"1\" stroke-width=\"3.2\"/>\n",
       "<circle clip-path=\"url(#clip8702)\" cx=\"1688.01\" cy=\"460.731\" r=\"14\" fill=\"#e26f46\" fill-rule=\"evenodd\" fill-opacity=\"1\" stroke=\"#000000\" stroke-opacity=\"1\" stroke-width=\"3.2\"/>\n",
       "<circle clip-path=\"url(#clip8702)\" cx=\"1567.07\" cy=\"462.539\" r=\"14\" fill=\"#e26f46\" fill-rule=\"evenodd\" fill-opacity=\"1\" stroke=\"#000000\" stroke-opacity=\"1\" stroke-width=\"3.2\"/>\n",
       "<circle clip-path=\"url(#clip8702)\" cx=\"1697.18\" cy=\"495.651\" r=\"14\" fill=\"#e26f46\" fill-rule=\"evenodd\" fill-opacity=\"1\" stroke=\"#000000\" stroke-opacity=\"1\" stroke-width=\"3.2\"/>\n",
       "<circle clip-path=\"url(#clip8702)\" cx=\"1587.42\" cy=\"473.692\" r=\"14\" fill=\"#e26f46\" fill-rule=\"evenodd\" fill-opacity=\"1\" stroke=\"#000000\" stroke-opacity=\"1\" stroke-width=\"3.2\"/>\n",
       "<circle clip-path=\"url(#clip8702)\" cx=\"1590.33\" cy=\"507.884\" r=\"14\" fill=\"#e26f46\" fill-rule=\"evenodd\" fill-opacity=\"1\" stroke=\"#000000\" stroke-opacity=\"1\" stroke-width=\"3.2\"/>\n",
       "<circle clip-path=\"url(#clip8702)\" cx=\"1708.19\" cy=\"512.1\" r=\"14\" fill=\"#e26f46\" fill-rule=\"evenodd\" fill-opacity=\"1\" stroke=\"#000000\" stroke-opacity=\"1\" stroke-width=\"3.2\"/>\n",
       "<circle clip-path=\"url(#clip8702)\" cx=\"1577.94\" cy=\"422.563\" r=\"14\" fill=\"#e26f46\" fill-rule=\"evenodd\" fill-opacity=\"1\" stroke=\"#000000\" stroke-opacity=\"1\" stroke-width=\"3.2\"/>\n",
       "<circle clip-path=\"url(#clip8702)\" cx=\"1613.48\" cy=\"441.6\" r=\"14\" fill=\"#e26f46\" fill-rule=\"evenodd\" fill-opacity=\"1\" stroke=\"#000000\" stroke-opacity=\"1\" stroke-width=\"3.2\"/>\n",
       "<circle clip-path=\"url(#clip8702)\" cx=\"1674.83\" cy=\"515.892\" r=\"14\" fill=\"#e26f46\" fill-rule=\"evenodd\" fill-opacity=\"1\" stroke=\"#000000\" stroke-opacity=\"1\" stroke-width=\"3.2\"/>\n",
       "<circle clip-path=\"url(#clip8702)\" cx=\"1563.37\" cy=\"411.159\" r=\"14\" fill=\"#e26f46\" fill-rule=\"evenodd\" fill-opacity=\"1\" stroke=\"#000000\" stroke-opacity=\"1\" stroke-width=\"3.2\"/>\n",
       "<circle clip-path=\"url(#clip8702)\" cx=\"1575.99\" cy=\"418.832\" r=\"14\" fill=\"#e26f46\" fill-rule=\"evenodd\" fill-opacity=\"1\" stroke=\"#000000\" stroke-opacity=\"1\" stroke-width=\"3.2\"/>\n",
       "<circle clip-path=\"url(#clip8702)\" cx=\"1653.96\" cy=\"511.875\" r=\"14\" fill=\"#e26f46\" fill-rule=\"evenodd\" fill-opacity=\"1\" stroke=\"#000000\" stroke-opacity=\"1\" stroke-width=\"3.2\"/>\n",
       "<circle clip-path=\"url(#clip8702)\" cx=\"1628.02\" cy=\"454.826\" r=\"14\" fill=\"#e26f46\" fill-rule=\"evenodd\" fill-opacity=\"1\" stroke=\"#000000\" stroke-opacity=\"1\" stroke-width=\"3.2\"/>\n",
       "<circle clip-path=\"url(#clip8702)\" cx=\"1583.28\" cy=\"466.175\" r=\"14\" fill=\"#e26f46\" fill-rule=\"evenodd\" fill-opacity=\"1\" stroke=\"#000000\" stroke-opacity=\"1\" stroke-width=\"3.2\"/>\n",
       "<circle clip-path=\"url(#clip8702)\" cx=\"1677.34\" cy=\"488.779\" r=\"14\" fill=\"#e26f46\" fill-rule=\"evenodd\" fill-opacity=\"1\" stroke=\"#000000\" stroke-opacity=\"1\" stroke-width=\"3.2\"/>\n",
       "<circle clip-path=\"url(#clip8702)\" cx=\"1626.49\" cy=\"449.951\" r=\"14\" fill=\"#e26f46\" fill-rule=\"evenodd\" fill-opacity=\"1\" stroke=\"#000000\" stroke-opacity=\"1\" stroke-width=\"3.2\"/>\n",
       "<circle clip-path=\"url(#clip8702)\" cx=\"1624.04\" cy=\"504.096\" r=\"14\" fill=\"#e26f46\" fill-rule=\"evenodd\" fill-opacity=\"1\" stroke=\"#000000\" stroke-opacity=\"1\" stroke-width=\"3.2\"/>\n",
       "<circle clip-path=\"url(#clip8702)\" cx=\"1671\" cy=\"500.427\" r=\"14\" fill=\"#e26f46\" fill-rule=\"evenodd\" fill-opacity=\"1\" stroke=\"#000000\" stroke-opacity=\"1\" stroke-width=\"3.2\"/>\n",
       "<circle clip-path=\"url(#clip8702)\" cx=\"1617.88\" cy=\"480.176\" r=\"14\" fill=\"#e26f46\" fill-rule=\"evenodd\" fill-opacity=\"1\" stroke=\"#000000\" stroke-opacity=\"1\" stroke-width=\"3.2\"/>\n",
       "<circle clip-path=\"url(#clip8702)\" cx=\"1676.94\" cy=\"509.103\" r=\"14\" fill=\"#e26f46\" fill-rule=\"evenodd\" fill-opacity=\"1\" stroke=\"#000000\" stroke-opacity=\"1\" stroke-width=\"3.2\"/>\n",
       "<circle clip-path=\"url(#clip8702)\" cx=\"1547.3\" cy=\"416.122\" r=\"14\" fill=\"#e26f46\" fill-rule=\"evenodd\" fill-opacity=\"1\" stroke=\"#000000\" stroke-opacity=\"1\" stroke-width=\"3.2\"/>\n",
       "<circle clip-path=\"url(#clip8702)\" cx=\"1596.6\" cy=\"475.921\" r=\"14\" fill=\"#e26f46\" fill-rule=\"evenodd\" fill-opacity=\"1\" stroke=\"#000000\" stroke-opacity=\"1\" stroke-width=\"3.2\"/>\n",
       "<circle clip-path=\"url(#clip8702)\" cx=\"1555.48\" cy=\"425.175\" r=\"14\" fill=\"#e26f46\" fill-rule=\"evenodd\" fill-opacity=\"1\" stroke=\"#000000\" stroke-opacity=\"1\" stroke-width=\"3.2\"/>\n",
       "<circle clip-path=\"url(#clip8702)\" cx=\"1540.38\" cy=\"413.931\" r=\"14\" fill=\"#e26f46\" fill-rule=\"evenodd\" fill-opacity=\"1\" stroke=\"#000000\" stroke-opacity=\"1\" stroke-width=\"3.2\"/>\n",
       "<circle clip-path=\"url(#clip8702)\" cx=\"1607.47\" cy=\"435.945\" r=\"14\" fill=\"#e26f46\" fill-rule=\"evenodd\" fill-opacity=\"1\" stroke=\"#000000\" stroke-opacity=\"1\" stroke-width=\"3.2\"/>\n",
       "<circle clip-path=\"url(#clip8702)\" cx=\"1707.65\" cy=\"477.05\" r=\"14\" fill=\"#e26f46\" fill-rule=\"evenodd\" fill-opacity=\"1\" stroke=\"#000000\" stroke-opacity=\"1\" stroke-width=\"3.2\"/>\n",
       "<circle clip-path=\"url(#clip8702)\" cx=\"1651.85\" cy=\"518.664\" r=\"14\" fill=\"#e26f46\" fill-rule=\"evenodd\" fill-opacity=\"1\" stroke=\"#000000\" stroke-opacity=\"1\" stroke-width=\"3.2\"/>\n",
       "<circle clip-path=\"url(#clip8702)\" cx=\"1640.37\" cy=\"471.095\" r=\"14\" fill=\"#e26f46\" fill-rule=\"evenodd\" fill-opacity=\"1\" stroke=\"#000000\" stroke-opacity=\"1\" stroke-width=\"3.2\"/>\n",
       "<circle clip-path=\"url(#clip8702)\" cx=\"1617.56\" cy=\"447.843\" r=\"14\" fill=\"#e26f46\" fill-rule=\"evenodd\" fill-opacity=\"1\" stroke=\"#000000\" stroke-opacity=\"1\" stroke-width=\"3.2\"/>\n",
       "<circle clip-path=\"url(#clip8702)\" cx=\"1645.16\" cy=\"493.438\" r=\"14\" fill=\"#e26f46\" fill-rule=\"evenodd\" fill-opacity=\"1\" stroke=\"#000000\" stroke-opacity=\"1\" stroke-width=\"3.2\"/>\n",
       "<circle clip-path=\"url(#clip8702)\" cx=\"1586.08\" cy=\"430.731\" r=\"14\" fill=\"#e26f46\" fill-rule=\"evenodd\" fill-opacity=\"1\" stroke=\"#000000\" stroke-opacity=\"1\" stroke-width=\"3.2\"/>\n",
       "<circle clip-path=\"url(#clip8702)\" cx=\"1674.83\" cy=\"515.892\" r=\"14\" fill=\"#e26f46\" fill-rule=\"evenodd\" fill-opacity=\"1\" stroke=\"#000000\" stroke-opacity=\"1\" stroke-width=\"3.2\"/>\n",
       "<circle clip-path=\"url(#clip8702)\" cx=\"1688.42\" cy=\"472.21\" r=\"14\" fill=\"#e26f46\" fill-rule=\"evenodd\" fill-opacity=\"1\" stroke=\"#000000\" stroke-opacity=\"1\" stroke-width=\"3.2\"/>\n",
       "<circle clip-path=\"url(#clip8702)\" cx=\"1695.07\" cy=\"502.44\" r=\"14\" fill=\"#e26f46\" fill-rule=\"evenodd\" fill-opacity=\"1\" stroke=\"#000000\" stroke-opacity=\"1\" stroke-width=\"3.2\"/>\n",
       "<circle clip-path=\"url(#clip8702)\" cx=\"1692.37\" cy=\"455.432\" r=\"14\" fill=\"#e26f46\" fill-rule=\"evenodd\" fill-opacity=\"1\" stroke=\"#000000\" stroke-opacity=\"1\" stroke-width=\"3.2\"/>\n",
       "<circle clip-path=\"url(#clip8702)\" cx=\"1711.4\" cy=\"469.438\" r=\"14\" fill=\"#e26f46\" fill-rule=\"evenodd\" fill-opacity=\"1\" stroke=\"#000000\" stroke-opacity=\"1\" stroke-width=\"3.2\"/>\n",
       "<circle clip-path=\"url(#clip8702)\" cx=\"1571.99\" cy=\"418.182\" r=\"14\" fill=\"#e26f46\" fill-rule=\"evenodd\" fill-opacity=\"1\" stroke=\"#000000\" stroke-opacity=\"1\" stroke-width=\"3.2\"/>\n",
       "<circle clip-path=\"url(#clip8702)\" cx=\"1578.88\" cy=\"427.599\" r=\"14\" fill=\"#e26f46\" fill-rule=\"evenodd\" fill-opacity=\"1\" stroke=\"#000000\" stroke-opacity=\"1\" stroke-width=\"3.2\"/>\n",
       "<circle clip-path=\"url(#clip8702)\" cx=\"1625.59\" cy=\"433.539\" r=\"14\" fill=\"#e26f46\" fill-rule=\"evenodd\" fill-opacity=\"1\" stroke=\"#000000\" stroke-opacity=\"1\" stroke-width=\"3.2\"/>\n",
       "<circle clip-path=\"url(#clip8702)\" cx=\"1604.29\" cy=\"482.809\" r=\"14\" fill=\"#e26f46\" fill-rule=\"evenodd\" fill-opacity=\"1\" stroke=\"#000000\" stroke-opacity=\"1\" stroke-width=\"3.2\"/>\n",
       "<circle clip-path=\"url(#clip8702)\" cx=\"1693.21\" cy=\"494.553\" r=\"14\" fill=\"#e26f46\" fill-rule=\"evenodd\" fill-opacity=\"1\" stroke=\"#000000\" stroke-opacity=\"1\" stroke-width=\"3.2\"/>\n",
       "<circle clip-path=\"url(#clip8702)\" cx=\"1579.66\" cy=\"457.685\" r=\"14\" fill=\"#e26f46\" fill-rule=\"evenodd\" fill-opacity=\"1\" stroke=\"#000000\" stroke-opacity=\"1\" stroke-width=\"3.2\"/>\n",
       "<circle clip-path=\"url(#clip8702)\" cx=\"1549.53\" cy=\"420.794\" r=\"14\" fill=\"#e26f46\" fill-rule=\"evenodd\" fill-opacity=\"1\" stroke=\"#000000\" stroke-opacity=\"1\" stroke-width=\"3.2\"/>\n",
       "<circle clip-path=\"url(#clip8702)\" cx=\"1571.99\" cy=\"418.182\" r=\"14\" fill=\"#e26f46\" fill-rule=\"evenodd\" fill-opacity=\"1\" stroke=\"#000000\" stroke-opacity=\"1\" stroke-width=\"3.2\"/>\n",
       "<circle clip-path=\"url(#clip8702)\" cx=\"1654.89\" cy=\"488.853\" r=\"14\" fill=\"#e26f46\" fill-rule=\"evenodd\" fill-opacity=\"1\" stroke=\"#000000\" stroke-opacity=\"1\" stroke-width=\"3.2\"/>\n",
       "<circle clip-path=\"url(#clip8702)\" cx=\"1677.71\" cy=\"465.107\" r=\"14\" fill=\"#e26f46\" fill-rule=\"evenodd\" fill-opacity=\"1\" stroke=\"#000000\" stroke-opacity=\"1\" stroke-width=\"3.2\"/>\n",
       "<circle clip-path=\"url(#clip8702)\" cx=\"1636.46\" cy=\"438.828\" r=\"14\" fill=\"#e26f46\" fill-rule=\"evenodd\" fill-opacity=\"1\" stroke=\"#000000\" stroke-opacity=\"1\" stroke-width=\"3.2\"/>\n",
       "<circle clip-path=\"url(#clip8702)\" cx=\"1631.69\" cy=\"483.773\" r=\"14\" fill=\"#e26f46\" fill-rule=\"evenodd\" fill-opacity=\"1\" stroke=\"#000000\" stroke-opacity=\"1\" stroke-width=\"3.2\"/>\n",
       "<circle clip-path=\"url(#clip8702)\" cx=\"1568.56\" cy=\"434.8\" r=\"14\" fill=\"#e26f46\" fill-rule=\"evenodd\" fill-opacity=\"1\" stroke=\"#000000\" stroke-opacity=\"1\" stroke-width=\"3.2\"/>\n",
       "<circle clip-path=\"url(#clip8702)\" cx=\"1651.85\" cy=\"518.664\" r=\"14\" fill=\"#e26f46\" fill-rule=\"evenodd\" fill-opacity=\"1\" stroke=\"#000000\" stroke-opacity=\"1\" stroke-width=\"3.2\"/>\n",
       "<circle clip-path=\"url(#clip8702)\" cx=\"1550.48\" cy=\"425.829\" r=\"14\" fill=\"#e26f46\" fill-rule=\"evenodd\" fill-opacity=\"1\" stroke=\"#000000\" stroke-opacity=\"1\" stroke-width=\"3.2\"/>\n",
       "<circle clip-path=\"url(#clip8702)\" cx=\"1661.09\" cy=\"463.952\" r=\"14\" fill=\"#e26f46\" fill-rule=\"evenodd\" fill-opacity=\"1\" stroke=\"#000000\" stroke-opacity=\"1\" stroke-width=\"3.2\"/>\n",
       "<circle clip-path=\"url(#clip8702)\" cx=\"1579.23\" cy=\"416.68\" r=\"14\" fill=\"#e26f46\" fill-rule=\"evenodd\" fill-opacity=\"1\" stroke=\"#000000\" stroke-opacity=\"1\" stroke-width=\"3.2\"/>\n",
       "<circle clip-path=\"url(#clip8702)\" cx=\"1593.37\" cy=\"478.073\" r=\"14\" fill=\"#e26f46\" fill-rule=\"evenodd\" fill-opacity=\"1\" stroke=\"#000000\" stroke-opacity=\"1\" stroke-width=\"3.2\"/>\n",
       "<circle clip-path=\"url(#clip8702)\" cx=\"1635.66\" cy=\"484.871\" r=\"14\" fill=\"#e26f46\" fill-rule=\"evenodd\" fill-opacity=\"1\" stroke=\"#000000\" stroke-opacity=\"1\" stroke-width=\"3.2\"/>\n",
       "<circle clip-path=\"url(#clip8702)\" cx=\"1638.11\" cy=\"466.724\" r=\"14\" fill=\"#e26f46\" fill-rule=\"evenodd\" fill-opacity=\"1\" stroke=\"#000000\" stroke-opacity=\"1\" stroke-width=\"3.2\"/>\n",
       "<circle clip-path=\"url(#clip8702)\" cx=\"1701.23\" cy=\"508.462\" r=\"14\" fill=\"#e26f46\" fill-rule=\"evenodd\" fill-opacity=\"1\" stroke=\"#000000\" stroke-opacity=\"1\" stroke-width=\"3.2\"/>\n",
       "<circle clip-path=\"url(#clip8702)\" cx=\"1622.42\" cy=\"443.708\" r=\"14\" fill=\"#e26f46\" fill-rule=\"evenodd\" fill-opacity=\"1\" stroke=\"#000000\" stroke-opacity=\"1\" stroke-width=\"3.2\"/>\n",
       "<circle clip-path=\"url(#clip8702)\" cx=\"1545.39\" cy=\"413.277\" r=\"14\" fill=\"#e26f46\" fill-rule=\"evenodd\" fill-opacity=\"1\" stroke=\"#000000\" stroke-opacity=\"1\" stroke-width=\"3.2\"/>\n",
       "<circle clip-path=\"url(#clip8702)\" cx=\"1665.03\" cy=\"463.502\" r=\"14\" fill=\"#e26f46\" fill-rule=\"evenodd\" fill-opacity=\"1\" stroke=\"#000000\" stroke-opacity=\"1\" stroke-width=\"3.2\"/>\n",
       "<circle clip-path=\"url(#clip8702)\" cx=\"1601.52\" cy=\"431.564\" r=\"14\" fill=\"#e26f46\" fill-rule=\"evenodd\" fill-opacity=\"1\" stroke=\"#000000\" stroke-opacity=\"1\" stroke-width=\"3.2\"/>\n",
       "<circle clip-path=\"url(#clip8702)\" cx=\"1718.52\" cy=\"482.339\" r=\"14\" fill=\"#e26f46\" fill-rule=\"evenodd\" fill-opacity=\"1\" stroke=\"#000000\" stroke-opacity=\"1\" stroke-width=\"3.2\"/>\n",
       "<circle clip-path=\"url(#clip8702)\" cx=\"1633.22\" cy=\"506.325\" r=\"14\" fill=\"#e26f46\" fill-rule=\"evenodd\" fill-opacity=\"1\" stroke=\"#000000\" stroke-opacity=\"1\" stroke-width=\"3.2\"/>\n",
       "<circle clip-path=\"url(#clip8702)\" cx=\"1718.52\" cy=\"482.339\" r=\"14\" fill=\"#e26f46\" fill-rule=\"evenodd\" fill-opacity=\"1\" stroke=\"#000000\" stroke-opacity=\"1\" stroke-width=\"3.2\"/>\n",
       "<circle clip-path=\"url(#clip8702)\" cx=\"1711.4\" cy=\"469.438\" r=\"14\" fill=\"#e26f46\" fill-rule=\"evenodd\" fill-opacity=\"1\" stroke=\"#000000\" stroke-opacity=\"1\" stroke-width=\"3.2\"/>\n",
       "<circle clip-path=\"url(#clip8702)\" cx=\"1668.99\" cy=\"446.725\" r=\"14\" fill=\"#e26f46\" fill-rule=\"evenodd\" fill-opacity=\"1\" stroke=\"#000000\" stroke-opacity=\"1\" stroke-width=\"3.2\"/>\n",
       "<circle clip-path=\"url(#clip8702)\" cx=\"1679.9\" cy=\"521.774\" r=\"14\" fill=\"#e26f46\" fill-rule=\"evenodd\" fill-opacity=\"1\" stroke=\"#000000\" stroke-opacity=\"1\" stroke-width=\"3.2\"/>\n",
       "<circle clip-path=\"url(#clip8702)\" cx=\"1638.71\" cy=\"443.199\" r=\"14\" fill=\"#e26f46\" fill-rule=\"evenodd\" fill-opacity=\"1\" stroke=\"#000000\" stroke-opacity=\"1\" stroke-width=\"3.2\"/>\n",
       "<circle clip-path=\"url(#clip8702)\" cx=\"1545.39\" cy=\"413.277\" r=\"14\" fill=\"#e26f46\" fill-rule=\"evenodd\" fill-opacity=\"1\" stroke=\"#000000\" stroke-opacity=\"1\" stroke-width=\"3.2\"/>\n",
       "<circle clip-path=\"url(#clip8702)\" cx=\"1591.26\" cy=\"432.309\" r=\"14\" fill=\"#e26f46\" fill-rule=\"evenodd\" fill-opacity=\"1\" stroke=\"#000000\" stroke-opacity=\"1\" stroke-width=\"3.2\"/>\n",
       "<circle clip-path=\"url(#clip8702)\" cx=\"1603.51\" cy=\"452.723\" r=\"14\" fill=\"#e26f46\" fill-rule=\"evenodd\" fill-opacity=\"1\" stroke=\"#000000\" stroke-opacity=\"1\" stroke-width=\"3.2\"/>\n",
       "<circle clip-path=\"url(#clip8702)\" cx=\"1615.61\" cy=\"444.112\" r=\"14\" fill=\"#e26f46\" fill-rule=\"evenodd\" fill-opacity=\"1\" stroke=\"#000000\" stroke-opacity=\"1\" stroke-width=\"3.2\"/>\n",
       "<circle clip-path=\"url(#clip8702)\" cx=\"1720.77\" cy=\"486.71\" r=\"14\" fill=\"#e26f46\" fill-rule=\"evenodd\" fill-opacity=\"1\" stroke=\"#000000\" stroke-opacity=\"1\" stroke-width=\"3.2\"/>\n",
       "<circle clip-path=\"url(#clip8702)\" cx=\"1645.16\" cy=\"493.438\" r=\"14\" fill=\"#e26f46\" fill-rule=\"evenodd\" fill-opacity=\"1\" stroke=\"#000000\" stroke-opacity=\"1\" stroke-width=\"3.2\"/>\n",
       "<circle clip-path=\"url(#clip8702)\" cx=\"1701.23\" cy=\"508.462\" r=\"14\" fill=\"#e26f46\" fill-rule=\"evenodd\" fill-opacity=\"1\" stroke=\"#000000\" stroke-opacity=\"1\" stroke-width=\"3.2\"/>\n",
       "<circle clip-path=\"url(#clip8702)\" cx=\"1568.21\" cy=\"455.647\" r=\"14\" fill=\"#e26f46\" fill-rule=\"evenodd\" fill-opacity=\"1\" stroke=\"#000000\" stroke-opacity=\"1\" stroke-width=\"3.2\"/>\n",
       "<circle clip-path=\"url(#clip8702)\" cx=\"1609.91\" cy=\"464.611\" r=\"14\" fill=\"#e26f46\" fill-rule=\"evenodd\" fill-opacity=\"1\" stroke=\"#000000\" stroke-opacity=\"1\" stroke-width=\"3.2\"/>\n",
       "<circle clip-path=\"url(#clip8702)\" cx=\"1633.22\" cy=\"506.325\" r=\"14\" fill=\"#e26f46\" fill-rule=\"evenodd\" fill-opacity=\"1\" stroke=\"#000000\" stroke-opacity=\"1\" stroke-width=\"3.2\"/>\n",
       "<circle clip-path=\"url(#clip8702)\" cx=\"1612.53\" cy=\"436.564\" r=\"14\" fill=\"#e26f46\" fill-rule=\"evenodd\" fill-opacity=\"1\" stroke=\"#000000\" stroke-opacity=\"1\" stroke-width=\"3.2\"/>\n",
       "<circle clip-path=\"url(#clip8702)\" cx=\"1595.23\" cy=\"485.96\" r=\"14\" fill=\"#e26f46\" fill-rule=\"evenodd\" fill-opacity=\"1\" stroke=\"#000000\" stroke-opacity=\"1\" stroke-width=\"3.2\"/>\n",
       "<circle clip-path=\"url(#clip8702)\" cx=\"1653.07\" cy=\"439.983\" r=\"14\" fill=\"#e26f46\" fill-rule=\"evenodd\" fill-opacity=\"1\" stroke=\"#000000\" stroke-opacity=\"1\" stroke-width=\"3.2\"/>\n",
       "<circle clip-path=\"url(#clip8702)\" cx=\"1649.12\" cy=\"456.761\" r=\"14\" fill=\"#e26f46\" fill-rule=\"evenodd\" fill-opacity=\"1\" stroke=\"#000000\" stroke-opacity=\"1\" stroke-width=\"3.2\"/>\n",
       "<circle clip-path=\"url(#clip8702)\" cx=\"1649.12\" cy=\"456.761\" r=\"14\" fill=\"#e26f46\" fill-rule=\"evenodd\" fill-opacity=\"1\" stroke=\"#000000\" stroke-opacity=\"1\" stroke-width=\"3.2\"/>\n",
       "<circle clip-path=\"url(#clip8702)\" cx=\"1540.38\" cy=\"413.931\" r=\"14\" fill=\"#e26f46\" fill-rule=\"evenodd\" fill-opacity=\"1\" stroke=\"#000000\" stroke-opacity=\"1\" stroke-width=\"3.2\"/>\n",
       "<circle clip-path=\"url(#clip8702)\" cx=\"1667.85\" cy=\"477.539\" r=\"14\" fill=\"#e26f46\" fill-rule=\"evenodd\" fill-opacity=\"1\" stroke=\"#000000\" stroke-opacity=\"1\" stroke-width=\"3.2\"/>\n",
       "<circle clip-path=\"url(#clip8702)\" cx=\"1583.03\" cy=\"435.116\" r=\"14\" fill=\"#e26f46\" fill-rule=\"evenodd\" fill-opacity=\"1\" stroke=\"#000000\" stroke-opacity=\"1\" stroke-width=\"3.2\"/>\n",
       "<circle clip-path=\"url(#clip8702)\" cx=\"1615.73\" cy=\"445.971\" r=\"14\" fill=\"#e26f46\" fill-rule=\"evenodd\" fill-opacity=\"1\" stroke=\"#000000\" stroke-opacity=\"1\" stroke-width=\"3.2\"/>\n",
       "<circle clip-path=\"url(#clip8702)\" cx=\"1555.48\" cy=\"425.175\" r=\"14\" fill=\"#e26f46\" fill-rule=\"evenodd\" fill-opacity=\"1\" stroke=\"#000000\" stroke-opacity=\"1\" stroke-width=\"3.2\"/>\n",
       "<circle clip-path=\"url(#clip8702)\" cx=\"1665.03\" cy=\"463.502\" r=\"14\" fill=\"#e26f46\" fill-rule=\"evenodd\" fill-opacity=\"1\" stroke=\"#000000\" stroke-opacity=\"1\" stroke-width=\"3.2\"/>\n",
       "<circle clip-path=\"url(#clip8702)\" cx=\"1615.82\" cy=\"478\" r=\"14\" fill=\"#e26f46\" fill-rule=\"evenodd\" fill-opacity=\"1\" stroke=\"#000000\" stroke-opacity=\"1\" stroke-width=\"3.2\"/>\n",
       "<circle clip-path=\"url(#clip8702)\" cx=\"1547.3\" cy=\"416.122\" r=\"14\" fill=\"#e26f46\" fill-rule=\"evenodd\" fill-opacity=\"1\" stroke=\"#000000\" stroke-opacity=\"1\" stroke-width=\"3.2\"/>\n",
       "<circle clip-path=\"url(#clip8702)\" cx=\"1650.22\" cy=\"458.663\" r=\"14\" fill=\"#e26f46\" fill-rule=\"evenodd\" fill-opacity=\"1\" stroke=\"#000000\" stroke-opacity=\"1\" stroke-width=\"3.2\"/>\n",
       "<circle clip-path=\"url(#clip8702)\" cx=\"1660.28\" cy=\"480.071\" r=\"14\" fill=\"#e26f46\" fill-rule=\"evenodd\" fill-opacity=\"1\" stroke=\"#000000\" stroke-opacity=\"1\" stroke-width=\"3.2\"/>\n",
       "<circle clip-path=\"url(#clip8702)\" cx=\"1603.51\" cy=\"452.723\" r=\"14\" fill=\"#e26f46\" fill-rule=\"evenodd\" fill-opacity=\"1\" stroke=\"#000000\" stroke-opacity=\"1\" stroke-width=\"3.2\"/>\n",
       "<circle clip-path=\"url(#clip8702)\" cx=\"1640.37\" cy=\"471.095\" r=\"14\" fill=\"#e26f46\" fill-rule=\"evenodd\" fill-opacity=\"1\" stroke=\"#000000\" stroke-opacity=\"1\" stroke-width=\"3.2\"/>\n",
       "<circle clip-path=\"url(#clip8702)\" cx=\"1575.99\" cy=\"418.832\" r=\"14\" fill=\"#e26f46\" fill-rule=\"evenodd\" fill-opacity=\"1\" stroke=\"#000000\" stroke-opacity=\"1\" stroke-width=\"3.2\"/>\n",
       "<circle clip-path=\"url(#clip8702)\" cx=\"1653.07\" cy=\"439.983\" r=\"14\" fill=\"#e26f46\" fill-rule=\"evenodd\" fill-opacity=\"1\" stroke=\"#000000\" stroke-opacity=\"1\" stroke-width=\"3.2\"/>\n",
       "<circle clip-path=\"url(#clip8702)\" cx=\"1549.53\" cy=\"420.794\" r=\"14\" fill=\"#e26f46\" fill-rule=\"evenodd\" fill-opacity=\"1\" stroke=\"#000000\" stroke-opacity=\"1\" stroke-width=\"3.2\"/>\n",
       "<circle clip-path=\"url(#clip8702)\" cx=\"1688.01\" cy=\"460.731\" r=\"14\" fill=\"#e26f46\" fill-rule=\"evenodd\" fill-opacity=\"1\" stroke=\"#000000\" stroke-opacity=\"1\" stroke-width=\"3.2\"/>\n",
       "<circle clip-path=\"url(#clip8702)\" cx=\"1612.53\" cy=\"436.564\" r=\"14\" fill=\"#e26f46\" fill-rule=\"evenodd\" fill-opacity=\"1\" stroke=\"#000000\" stroke-opacity=\"1\" stroke-width=\"3.2\"/>\n",
       "<circle clip-path=\"url(#clip8702)\" cx=\"1550.48\" cy=\"425.829\" r=\"14\" fill=\"#e26f46\" fill-rule=\"evenodd\" fill-opacity=\"1\" stroke=\"#000000\" stroke-opacity=\"1\" stroke-width=\"3.2\"/>\n",
       "<circle clip-path=\"url(#clip8702)\" cx=\"1631.69\" cy=\"483.773\" r=\"14\" fill=\"#e26f46\" fill-rule=\"evenodd\" fill-opacity=\"1\" stroke=\"#000000\" stroke-opacity=\"1\" stroke-width=\"3.2\"/>\n",
       "<circle clip-path=\"url(#clip8702)\" cx=\"1583.03\" cy=\"435.116\" r=\"14\" fill=\"#e26f46\" fill-rule=\"evenodd\" fill-opacity=\"1\" stroke=\"#000000\" stroke-opacity=\"1\" stroke-width=\"3.2\"/>\n",
       "<circle clip-path=\"url(#clip8702)\" cx=\"1599.83\" cy=\"426.28\" r=\"14\" fill=\"#e26f46\" fill-rule=\"evenodd\" fill-opacity=\"1\" stroke=\"#000000\" stroke-opacity=\"1\" stroke-width=\"3.2\"/>\n",
       "<circle clip-path=\"url(#clip8702)\" cx=\"1539.44\" cy=\"408.895\" r=\"14\" fill=\"#e26f46\" fill-rule=\"evenodd\" fill-opacity=\"1\" stroke=\"#000000\" stroke-opacity=\"1\" stroke-width=\"3.2\"/>\n",
       "<circle clip-path=\"url(#clip8702)\" cx=\"1547.3\" cy=\"416.122\" r=\"14\" fill=\"#e26f46\" fill-rule=\"evenodd\" fill-opacity=\"1\" stroke=\"#000000\" stroke-opacity=\"1\" stroke-width=\"3.2\"/>\n",
       "<circle clip-path=\"url(#clip8702)\" cx=\"1650.22\" cy=\"458.663\" r=\"14\" fill=\"#e26f46\" fill-rule=\"evenodd\" fill-opacity=\"1\" stroke=\"#000000\" stroke-opacity=\"1\" stroke-width=\"3.2\"/>\n",
       "<circle clip-path=\"url(#clip8702)\" cx=\"1660.28\" cy=\"480.071\" r=\"14\" fill=\"#e26f46\" fill-rule=\"evenodd\" fill-opacity=\"1\" stroke=\"#000000\" stroke-opacity=\"1\" stroke-width=\"3.2\"/>\n",
       "<circle clip-path=\"url(#clip8702)\" cx=\"1568.21\" cy=\"455.647\" r=\"14\" fill=\"#e26f46\" fill-rule=\"evenodd\" fill-opacity=\"1\" stroke=\"#000000\" stroke-opacity=\"1\" stroke-width=\"3.2\"/>\n",
       "<circle clip-path=\"url(#clip8702)\" cx=\"1545.39\" cy=\"413.277\" r=\"14\" fill=\"#e26f46\" fill-rule=\"evenodd\" fill-opacity=\"1\" stroke=\"#000000\" stroke-opacity=\"1\" stroke-width=\"3.2\"/>\n",
       "<circle clip-path=\"url(#clip8702)\" cx=\"1622.94\" cy=\"499.312\" r=\"14\" fill=\"#e26f46\" fill-rule=\"evenodd\" fill-opacity=\"1\" stroke=\"#000000\" stroke-opacity=\"1\" stroke-width=\"3.2\"/>\n",
       "<circle clip-path=\"url(#clip8702)\" cx=\"1638.11\" cy=\"466.724\" r=\"14\" fill=\"#e26f46\" fill-rule=\"evenodd\" fill-opacity=\"1\" stroke=\"#000000\" stroke-opacity=\"1\" stroke-width=\"3.2\"/>\n",
       "<circle clip-path=\"url(#clip8702)\" cx=\"1563.37\" cy=\"411.159\" r=\"14\" fill=\"#e26f46\" fill-rule=\"evenodd\" fill-opacity=\"1\" stroke=\"#000000\" stroke-opacity=\"1\" stroke-width=\"3.2\"/>\n",
       "<circle clip-path=\"url(#clip8702)\" cx=\"1539.44\" cy=\"408.895\" r=\"14\" fill=\"#e26f46\" fill-rule=\"evenodd\" fill-opacity=\"1\" stroke=\"#000000\" stroke-opacity=\"1\" stroke-width=\"3.2\"/>\n",
       "</svg>\n"
      ]
     },
     "metadata": {},
     "output_type": "display_data"
    }
   ],
   "source": [
    "n = 100\n",
    "n_objectives = 3\n",
    "values = rand(n, n_objectives)\n",
    "values = values ./ sum(values, dims=1)\n",
    "weights = rand(n)\n",
    "weights = weights ./ sum(weights)\n",
    "max_weight = 0.5\n",
    "popsize = 100\n",
    "nbgen = 1000\n",
    "init() = bitrand(n)\n",
    "\n",
    "non_dominated =  nsga_max(popsize, nbgen, objective, init, fCV=constraint)\n",
    "\n",
    "function plot_pop(P)\n",
    "    scatter3d([i.y[1] for i in P], [i.y[2] for i in P],[i.y[3] for i in P], xlims=(0.0, 1.0), ylims=(0.0, 1.0),zlims = (0,1), legend=:none)\n",
    "    ND = filter(indiv -> indiv.rank == 1, P)\n",
    "    scatter!([i.y[1] for i in ND], [i.y[2] for i in ND], legend=:none)\n",
    "end\n",
    "nsga_max(popsize, nbgen, objective, init, fCV=constraint, fplot=plot_pop, plotevery=1, showprogress=false);\n"
   ]
  },
  {
   "cell_type": "markdown",
   "metadata": {
    "slideshow": {
     "slide_type": "slide"
    }
   },
   "source": [
    "Another way to look at the different objectives is to plot the different objectives on the `x` axis and the fitness values on the `y` axis. Each individual in a population is then represented as a line. Let's try this method, increasing the number of objectives to 10."
   ]
  },
  {
   "cell_type": "code",
   "execution_count": 35,
   "metadata": {
    "slideshow": {
     "slide_type": "fragment"
    }
   },
   "outputs": [
    {
     "data": {
      "text/plain": [
       "init (generic function with 1 method)"
      ]
     },
     "execution_count": 35,
     "metadata": {},
     "output_type": "execute_result"
    }
   ],
   "source": [
    "n = 100\n",
    "n_objectives = 10\n",
    "values = rand(n, n_objectives)\n",
    "values = values ./ sum(values, dims=1)\n",
    "weights = rand(n)\n",
    "weights = weights ./ sum(weights)\n",
    "max_weight = 0.5\n",
    "popsize = 100\n",
    "nbgen = 50\n",
    "init() = bitrand(n)"
   ]
  },
  {
   "cell_type": "code",
   "execution_count": 36,
   "metadata": {
    "slideshow": {
     "slide_type": "slide"
    }
   },
   "outputs": [
    {
     "data": {
      "image/svg+xml": [
       "<?xml version=\"1.0\" encoding=\"utf-8\"?>\n",
       "<svg xmlns=\"http://www.w3.org/2000/svg\" xmlns:xlink=\"http://www.w3.org/1999/xlink\" width=\"600\" height=\"400\" viewBox=\"0 0 2400 1600\">\n",
       "<defs>\n",
       "  <clipPath id=\"clip1100\">\n",
       "    <rect x=\"0\" y=\"0\" width=\"2400\" height=\"1600\"/>\n",
       "  </clipPath>\n",
       "</defs>\n",
       "<path clip-path=\"url(#clip1100)\" d=\"\n",
       "M0 1600 L2400 1600 L2400 0 L0 0  Z\n",
       "  \" fill=\"#ffffff\" fill-rule=\"evenodd\" fill-opacity=\"1\"/>\n",
       "<defs>\n",
       "  <clipPath id=\"clip1101\">\n",
       "    <rect x=\"480\" y=\"0\" width=\"1681\" height=\"1600\"/>\n",
       "  </clipPath>\n",
       "</defs>\n",
       "<path clip-path=\"url(#clip1100)\" d=\"\n",
       "M175.024 1486.45 L2352.76 1486.45 L2352.76 47.2441 L175.024 47.2441  Z\n",
       "  \" fill=\"#ffffff\" fill-rule=\"evenodd\" fill-opacity=\"1\"/>\n",
       "<defs>\n",
       "  <clipPath id=\"clip1102\">\n",
       "    <rect x=\"175\" y=\"47\" width=\"2179\" height=\"1440\"/>\n",
       "  </clipPath>\n",
       "</defs>\n",
       "<polyline clip-path=\"url(#clip1102)\" style=\"stroke:#000000; stroke-width:2; stroke-opacity:0.1; fill:none\" points=\"\n",
       "  416.994,1486.45 416.994,47.2441 \n",
       "  \"/>\n",
       "<polyline clip-path=\"url(#clip1102)\" style=\"stroke:#000000; stroke-width:2; stroke-opacity:0.1; fill:none\" points=\"\n",
       "  900.935,1486.45 900.935,47.2441 \n",
       "  \"/>\n",
       "<polyline clip-path=\"url(#clip1102)\" style=\"stroke:#000000; stroke-width:2; stroke-opacity:0.1; fill:none\" points=\"\n",
       "  1384.88,1486.45 1384.88,47.2441 \n",
       "  \"/>\n",
       "<polyline clip-path=\"url(#clip1102)\" style=\"stroke:#000000; stroke-width:2; stroke-opacity:0.1; fill:none\" points=\"\n",
       "  1868.82,1486.45 1868.82,47.2441 \n",
       "  \"/>\n",
       "<polyline clip-path=\"url(#clip1102)\" style=\"stroke:#000000; stroke-width:2; stroke-opacity:0.1; fill:none\" points=\"\n",
       "  2352.76,1486.45 2352.76,47.2441 \n",
       "  \"/>\n",
       "<polyline clip-path=\"url(#clip1102)\" style=\"stroke:#000000; stroke-width:2; stroke-opacity:0.1; fill:none\" points=\"\n",
       "  175.024,1343.62 2352.76,1343.62 \n",
       "  \"/>\n",
       "<polyline clip-path=\"url(#clip1102)\" style=\"stroke:#000000; stroke-width:2; stroke-opacity:0.1; fill:none\" points=\"\n",
       "  175.024,1104.92 2352.76,1104.92 \n",
       "  \"/>\n",
       "<polyline clip-path=\"url(#clip1102)\" style=\"stroke:#000000; stroke-width:2; stroke-opacity:0.1; fill:none\" points=\"\n",
       "  175.024,866.213 2352.76,866.213 \n",
       "  \"/>\n",
       "<polyline clip-path=\"url(#clip1102)\" style=\"stroke:#000000; stroke-width:2; stroke-opacity:0.1; fill:none\" points=\"\n",
       "  175.024,627.508 2352.76,627.508 \n",
       "  \"/>\n",
       "<polyline clip-path=\"url(#clip1102)\" style=\"stroke:#000000; stroke-width:2; stroke-opacity:0.1; fill:none\" points=\"\n",
       "  175.024,388.803 2352.76,388.803 \n",
       "  \"/>\n",
       "<polyline clip-path=\"url(#clip1102)\" style=\"stroke:#000000; stroke-width:2; stroke-opacity:0.1; fill:none\" points=\"\n",
       "  175.024,150.098 2352.76,150.098 \n",
       "  \"/>\n",
       "<polyline clip-path=\"url(#clip1100)\" style=\"stroke:#000000; stroke-width:4; stroke-opacity:1; fill:none\" points=\"\n",
       "  175.024,1486.45 2352.76,1486.45 \n",
       "  \"/>\n",
       "<polyline clip-path=\"url(#clip1100)\" style=\"stroke:#000000; stroke-width:4; stroke-opacity:1; fill:none\" points=\"\n",
       "  175.024,1486.45 175.024,47.2441 \n",
       "  \"/>\n",
       "<polyline clip-path=\"url(#clip1100)\" style=\"stroke:#000000; stroke-width:4; stroke-opacity:1; fill:none\" points=\"\n",
       "  416.994,1486.45 416.994,1469.18 \n",
       "  \"/>\n",
       "<polyline clip-path=\"url(#clip1100)\" style=\"stroke:#000000; stroke-width:4; stroke-opacity:1; fill:none\" points=\"\n",
       "  900.935,1486.45 900.935,1469.18 \n",
       "  \"/>\n",
       "<polyline clip-path=\"url(#clip1100)\" style=\"stroke:#000000; stroke-width:4; stroke-opacity:1; fill:none\" points=\"\n",
       "  1384.88,1486.45 1384.88,1469.18 \n",
       "  \"/>\n",
       "<polyline clip-path=\"url(#clip1100)\" style=\"stroke:#000000; stroke-width:4; stroke-opacity:1; fill:none\" points=\"\n",
       "  1868.82,1486.45 1868.82,1469.18 \n",
       "  \"/>\n",
       "<polyline clip-path=\"url(#clip1100)\" style=\"stroke:#000000; stroke-width:4; stroke-opacity:1; fill:none\" points=\"\n",
       "  2352.76,1486.45 2352.76,1469.18 \n",
       "  \"/>\n",
       "<polyline clip-path=\"url(#clip1100)\" style=\"stroke:#000000; stroke-width:4; stroke-opacity:1; fill:none\" points=\"\n",
       "  175.024,1343.62 201.157,1343.62 \n",
       "  \"/>\n",
       "<polyline clip-path=\"url(#clip1100)\" style=\"stroke:#000000; stroke-width:4; stroke-opacity:1; fill:none\" points=\"\n",
       "  175.024,1104.92 201.157,1104.92 \n",
       "  \"/>\n",
       "<polyline clip-path=\"url(#clip1100)\" style=\"stroke:#000000; stroke-width:4; stroke-opacity:1; fill:none\" points=\"\n",
       "  175.024,866.213 201.157,866.213 \n",
       "  \"/>\n",
       "<polyline clip-path=\"url(#clip1100)\" style=\"stroke:#000000; stroke-width:4; stroke-opacity:1; fill:none\" points=\"\n",
       "  175.024,627.508 201.157,627.508 \n",
       "  \"/>\n",
       "<polyline clip-path=\"url(#clip1100)\" style=\"stroke:#000000; stroke-width:4; stroke-opacity:1; fill:none\" points=\"\n",
       "  175.024,388.803 201.157,388.803 \n",
       "  \"/>\n",
       "<polyline clip-path=\"url(#clip1100)\" style=\"stroke:#000000; stroke-width:4; stroke-opacity:1; fill:none\" points=\"\n",
       "  175.024,150.098 201.157,150.098 \n",
       "  \"/>\n",
       "<path clip-path=\"url(#clip1100)\" d=\"M 0 0 M411.647 1535.98 L427.966 1535.98 L427.966 1539.92 L406.022 1539.92 L406.022 1535.98 Q408.684 1533.23 413.267 1528.6 Q417.874 1523.95 419.054 1522.61 Q421.3 1520.08 422.179 1518.35 Q423.082 1516.59 423.082 1514.9 Q423.082 1512.14 421.138 1510.41 Q419.216 1508.67 416.115 1508.67 Q413.916 1508.67 411.462 1509.43 Q409.031 1510.2 406.254 1511.75 L406.254 1507.03 Q409.078 1505.89 411.531 1505.31 Q413.985 1504.73 416.022 1504.73 Q421.392 1504.73 424.587 1507.42 Q427.781 1510.11 427.781 1514.6 Q427.781 1516.73 426.971 1518.65 Q426.184 1520.54 424.078 1523.14 Q423.499 1523.81 420.397 1527.03 Q417.295 1530.22 411.647 1535.98 Z\" fill=\"#000000\" fill-rule=\"evenodd\" fill-opacity=\"1\" /><path clip-path=\"url(#clip1100)\" d=\"M 0 0 M903.944 1509.43 L892.138 1527.88 L903.944 1527.88 L903.944 1509.43 M902.717 1505.36 L908.597 1505.36 L908.597 1527.88 L913.527 1527.88 L913.527 1531.77 L908.597 1531.77 L908.597 1539.92 L903.944 1539.92 L903.944 1531.77 L888.342 1531.77 L888.342 1527.26 L902.717 1505.36 Z\" fill=\"#000000\" fill-rule=\"evenodd\" fill-opacity=\"1\" /><path clip-path=\"url(#clip1100)\" d=\"M 0 0 M1385.28 1520.78 Q1382.13 1520.78 1380.28 1522.93 Q1378.45 1525.08 1378.45 1528.83 Q1378.45 1532.56 1380.28 1534.73 Q1382.13 1536.89 1385.28 1536.89 Q1388.43 1536.89 1390.26 1534.73 Q1392.11 1532.56 1392.11 1528.83 Q1392.11 1525.08 1390.26 1522.93 Q1388.43 1520.78 1385.28 1520.78 M1394.56 1506.12 L1394.56 1510.38 Q1392.8 1509.55 1391 1509.11 Q1389.22 1508.67 1387.46 1508.67 Q1382.83 1508.67 1380.37 1511.8 Q1377.94 1514.92 1377.6 1521.24 Q1378.96 1519.23 1381.02 1518.16 Q1383.08 1517.07 1385.56 1517.07 Q1390.77 1517.07 1393.78 1520.24 Q1396.81 1523.39 1396.81 1528.83 Q1396.81 1534.16 1393.66 1537.37 Q1390.51 1540.59 1385.28 1540.59 Q1379.28 1540.59 1376.11 1536.01 Q1372.94 1531.4 1372.94 1522.67 Q1372.94 1514.48 1376.83 1509.62 Q1380.72 1504.73 1387.27 1504.73 Q1389.03 1504.73 1390.81 1505.08 Q1392.62 1505.43 1394.56 1506.12 Z\" fill=\"#000000\" fill-rule=\"evenodd\" fill-opacity=\"1\" /><path clip-path=\"url(#clip1100)\" d=\"M 0 0 M1868.82 1523.51 Q1865.48 1523.51 1863.56 1525.29 Q1861.66 1527.07 1861.66 1530.2 Q1861.66 1533.32 1863.56 1535.11 Q1865.48 1536.89 1868.82 1536.89 Q1872.15 1536.89 1874.07 1535.11 Q1875.99 1533.3 1875.99 1530.2 Q1875.99 1527.07 1874.07 1525.29 Q1872.17 1523.51 1868.82 1523.51 M1864.14 1521.52 Q1861.13 1520.78 1859.44 1518.72 Q1857.77 1516.66 1857.77 1513.69 Q1857.77 1509.55 1860.71 1507.14 Q1863.68 1504.73 1868.82 1504.73 Q1873.98 1504.73 1876.92 1507.14 Q1879.86 1509.55 1879.86 1513.69 Q1879.86 1516.66 1878.17 1518.72 Q1876.5 1520.78 1873.51 1521.52 Q1876.89 1522.3 1878.77 1524.6 Q1880.67 1526.89 1880.67 1530.2 Q1880.67 1535.22 1877.59 1537.91 Q1874.53 1540.59 1868.82 1540.59 Q1863.1 1540.59 1860.02 1537.91 Q1856.96 1535.22 1856.96 1530.2 Q1856.96 1526.89 1858.86 1524.6 Q1860.76 1522.3 1864.14 1521.52 M1862.43 1514.13 Q1862.43 1516.82 1864.09 1518.32 Q1865.78 1519.83 1868.82 1519.83 Q1871.82 1519.83 1873.51 1518.32 Q1875.23 1516.82 1875.23 1514.13 Q1875.23 1511.45 1873.51 1509.94 Q1871.82 1508.44 1868.82 1508.44 Q1865.78 1508.44 1864.09 1509.94 Q1862.43 1511.45 1862.43 1514.13 Z\" fill=\"#000000\" fill-rule=\"evenodd\" fill-opacity=\"1\" /><path clip-path=\"url(#clip1100)\" d=\"M 0 0 M2329.63 1535.98 L2337.27 1535.98 L2337.27 1509.62 L2328.96 1511.29 L2328.96 1507.03 L2337.22 1505.36 L2341.9 1505.36 L2341.9 1535.98 L2349.54 1535.98 L2349.54 1539.92 L2329.63 1539.92 L2329.63 1535.98 Z\" fill=\"#000000\" fill-rule=\"evenodd\" fill-opacity=\"1\" /><path clip-path=\"url(#clip1100)\" d=\"M 0 0 M2364.61 1508.44 Q2361 1508.44 2359.17 1512 Q2357.36 1515.55 2357.36 1522.67 Q2357.36 1529.78 2359.17 1533.35 Q2361 1536.89 2364.61 1536.89 Q2368.24 1536.89 2370.05 1533.35 Q2371.88 1529.78 2371.88 1522.67 Q2371.88 1515.55 2370.05 1512 Q2368.24 1508.44 2364.61 1508.44 M2364.61 1504.73 Q2370.42 1504.73 2373.47 1509.34 Q2376.55 1513.92 2376.55 1522.67 Q2376.55 1531.4 2373.47 1536.01 Q2370.42 1540.59 2364.61 1540.59 Q2358.8 1540.59 2355.72 1536.01 Q2352.66 1531.4 2352.66 1522.67 Q2352.66 1513.92 2355.72 1509.34 Q2358.8 1504.73 2364.61 1504.73 Z\" fill=\"#000000\" fill-rule=\"evenodd\" fill-opacity=\"1\" /><path clip-path=\"url(#clip1100)\" d=\"M 0 0 M75.6078 1329.42 Q71.9967 1329.42 70.168 1332.99 Q68.3625 1336.53 68.3625 1343.66 Q68.3625 1350.76 70.168 1354.33 Q71.9967 1357.87 75.6078 1357.87 Q79.242 1357.87 81.0476 1354.33 Q82.8763 1350.76 82.8763 1343.66 Q82.8763 1336.53 81.0476 1332.99 Q79.242 1329.42 75.6078 1329.42 M75.6078 1325.72 Q81.418 1325.72 84.4735 1330.33 Q87.5522 1334.91 87.5522 1343.66 Q87.5522 1352.39 84.4735 1356.99 Q81.418 1361.58 75.6078 1361.58 Q69.7976 1361.58 66.719 1356.99 Q63.6634 1352.39 63.6634 1343.66 Q63.6634 1334.91 66.719 1330.33 Q69.7976 1325.72 75.6078 1325.72 Z\" fill=\"#000000\" fill-rule=\"evenodd\" fill-opacity=\"1\" /><path clip-path=\"url(#clip1100)\" d=\"M 0 0 M92.6216 1355.02 L97.5058 1355.02 L97.5058 1360.9 L92.6216 1360.9 L92.6216 1355.02 Z\" fill=\"#000000\" fill-rule=\"evenodd\" fill-opacity=\"1\" /><path clip-path=\"url(#clip1100)\" d=\"M 0 0 M115.422 1330.42 L103.617 1348.87 L115.422 1348.87 L115.422 1330.42 M114.196 1326.34 L120.075 1326.34 L120.075 1348.87 L125.006 1348.87 L125.006 1352.76 L120.075 1352.76 L120.075 1360.9 L115.422 1360.9 L115.422 1352.76 L99.8206 1352.76 L99.8206 1348.24 L114.196 1326.34 Z\" fill=\"#000000\" fill-rule=\"evenodd\" fill-opacity=\"1\" /><path clip-path=\"url(#clip1100)\" d=\"M 0 0 M130.121 1326.34 L148.478 1326.34 L148.478 1330.28 L134.404 1330.28 L134.404 1338.75 Q135.422 1338.4 136.441 1338.24 Q137.459 1338.06 138.478 1338.06 Q144.265 1338.06 147.644 1341.23 Q151.024 1344.4 151.024 1349.82 Q151.024 1355.39 147.552 1358.5 Q144.08 1361.58 137.76 1361.58 Q135.584 1361.58 133.316 1361.2 Q131.07 1360.83 128.663 1360.09 L128.663 1355.39 Q130.746 1356.53 132.969 1357.08 Q135.191 1357.64 137.668 1357.64 Q141.672 1357.64 144.01 1355.53 Q146.348 1353.43 146.348 1349.82 Q146.348 1346.2 144.01 1344.1 Q141.672 1341.99 137.668 1341.99 Q135.793 1341.99 133.918 1342.41 Q132.066 1342.83 130.121 1343.7 L130.121 1326.34 Z\" fill=\"#000000\" fill-rule=\"evenodd\" fill-opacity=\"1\" /><path clip-path=\"url(#clip1100)\" d=\"M 0 0 M76.0939 1090.72 Q72.4828 1090.72 70.6541 1094.28 Q68.8486 1097.82 68.8486 1104.95 Q68.8486 1112.06 70.6541 1115.62 Q72.4828 1119.17 76.0939 1119.17 Q79.7281 1119.17 81.5337 1115.62 Q83.3624 1112.06 83.3624 1104.95 Q83.3624 1097.82 81.5337 1094.28 Q79.7281 1090.72 76.0939 1090.72 M76.0939 1087.01 Q81.9041 1087.01 84.9596 1091.62 Q88.0383 1096.2 88.0383 1104.95 Q88.0383 1113.68 84.9596 1118.29 Q81.9041 1122.87 76.0939 1122.87 Q70.2838 1122.87 67.2051 1118.29 Q64.1495 1113.68 64.1495 1104.95 Q64.1495 1096.2 67.2051 1091.62 Q70.2838 1087.01 76.0939 1087.01 Z\" fill=\"#000000\" fill-rule=\"evenodd\" fill-opacity=\"1\" /><path clip-path=\"url(#clip1100)\" d=\"M 0 0 M93.1077 1116.32 L97.9919 1116.32 L97.9919 1122.2 L93.1077 1122.2 L93.1077 1116.32 Z\" fill=\"#000000\" fill-rule=\"evenodd\" fill-opacity=\"1\" /><path clip-path=\"url(#clip1100)\" d=\"M 0 0 M103.108 1087.64 L121.464 1087.64 L121.464 1091.57 L107.39 1091.57 L107.39 1100.05 Q108.409 1099.7 109.427 1099.54 Q110.446 1099.35 111.464 1099.35 Q117.251 1099.35 120.631 1102.52 Q124.01 1105.69 124.01 1111.11 Q124.01 1116.69 120.538 1119.79 Q117.066 1122.87 110.746 1122.87 Q108.571 1122.87 106.302 1122.5 Q104.057 1122.13 101.649 1121.39 L101.649 1116.69 Q103.733 1117.82 105.955 1118.38 Q108.177 1118.93 110.654 1118.93 Q114.659 1118.93 116.996 1116.83 Q119.334 1114.72 119.334 1111.11 Q119.334 1107.5 116.996 1105.39 Q114.659 1103.29 110.654 1103.29 Q108.779 1103.29 106.904 1103.7 Q105.052 1104.12 103.108 1105 L103.108 1087.64 Z\" fill=\"#000000\" fill-rule=\"evenodd\" fill-opacity=\"1\" /><path clip-path=\"url(#clip1100)\" d=\"M 0 0 M139.08 1090.72 Q135.469 1090.72 133.64 1094.28 Q131.834 1097.82 131.834 1104.95 Q131.834 1112.06 133.64 1115.62 Q135.469 1119.17 139.08 1119.17 Q142.714 1119.17 144.519 1115.62 Q146.348 1112.06 146.348 1104.95 Q146.348 1097.82 144.519 1094.28 Q142.714 1090.72 139.08 1090.72 M139.08 1087.01 Q144.89 1087.01 147.945 1091.62 Q151.024 1096.2 151.024 1104.95 Q151.024 1113.68 147.945 1118.29 Q144.89 1122.87 139.08 1122.87 Q133.27 1122.87 130.191 1118.29 Q127.135 1113.68 127.135 1104.95 Q127.135 1096.2 130.191 1091.62 Q133.27 1087.01 139.08 1087.01 Z\" fill=\"#000000\" fill-rule=\"evenodd\" fill-opacity=\"1\" /><path clip-path=\"url(#clip1100)\" d=\"M 0 0 M77.0893 852.012 Q73.4782 852.012 71.6495 855.577 Q69.8439 859.118 69.8439 866.248 Q69.8439 873.354 71.6495 876.919 Q73.4782 880.461 77.0893 880.461 Q80.7235 880.461 82.5291 876.919 Q84.3578 873.354 84.3578 866.248 Q84.3578 859.118 82.5291 855.577 Q80.7235 852.012 77.0893 852.012 M77.0893 848.308 Q82.8994 848.308 85.955 852.915 Q89.0337 857.498 89.0337 866.248 Q89.0337 874.975 85.955 879.581 Q82.8994 884.165 77.0893 884.165 Q71.2791 884.165 68.2004 879.581 Q65.1449 874.975 65.1449 866.248 Q65.1449 857.498 68.2004 852.915 Q71.2791 848.308 77.0893 848.308 Z\" fill=\"#000000\" fill-rule=\"evenodd\" fill-opacity=\"1\" /><path clip-path=\"url(#clip1100)\" d=\"M 0 0 M94.1031 877.614 L98.9873 877.614 L98.9873 883.493 L94.1031 883.493 L94.1031 877.614 Z\" fill=\"#000000\" fill-rule=\"evenodd\" fill-opacity=\"1\" /><path clip-path=\"url(#clip1100)\" d=\"M 0 0 M104.103 848.933 L122.459 848.933 L122.459 852.868 L108.385 852.868 L108.385 861.341 Q109.404 860.993 110.422 860.831 Q111.441 860.646 112.459 860.646 Q118.246 860.646 121.626 863.817 Q125.006 866.989 125.006 872.405 Q125.006 877.984 121.533 881.086 Q118.061 884.165 111.742 884.165 Q109.566 884.165 107.297 883.794 Q105.052 883.424 102.645 882.683 L102.645 877.984 Q104.728 879.118 106.95 879.674 Q109.172 880.229 111.649 880.229 Q115.654 880.229 117.992 878.123 Q120.33 876.016 120.33 872.405 Q120.33 868.794 117.992 866.688 Q115.654 864.581 111.649 864.581 Q109.774 864.581 107.899 864.998 Q106.047 865.415 104.103 866.294 L104.103 848.933 Z\" fill=\"#000000\" fill-rule=\"evenodd\" fill-opacity=\"1\" /><path clip-path=\"url(#clip1100)\" d=\"M 0 0 M130.121 848.933 L148.478 848.933 L148.478 852.868 L134.404 852.868 L134.404 861.341 Q135.422 860.993 136.441 860.831 Q137.459 860.646 138.478 860.646 Q144.265 860.646 147.644 863.817 Q151.024 866.989 151.024 872.405 Q151.024 877.984 147.552 881.086 Q144.08 884.165 137.76 884.165 Q135.584 884.165 133.316 883.794 Q131.07 883.424 128.663 882.683 L128.663 877.984 Q130.746 879.118 132.969 879.674 Q135.191 880.229 137.668 880.229 Q141.672 880.229 144.01 878.123 Q146.348 876.016 146.348 872.405 Q146.348 868.794 144.01 866.688 Q141.672 864.581 137.668 864.581 Q135.793 864.581 133.918 864.998 Q132.066 865.415 130.121 866.294 L130.121 848.933 Z\" fill=\"#000000\" fill-rule=\"evenodd\" fill-opacity=\"1\" /><path clip-path=\"url(#clip1100)\" d=\"M 0 0 M74.9365 613.307 Q71.3254 613.307 69.4967 616.872 Q67.6912 620.413 67.6912 627.543 Q67.6912 634.649 69.4967 638.214 Q71.3254 641.756 74.9365 641.756 Q78.5707 641.756 80.3763 638.214 Q82.205 634.649 82.205 627.543 Q82.205 620.413 80.3763 616.872 Q78.5707 613.307 74.9365 613.307 M74.9365 609.603 Q80.7467 609.603 83.8022 614.21 Q86.8809 618.793 86.8809 627.543 Q86.8809 636.27 83.8022 640.876 Q80.7467 645.459 74.9365 645.459 Q69.1264 645.459 66.0477 640.876 Q62.9921 636.27 62.9921 627.543 Q62.9921 618.793 66.0477 614.21 Q69.1264 609.603 74.9365 609.603 Z\" fill=\"#000000\" fill-rule=\"evenodd\" fill-opacity=\"1\" /><path clip-path=\"url(#clip1100)\" d=\"M 0 0 M91.9503 638.908 L96.8345 638.908 L96.8345 644.788 L91.9503 644.788 L91.9503 638.908 Z\" fill=\"#000000\" fill-rule=\"evenodd\" fill-opacity=\"1\" /><path clip-path=\"url(#clip1100)\" d=\"M 0 0 M112.483 625.645 Q109.334 625.645 107.483 627.797 Q105.654 629.95 105.654 633.7 Q105.654 637.427 107.483 639.603 Q109.334 641.756 112.483 641.756 Q115.631 641.756 117.459 639.603 Q119.311 637.427 119.311 633.7 Q119.311 629.95 117.459 627.797 Q115.631 625.645 112.483 625.645 M121.765 610.992 L121.765 615.251 Q120.006 614.418 118.2 613.978 Q116.418 613.538 114.659 613.538 Q110.029 613.538 107.575 616.663 Q105.145 619.788 104.797 626.108 Q106.163 624.094 108.223 623.029 Q110.284 621.941 112.76 621.941 Q117.969 621.941 120.978 625.112 Q124.01 628.26 124.01 633.7 Q124.01 639.024 120.862 642.242 Q117.714 645.459 112.483 645.459 Q106.487 645.459 103.316 640.876 Q100.145 636.27 100.145 627.543 Q100.145 619.348 104.034 614.487 Q107.922 609.603 114.473 609.603 Q116.233 609.603 118.015 609.95 Q119.821 610.297 121.765 610.992 Z\" fill=\"#000000\" fill-rule=\"evenodd\" fill-opacity=\"1\" /><path clip-path=\"url(#clip1100)\" d=\"M 0 0 M139.08 613.307 Q135.469 613.307 133.64 616.872 Q131.834 620.413 131.834 627.543 Q131.834 634.649 133.64 638.214 Q135.469 641.756 139.08 641.756 Q142.714 641.756 144.519 638.214 Q146.348 634.649 146.348 627.543 Q146.348 620.413 144.519 616.872 Q142.714 613.307 139.08 613.307 M139.08 609.603 Q144.89 609.603 147.945 614.21 Q151.024 618.793 151.024 627.543 Q151.024 636.27 147.945 640.876 Q144.89 645.459 139.08 645.459 Q133.27 645.459 130.191 640.876 Q127.135 636.27 127.135 627.543 Q127.135 618.793 130.191 614.21 Q133.27 609.603 139.08 609.603 Z\" fill=\"#000000\" fill-rule=\"evenodd\" fill-opacity=\"1\" /><path clip-path=\"url(#clip1100)\" d=\"M 0 0 M75.9319 374.601 Q72.3208 374.601 70.4921 378.166 Q68.6865 381.708 68.6865 388.838 Q68.6865 395.944 70.4921 399.509 Q72.3208 403.05 75.9319 403.05 Q79.5661 403.05 81.3717 399.509 Q83.2004 395.944 83.2004 388.838 Q83.2004 381.708 81.3717 378.166 Q79.5661 374.601 75.9319 374.601 M75.9319 370.898 Q81.742 370.898 84.7976 375.504 Q87.8763 380.088 87.8763 388.838 Q87.8763 397.564 84.7976 402.171 Q81.742 406.754 75.9319 406.754 Q70.1217 406.754 67.043 402.171 Q63.9875 397.564 63.9875 388.838 Q63.9875 380.088 67.043 375.504 Q70.1217 370.898 75.9319 370.898 Z\" fill=\"#000000\" fill-rule=\"evenodd\" fill-opacity=\"1\" /><path clip-path=\"url(#clip1100)\" d=\"M 0 0 M92.9457 400.203 L97.8299 400.203 L97.8299 406.083 L92.9457 406.083 L92.9457 400.203 Z\" fill=\"#000000\" fill-rule=\"evenodd\" fill-opacity=\"1\" /><path clip-path=\"url(#clip1100)\" d=\"M 0 0 M113.478 386.939 Q110.33 386.939 108.478 389.092 Q106.649 391.245 106.649 394.995 Q106.649 398.722 108.478 400.898 Q110.33 403.05 113.478 403.05 Q116.626 403.05 118.455 400.898 Q120.307 398.722 120.307 394.995 Q120.307 391.245 118.455 389.092 Q116.626 386.939 113.478 386.939 M122.76 372.287 L122.76 376.546 Q121.001 375.713 119.196 375.273 Q117.413 374.833 115.654 374.833 Q111.024 374.833 108.571 377.958 Q106.14 381.083 105.793 387.402 Q107.159 385.388 109.219 384.324 Q111.279 383.236 113.756 383.236 Q118.964 383.236 121.973 386.407 Q125.006 389.555 125.006 394.995 Q125.006 400.319 121.858 403.537 Q118.709 406.754 113.478 406.754 Q107.483 406.754 104.311 402.171 Q101.14 397.564 101.14 388.838 Q101.14 380.643 105.029 375.782 Q108.918 370.898 115.469 370.898 Q117.228 370.898 119.01 371.245 Q120.816 371.592 122.76 372.287 Z\" fill=\"#000000\" fill-rule=\"evenodd\" fill-opacity=\"1\" /><path clip-path=\"url(#clip1100)\" d=\"M 0 0 M130.121 371.523 L148.478 371.523 L148.478 375.458 L134.404 375.458 L134.404 383.93 Q135.422 383.583 136.441 383.421 Q137.459 383.236 138.478 383.236 Q144.265 383.236 147.644 386.407 Q151.024 389.578 151.024 394.995 Q151.024 400.574 147.552 403.675 Q144.08 406.754 137.76 406.754 Q135.584 406.754 133.316 406.384 Q131.07 406.013 128.663 405.273 L128.663 400.574 Q130.746 401.708 132.969 402.263 Q135.191 402.819 137.668 402.819 Q141.672 402.819 144.01 400.712 Q146.348 398.606 146.348 394.995 Q146.348 391.384 144.01 389.277 Q141.672 387.171 137.668 387.171 Q135.793 387.171 133.918 387.588 Q132.066 388.004 130.121 388.884 L130.121 371.523 Z\" fill=\"#000000\" fill-rule=\"evenodd\" fill-opacity=\"1\" /><path clip-path=\"url(#clip1100)\" d=\"M 0 0 M76.0013 135.896 Q72.3902 135.896 70.5615 139.461 Q68.756 143.003 68.756 150.132 Q68.756 157.239 70.5615 160.804 Q72.3902 164.345 76.0013 164.345 Q79.6356 164.345 81.4411 160.804 Q83.2698 157.239 83.2698 150.132 Q83.2698 143.003 81.4411 139.461 Q79.6356 135.896 76.0013 135.896 M76.0013 132.193 Q81.8115 132.193 84.867 136.799 Q87.9457 141.382 87.9457 150.132 Q87.9457 158.859 84.867 163.466 Q81.8115 168.049 76.0013 168.049 Q70.1912 168.049 67.1125 163.466 Q64.0569 158.859 64.0569 150.132 Q64.0569 141.382 67.1125 136.799 Q70.1912 132.193 76.0013 132.193 Z\" fill=\"#000000\" fill-rule=\"evenodd\" fill-opacity=\"1\" /><path clip-path=\"url(#clip1100)\" d=\"M 0 0 M93.0151 161.498 L97.8993 161.498 L97.8993 167.378 L93.0151 167.378 L93.0151 161.498 Z\" fill=\"#000000\" fill-rule=\"evenodd\" fill-opacity=\"1\" /><path clip-path=\"url(#clip1100)\" d=\"M 0 0 M101.788 132.818 L124.01 132.818 L124.01 134.808 L111.464 167.378 L106.58 167.378 L118.385 136.753 L101.788 136.753 L101.788 132.818 Z\" fill=\"#000000\" fill-rule=\"evenodd\" fill-opacity=\"1\" /><path clip-path=\"url(#clip1100)\" d=\"M 0 0 M139.08 135.896 Q135.469 135.896 133.64 139.461 Q131.834 143.003 131.834 150.132 Q131.834 157.239 133.64 160.804 Q135.469 164.345 139.08 164.345 Q142.714 164.345 144.519 160.804 Q146.348 157.239 146.348 150.132 Q146.348 143.003 144.519 139.461 Q142.714 135.896 139.08 135.896 M139.08 132.193 Q144.89 132.193 147.945 136.799 Q151.024 141.382 151.024 150.132 Q151.024 158.859 147.945 163.466 Q144.89 168.049 139.08 168.049 Q133.27 168.049 130.191 163.466 Q127.135 158.859 127.135 150.132 Q127.135 141.382 130.191 136.799 Q133.27 132.193 139.08 132.193 Z\" fill=\"#000000\" fill-rule=\"evenodd\" fill-opacity=\"1\" /><polyline clip-path=\"url(#clip1102)\" style=\"stroke:#0000ff; stroke-width:4; stroke-opacity:1; fill:none\" points=\"\n",
       "  175.024,627.929 416.994,564.429 658.964,817.163 900.935,410.535 1142.9,871.574 1384.88,670.848 1626.85,678.791 1868.82,652.287 2110.79,819.143 2352.76,613.628 \n",
       "  \n",
       "  \"/>\n",
       "<polyline clip-path=\"url(#clip1102)\" style=\"stroke:#0000ff; stroke-width:4; stroke-opacity:1; fill:none\" points=\"\n",
       "  175.024,559.547 416.994,510.062 658.964,748.906 900.935,933.42 1142.9,951.441 1384.88,450.687 1626.85,612.703 1868.82,746.643 2110.79,831.459 2352.76,772.879 \n",
       "  \n",
       "  \"/>\n",
       "<polyline clip-path=\"url(#clip1102)\" style=\"stroke:#0000ff; stroke-width:4; stroke-opacity:1; fill:none\" points=\"\n",
       "  175.024,482.22 416.994,611.601 658.964,841.819 900.935,789.088 1142.9,671.287 1384.88,730.881 1626.85,923.562 1868.82,780.391 2110.79,349.736 2352.76,565.961 \n",
       "  \n",
       "  \"/>\n",
       "<polyline clip-path=\"url(#clip1102)\" style=\"stroke:#0000ff; stroke-width:4; stroke-opacity:1; fill:none\" points=\"\n",
       "  175.024,458.575 416.994,404.674 658.964,695.772 900.935,456.316 1142.9,541.815 1384.88,568.353 1626.85,704.293 1868.82,775.435 2110.79,432.815 2352.76,423.915 \n",
       "  \n",
       "  \"/>\n",
       "<polyline clip-path=\"url(#clip1102)\" style=\"stroke:#0000ff; stroke-width:4; stroke-opacity:1; fill:none\" points=\"\n",
       "  175.024,359.665 416.994,484.109 658.964,582.579 900.935,527.054 1142.9,756.56 1384.88,797.447 1626.85,743.072 1868.82,670.073 2110.79,395.434 2352.76,477.868 \n",
       "  \n",
       "  \"/>\n",
       "<polyline clip-path=\"url(#clip1102)\" style=\"stroke:#0000ff; stroke-width:4; stroke-opacity:1; fill:none\" points=\"\n",
       "  175.024,499.411 416.994,893.676 658.964,495.547 900.935,904.102 1142.9,1039.91 1384.88,688.433 1626.85,574.168 1868.82,698.208 2110.79,921.689 2352.76,541.578 \n",
       "  \n",
       "  \"/>\n",
       "<polyline clip-path=\"url(#clip1102)\" style=\"stroke:#0000ff; stroke-width:4; stroke-opacity:1; fill:none\" points=\"\n",
       "  175.024,502.841 416.994,604.444 658.964,646.593 900.935,641.333 1142.9,453.382 1384.88,500.995 1626.85,516.662 1868.82,355.948 2110.79,498.701 2352.76,495.892 \n",
       "  \n",
       "  \"/>\n",
       "<polyline clip-path=\"url(#clip1102)\" style=\"stroke:#0000ff; stroke-width:4; stroke-opacity:1; fill:none\" points=\"\n",
       "  175.024,792.614 416.994,743.825 658.964,505.534 900.935,702.406 1142.9,681.764 1384.88,1028.81 1626.85,429.557 1868.82,436.733 2110.79,726.678 2352.76,553.704 \n",
       "  \n",
       "  \"/>\n",
       "<polyline clip-path=\"url(#clip1102)\" style=\"stroke:#0000ff; stroke-width:4; stroke-opacity:1; fill:none\" points=\"\n",
       "  175.024,323.717 416.994,347.607 658.964,656.238 900.935,547.466 1142.9,725.318 1384.88,432.969 1626.85,812.175 1868.82,690.33 2110.79,463.049 2352.76,449.387 \n",
       "  \n",
       "  \"/>\n",
       "<polyline clip-path=\"url(#clip1102)\" style=\"stroke:#0000ff; stroke-width:4; stroke-opacity:1; fill:none\" points=\"\n",
       "  175.024,571.501 416.994,788.978 658.964,800.363 900.935,632.227 1142.9,413.172 1384.88,805.565 1626.85,599.358 1868.82,661.694 2110.79,392.768 2352.76,437.092 \n",
       "  \n",
       "  \"/>\n",
       "<polyline clip-path=\"url(#clip1102)\" style=\"stroke:#0000ff; stroke-width:4; stroke-opacity:1; fill:none\" points=\"\n",
       "  175.024,612.832 416.994,577.496 658.964,577.824 900.935,591.273 1142.9,675.89 1384.88,620.97 1626.85,582.104 1868.82,516.065 2110.79,556.385 2352.76,513.755 \n",
       "  \n",
       "  \"/>\n",
       "<polyline clip-path=\"url(#clip1102)\" style=\"stroke:#0000ff; stroke-width:4; stroke-opacity:1; fill:none\" points=\"\n",
       "  175.024,549.487 416.994,507.359 658.964,824.705 900.935,789.337 1142.9,646.986 1384.88,525.2 1626.85,819.254 1868.82,454.552 2110.79,418.849 2352.76,494.285 \n",
       "  \n",
       "  \"/>\n",
       "<polyline clip-path=\"url(#clip1102)\" style=\"stroke:#0000ff; stroke-width:4; stroke-opacity:1; fill:none\" points=\"\n",
       "  175.024,883.041 416.994,873.705 658.964,988.542 900.935,784.624 1142.9,493.666 1384.88,651.856 1626.85,882.819 1868.82,486.761 2110.79,612.103 2352.76,487.058 \n",
       "  \n",
       "  \"/>\n",
       "<polyline clip-path=\"url(#clip1102)\" style=\"stroke:#0000ff; stroke-width:4; stroke-opacity:1; fill:none\" points=\"\n",
       "  175.024,477.016 416.994,888.73 658.964,771.929 900.935,798.564 1142.9,868.215 1384.88,785.108 1626.85,601.782 1868.82,565.151 2110.79,582.16 2352.76,556.177 \n",
       "  \n",
       "  \"/>\n",
       "<polyline clip-path=\"url(#clip1102)\" style=\"stroke:#0000ff; stroke-width:4; stroke-opacity:1; fill:none\" points=\"\n",
       "  175.024,568.57 416.994,639.197 658.964,910.062 900.935,856.645 1142.9,535.513 1384.88,667.887 1626.85,832.59 1868.82,753.565 2110.79,398.866 2352.76,526.47 \n",
       "  \n",
       "  \"/>\n",
       "<polyline clip-path=\"url(#clip1102)\" style=\"stroke:#0000ff; stroke-width:4; stroke-opacity:1; fill:none\" points=\"\n",
       "  175.024,492.573 416.994,548.333 658.964,488.604 900.935,536.767 1142.9,761.925 1384.88,864.127 1626.85,667.028 1868.82,579.489 2110.79,391.393 2352.76,519.905 \n",
       "  \n",
       "  \"/>\n",
       "<polyline clip-path=\"url(#clip1102)\" style=\"stroke:#0000ff; stroke-width:4; stroke-opacity:1; fill:none\" points=\"\n",
       "  175.024,351.952 416.994,587.674 658.964,543.812 900.935,665.589 1142.9,729.325 1384.88,568.096 1626.85,711.522 1868.82,574.56 2110.79,370.322 2352.76,477.6 \n",
       "  \n",
       "  \"/>\n",
       "<polyline clip-path=\"url(#clip1102)\" style=\"stroke:#0000ff; stroke-width:4; stroke-opacity:1; fill:none\" points=\"\n",
       "  175.024,481.978 416.994,928.093 658.964,563.518 900.935,951.567 1142.9,811.068 1384.88,858.294 1626.85,256.581 1868.82,482.532 2110.79,955.152 2352.76,631.315 \n",
       "  \n",
       "  \"/>\n",
       "<polyline clip-path=\"url(#clip1102)\" style=\"stroke:#0000ff; stroke-width:4; stroke-opacity:1; fill:none\" points=\"\n",
       "  175.024,251.789 416.994,434.343 658.964,615.874 900.935,682.871 1142.9,536.164 1384.88,628.888 1626.85,657.292 1868.82,610.115 2110.79,381.029 2352.76,367.841 \n",
       "  \n",
       "  \"/>\n",
       "<polyline clip-path=\"url(#clip1102)\" style=\"stroke:#0000ff; stroke-width:4; stroke-opacity:1; fill:none\" points=\"\n",
       "  175.024,705.802 416.994,895.994 658.964,792.015 900.935,1032.99 1142.9,636.998 1384.88,749.074 1626.85,389.278 1868.82,573.112 2110.79,847.542 2352.76,734.327 \n",
       "  \n",
       "  \"/>\n",
       "<polyline clip-path=\"url(#clip1102)\" style=\"stroke:#0000ff; stroke-width:4; stroke-opacity:1; fill:none\" points=\"\n",
       "  175.024,327.975 416.994,504.954 658.964,1010.95 900.935,976.367 1142.9,976.208 1384.88,472.142 1626.85,716.088 1868.82,853.734 2110.79,895.325 2352.76,811.503 \n",
       "  \n",
       "  \"/>\n",
       "<polyline clip-path=\"url(#clip1102)\" style=\"stroke:#0000ff; stroke-width:4; stroke-opacity:1; fill:none\" points=\"\n",
       "  175.024,216.679 416.994,392.184 658.964,590.611 900.935,519.944 1142.9,549.765 1384.88,599.35 1626.85,664.11 1868.82,486.91 2110.79,525.568 2352.76,389.705 \n",
       "  \n",
       "  \"/>\n",
       "<polyline clip-path=\"url(#clip1102)\" style=\"stroke:#0000ff; stroke-width:4; stroke-opacity:1; fill:none\" points=\"\n",
       "  175.024,342.433 416.994,321.587 658.964,568 900.935,680.858 1142.9,730.696 1384.88,458.909 1626.85,610.049 1868.82,611.028 2110.79,667.813 2352.76,553.533 \n",
       "  \n",
       "  \"/>\n",
       "<polyline clip-path=\"url(#clip1102)\" style=\"stroke:#0000ff; stroke-width:4; stroke-opacity:1; fill:none\" points=\"\n",
       "  175.024,705.598 416.994,630.417 658.964,533.608 900.935,557.467 1142.9,908.475 1384.88,751.295 1626.85,573.229 1868.82,659.983 2110.79,589.792 2352.76,639.03 \n",
       "  \n",
       "  \"/>\n",
       "<polyline clip-path=\"url(#clip1102)\" style=\"stroke:#0000ff; stroke-width:4; stroke-opacity:1; fill:none\" points=\"\n",
       "  175.024,566.259 416.994,773.901 658.964,661.807 900.935,817.192 1142.9,598.456 1384.88,703.315 1626.85,754.188 1868.82,607.208 2110.79,377.825 2352.76,584.424 \n",
       "  \n",
       "  \"/>\n",
       "<polyline clip-path=\"url(#clip1102)\" style=\"stroke:#0000ff; stroke-width:4; stroke-opacity:1; fill:none\" points=\"\n",
       "  175.024,509.619 416.994,796.88 658.964,907.989 900.935,706.585 1142.9,467.953 1384.88,780.839 1626.85,385.302 1868.82,573.411 2110.79,655.998 2352.76,483.426 \n",
       "  \n",
       "  \"/>\n",
       "<polyline clip-path=\"url(#clip1102)\" style=\"stroke:#0000ff; stroke-width:4; stroke-opacity:1; fill:none\" points=\"\n",
       "  175.024,290.505 416.994,320.947 658.964,676.125 900.935,620.021 1142.9,749.129 1384.88,668.837 1626.85,640.431 1868.82,759.28 2110.79,282.888 2352.76,451.362 \n",
       "  \n",
       "  \"/>\n",
       "<polyline clip-path=\"url(#clip1102)\" style=\"stroke:#0000ff; stroke-width:4; stroke-opacity:1; fill:none\" points=\"\n",
       "  175.024,613.459 416.994,956.818 658.964,558.019 900.935,882.753 1142.9,730.799 1384.88,874.814 1626.85,530.975 1868.82,503.765 2110.79,545.574 2352.76,295.746 \n",
       "  \n",
       "  \"/>\n",
       "<polyline clip-path=\"url(#clip1102)\" style=\"stroke:#0000ff; stroke-width:4; stroke-opacity:1; fill:none\" points=\"\n",
       "  175.024,510.694 416.994,961.515 658.964,522.998 900.935,862.331 1142.9,832.827 1384.88,821.002 1626.85,255.796 1868.82,508.61 2110.79,961.188 2352.76,672.313 \n",
       "  \n",
       "  \"/>\n",
       "<polyline clip-path=\"url(#clip1102)\" style=\"stroke:#0000ff; stroke-width:4; stroke-opacity:1; fill:none\" points=\"\n",
       "  175.024,481.156 416.994,866.581 658.964,560.744 900.935,530.79 1142.9,734.798 1384.88,758.296 1626.85,462.049 1868.82,514.874 2110.79,591.348 2352.76,622.453 \n",
       "  \n",
       "  \"/>\n",
       "<polyline clip-path=\"url(#clip1102)\" style=\"stroke:#0000ff; stroke-width:4; stroke-opacity:1; fill:none\" points=\"\n",
       "  175.024,531.334 416.994,901.162 658.964,456.265 900.935,766.744 1142.9,788.054 1384.88,846.35 1626.85,467.013 1868.82,664.747 2110.79,534.503 2352.76,356.837 \n",
       "  \n",
       "  \"/>\n",
       "<polyline clip-path=\"url(#clip1102)\" style=\"stroke:#0000ff; stroke-width:4; stroke-opacity:1; fill:none\" points=\"\n",
       "  175.024,747.91 416.994,620.346 658.964,1053.84 900.935,810.239 1142.9,1253.4 1384.88,605.194 1626.85,1018.36 1868.82,974.014 2110.79,1062.75 2352.76,903.348 \n",
       "  \n",
       "  \"/>\n",
       "<polyline clip-path=\"url(#clip1102)\" style=\"stroke:#0000ff; stroke-width:4; stroke-opacity:1; fill:none\" points=\"\n",
       "  175.024,918.941 416.994,910.934 658.964,912.81 900.935,649.27 1142.9,746.817 1384.88,508.209 1626.85,752.284 1868.82,554.914 2110.79,838.944 2352.76,650.91 \n",
       "  \n",
       "  \"/>\n",
       "<polyline clip-path=\"url(#clip1102)\" style=\"stroke:#0000ff; stroke-width:4; stroke-opacity:1; fill:none\" points=\"\n",
       "  175.024,754.139 416.994,720.649 658.964,794.936 900.935,741.424 1142.9,863.968 1384.88,610.972 1626.85,925.133 1868.82,723.839 2110.79,492.14 2352.76,778.345 \n",
       "  \n",
       "  \"/>\n",
       "<polyline clip-path=\"url(#clip1102)\" style=\"stroke:#0000ff; stroke-width:4; stroke-opacity:1; fill:none\" points=\"\n",
       "  175.024,859.791 416.994,1023.89 658.964,777.544 900.935,936.189 1142.9,906.293 1384.88,1078.17 1626.85,615.778 1868.82,692.48 2110.79,850.69 2352.76,694.692 \n",
       "  \n",
       "  \"/>\n",
       "<polyline clip-path=\"url(#clip1102)\" style=\"stroke:#0000ff; stroke-width:4; stroke-opacity:1; fill:none\" points=\"\n",
       "  175.024,866.615 416.994,954.969 658.964,813.562 900.935,959.887 1142.9,798.02 1384.88,915.355 1626.85,864.355 1868.82,573.466 2110.79,805.378 2352.76,594.598 \n",
       "  \n",
       "  \"/>\n",
       "<polyline clip-path=\"url(#clip1102)\" style=\"stroke:#0000ff; stroke-width:4; stroke-opacity:1; fill:none\" points=\"\n",
       "  175.024,341.49 416.994,401.401 658.964,751.899 900.935,641.426 1142.9,786.507 1384.88,668.993 1626.85,710.971 1868.82,769.963 2110.79,349.831 2352.76,482.462 \n",
       "  \n",
       "  \"/>\n",
       "<polyline clip-path=\"url(#clip1102)\" style=\"stroke:#0000ff; stroke-width:4; stroke-opacity:1; fill:none\" points=\"\n",
       "  175.024,882.394 416.994,868.314 658.964,902.361 900.935,822.832 1142.9,644.927 1384.88,1095.14 1626.85,742.609 1868.82,656.025 2110.79,806.045 2352.76,618.681 \n",
       "  \n",
       "  \"/>\n",
       "<polyline clip-path=\"url(#clip1102)\" style=\"stroke:#0000ff; stroke-width:4; stroke-opacity:1; fill:none\" points=\"\n",
       "  175.024,793.48 416.994,869.483 658.964,838.114 900.935,761.202 1142.9,574.276 1384.88,507.47 1626.85,589.232 1868.82,458.557 2110.79,592.355 2352.76,570.352 \n",
       "  \n",
       "  \"/>\n",
       "<polyline clip-path=\"url(#clip1102)\" style=\"stroke:#0000ff; stroke-width:4; stroke-opacity:1; fill:none\" points=\"\n",
       "  175.024,654.053 416.994,671.405 658.964,1103.75 900.935,723.279 1142.9,707.475 1384.88,876.664 1626.85,597.828 1868.82,950.35 2110.79,749.662 2352.76,687.835 \n",
       "  \n",
       "  \"/>\n",
       "<polyline clip-path=\"url(#clip1102)\" style=\"stroke:#0000ff; stroke-width:4; stroke-opacity:1; fill:none\" points=\"\n",
       "  175.024,763.251 416.994,834.364 658.964,1195.12 900.935,743.371 1142.9,596.06 1384.88,578.795 1626.85,654.056 1868.82,778.097 2110.79,734.119 2352.76,704.378 \n",
       "  \n",
       "  \"/>\n",
       "<polyline clip-path=\"url(#clip1102)\" style=\"stroke:#0000ff; stroke-width:4; stroke-opacity:1; fill:none\" points=\"\n",
       "  175.024,806.453 416.994,884.366 658.964,940.065 900.935,1058.67 1142.9,701.495 1384.88,578.082 1626.85,725.847 1868.82,936.033 2110.79,749.771 2352.76,641.365 \n",
       "  \n",
       "  \"/>\n",
       "<polyline clip-path=\"url(#clip1102)\" style=\"stroke:#0000ff; stroke-width:4; stroke-opacity:1; fill:none\" points=\"\n",
       "  175.024,377.34 416.994,875.844 658.964,583.462 900.935,747.231 1142.9,1032.86 1384.88,576.915 1626.85,475.184 1868.82,599.421 2110.79,913.718 2352.76,691.427 \n",
       "  \n",
       "  \"/>\n",
       "<polyline clip-path=\"url(#clip1102)\" style=\"stroke:#0000ff; stroke-width:4; stroke-opacity:1; fill:none\" points=\"\n",
       "  175.024,657.539 416.994,930.856 658.964,682.835 900.935,740.368 1142.9,786.86 1384.88,827.713 1626.85,444.172 1868.82,560.67 2110.79,751.05 2352.76,453.271 \n",
       "  \n",
       "  \"/>\n",
       "<polyline clip-path=\"url(#clip1102)\" style=\"stroke:#0000ff; stroke-width:4; stroke-opacity:1; fill:none\" points=\"\n",
       "  175.024,612.924 416.994,890.694 658.964,850.664 900.935,1025.41 1142.9,821.417 1384.88,712.541 1626.85,642.643 1868.82,741.84 2110.79,910.856 2352.76,593.187 \n",
       "  \n",
       "  \"/>\n",
       "<polyline clip-path=\"url(#clip1102)\" style=\"stroke:#0000ff; stroke-width:4; stroke-opacity:1; fill:none\" points=\"\n",
       "  175.024,515.114 416.994,584.436 658.964,1097.34 900.935,459.52 1142.9,438.963 1384.88,304.447 1626.85,676.204 1868.82,620.164 2110.79,535.223 2352.76,472.441 \n",
       "  \n",
       "  \"/>\n",
       "<polyline clip-path=\"url(#clip1102)\" style=\"stroke:#0000ff; stroke-width:4; stroke-opacity:1; fill:none\" points=\"\n",
       "  175.024,492.186 416.994,764.023 658.964,610.812 900.935,748.714 1142.9,945.582 1384.88,766.499 1626.85,387.958 1868.82,709.412 2110.79,773.887 2352.76,611.903 \n",
       "  \n",
       "  \"/>\n",
       "<polyline clip-path=\"url(#clip1102)\" style=\"stroke:#0000ff; stroke-width:4; stroke-opacity:1; fill:none\" points=\"\n",
       "  175.024,593.483 416.994,813.687 658.964,511.194 900.935,838.784 1142.9,717.423 1384.88,732.39 1626.85,346.779 1868.82,573.834 2110.79,767.841 2352.76,356.061 \n",
       "  \n",
       "  \"/>\n",
       "<polyline clip-path=\"url(#clip1102)\" style=\"stroke:#0000ff; stroke-width:4; stroke-opacity:1; fill:none\" points=\"\n",
       "  175.024,548.172 416.994,904.614 658.964,846.603 900.935,582.968 1142.9,960.479 1384.88,761.687 1626.85,458.412 1868.82,645.794 2110.79,895.744 2352.76,683.252 \n",
       "  \n",
       "  \"/>\n",
       "<polyline clip-path=\"url(#clip1102)\" style=\"stroke:#0000ff; stroke-width:4; stroke-opacity:1; fill:none\" points=\"\n",
       "  175.024,860.301 416.994,853.843 658.964,989.05 900.935,856.299 1142.9,845.598 1384.88,306.239 1626.85,710.36 1868.82,683.552 2110.79,886.448 2352.76,704.097 \n",
       "  \n",
       "  \"/>\n",
       "<polyline clip-path=\"url(#clip1102)\" style=\"stroke:#0000ff; stroke-width:4; stroke-opacity:1; fill:none\" points=\"\n",
       "  175.024,375.83 416.994,406.973 658.964,685.337 900.935,510.997 1142.9,533.352 1384.88,535.529 1626.85,689.838 1868.82,635.969 2110.79,375.094 2352.76,413.955 \n",
       "  \n",
       "  \"/>\n",
       "<polyline clip-path=\"url(#clip1102)\" style=\"stroke:#0000ff; stroke-width:4; stroke-opacity:1; fill:none\" points=\"\n",
       "  175.024,901.163 416.994,820.706 658.964,932.249 900.935,722.364 1142.9,643.514 1384.88,583.348 1626.85,895.49 1868.82,683.279 2110.79,711.365 2352.76,601.178 \n",
       "  \n",
       "  \"/>\n",
       "<polyline clip-path=\"url(#clip1102)\" style=\"stroke:#0000ff; stroke-width:4; stroke-opacity:1; fill:none\" points=\"\n",
       "  175.024,439.433 416.994,579.675 658.964,602.416 900.935,731.781 1142.9,944.792 1384.88,292.437 1626.85,594.167 1868.82,667.149 2110.79,734.6 2352.76,645.466 \n",
       "  \n",
       "  \"/>\n",
       "<polyline clip-path=\"url(#clip1102)\" style=\"stroke:#0000ff; stroke-width:4; stroke-opacity:1; fill:none\" points=\"\n",
       "  175.024,605.873 416.994,468.454 658.964,878.504 900.935,477.803 1142.9,625.046 1384.88,575.665 1626.85,649.728 1868.82,613.512 2110.79,571.995 2352.76,401.447 \n",
       "  \n",
       "  \"/>\n",
       "<polyline clip-path=\"url(#clip1102)\" style=\"stroke:#0000ff; stroke-width:4; stroke-opacity:1; fill:none\" points=\"\n",
       "  175.024,542.357 416.994,498.919 658.964,562.442 900.935,936.178 1142.9,1156.45 1384.88,573.341 1626.85,628.96 1868.82,911.114 2110.79,967.832 2352.76,850.411 \n",
       "  \n",
       "  \"/>\n",
       "<polyline clip-path=\"url(#clip1102)\" style=\"stroke:#0000ff; stroke-width:4; stroke-opacity:1; fill:none\" points=\"\n",
       "  175.024,428.809 416.994,657.147 658.964,741.072 900.935,595.335 1142.9,502.655 1384.88,644.353 1626.85,730.805 1868.82,522.045 2110.79,353.358 2352.76,306.02 \n",
       "  \n",
       "  \"/>\n",
       "<polyline clip-path=\"url(#clip1102)\" style=\"stroke:#0000ff; stroke-width:4; stroke-opacity:1; fill:none\" points=\"\n",
       "  175.024,824.437 416.994,708.281 658.964,1153.49 900.935,903.708 1142.9,711.275 1384.88,658.441 1626.85,691.656 1868.82,904.78 2110.79,720.758 2352.76,671.319 \n",
       "  \n",
       "  \"/>\n",
       "<polyline clip-path=\"url(#clip1102)\" style=\"stroke:#0000ff; stroke-width:4; stroke-opacity:1; fill:none\" points=\"\n",
       "  175.024,768.317 416.994,745.429 658.964,550.965 900.935,860.772 1142.9,678.275 1384.88,860.372 1626.85,592.305 1868.82,605.751 2110.79,621.933 2352.76,466.386 \n",
       "  \n",
       "  \"/>\n",
       "<polyline clip-path=\"url(#clip1102)\" style=\"stroke:#0000ff; stroke-width:4; stroke-opacity:1; fill:none\" points=\"\n",
       "  175.024,622.747 416.994,733.247 658.964,695.58 900.935,937.395 1142.9,1233.55 1384.88,619.617 1626.85,667.142 1868.82,891.563 2110.79,1096.9 2352.76,942.464 \n",
       "  \n",
       "  \"/>\n",
       "<polyline clip-path=\"url(#clip1102)\" style=\"stroke:#0000ff; stroke-width:4; stroke-opacity:1; fill:none\" points=\"\n",
       "  175.024,790.407 416.994,799.337 658.964,766.307 900.935,712.907 1142.9,950.263 1384.88,759.943 1626.85,490.352 1868.82,797.805 2110.79,757.298 2352.76,660.988 \n",
       "  \n",
       "  \"/>\n",
       "<polyline clip-path=\"url(#clip1102)\" style=\"stroke:#0000ff; stroke-width:4; stroke-opacity:1; fill:none\" points=\"\n",
       "  175.024,478.991 416.994,721.825 658.964,933.806 900.935,1069.71 1142.9,920.093 1384.88,524.725 1626.85,915.639 1868.82,773.607 2110.79,712.991 2352.76,847.554 \n",
       "  \n",
       "  \"/>\n",
       "<polyline clip-path=\"url(#clip1102)\" style=\"stroke:#0000ff; stroke-width:4; stroke-opacity:1; fill:none\" points=\"\n",
       "  175.024,771.997 416.994,806.582 658.964,524.986 900.935,893.446 1142.9,623.735 1384.88,966.294 1626.85,575.033 1868.82,558.708 2110.79,560.252 2352.76,407.996 \n",
       "  \n",
       "  \"/>\n",
       "<polyline clip-path=\"url(#clip1102)\" style=\"stroke:#0000ff; stroke-width:4; stroke-opacity:1; fill:none\" points=\"\n",
       "  175.024,725.105 416.994,694.346 658.964,961.625 900.935,767.493 1142.9,921.961 1384.88,697.346 1626.85,615.101 1868.82,799.367 2110.79,703.388 2352.76,844.241 \n",
       "  \n",
       "  \"/>\n",
       "<polyline clip-path=\"url(#clip1102)\" style=\"stroke:#0000ff; stroke-width:4; stroke-opacity:1; fill:none\" points=\"\n",
       "  175.024,677.41 416.994,330.541 658.964,359.783 900.935,593.939 1142.9,970.507 1384.88,816.063 1626.85,758.599 1868.82,707.724 2110.79,475.284 2352.76,564.855 \n",
       "  \n",
       "  \"/>\n",
       "<polyline clip-path=\"url(#clip1102)\" style=\"stroke:#0000ff; stroke-width:4; stroke-opacity:1; fill:none\" points=\"\n",
       "  175.024,726.189 416.994,570.852 658.964,985.359 900.935,866.786 1142.9,1031.84 1384.88,394.744 1626.85,721.987 1868.82,859.088 2110.79,951.147 2352.76,736.896 \n",
       "  \n",
       "  \"/>\n",
       "<polyline clip-path=\"url(#clip1102)\" style=\"stroke:#0000ff; stroke-width:4; stroke-opacity:1; fill:none\" points=\"\n",
       "  175.024,620.988 416.994,652.556 658.964,851.014 900.935,498.529 1142.9,751.628 1384.88,408.249 1626.85,774.403 1868.82,717.84 2110.79,634.146 2352.76,622.23 \n",
       "  \n",
       "  \"/>\n",
       "<polyline clip-path=\"url(#clip1102)\" style=\"stroke:#0000ff; stroke-width:4; stroke-opacity:1; fill:none\" points=\"\n",
       "  175.024,648.667 416.994,995.352 658.964,797.186 900.935,739.516 1142.9,757.068 1384.88,790.327 1626.85,398.56 1868.82,585.4 2110.79,826.768 2352.76,600.887 \n",
       "  \n",
       "  \"/>\n",
       "<polyline clip-path=\"url(#clip1102)\" style=\"stroke:#0000ff; stroke-width:4; stroke-opacity:1; fill:none\" points=\"\n",
       "  175.024,401.185 416.994,867.907 658.964,480.321 900.935,802.24 1142.9,1005.31 1384.88,608.775 1626.85,444.582 1868.82,649.71 2110.79,969.238 2352.76,689.55 \n",
       "  \n",
       "  \"/>\n",
       "<polyline clip-path=\"url(#clip1102)\" style=\"stroke:#0000ff; stroke-width:4; stroke-opacity:1; fill:none\" points=\"\n",
       "  175.024,701.091 416.994,617.783 658.964,757.204 900.935,693.365 1142.9,966.954 1384.88,637.443 1626.85,1038.65 1868.82,649.28 2110.79,555.737 2352.76,658.638 \n",
       "  \n",
       "  \"/>\n",
       "<polyline clip-path=\"url(#clip1102)\" style=\"stroke:#0000ff; stroke-width:4; stroke-opacity:1; fill:none\" points=\"\n",
       "  175.024,639.947 416.994,851.879 658.964,1000.06 900.935,905.106 1142.9,872.837 1384.88,342.121 1626.85,833.653 1868.82,820.214 2110.79,1027.01 2352.76,886.162 \n",
       "  \n",
       "  \"/>\n",
       "<polyline clip-path=\"url(#clip1102)\" style=\"stroke:#0000ff; stroke-width:4; stroke-opacity:1; fill:none\" points=\"\n",
       "  175.024,837.135 416.994,527.127 658.964,773.053 900.935,451.485 1142.9,608.821 1384.88,372.146 1626.85,795.875 1868.82,604.65 2110.79,488.971 2352.76,480.863 \n",
       "  \n",
       "  \"/>\n",
       "<polyline clip-path=\"url(#clip1102)\" style=\"stroke:#0000ff; stroke-width:4; stroke-opacity:1; fill:none\" points=\"\n",
       "  175.024,797.912 416.994,824.412 658.964,449.823 900.935,897.463 1142.9,744.259 1384.88,959.767 1626.85,566.148 1868.82,557.962 2110.79,661.864 2352.76,422.16 \n",
       "  \n",
       "  \"/>\n",
       "<polyline clip-path=\"url(#clip1102)\" style=\"stroke:#ffa500; stroke-width:4; stroke-opacity:1; fill:none\" points=\"\n",
       "  175.024,943.053 416.994,817.817 658.964,1085.97 900.935,615.545 1142.9,659.163 1384.88,304.81 1626.85,524.021 1868.82,773.61 2110.79,755.748 2352.76,643.41 \n",
       "  \n",
       "  \"/>\n",
       "<polyline clip-path=\"url(#clip1102)\" style=\"stroke:#ffa500; stroke-width:4; stroke-opacity:1; fill:none\" points=\"\n",
       "  175.024,47.2441 416.994,353.522 658.964,554.394 900.935,469.597 1142.9,498.904 1384.88,481.311 1626.85,598.133 1868.82,438.836 2110.79,368.807 2352.76,258.285 \n",
       "  \n",
       "  \"/>\n",
       "<polyline clip-path=\"url(#clip1102)\" style=\"stroke:#ffa500; stroke-width:4; stroke-opacity:1; fill:none\" points=\"\n",
       "  175.024,149.083 416.994,279.584 658.964,585.141 900.935,566.843 1142.9,581.527 1384.88,624.545 1626.85,560.732 1868.82,600.129 2110.79,182.386 2352.76,342.04 \n",
       "  \n",
       "  \"/>\n",
       "<polyline clip-path=\"url(#clip1102)\" style=\"stroke:#ffa500; stroke-width:4; stroke-opacity:1; fill:none\" points=\"\n",
       "  175.024,462.71 416.994,719.545 658.964,733.367 900.935,563.831 1142.9,334.261 1384.88,633.244 1626.85,509.308 1868.82,526.396 2110.79,352.701 2352.76,361.14 \n",
       "  \n",
       "  \"/>\n",
       "<polyline clip-path=\"url(#clip1102)\" style=\"stroke:#ffa500; stroke-width:4; stroke-opacity:1; fill:none\" points=\"\n",
       "  175.024,696.779 416.994,722.064 658.964,507.663 900.935,696.79 1142.9,645.027 1384.88,1004.69 1626.85,464.586 1868.82,488.69 2110.79,547.503 2352.76,392.691 \n",
       "  \n",
       "  \"/>\n",
       "<polyline clip-path=\"url(#clip1102)\" style=\"stroke:#ffa500; stroke-width:4; stroke-opacity:1; fill:none\" points=\"\n",
       "  175.024,719.948 416.994,935.375 658.964,897.717 900.935,511.057 1142.9,545.714 1384.88,374.925 1626.85,515.128 1868.82,228.803 2110.79,731.51 2352.76,445.062 \n",
       "  \n",
       "  \"/>\n",
       "<polyline clip-path=\"url(#clip1102)\" style=\"stroke:#ffa500; stroke-width:4; stroke-opacity:1; fill:none\" points=\"\n",
       "  175.024,314.905 416.994,201.362 658.964,553.945 900.935,467.646 1142.9,746.784 1384.88,587.8 1626.85,630.828 1868.82,630.615 2110.79,416.618 2352.76,462.914 \n",
       "  \n",
       "  \"/>\n",
       "<polyline clip-path=\"url(#clip1102)\" style=\"stroke:#ffa500; stroke-width:4; stroke-opacity:1; fill:none\" points=\"\n",
       "  175.024,601.157 416.994,301.12 658.964,304.425 900.935,603.881 1142.9,871.443 1384.88,875.521 1626.85,764.29 1868.82,612.073 2110.79,485.766 2352.76,479.303 \n",
       "  \n",
       "  \"/>\n",
       "<polyline clip-path=\"url(#clip1102)\" style=\"stroke:#ffa500; stroke-width:4; stroke-opacity:1; fill:none\" points=\"\n",
       "  175.024,667.586 416.994,472.766 658.964,931.686 900.935,969.167 1142.9,1025.53 1384.88,586.307 1626.85,526.268 1868.82,928.69 2110.79,923.725 2352.76,815.137 \n",
       "  \n",
       "  \"/>\n",
       "<polyline clip-path=\"url(#clip1102)\" style=\"stroke:#ffa500; stroke-width:4; stroke-opacity:1; fill:none\" points=\"\n",
       "  175.024,611.9 416.994,497.884 658.964,664.016 900.935,676.363 1142.9,702.622 1384.88,529.626 1626.85,967.125 1868.82,503.935 2110.79,322.167 2352.76,542.414 \n",
       "  \n",
       "  \"/>\n",
       "<polyline clip-path=\"url(#clip1102)\" style=\"stroke:#ffa500; stroke-width:4; stroke-opacity:1; fill:none\" points=\"\n",
       "  175.024,630.303 416.994,746.456 658.964,1116.99 900.935,489.919 1142.9,539.596 1384.88,325.548 1626.85,633.538 1868.82,576.106 2110.79,647.315 2352.76,553.145 \n",
       "  \n",
       "  \"/>\n",
       "<polyline clip-path=\"url(#clip1102)\" style=\"stroke:#ffa500; stroke-width:4; stroke-opacity:1; fill:none\" points=\"\n",
       "  175.024,451.669 416.994,777.912 658.964,465.058 900.935,856.84 1142.9,779.116 1384.88,863.987 1626.85,195.406 1868.82,479.336 2110.79,921.746 2352.76,579.758 \n",
       "  \n",
       "  \"/>\n",
       "<polyline clip-path=\"url(#clip1102)\" style=\"stroke:#ffa500; stroke-width:4; stroke-opacity:1; fill:none\" points=\"\n",
       "  175.024,539.1 416.994,575.673 658.964,879.901 900.935,545.774 1142.9,821.225 1384.88,178.331 1626.85,815.683 1868.82,568.407 2110.79,704.456 2352.76,599.734 \n",
       "  \n",
       "  \"/>\n",
       "<polyline clip-path=\"url(#clip1102)\" style=\"stroke:#ffa500; stroke-width:4; stroke-opacity:1; fill:none\" points=\"\n",
       "  175.024,593.835 416.994,383.832 658.964,845.211 900.935,271.35 1142.9,762.622 1384.88,320.403 1626.85,826.33 1868.82,721.662 2110.79,677.37 2352.76,611.45 \n",
       "  \n",
       "  \"/>\n",
       "<polyline clip-path=\"url(#clip1102)\" style=\"stroke:#ffa500; stroke-width:4; stroke-opacity:1; fill:none\" points=\"\n",
       "  175.024,430.202 416.994,402.843 658.964,629.148 900.935,609.953 1142.9,1120.79 1384.88,337.026 1626.85,827.464 1868.82,766.977 2110.79,760.034 2352.76,613.785 \n",
       "  \n",
       "  \"/>\n",
       "<polyline clip-path=\"url(#clip1102)\" style=\"stroke:#ffa500; stroke-width:4; stroke-opacity:1; fill:none\" points=\"\n",
       "  175.024,480.463 416.994,818.523 658.964,361.871 900.935,698.319 1142.9,673.957 1384.88,755.537 1626.85,380.942 1868.82,435.009 2110.79,496.618 2352.76,199.451 \n",
       "  \n",
       "  \"/>\n",
       "<polyline clip-path=\"url(#clip1102)\" style=\"stroke:#ffa500; stroke-width:4; stroke-opacity:1; fill:none\" points=\"\n",
       "  175.024,570.278 416.994,794.003 658.964,916.589 900.935,966.176 1142.9,714.095 1384.88,515.756 1626.85,507.901 1868.82,659.66 2110.79,994.748 2352.76,749.331 \n",
       "  \n",
       "  \"/>\n",
       "<polyline clip-path=\"url(#clip1102)\" style=\"stroke:#ffa500; stroke-width:4; stroke-opacity:1; fill:none\" points=\"\n",
       "  175.024,388.607 416.994,637.918 658.964,944.218 900.935,992.759 1142.9,930.5 1384.88,388 1626.85,572.018 1868.82,751.178 2110.79,799.005 2352.76,791.964 \n",
       "  \n",
       "  \"/>\n",
       "<polyline clip-path=\"url(#clip1102)\" style=\"stroke:#ffa500; stroke-width:4; stroke-opacity:1; fill:none\" points=\"\n",
       "  175.024,688.792 416.994,1035.65 658.964,665.213 900.935,728.249 1142.9,866.188 1384.88,968.949 1626.85,371.82 1868.82,554.913 2110.79,927.06 2352.76,703.078 \n",
       "  \n",
       "  \"/>\n",
       "<polyline clip-path=\"url(#clip1102)\" style=\"stroke:#ffa500; stroke-width:4; stroke-opacity:1; fill:none\" points=\"\n",
       "  175.024,526.436 416.994,572.084 658.964,642.724 900.935,804.911 1142.9,1056.14 1384.88,507.383 1626.85,494.548 1868.82,826.151 2110.79,919.323 2352.76,766.831 \n",
       "  \n",
       "  \"/>\n",
       "<polyline clip-path=\"url(#clip1102)\" style=\"stroke:#ffa500; stroke-width:4; stroke-opacity:1; fill:none\" points=\"\n",
       "  175.024,120.844 416.994,370.424 658.964,592.74 900.935,514.328 1142.9,513.028 1384.88,575.224 1626.85,699.139 1868.82,538.868 2110.79,346.393 2352.76,228.691 \n",
       "  \n",
       "  \"/>\n",
       "<polyline clip-path=\"url(#clip1102)\" style=\"stroke:#ffa500; stroke-width:4; stroke-opacity:1; fill:none\" points=\"\n",
       "  175.024,477.899 416.994,987.781 658.964,547.952 900.935,919.706 1142.9,771.021 1384.88,860.903 1626.85,275.083 1868.82,480.281 2110.79,958.185 2352.76,622.808 \n",
       "  \n",
       "  \"/>\n",
       "<polyline clip-path=\"url(#clip1102)\" style=\"stroke:#ffa500; stroke-width:4; stroke-opacity:1; fill:none\" points=\"\n",
       "  175.024,238.421 416.994,307.908 658.964,500.112 900.935,418.266 1142.9,629.248 1384.88,440.635 1626.85,601.101 1868.82,576.523 2110.79,324.361 2352.76,375.939 \n",
       "  \n",
       "  \"/>\n",
       "<polyline clip-path=\"url(#clip1102)\" style=\"stroke:#ffa500; stroke-width:4; stroke-opacity:1; fill:none\" points=\"\n",
       "  175.024,467.402 416.994,449.006 658.964,613.544 900.935,557.129 1142.9,995.238 1384.88,358.326 1626.85,871.974 1868.82,891.053 2110.79,802.782 2352.76,790.641 \n",
       "  \n",
       "  \"/>\n",
       "<polyline clip-path=\"url(#clip1102)\" style=\"stroke:#ffa500; stroke-width:4; stroke-opacity:1; fill:none\" points=\"\n",
       "  175.024,395.245 416.994,485.618 658.964,663.549 900.935,630.084 1142.9,923.408 1384.88,310.434 1626.85,850.879 1868.82,857.363 2110.79,786.969 2352.76,747.793 \n",
       "  \n",
       "  \"/>\n",
       "<polyline clip-path=\"url(#clip1102)\" style=\"stroke:#ffa500; stroke-width:4; stroke-opacity:1; fill:none\" points=\"\n",
       "  175.024,638.937 416.994,943.764 658.964,695.436 900.935,732.797 1142.9,947.928 1384.88,884.831 1626.85,347.636 1868.82,599.365 2110.79,953.496 2352.76,704.526 \n",
       "  \n",
       "  \"/>\n",
       "<polyline clip-path=\"url(#clip1102)\" style=\"stroke:#ffa500; stroke-width:4; stroke-opacity:1; fill:none\" points=\"\n",
       "  175.024,885.741 416.994,743.393 658.964,669.591 900.935,660.755 1142.9,528.107 1384.88,626.94 1626.85,568.515 1868.82,550.932 2110.79,469.064 2352.76,387.649 \n",
       "  \n",
       "  \"/>\n",
       "<polyline clip-path=\"url(#clip1102)\" style=\"stroke:#ffa500; stroke-width:4; stroke-opacity:1; fill:none\" points=\"\n",
       "  175.024,658.454 416.994,971.836 658.964,684.062 900.935,606.283 1142.9,820.857 1384.88,910.176 1626.85,393.076 1868.82,478.475 2110.79,817.005 2352.76,681.946 \n",
       "  \n",
       "  \"/>\n",
       "<polyline clip-path=\"url(#clip1102)\" style=\"stroke:#ffa500; stroke-width:4; stroke-opacity:1; fill:none\" points=\"\n",
       "  175.024,407.851 416.994,564.679 658.964,850.52 900.935,923.276 1142.9,979.569 1384.88,342.799 1626.85,605.539 1868.82,776.364 2110.79,808.904 2352.76,761.002 \n",
       "  \n",
       "  \"/>\n",
       "<polyline clip-path=\"url(#clip1102)\" style=\"stroke:#ffa500; stroke-width:4; stroke-opacity:1; fill:none\" points=\"\n",
       "  175.024,580.918 416.994,343.002 658.964,413.551 900.935,652.688 1142.9,907.904 1384.88,732.001 1626.85,548.031 1868.82,719.536 2110.79,655.795 2352.76,669.493 \n",
       "  \n",
       "  \"/>\n",
       "<polyline clip-path=\"url(#clip1102)\" style=\"stroke:#ffa500; stroke-width:4; stroke-opacity:1; fill:none\" points=\"\n",
       "  175.024,827.149 416.994,747.661 658.964,478.112 900.935,717.863 1142.9,712.087 1384.88,918.038 1626.85,390.709 1868.82,445.315 2110.79,777.375 2352.76,586.483 \n",
       "  \n",
       "  \"/>\n",
       "<polyline clip-path=\"url(#clip1102)\" style=\"stroke:#ffa500; stroke-width:4; stroke-opacity:1; fill:none\" points=\"\n",
       "  175.024,486.695 416.994,595.593 658.964,622.064 900.935,712.251 1142.9,468.549 1384.88,590.564 1626.85,620.475 1868.82,470.866 2110.79,254.234 2352.76,300.119 \n",
       "  \n",
       "  \"/>\n",
       "<polyline clip-path=\"url(#clip1102)\" style=\"stroke:#ffa500; stroke-width:4; stroke-opacity:1; fill:none\" points=\"\n",
       "  175.024,478.954 416.994,907.818 658.964,496.4 900.935,845.301 1142.9,702.485 1384.88,714.591 1626.85,218.24 1868.82,443.222 2110.79,866.766 2352.76,516.254 \n",
       "  \n",
       "  \"/>\n",
       "<polyline clip-path=\"url(#clip1102)\" style=\"stroke:#ffa500; stroke-width:4; stroke-opacity:1; fill:none\" points=\"\n",
       "  175.024,574.062 416.994,870.929 658.964,847.154 900.935,900.157 1142.9,839.132 1384.88,506.601 1626.85,348.293 1868.82,701.616 2110.79,887.416 2352.76,620.282 \n",
       "  \n",
       "  \"/>\n",
       "<polyline clip-path=\"url(#clip1102)\" style=\"stroke:#ffa500; stroke-width:4; stroke-opacity:1; fill:none\" points=\"\n",
       "  175.024,412.936 416.994,555.629 658.964,834.076 900.935,599.555 1142.9,401.048 1384.88,782.552 1626.85,457.759 1868.82,656.033 2110.79,464.675 2352.76,353.338 \n",
       "  \n",
       "  \"/>\n",
       "<polyline clip-path=\"url(#clip1102)\" style=\"stroke:#ffa500; stroke-width:4; stroke-opacity:1; fill:none\" points=\"\n",
       "  175.024,940.149 416.994,821.579 658.964,985.644 900.935,617.021 1142.9,625.212 1384.88,185.356 1626.85,589.507 1868.82,603.734 2110.79,638.498 2352.76,563.162 \n",
       "  \n",
       "  \"/>\n",
       "<polyline clip-path=\"url(#clip1102)\" style=\"stroke:#ffa500; stroke-width:4; stroke-opacity:1; fill:none\" points=\"\n",
       "  175.024,709.837 416.994,690.634 658.964,472.223 900.935,640.137 1142.9,653.048 1384.88,958.742 1626.85,344.114 1868.82,376.518 2110.79,637.031 2352.76,483.177 \n",
       "  \n",
       "  \"/>\n",
       "<polyline clip-path=\"url(#clip1102)\" style=\"stroke:#ffa500; stroke-width:4; stroke-opacity:1; fill:none\" points=\"\n",
       "  175.024,515.909 416.994,356.345 658.964,418.241 900.935,607.822 1142.9,701.746 1384.88,713.219 1626.85,539.419 1868.82,590.528 2110.79,391.766 2352.76,294.991 \n",
       "  \n",
       "  \"/>\n",
       "<polyline clip-path=\"url(#clip1102)\" style=\"stroke:#ffa500; stroke-width:4; stroke-opacity:1; fill:none\" points=\"\n",
       "  175.024,537.962 416.994,517.3 658.964,1018.17 900.935,704.901 1142.9,614.686 1384.88,393.974 1626.85,677.755 1868.82,742.547 2110.79,630.446 2352.76,600.965 \n",
       "  \n",
       "  \"/>\n",
       "<polyline clip-path=\"url(#clip1102)\" style=\"stroke:#ffa500; stroke-width:4; stroke-opacity:1; fill:none\" points=\"\n",
       "  175.024,683.066 416.994,403.362 658.964,399.752 900.935,788.688 1142.9,986.032 1384.88,834.945 1626.85,659.453 1868.82,691.215 2110.79,743.66 2352.76,736.632 \n",
       "  \n",
       "  \"/>\n",
       "<polyline clip-path=\"url(#clip1102)\" style=\"stroke:#ffa500; stroke-width:4; stroke-opacity:1; fill:none\" points=\"\n",
       "  175.024,448.303 416.994,908.798 658.964,649.094 900.935,883.015 1142.9,705.037 1384.88,761.509 1626.85,301.24 1868.82,528.069 2110.79,918.255 2352.76,667.034 \n",
       "  \n",
       "  \"/>\n",
       "<polyline clip-path=\"url(#clip1102)\" style=\"stroke:#ffa500; stroke-width:4; stroke-opacity:1; fill:none\" points=\"\n",
       "  175.024,675.564 416.994,842.572 658.964,877.003 900.935,596.902 1142.9,790.451 1384.88,256.194 1626.85,771.58 1868.82,500.731 2110.79,840.852 2352.76,652.904 \n",
       "  \n",
       "  \"/>\n",
       "<polyline clip-path=\"url(#clip1102)\" style=\"stroke:#ffa500; stroke-width:4; stroke-opacity:1; fill:none\" points=\"\n",
       "  175.024,183.767 416.994,488.242 658.964,736.748 900.935,815.694 1142.9,951.17 1384.88,605.395 1626.85,562.502 1868.82,795.635 2110.79,743.087 2352.76,689.934 \n",
       "  \n",
       "  \"/>\n",
       "<polyline clip-path=\"url(#clip1102)\" style=\"stroke:#ffa500; stroke-width:4; stroke-opacity:1; fill:none\" points=\"\n",
       "  175.024,593.185 416.994,513.755 658.964,710.964 900.935,777.861 1142.9,629.971 1384.88,543.049 1626.85,870.879 1868.82,413.206 2110.79,340.287 2352.76,546.663 \n",
       "  \n",
       "  \"/>\n",
       "<polyline clip-path=\"url(#clip1102)\" style=\"stroke:#ffa500; stroke-width:4; stroke-opacity:1; fill:none\" points=\"\n",
       "  175.024,589.722 416.994,376.676 658.964,358.952 900.935,674.409 1142.9,960.849 1384.88,794.147 1626.85,754.498 1868.82,641.955 2110.79,453.364 2352.76,490.29 \n",
       "  \n",
       "  \"/>\n",
       "<polyline clip-path=\"url(#clip1102)\" style=\"stroke:#ffa500; stroke-width:4; stroke-opacity:1; fill:none\" points=\"\n",
       "  175.024,506.461 416.994,292.958 658.964,662.689 900.935,319.229 1142.9,883.833 1384.88,451.688 1626.85,846.787 1868.82,632.597 2110.79,571.325 2352.76,569.783 \n",
       "  \n",
       "  \"/>\n",
       "<polyline clip-path=\"url(#clip1102)\" style=\"stroke:#ffa500; stroke-width:4; stroke-opacity:1; fill:none\" points=\"\n",
       "  175.024,362.036 416.994,831.166 658.964,795.818 900.935,792.115 1142.9,841.979 1384.88,812.045 1626.85,438.674 1868.82,557.337 2110.79,854.759 2352.76,634.99 \n",
       "  \n",
       "  \"/>\n",
       "<polyline clip-path=\"url(#clip1102)\" style=\"stroke:#ffa500; stroke-width:4; stroke-opacity:1; fill:none\" points=\"\n",
       "  175.024,562.296 416.994,587.212 658.964,1063.86 900.935,553.346 1142.9,542.432 1384.88,355.923 1626.85,668.118 1868.82,612.025 2110.79,566.233 2352.76,508.476 \n",
       "  \n",
       "  \"/>\n",
       "<polyline clip-path=\"url(#clip1102)\" style=\"stroke:#ffa500; stroke-width:4; stroke-opacity:1; fill:none\" points=\"\n",
       "  175.024,490.254 416.994,542.029 658.964,761.656 900.935,768.162 1142.9,566.606 1384.88,686.154 1626.85,924.813 1868.82,641.892 2110.79,285.894 2352.76,527.521 \n",
       "  \n",
       "  \"/>\n",
       "<polyline clip-path=\"url(#clip1102)\" style=\"stroke:#ffa500; stroke-width:4; stroke-opacity:1; fill:none\" points=\"\n",
       "  175.024,292.243 416.994,848.372 658.964,390.613 900.935,735.496 1142.9,802.671 1384.88,602.648 1626.85,365.476 1868.82,427.803 2110.79,585.484 2352.76,213.151 \n",
       "  \n",
       "  \"/>\n",
       "<polyline clip-path=\"url(#clip1102)\" style=\"stroke:#ffa500; stroke-width:4; stroke-opacity:1; fill:none\" points=\"\n",
       "  175.024,800.264 416.994,820.514 658.964,955.232 900.935,722.355 1142.9,464.949 1384.88,581.786 1626.85,797.376 1868.82,426.546 2110.79,522.456 2352.76,416.531 \n",
       "  \n",
       "  \"/>\n",
       "<polyline clip-path=\"url(#clip1102)\" style=\"stroke:#ffa500; stroke-width:4; stroke-opacity:1; fill:none\" points=\"\n",
       "  175.024,550.779 416.994,405.506 658.964,437.613 900.935,547.497 1142.9,827.621 1384.88,693.465 1626.85,489.466 1868.82,644.808 2110.79,404.644 2352.76,406.447 \n",
       "  \n",
       "  \"/>\n",
       "<polyline clip-path=\"url(#clip1102)\" style=\"stroke:#ffa500; stroke-width:4; stroke-opacity:1; fill:none\" points=\"\n",
       "  175.024,743.789 416.994,687.285 658.964,813.987 900.935,657.217 1142.9,768.26 1384.88,554.406 1626.85,507.745 1868.82,802.142 2110.79,602.473 2352.76,535.789 \n",
       "  \n",
       "  \"/>\n",
       "<polyline clip-path=\"url(#clip1102)\" style=\"stroke:#ffa500; stroke-width:4; stroke-opacity:1; fill:none\" points=\"\n",
       "  175.024,372.969 416.994,390.003 658.964,680.045 900.935,435.644 1142.9,475.004 1384.88,433.339 1626.85,681.352 1868.82,633.098 2110.79,321.467 2352.76,380.09 \n",
       "  \n",
       "  \"/>\n",
       "<polyline clip-path=\"url(#clip1102)\" style=\"stroke:#ffa500; stroke-width:4; stroke-opacity:1; fill:none\" points=\"\n",
       "  175.024,636.027 416.994,350.28 658.964,323.797 900.935,543.557 1142.9,997.319 1384.88,855.768 1626.85,714.337 1868.82,666.353 2110.79,498.645 2352.76,590.759 \n",
       "  \n",
       "  \"/>\n",
       "<polyline clip-path=\"url(#clip1102)\" style=\"stroke:#ffa500; stroke-width:4; stroke-opacity:1; fill:none\" points=\"\n",
       "  175.024,576.801 416.994,627.78 658.964,778.543 900.935,601.97 1142.9,376.893 1384.88,659.784 1626.85,552.666 1868.82,552.952 2110.79,296.698 2352.76,248.741 \n",
       "  \n",
       "  \"/>\n",
       "<polyline clip-path=\"url(#clip1102)\" style=\"stroke:#ffa500; stroke-width:4; stroke-opacity:1; fill:none\" points=\"\n",
       "  175.024,355.198 416.994,500.195 658.964,736.166 900.935,374.672 1142.9,673.883 1384.88,415.004 1626.85,659.18 1868.82,397.973 2110.79,572.673 2352.76,507.103 \n",
       "  \n",
       "  \"/>\n",
       "<polyline clip-path=\"url(#clip1102)\" style=\"stroke:#ffa500; stroke-width:4; stroke-opacity:1; fill:none\" points=\"\n",
       "  175.024,600.458 416.994,617.294 658.964,665.309 900.935,823.943 1142.9,560.272 1384.88,671.614 1626.85,857.257 1868.82,618.373 2110.79,186.243 2352.76,566.493 \n",
       "  \n",
       "  \"/>\n",
       "<polyline clip-path=\"url(#clip1102)\" style=\"stroke:#ffa500; stroke-width:4; stroke-opacity:1; fill:none\" points=\"\n",
       "  175.024,732.116 416.994,936.298 658.964,921.73 900.935,540.118 1142.9,600.497 1384.88,451.96 1626.85,503.786 1868.82,267.973 2110.79,753.502 2352.76,434.994 \n",
       "  \n",
       "  \"/>\n",
       "<polyline clip-path=\"url(#clip1102)\" style=\"stroke:#ffa500; stroke-width:4; stroke-opacity:1; fill:none\" points=\"\n",
       "  175.024,608.179 416.994,535.492 658.964,967.498 900.935,389.613 1142.9,562.775 1384.88,264.567 1626.85,628.177 1868.82,559.457 2110.79,588.804 2352.76,472.541 \n",
       "  \n",
       "  \"/>\n",
       "<polyline clip-path=\"url(#clip1102)\" style=\"stroke:#ffa500; stroke-width:4; stroke-opacity:1; fill:none\" points=\"\n",
       "  175.024,814.687 416.994,653.804 658.964,754.321 900.935,511.252 1142.9,354.578 1384.88,404.816 1626.85,699.028 1868.82,494.707 2110.79,478.194 2352.76,492.475 \n",
       "  \n",
       "  \"/>\n",
       "<polyline clip-path=\"url(#clip1102)\" style=\"stroke:#ffa500; stroke-width:4; stroke-opacity:1; fill:none\" points=\"\n",
       "  175.024,274.742 416.994,262.532 658.964,571.352 900.935,460.007 1142.9,607.853 1384.88,502.137 1626.85,544.499 1868.82,601.997 2110.79,480.253 2352.76,532.489 \n",
       "  \n",
       "  \"/>\n",
       "<polyline clip-path=\"url(#clip1102)\" style=\"stroke:#ffa500; stroke-width:4; stroke-opacity:1; fill:none\" points=\"\n",
       "  175.024,483.192 416.994,704.349 658.964,818.822 900.935,850.356 1142.9,839.762 1384.88,522.071 1626.85,323.272 1868.82,622.37 2110.79,871.909 2352.76,617.237 \n",
       "  \n",
       "  \"/>\n",
       "<polyline clip-path=\"url(#clip1102)\" style=\"stroke:#ffa500; stroke-width:4; stroke-opacity:1; fill:none\" points=\"\n",
       "  175.024,458.48 416.994,565.411 658.964,675.854 900.935,674.689 1142.9,411.955 1384.88,599.346 1626.85,640.058 1868.82,562.692 2110.79,272.125 2352.76,319.666 \n",
       "  \n",
       "  \"/>\n",
       "<polyline clip-path=\"url(#clip1102)\" style=\"stroke:#ffa500; stroke-width:4; stroke-opacity:1; fill:none\" points=\"\n",
       "  175.024,715.364 416.994,450.48 658.964,385.397 900.935,576.219 1142.9,796.419 1384.88,740.343 1626.85,544.277 1868.82,737.062 2110.79,509.33 2352.76,607.273 \n",
       "  \n",
       "  \"/>\n",
       "<polyline clip-path=\"url(#clip1102)\" style=\"stroke:#ffa500; stroke-width:4; stroke-opacity:1; fill:none\" points=\"\n",
       "  175.024,454.518 416.994,439.882 658.964,771.28 900.935,451.748 1142.9,787.244 1384.88,472.525 1626.85,748.076 1868.82,462.601 2110.79,535.283 2352.76,560.579 \n",
       "  \n",
       "  \"/>\n",
       "<polyline clip-path=\"url(#clip1102)\" style=\"stroke:#ffa500; stroke-width:4; stroke-opacity:1; fill:none\" points=\"\n",
       "  175.024,422.953 416.994,697.073 658.964,811.957 900.935,610.483 1142.9,444.876 1384.88,709.017 1626.85,328.886 1868.82,433.299 2110.79,555.566 2352.76,389.51 \n",
       "  \n",
       "  \"/>\n",
       "<polyline clip-path=\"url(#clip1102)\" style=\"stroke:#ffa500; stroke-width:4; stroke-opacity:1; fill:none\" points=\"\n",
       "  175.024,338.466 416.994,381.125 658.964,684.781 900.935,535.16 1142.9,677.924 1384.88,525.29 1626.85,672.63 1868.82,730.653 2110.79,261.445 2352.76,367.401 \n",
       "  \n",
       "  \"/>\n",
       "<polyline clip-path=\"url(#clip1102)\" style=\"stroke:#ffa500; stroke-width:4; stroke-opacity:1; fill:none\" points=\"\n",
       "  175.024,300.593 416.994,252.316 658.964,556.501 900.935,517.905 1142.9,643.214 1384.88,488.408 1626.85,605.756 1868.82,611.289 2110.79,450.784 2352.76,474.869 \n",
       "  \n",
       "  \"/>\n",
       "<polyline clip-path=\"url(#clip1102)\" style=\"stroke:#ffa500; stroke-width:4; stroke-opacity:1; fill:none\" points=\"\n",
       "  175.024,501.276 416.994,431.495 658.964,775.499 900.935,357.665 1142.9,687.428 1384.88,446.136 1626.85,762.214 1868.82,675.719 2110.79,591.014 2352.76,508.097 \n",
       "  \n",
       "  \"/>\n",
       "<polyline clip-path=\"url(#clip1102)\" style=\"stroke:#ffa500; stroke-width:4; stroke-opacity:1; fill:none\" points=\"\n",
       "  175.024,522.991 416.994,651.623 658.964,626.552 900.935,769.53 1142.9,467.293 1384.88,423.005 1626.85,522.911 1868.82,359.865 2110.79,299.801 2352.76,472.166 \n",
       "  \n",
       "  \"/>\n",
       "<polyline clip-path=\"url(#clip1102)\" style=\"stroke:#ffa500; stroke-width:4; stroke-opacity:1; fill:none\" points=\"\n",
       "  175.024,704.445 416.994,811.873 658.964,800.013 900.935,516.029 1142.9,599.979 1384.88,368.759 1626.85,607.164 1868.82,297.295 2110.79,639.227 2352.76,461.147 \n",
       "  \n",
       "  \"/>\n",
       "<polyline clip-path=\"url(#clip1102)\" style=\"stroke:#ffa500; stroke-width:4; stroke-opacity:1; fill:none\" points=\"\n",
       "  175.024,703.18 416.994,789.639 658.964,661.224 900.935,751.046 1142.9,674.516 1384.88,759.847 1626.85,289.63 1868.82,560.907 2110.79,634.683 2352.76,271.786 \n",
       "  \n",
       "  \"/>\n",
       "<polyline clip-path=\"url(#clip1102)\" style=\"stroke:#ffa500; stroke-width:4; stroke-opacity:1; fill:none\" points=\"\n",
       "  175.024,639.682 416.994,378.681 658.964,368.09 900.935,482.069 1142.9,894.374 1384.88,774.802 1626.85,549.489 1868.82,695.096 2110.79,441.573 2352.76,463.537 \n",
       "  \n",
       "  \"/>\n",
       "<polyline clip-path=\"url(#clip1102)\" style=\"stroke:#ffa500; stroke-width:4; stroke-opacity:1; fill:none\" points=\"\n",
       "  175.024,547.953 416.994,417.997 658.964,737.763 900.935,626.906 1142.9,997.088 1384.88,341.25 1626.85,774.871 1868.82,793.047 2110.79,853.417 2352.76,666.016 \n",
       "  \n",
       "  \"/>\n",
       "<polyline clip-path=\"url(#clip1102)\" style=\"stroke:#ffa500; stroke-width:4; stroke-opacity:1; fill:none\" points=\"\n",
       "  175.024,182.294 416.994,306.244 658.964,565.254 900.935,494.289 1142.9,557.716 1384.88,388.678 1626.85,732.476 1868.82,531.179 2110.79,362.546 2352.76,340.064 \n",
       "  \n",
       "  \"/>\n",
       "<polyline clip-path=\"url(#clip1102)\" style=\"stroke:#ffa500; stroke-width:4; stroke-opacity:1; fill:none\" points=\"\n",
       "  175.024,802.814 416.994,719.855 658.964,777.588 900.935,533.224 1142.9,599.533 1384.88,273.561 1626.85,576.262 1868.82,405.194 2110.79,578.751 2352.76,393.46 \n",
       "  \n",
       "  \"/>\n",
       "<polyline clip-path=\"url(#clip1102)\" style=\"stroke:#ffa500; stroke-width:4; stroke-opacity:1; fill:none\" points=\"\n",
       "  175.024,783.914 416.994,727.585 658.964,682.014 900.935,645.95 1142.9,877.381 1384.88,733.029 1626.85,481.006 1868.82,771.656 2110.79,702.764 2352.76,637.979 \n",
       "  \n",
       "  \"/>\n",
       "<polyline clip-path=\"url(#clip1102)\" style=\"stroke:#ffa500; stroke-width:4; stroke-opacity:1; fill:none\" points=\"\n",
       "  175.024,751.828 416.994,898.526 658.964,644.843 900.935,725.702 1142.9,746.368 1384.88,735.126 1626.85,431.772 1868.82,666.318 2110.79,693.607 2352.76,377.077 \n",
       "  \n",
       "  \"/>\n",
       "<polyline clip-path=\"url(#clip1102)\" style=\"stroke:#ffa500; stroke-width:4; stroke-opacity:1; fill:none\" points=\"\n",
       "  175.024,289.472 416.994,769.116 658.964,541.684 900.935,679.019 1142.9,664.619 1384.88,755.242 1626.85,506.29 1868.82,336.965 2110.79,430.194 2352.76,392.906 \n",
       "  \n",
       "  \"/>\n",
       "<polyline clip-path=\"url(#clip1102)\" style=\"stroke:#ffa500; stroke-width:4; stroke-opacity:1; fill:none\" points=\"\n",
       "  175.024,405.336 416.994,546.959 658.964,569.383 900.935,574.064 1142.9,425.439 1384.88,430.271 1626.85,510.005 1868.82,346.918 2110.79,410.985 2352.76,424.109 \n",
       "  \n",
       "  \"/>\n",
       "<polyline clip-path=\"url(#clip1102)\" style=\"stroke:#ffa500; stroke-width:4; stroke-opacity:1; fill:none\" points=\"\n",
       "  175.024,486.521 416.994,551.158 658.964,942.504 900.935,548.853 1142.9,856.314 1384.88,329.945 1626.85,926.755 1868.82,667.066 2110.79,707.931 2352.76,607.587 \n",
       "  \n",
       "  \"/>\n",
       "<polyline clip-path=\"url(#clip1102)\" style=\"stroke:#ffa500; stroke-width:4; stroke-opacity:1; fill:none\" points=\"\n",
       "  175.024,436.022 416.994,570.804 658.964,683.398 900.935,428.199 1142.9,699.155 1384.88,490.643 1626.85,736.36 1868.82,386.013 2110.79,604.258 2352.76,554.862 \n",
       "  \n",
       "  \"/>\n",
       "<polyline clip-path=\"url(#clip1102)\" style=\"stroke:#ffa500; stroke-width:4; stroke-opacity:1; fill:none\" points=\"\n",
       "  175.024,458.981 416.994,523.96 658.964,591.737 900.935,685.548 1142.9,467.64 1384.88,443.517 1626.85,530.34 1868.82,308.64 2110.79,346.973 2352.76,436.547 \n",
       "  \n",
       "  \"/>\n",
       "<polyline clip-path=\"url(#clip1102)\" style=\"stroke:#ffa500; stroke-width:4; stroke-opacity:1; fill:none\" points=\"\n",
       "  175.024,631.899 416.994,661.867 658.964,923.397 900.935,711.063 1142.9,838.465 1384.88,234.271 1626.85,801.354 1868.82,631.556 2110.79,801.574 2352.76,700.518 \n",
       "  \n",
       "  \"/>\n",
       "<polyline clip-path=\"url(#clip1102)\" style=\"stroke:#ffa500; stroke-width:4; stroke-opacity:1; fill:none\" points=\"\n",
       "  175.024,531.734 416.994,754.003 658.964,471.522 900.935,776.721 1142.9,735.199 1384.88,975.938 1626.85,558.975 1868.82,495.227 2110.79,540.615 2352.76,517.549 \n",
       "  \n",
       "  \"/>\n",
       "<polyline clip-path=\"url(#clip1102)\" style=\"stroke:#ffa500; stroke-width:4; stroke-opacity:1; fill:none\" points=\"\n",
       "  175.024,702.618 416.994,583.827 658.964,530.943 900.935,477.666 1142.9,547.849 1384.88,638.471 1626.85,639.435 1868.82,536.953 2110.79,607.48 2352.76,512.688 \n",
       "  \n",
       "  \"/>\n",
       "<polyline clip-path=\"url(#clip1102)\" style=\"stroke:#ffa500; stroke-width:4; stroke-opacity:1; fill:none\" points=\"\n",
       "  175.024,467.1 416.994,428.119 658.964,723.376 900.935,334.519 1142.9,845.677 1384.88,480.818 1626.85,855.234 1868.82,606.252 2110.79,614.8 2352.76,586.614 \n",
       "  \n",
       "  \"/>\n",
       "<polyline clip-path=\"url(#clip1102)\" style=\"stroke:#ffa500; stroke-width:4; stroke-opacity:1; fill:none\" points=\"\n",
       "  175.024,448.166 416.994,494.91 658.964,703.411 900.935,591.006 1142.9,1020.77 1384.88,296.248 1626.85,810.127 1868.82,669.872 2110.79,676.77 2352.76,602.494 \n",
       "  \n",
       "  \"/>\n",
       "<polyline clip-path=\"url(#clip1102)\" style=\"stroke:#ffa500; stroke-width:4; stroke-opacity:1; fill:none\" points=\"\n",
       "  175.024,319.107 416.994,773.223 658.964,541.047 900.935,813.311 1142.9,914.087 1384.88,871.681 1626.85,365.484 1868.82,484.302 2110.79,842.27 2352.76,643.001 \n",
       "  \n",
       "  \"/>\n",
       "<polyline clip-path=\"url(#clip1102)\" style=\"stroke:#ffa500; stroke-width:4; stroke-opacity:1; fill:none\" points=\"\n",
       "  175.024,443.409 416.994,783.372 658.964,461.523 900.935,439.552 1142.9,723.137 1384.88,683.093 1626.85,401.347 1868.82,447.717 2110.79,588.671 2352.76,571.542 \n",
       "  \n",
       "  \"/>\n",
       "<polyline clip-path=\"url(#clip1102)\" style=\"stroke:#ffa500; stroke-width:4; stroke-opacity:1; fill:none\" points=\"\n",
       "  175.024,453.606 416.994,628.156 658.964,631.179 900.935,758.294 1142.9,537.671 1384.88,648.438 1626.85,820.793 1868.82,593.309 2110.79,193.348 2352.76,502.575 \n",
       "  \n",
       "  \"/>\n",
       "<polyline clip-path=\"url(#clip1102)\" style=\"stroke:#ffa500; stroke-width:4; stroke-opacity:1; fill:none\" points=\"\n",
       "  175.024,451.142 416.994,715.407 658.964,564.349 900.935,755.991 1142.9,551.821 1384.88,666.097 1626.85,359.366 1868.82,450.251 2110.79,622.08 2352.76,413.565 \n",
       "  \n",
       "  \"/>\n",
       "<polyline clip-path=\"url(#clip1102)\" style=\"stroke:#ffa500; stroke-width:4; stroke-opacity:1; fill:none\" points=\"\n",
       "  175.024,476.808 416.994,790.123 658.964,317.579 900.935,759.806 1142.9,776.902 1384.88,836.502 1626.85,545.79 1868.82,406.266 2110.79,553.69 2352.76,326.673 \n",
       "  \n",
       "  \"/>\n",
       "<polyline clip-path=\"url(#clip1102)\" style=\"stroke:#ffa500; stroke-width:4; stroke-opacity:1; fill:none\" points=\"\n",
       "  175.024,641.44 416.994,696.23 658.964,697.725 900.935,662.411 1142.9,567.704 1384.88,588.832 1626.85,328.417 1868.82,520.327 2110.79,531.604 2352.76,408.441 \n",
       "  \n",
       "  \"/>\n",
       "<polyline clip-path=\"url(#clip1102)\" style=\"stroke:#ffa500; stroke-width:4; stroke-opacity:1; fill:none\" points=\"\n",
       "  175.024,688.438 416.994,773.554 658.964,901.253 900.935,866.359 1142.9,490.044 1384.88,653.645 1626.85,480.33 1868.82,642.719 2110.79,406.161 2352.76,340.136 \n",
       "  \n",
       "  \"/>\n",
       "<polyline clip-path=\"url(#clip1102)\" style=\"stroke:#ffa500; stroke-width:4; stroke-opacity:1; fill:none\" points=\"\n",
       "  175.024,514.189 416.994,664.882 658.964,722.128 900.935,766.646 1142.9,561.395 1384.88,605.308 1626.85,876.392 1868.82,663.269 2110.79,218.573 2352.76,605.122 \n",
       "  \n",
       "  \"/>\n",
       "<polyline clip-path=\"url(#clip1102)\" style=\"stroke:#ffa500; stroke-width:4; stroke-opacity:1; fill:none\" points=\"\n",
       "  175.024,604.351 416.994,792.619 658.964,449.043 900.935,526.069 1142.9,865.996 1384.88,795.138 1626.85,452.674 1868.82,509.279 2110.79,639.983 2352.76,491.604 \n",
       "  \n",
       "  \"/>\n",
       "<polyline clip-path=\"url(#clip1102)\" style=\"stroke:#ffa500; stroke-width:4; stroke-opacity:1; fill:none\" points=\"\n",
       "  175.024,421.649 416.994,443.861 658.964,489.796 900.935,881.526 1142.9,845.152 1384.88,776.262 1626.85,587.696 1868.82,600.093 2110.79,664.417 2352.76,625.132 \n",
       "  \n",
       "  \"/>\n",
       "<polyline clip-path=\"url(#clip1102)\" style=\"stroke:#ffa500; stroke-width:4; stroke-opacity:1; fill:none\" points=\"\n",
       "  175.024,724.544 416.994,763.501 658.964,478.882 900.935,587.79 1142.9,602.018 1384.88,911.882 1626.85,503.236 1868.82,428.408 2110.79,727.261 2352.76,524.935 \n",
       "  \n",
       "  \"/>\n",
       "<polyline clip-path=\"url(#clip1102)\" style=\"stroke:#ffa500; stroke-width:4; stroke-opacity:1; fill:none\" points=\"\n",
       "  175.024,544.905 416.994,495.048 658.964,1003.87 900.935,696.489 1142.9,523.905 1384.88,498.918 1626.85,473.474 1868.82,738.423 2110.79,564.201 2352.76,530.181 \n",
       "  \n",
       "  \"/>\n",
       "<polyline clip-path=\"url(#clip1102)\" style=\"stroke:#ffa500; stroke-width:4; stroke-opacity:1; fill:none\" points=\"\n",
       "  175.024,521.071 416.994,673.355 658.964,937.261 900.935,628.207 1142.9,847.872 1384.88,335.589 1626.85,777.478 1868.82,558.516 2110.79,716.745 2352.76,684.963 \n",
       "  \n",
       "  \"/>\n",
       "<polyline clip-path=\"url(#clip1102)\" style=\"stroke:#ffa500; stroke-width:4; stroke-opacity:1; fill:none\" points=\"\n",
       "  175.024,315.201 416.994,370.469 658.964,471.279 900.935,504.002 1142.9,563.081 1384.88,455.358 1626.85,656.431 1868.82,440.595 2110.79,358.506 2352.76,382.101 \n",
       "  \n",
       "  \"/>\n",
       "<polyline clip-path=\"url(#clip1102)\" style=\"stroke:#ffa500; stroke-width:4; stroke-opacity:1; fill:none\" points=\"\n",
       "  175.024,464.614 416.994,805.653 658.964,672.757 900.935,784.934 1142.9,664.115 1384.88,762.865 1626.85,347.633 1868.82,552.138 2110.79,513.771 2352.76,237.124 \n",
       "  \n",
       "  \"/>\n",
       "<polyline clip-path=\"url(#clip1102)\" style=\"stroke:#ffa500; stroke-width:4; stroke-opacity:1; fill:none\" points=\"\n",
       "  175.024,388.607 416.994,637.918 658.964,944.218 900.935,992.759 1142.9,930.5 1384.88,388 1626.85,572.018 1868.82,751.178 2110.79,799.005 2352.76,791.964 \n",
       "  \n",
       "  \"/>\n",
       "<polyline clip-path=\"url(#clip1102)\" style=\"stroke:#ffa500; stroke-width:4; stroke-opacity:1; fill:none\" points=\"\n",
       "  175.024,755.907 416.994,838.838 658.964,660.41 900.935,757.563 1142.9,786.415 1384.88,732.516 1626.85,413.27 1868.82,668.569 2110.79,690.575 2352.76,385.584 \n",
       "  \n",
       "  \"/>\n",
       "<polyline clip-path=\"url(#clip1102)\" style=\"stroke:#ffa500; stroke-width:4; stroke-opacity:1; fill:none\" points=\"\n",
       "  175.024,298.303 416.994,442.295 658.964,702.188 900.935,527.521 1142.9,538.993 1384.88,439.627 1626.85,586.301 1868.82,702.035 2110.79,325.08 2352.76,436.976 \n",
       "  \n",
       "  \"/>\n",
       "<polyline clip-path=\"url(#clip1102)\" style=\"stroke:#ffa500; stroke-width:4; stroke-opacity:1; fill:none\" points=\"\n",
       "  175.024,736.712 416.994,764.424 658.964,502.895 900.935,616.851 1142.9,656.801 1384.88,988.917 1626.85,491.895 1868.82,467.579 2110.79,749.253 2352.76,514.867 \n",
       "  \n",
       "  \"/>\n",
       "<polyline clip-path=\"url(#clip1102)\" style=\"stroke:#ffa500; stroke-width:4; stroke-opacity:1; fill:none\" points=\"\n",
       "  175.024,822.694 416.994,777.709 658.964,861.839 900.935,471.471 1142.9,659.511 1384.88,206.518 1626.85,697.64 1868.82,610.007 2110.79,567.823 2352.76,575.356 \n",
       "  \n",
       "  \"/>\n",
       "<polyline clip-path=\"url(#clip1102)\" style=\"stroke:#ffa500; stroke-width:4; stroke-opacity:1; fill:none\" points=\"\n",
       "  175.024,363.072 416.994,786.018 658.964,580.031 900.935,723.75 1142.9,678.744 1384.88,849.155 1626.85,607.296 1868.82,436.997 2110.79,407.78 2352.76,363.312 \n",
       "  \n",
       "  \"/>\n",
       "<polyline clip-path=\"url(#clip1102)\" style=\"stroke:#ffa500; stroke-width:4; stroke-opacity:1; fill:none\" points=\"\n",
       "  175.024,462.71 416.994,719.545 658.964,733.367 900.935,563.831 1142.9,334.261 1384.88,633.244 1626.85,509.308 1868.82,526.396 2110.79,352.701 2352.76,361.14 \n",
       "  \n",
       "  \"/>\n",
       "<polyline clip-path=\"url(#clip1102)\" style=\"stroke:#ffa500; stroke-width:4; stroke-opacity:1; fill:none\" points=\"\n",
       "  175.024,462.71 416.994,719.545 658.964,733.367 900.935,563.831 1142.9,334.261 1384.88,633.244 1626.85,509.308 1868.82,526.396 2110.79,352.701 2352.76,361.14 \n",
       "  \n",
       "  \"/>\n",
       "<polyline clip-path=\"url(#clip1102)\" style=\"stroke:#ffa500; stroke-width:4; stroke-opacity:1; fill:none\" points=\"\n",
       "  175.024,826.085 416.994,827.48 658.964,1001.82 900.935,562.816 1142.9,760.976 1384.88,447.075 1626.85,567.288 1868.82,562.721 2110.79,685.702 2352.76,583.508 \n",
       "  \n",
       "  \"/>\n",
       "<polyline clip-path=\"url(#clip1102)\" style=\"stroke:#ffa500; stroke-width:4; stroke-opacity:1; fill:none\" points=\"\n",
       "  175.024,526.598 416.994,405.923 658.964,785.351 900.935,283.641 1142.9,780.668 1384.88,294.001 1626.85,855.476 1868.82,698.702 2110.79,594.843 2352.76,620.258 \n",
       "  \n",
       "  \"/>\n",
       "<polyline clip-path=\"url(#clip1102)\" style=\"stroke:#ffa500; stroke-width:4; stroke-opacity:1; fill:none\" points=\"\n",
       "  175.024,388.607 416.994,637.918 658.964,944.218 900.935,992.759 1142.9,930.5 1384.88,388 1626.85,572.018 1868.82,751.178 2110.79,799.005 2352.76,791.964 \n",
       "  \n",
       "  \"/>\n",
       "<polyline clip-path=\"url(#clip1102)\" style=\"stroke:#ffa500; stroke-width:4; stroke-opacity:1; fill:none\" points=\"\n",
       "  175.024,307.853 416.994,448.677 658.964,892.948 900.935,727.316 1142.9,801.637 1384.88,371.945 1626.85,716.725 1868.82,693.238 2110.79,870.715 2352.76,700.321 \n",
       "  \n",
       "  \"/>\n",
       "<polyline clip-path=\"url(#clip1102)\" style=\"stroke:#ffa500; stroke-width:4; stroke-opacity:1; fill:none\" points=\"\n",
       "  175.024,630.303 416.994,746.456 658.964,1116.99 900.935,489.919 1142.9,539.596 1384.88,325.548 1626.85,633.538 1868.82,576.106 2110.79,647.315 2352.76,553.145 \n",
       "  \n",
       "  \"/>\n",
       "<polyline clip-path=\"url(#clip1102)\" style=\"stroke:#ffa500; stroke-width:4; stroke-opacity:1; fill:none\" points=\"\n",
       "  175.024,498.81 416.994,782.944 658.964,714.385 900.935,540.173 1142.9,430.536 1384.88,650.381 1626.85,531.54 1868.82,657.62 2110.79,431.806 2352.76,497.698 \n",
       "  \n",
       "  \"/>\n",
       "<polyline clip-path=\"url(#clip1102)\" style=\"stroke:#ffa500; stroke-width:4; stroke-opacity:1; fill:none\" points=\"\n",
       "  175.024,633.724 416.994,773.301 658.964,865.504 900.935,433.949 1142.9,702.969 1384.88,285.693 1626.85,767.287 1868.82,500.992 2110.79,623.824 2352.76,574.239 \n",
       "  \n",
       "  \"/>\n",
       "<polyline clip-path=\"url(#clip1102)\" style=\"stroke:#ffa500; stroke-width:4; stroke-opacity:1; fill:none\" points=\"\n",
       "  175.024,623.513 416.994,797.593 658.964,569.493 900.935,494.993 1142.9,718.58 1384.88,962.398 1626.85,458.531 1868.82,512.612 2110.79,549.77 2352.76,492.835 \n",
       "  \n",
       "  \"/>\n",
       "<polyline clip-path=\"url(#clip1102)\" style=\"stroke:#ffa500; stroke-width:4; stroke-opacity:1; fill:none\" points=\"\n",
       "  175.024,943.053 416.994,817.817 658.964,1085.97 900.935,615.545 1142.9,659.163 1384.88,304.81 1626.85,524.021 1868.82,773.61 2110.79,755.748 2352.76,643.41 \n",
       "  \n",
       "  \"/>\n",
       "<polyline clip-path=\"url(#clip1102)\" style=\"stroke:#ffa500; stroke-width:4; stroke-opacity:1; fill:none\" points=\"\n",
       "  175.024,767.728 416.994,642.632 658.964,398.49 900.935,562.638 1142.9,787.727 1384.88,971.289 1626.85,468.25 1868.82,512.657 2110.79,537.129 2352.76,554.18 \n",
       "  \n",
       "  \"/>\n",
       "<polyline clip-path=\"url(#clip1102)\" style=\"stroke:#ffa500; stroke-width:4; stroke-opacity:1; fill:none\" points=\"\n",
       "  175.024,943.053 416.994,817.817 658.964,1085.97 900.935,615.545 1142.9,659.163 1384.88,304.81 1626.85,524.021 1868.82,773.61 2110.79,755.748 2352.76,643.41 \n",
       "  \n",
       "  \"/>\n",
       "<polyline clip-path=\"url(#clip1102)\" style=\"stroke:#ffa500; stroke-width:4; stroke-opacity:1; fill:none\" points=\"\n",
       "  175.024,514.189 416.994,664.882 658.964,722.128 900.935,766.646 1142.9,561.395 1384.88,605.308 1626.85,876.392 1868.82,663.269 2110.79,218.573 2352.76,605.122 \n",
       "  \n",
       "  \"/>\n",
       "<polyline clip-path=\"url(#clip1102)\" style=\"stroke:#ffa500; stroke-width:4; stroke-opacity:1; fill:none\" points=\"\n",
       "  175.024,613.369 416.994,547.174 658.964,453.768 900.935,572.751 1142.9,870.206 1384.88,626.779 1626.85,783.279 1868.82,665.682 2110.79,449.564 2352.76,589.1 \n",
       "  \n",
       "  \"/>\n",
       "<polyline clip-path=\"url(#clip1102)\" style=\"stroke:#ffa500; stroke-width:4; stroke-opacity:1; fill:none\" points=\"\n",
       "  175.024,526.598 416.994,405.923 658.964,785.351 900.935,283.641 1142.9,780.668 1384.88,294.001 1626.85,855.476 1868.82,698.702 2110.79,594.843 2352.76,620.258 \n",
       "  \n",
       "  \"/>\n",
       "<polyline clip-path=\"url(#clip1102)\" style=\"stroke:#ffa500; stroke-width:4; stroke-opacity:1; fill:none\" points=\"\n",
       "  175.024,286.225 416.994,407.704 658.964,627.674 900.935,473.401 1142.9,602.285 1384.88,645.375 1626.85,490.936 1868.82,685.524 2110.79,633.764 2352.76,563.505 \n",
       "  \n",
       "  \"/>\n",
       "<polyline clip-path=\"url(#clip1102)\" style=\"stroke:#ffa500; stroke-width:4; stroke-opacity:1; fill:none\" points=\"\n",
       "  175.024,822.694 416.994,777.709 658.964,861.839 900.935,471.471 1142.9,659.511 1384.88,206.518 1626.85,697.64 1868.82,610.007 2110.79,567.823 2352.76,575.356 \n",
       "  \n",
       "  \"/>\n",
       "</svg>\n"
      ]
     },
     "metadata": {},
     "output_type": "display_data"
    }
   ],
   "source": [
    "ymin = Inf\n",
    "ymax = -Inf\n",
    "function plot_pop(P)\n",
    "    global ymin = min(ymin, minimum([minimum(i.y) for i in P]))\n",
    "    global ymax = max(ymax, maximum([maximum(i.y) for i in P]))\n",
    "    plot(xlims=(1, n_objectives), ylims=(ymin, ymax))\n",
    "    ND = filter(indiv -> indiv.rank == 1, P)\n",
    "    dominated = filter(indiv->indiv.rank != 1, P)\n",
    "    for i in dominated\n",
    "        plot!(1:n_objectives, collect(i.y), legend=:none, color=:blue)\n",
    "    end\n",
    "    for i in ND\n",
    "        plot!(1:n_objectives, collect(i.y), legend=:none, color=:orange)\n",
    "    end\n",
    "    sleep(2.0)\n",
    "end\n",
    "\n",
    "non_dominated = nsga_max(popsize, 50, objective, init, fCV=constraint,\n",
    "    fplot=plot_pop, plotevery=10, showprogress=false);"
   ]
  },
  {
   "cell_type": "markdown",
   "metadata": {
    "slideshow": {
     "slide_type": "slide"
    }
   },
   "source": [
    "<div class=\"alert alert-success\">\n",
    "    <b>Exercise 4</b>\n",
    "    <br/>\n",
    "Gradually increase $K$, the number of objectives, and watch the number of non-dominated individuals in the population over evolution. What do you notice as $K$ increases?\n",
    "    <br/>\n",
    "</div>"
   ]
  },
  {
   "cell_type": "code",
   "execution_count": 37,
   "metadata": {},
   "outputs": [
    {
     "data": {
      "text/plain": [
       "init (generic function with 1 method)"
      ]
     },
     "execution_count": 37,
     "metadata": {},
     "output_type": "execute_result"
    }
   ],
   "source": [
    "n = 100\n",
    "n_objectives = 10\n",
    "values = rand(n, n_objectives)\n",
    "values = values ./ sum(values, dims=1)\n",
    "weights = rand(n)\n",
    "weights = weights ./ sum(weights)\n",
    "max_weight = 0.5\n",
    "popsize = 100\n",
    "nbgen = 50\n",
    "init() = bitrand(n)"
   ]
  },
  {
   "cell_type": "code",
   "execution_count": 38,
   "metadata": {},
   "outputs": [
    {
     "ename": "InterruptException",
     "evalue": "InterruptException:",
     "output_type": "error",
     "traceback": [
      "InterruptException:",
      "",
      "Stacktrace:",
      " [1] gr_inqtext(::Int64, ::Int64, ::String) at /Users/titouan/.julia/packages/GR/yMV3y/src/GR.jl:621",
      " [2] gr_text_size(::String, ::Int64) at /Users/titouan/.julia/packages/Plots/ZRCUN/src/backends/gr.jl:766",
      " [3] gr_get_ticks_size(::Tuple{Array{Float64,1},Array{String,1}}, ::Int64) at /Users/titouan/.julia/packages/Plots/ZRCUN/src/backends/gr.jl:781",
      " [4] _update_min_padding!(::Plots.Subplot{Plots.GRBackend}) at /Users/titouan/.julia/packages/Plots/ZRCUN/src/backends/gr.jl:938",
      " [5] gr_display(::Plots.Subplot{Plots.GRBackend}, ::Measures.Length{:mm,Float64}, ::Measures.Length{:mm,Float64}, ::Array{Float64,1}) at /Users/titouan/.julia/packages/Plots/ZRCUN/src/backends/gr.jl:982",
      " [6] gr_display(::Plots.Plot{Plots.GRBackend}, ::String) at /Users/titouan/.julia/packages/Plots/ZRCUN/src/backends/gr.jl:723",
      " [7] _show(::Base.GenericIOBuffer{Array{UInt8,1}}, ::MIME{Symbol(\"image/svg+xml\")}, ::Plots.Plot{Plots.GRBackend}) at /Users/titouan/.julia/packages/Plots/ZRCUN/src/backends/gr.jl:1953",
      " [8] show(::Base.GenericIOBuffer{Array{UInt8,1}}, ::MIME{Symbol(\"image/svg+xml\")}, ::Plots.Plot{Plots.GRBackend}) at /Users/titouan/.julia/packages/Plots/ZRCUN/src/output.jl:216",
      " [9] #sprint#326(::Nothing, ::Int64, ::Function, ::Function, ::MIME{Symbol(\"image/svg+xml\")}, ::Vararg{Any,N} where N) at ./strings/io.jl:101",
      " [10] sprint(::Function, ::MIME{Symbol(\"image/svg+xml\")}, ::Vararg{Any,N} where N) at ./strings/io.jl:97",
      " [11] _ijulia_display_dict(::Plots.Plot{Plots.GRBackend}) at /Users/titouan/.julia/packages/Plots/ZRCUN/src/ijulia.jl:53",
      " [12] display_dict at /Users/titouan/.julia/packages/Plots/ZRCUN/src/init.jl:81 [inlined]",
      " [13] display(::IJulia.InlineDisplay, ::Plots.Plot{Plots.GRBackend}) at /Users/titouan/.julia/packages/IJulia/yLI42/src/inline.jl:95",
      " [14] inline(::Plots.Plot{Plots.GRBackend}) at /Users/titouan/.julia/packages/Plots/ZRCUN/src/output.jl:156",
      " [15] _do_plot_show(::Plots.Plot{Plots.GRBackend}, ::Symbol) at /Users/titouan/.julia/packages/Plots/ZRCUN/src/output.jl:167",
      " [16] _plot!(::Plots.Plot{Plots.GRBackend}, ::Dict{Symbol,Any}, ::Tuple{UnitRange{Int64},Array{Float64,1}}) at /Users/titouan/.julia/packages/Plots/ZRCUN/src/plot.jl:169",
      " [17] #plot!#129(::Base.Iterators.Pairs{Symbol,Symbol,Tuple{Symbol,Symbol},NamedTuple{(:legend, :color),Tuple{Symbol,Symbol}}}, ::Function, ::Plots.Plot{Plots.GRBackend}, ::UnitRange{Int64}, ::Vararg{Any,N} where N) at /Users/titouan/.julia/packages/Plots/ZRCUN/src/plot.jl:158",
      " [18] (::getfield(RecipesBase, Symbol(\"#kw##plot!\")))(::NamedTuple{(:legend, :color),Tuple{Symbol,Symbol}}, ::typeof(plot!), ::Plots.Plot{Plots.GRBackend}, ::UnitRange{Int64}, ::Vararg{Any,N} where N) at ./none:0",
      " [19] #plot!#128(::Base.Iterators.Pairs{Symbol,Symbol,Tuple{Symbol,Symbol},NamedTuple{(:legend, :color),Tuple{Symbol,Symbol}}}, ::Function, ::UnitRange{Int64}, ::Vararg{Any,N} where N) at /Users/titouan/.julia/packages/Plots/ZRCUN/src/plot.jl:150",
      " [20] (::getfield(RecipesBase, Symbol(\"#kw##plot!\")))(::NamedTuple{(:legend, :color),Tuple{Symbol,Symbol}}, ::typeof(plot!), ::UnitRange{Int64}, ::Array{Float64,1}) at ./none:0",
      " [21] plot_pop(::Array{NSGAII.indiv{BitArray{1},BitArray{1},NTuple{10,Float64}},1}) at ./In[38]:10",
      " [22] macro expansion at /Users/titouan/.julia/packages/NSGAII/HZevC/src/functions.jl:52 [inlined]",
      " [23] macro expansion at /Users/titouan/.julia/packages/ProgressMeter/g1lse/src/ProgressMeter.jl:717 [inlined]",
      " [24] _nsga(::NSGAII.indiv{BitArray{1},BitArray{1},NTuple{10,Float64}}, ::NSGAII.Max, ::Int64, ::Int64, ::typeof(init), ::Function, ::Function, ::Function, ::typeof(constraint), ::Float64, ::typeof(NSGAII.default_mutation!), ::typeof(NSGAII.default_crossover!), ::Array{BitArray{1},1}, ::typeof(plot_pop), ::Int64, ::Float64) at /Users/titouan/.julia/packages/NSGAII/HZevC/src/functions.jl:19",
      " [25] #nsga_max#51(::Function, ::Function, ::Function, ::Float64, ::Function, ::Function, ::Array{BitArray{1},1}, ::Function, ::Int64, ::Bool, ::typeof(nsga_max), ::Int64, ::Int64, ::typeof(objective), ::typeof(init)) at /Users/titouan/.julia/packages/NSGAII/HZevC/src/NSGAII.jl:36",
      " [26] (::getfield(NSGAII, Symbol(\"#kw##nsga_max\")))(::NamedTuple{(:fCV, :fplot, :plotevery, :showprogress),Tuple{typeof(constraint),typeof(plot_pop),Int64,Bool}}, ::typeof(nsga_max), ::Int64, ::Int64, ::Function, ::typeof(init)) at ./none:0",
      " [27] top-level scope at In[38]:17"
     ]
    }
   ],
   "source": [
    "ymin = Inf\n",
    "ymax = -Inf\n",
    "function plot_pop(P)\n",
    "    global ymin = min(ymin, minimum([minimum(i.y) for i in P]))\n",
    "    global ymax = max(ymax, maximum([maximum(i.y) for i in P]))\n",
    "    plot(xlims=(1, n_objectives), ylims=(ymin, ymax))\n",
    "    ND = filter(indiv -> indiv.rank == 1, P)\n",
    "    dominated = filter(indiv->indiv.rank != 1, P)\n",
    "    for i in dominated\n",
    "        plot!(1:n_objectives, collect(i.y), legend=:none, color=:blue)\n",
    "    end\n",
    "    for i in ND\n",
    "        plot!(1:n_objectives, collect(i.y), legend=:none, color=:orange)\n",
    "    end\n",
    "    sleep(2.0)\n",
    "end\n",
    "\n",
    "non_dominated = nsga_max(popsize, 50, objective, init, fCV=constraint,\n",
    "    fplot=plot_pop, plotevery=10, showprogress=false);\n"
   ]
  },
  {
   "cell_type": "code",
   "execution_count": null,
   "metadata": {
    "collapsed": true
   },
   "outputs": [],
   "source": []
  }
 ],
 "metadata": {
  "celltoolbar": "Slideshow",
  "kernelspec": {
   "display_name": "Julia 1.0.5",
   "language": "julia",
   "name": "julia-1.0"
  },
  "language_info": {
   "file_extension": ".jl",
   "mimetype": "application/julia",
   "name": "julia",
   "version": "1.0.5"
  }
 },
 "nbformat": 4,
 "nbformat_minor": 2
}
