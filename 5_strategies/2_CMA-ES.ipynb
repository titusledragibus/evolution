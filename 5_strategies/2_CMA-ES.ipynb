{
 "cells": [
  {
   "cell_type": "markdown",
   "metadata": {
    "slideshow": {
     "slide_type": "slide"
    }
   },
   "source": [
    "<img src=\"../imgs/logo.png\" width=\"20%\" align=\"right\" style=\"margin:0px 20px\">\n",
    "\n",
    "\n",
    "# Evolutionary Computation\n",
    "\n",
    "## 5.2 CMA-ES\n",
    "\n",
    "<a rel=\"license\" href=\"http://creativecommons.org/licenses/by-sa/4.0/\"><img alt=\"Creative Commons License\" align=\"left\" src=\"https://i.creativecommons.org/l/by-sa/4.0/80x15.png\" /></a>&nbsp;| Dennis G. Wilson | <a href=\"https://d9w.github.io/evolution/\">https://d9w.github.io/evolution/</a>"
   ]
  },
  {
   "cell_type": "markdown",
   "metadata": {
    "slideshow": {
     "slide_type": "slide"
    }
   },
   "source": [
    "# CMA-ES\n",
    "\n",
    "In this section, we'll discuss the Covariance Matrix Adaptation Evolutionary Strategy, or CMA-ES [1, 2]. This is one of the most well-known evolutionary algorithms in general and is a state-of-the-art algorithm for continuous optimization. The strength of this method is that it adapts the distribution it uses to generate the next population based on the current distribution of individuals. In the previous section, we were limited to a Normal distribution with a fixed $\\sigma$. The adaptive distribution of CMA-ES means it will cross search spaces faster and narrow in more exactly on optimal points.\n",
    "\n",
    "[1] Hansen, Nikolaus, and Andreas Ostermeier. \"Adapting arbitrary normal mutation distributions in evolution strategies: The covariance matrix adaptation.\" Proceedings of IEEE international conference on evolutionary computation. IEEE, 1996.\n",
    "\n",
    "[2] Hansen, Nikolaus, and Andreas Ostermeier. \"Completely derandomized self-adaptation in evolution strategies.\" Evolutionary computation 9.2 (2001): 159-195."
   ]
  },
  {
   "cell_type": "markdown",
   "metadata": {
    "slideshow": {
     "slide_type": "slide"
    }
   },
   "source": [
    "Let's go through a simplified version of the algorithm from [3]. There are improvements to CMA-ES beyond this basic framework, but that's beyond the scope of today. [4] provides a good review of different CMA-ES modifications.\n",
    "\n",
    "[3] Hans-Georg Beyer (2007) Evolution strategies. Scholarpedia, 2(8):1965.\n",
    "\n",
    "[4] Hansen, Nikolaus. \"The CMA evolution strategy: a comparing review.\" Towards a new evolutionary computation. Springer, Berlin, Heidelberg, 2006. 75-102."
   ]
  },
  {
   "cell_type": "markdown",
   "metadata": {
    "slideshow": {
     "slide_type": "slide"
    }
   },
   "source": [
    "We'll start by creating a random individual $\\mathbf{y}$ which will be our first expert. We also create a diagonal covariance matrix $\\mathbf{C}$."
   ]
  },
  {
   "cell_type": "markdown",
   "metadata": {
    "slideshow": {
     "slide_type": "fragment"
    }
   },
   "source": [
    "$\\mbox{(L1):} \\quad \n",
    "  \\forall l=1, \\ldots, \\lambda : \\;\\;\n",
    "  \\begin{cases}\n",
    "   & \\mathbf{w}_l \n",
    "          \\leftarrow \\sigma \\sqrt{ \\mathbf{C} } \\,\n",
    "          \\mathbf{N}_l(\\mathbf{0}, \\mathbf{1}),\\\\[2mm]\n",
    "   & \\mathbf{y}_l \\leftarrow \\mathbf{y}  + \\mathbf{w}_l, \\\\[2mm]\n",
    "   & F_l \\leftarrow F(\\mathbf{y}_l),\n",
    "  \\end{cases}$"
   ]
  },
  {
   "cell_type": "markdown",
   "metadata": {
    "slideshow": {
     "slide_type": "fragment"
    }
   },
   "source": [
    "In the first step, (L1), $\\lambda$ offspring $\\mathbf{y}_l$ are created by transforming standard normally distributed random vectors using a transformation matrix $\\sqrt{\\mathbf{C}}$ which is given by Cholesky decomposition of the covariance matrix $\\mathbf{C}$ and the global step size factor $\\sigma$. We also evaluate every individual, creating $F$."
   ]
  },
  {
   "cell_type": "markdown",
   "metadata": {
    "slideshow": {
     "slide_type": "fragment"
    }
   },
   "source": [
    "$\\mbox{(L2):} \\quad \n",
    "      \\mathbf{y} \\leftarrow \\mathbf{y} + \\langle \\mathbf{w} \\rangle$"
   ]
  },
  {
   "cell_type": "markdown",
   "metadata": {
    "slideshow": {
     "slide_type": "fragment"
    }
   },
   "source": [
    "In (L2) the best $\\mu$ mutations are recombined forming the recombinant $\\mathbf{y}$ (center of mass individual) for the next generation. "
   ]
  },
  {
   "cell_type": "markdown",
   "metadata": {
    "slideshow": {
     "slide_type": "slide"
    }
   },
   "source": [
    "$\\mbox{(L3):} \\quad \n",
    "            \\mathbf{s} \\leftarrow \\left(1-\\frac{1}{\\tau}\\right)\\mathbf{s}\n",
    "          + \\sqrt{\\frac{\\mu}{\\tau} \\left(2-\\frac{1}{\\tau}\\right)} \\,\n",
    "            \\frac{\\langle \\mathbf{w} \\rangle}{\\sigma}$"
   ]
  },
  {
   "cell_type": "markdown",
   "metadata": {
    "slideshow": {
     "slide_type": "fragment"
    }
   },
   "source": [
    "Vector $\\langle \\mathbf{w} \\rangle$ combines individuals from two consecutive generations so $\\langle \\mathbf{w} \\rangle/\\sigma$ represents the tendency of evolution in the search space. In (L3), this information is cumulated in the $\\mathbf{s}$ vector, which exponentially decays with the time constant $\\tau$. A good default for this is $\\tau=\\sqrt{n}$."
   ]
  },
  {
   "cell_type": "markdown",
   "metadata": {
    "slideshow": {
     "slide_type": "fragment"
    }
   },
   "source": [
    "$\\mbox{(L4):} \\quad \n",
    "      \\mathbf{C} \\leftarrow \n",
    "      \\left(1-\\frac{1}{\\tau_{\\mathrm{c}}}\\right)\\mathbf{C}\n",
    "              + \\frac{1}{\\tau_{\\mathrm{c}}} \\mathbf{s} \\mathbf{s}^T$"
   ]
  },
  {
   "cell_type": "markdown",
   "metadata": {
    "slideshow": {
     "slide_type": "fragment"
    }
   },
   "source": [
    "In (L4), the direction vector $\\mathbf{s}$ is used to update the covariance matrix $\\mathbf{C}$ with time constant $\\tau_{\\mathrm{c}} \\propto n^2$"
   ]
  },
  {
   "cell_type": "markdown",
   "metadata": {
    "slideshow": {
     "slide_type": "slide"
    }
   },
   "source": [
    "$\\mbox{(L5):} \\quad  \n",
    "       \\mathbf{s}_\\sigma\n",
    "       \\leftarrow \\left(1-\\frac{1}{\\tau_\\sigma}\\right) \\mathbf{s}_\\sigma\n",
    "                  + \\sqrt{\\frac{\\mu}{\\tau_\\sigma}\n",
    "                    \\left(2-\\frac{1}{\\tau_\\sigma}\\right)} \\,\n",
    "                      \\langle \\mathbf{N}(\\mathbf{0}, \\mathbf{1}) \\rangle$"
   ]
  },
  {
   "cell_type": "markdown",
   "metadata": {
    "slideshow": {
     "slide_type": "slide"
    }
   },
   "source": [
    "$\\mbox{(L6):} \\quad  \n",
    "      \\sigma \\leftarrow \\sigma\\exp\\left[\n",
    "                        \\frac{\\| \\mathbf{s}_{\\sigma} \\|^2 - n}\n",
    "                                   {2 n \\sqrt{n} }\n",
    "                                        \\right]$"
   ]
  },
  {
   "cell_type": "markdown",
   "metadata": {
    "slideshow": {
     "slide_type": "fragment"
    }
   },
   "source": [
    "The distribution standard deviation $\\sigma$ is then calculated in (L5) and (L6) using the cumulated step size adaptation (CSA) technique with time constant $\\tau_\\sigma = \\sqrt{n}$ (initially $\\mathbf{s}_\\sigma = \\mathbf{0}$). $\\langle \\mathbf{N}(\\mathbf{0}, \\mathbf{1}) \\rangle$ is the distribution we calculated in (L1). "
   ]
  },
  {
   "cell_type": "markdown",
   "metadata": {
    "slideshow": {
     "slide_type": "slide"
    }
   },
   "source": [
    "So instead of simply using a Normal distribution to create the next generation, CMA-ES transforms a normal distribution by the covariance matrix $\\mathbf{C}$. It also moves at self-adjusting $\\sigma$. This makes its movement around the search space much more effective, as it is informed by the shape of the search space given through the fitness values $F$."
   ]
  },
  {
   "cell_type": "markdown",
   "metadata": {
    "slideshow": {
     "slide_type": "fragment"
    }
   },
   "source": [
    "Let's see an example of that."
   ]
  },
  {
   "cell_type": "code",
   "execution_count": 1,
   "metadata": {
    "collapsed": true,
    "slideshow": {
     "slide_type": "slide"
    }
   },
   "outputs": [],
   "source": [
    "using Random\n",
    "using LinearAlgebra\n",
    "using Statistics\n",
    "using Plots"
   ]
  },
  {
   "cell_type": "code",
   "execution_count": 2,
   "metadata": {
    "slideshow": {
     "slide_type": "fragment"
    }
   },
   "outputs": [
    {
     "data": {
      "text/plain": [
       "sphere (generic function with 1 method)"
      ]
     },
     "execution_count": 2,
     "metadata": {},
     "output_type": "execute_result"
    }
   ],
   "source": [
    "solution = [3.5, -0.2]\n",
    "sphere(x::Array{Float64}) = sum((x .- solution).^2)\n",
    "himmelblau(x::Array{Float64}) = (x[1]^2 + x[2] - 11)^2 + (x[1] + x[2]^2 - 7)^2\n",
    "styblinski_tang(x::Array{Float64}) = sum(x.^4 .- 16 .* x.^2 .+ 5 .* x) / 2.0\n",
    "rastrigin(x::Array{Float64}) = 10.0 * length(x) .+ sum((x .- solution).^2 .- 10 .* cos.(2*pi.*(x .- solution)))\n",
    "objective = sphere"
   ]
  },
  {
   "cell_type": "markdown",
   "metadata": {
    "slideshow": {
     "slide_type": "slide"
    }
   },
   "source": [
    "As with last time, we'll optimize over 2 continuous variables. We'll set default values of the time constants based on $N$. These are recommended values for CMA-ES [5]\n",
    "\n",
    "[5] Hansen, Nikolaus, Sibylle D. Müller, and Petros Koumoutsakos. \"Reducing the time complexity of the derandomized evolution strategy with covariance matrix adaptation (CMA-ES).\" Evolutionary computation 11.1 (2003): 1-18."
   ]
  },
  {
   "cell_type": "code",
   "execution_count": 3,
   "metadata": {
    "collapsed": true,
    "slideshow": {
     "slide_type": "fragment"
    }
   },
   "outputs": [],
   "source": [
    "N = 2\n",
    "μ = 5\n",
    "λ = 10\n",
    "τ = sqrt(N)\n",
    "τ_c = N^2\n",
    "τ_σ = sqrt(N);"
   ]
  },
  {
   "cell_type": "markdown",
   "metadata": {
    "slideshow": {
     "slide_type": "slide"
    }
   },
   "source": [
    "Now let's make our random expert and create placeholder fitness and offspring vectors."
   ]
  },
  {
   "cell_type": "code",
   "execution_count": 4,
   "metadata": {
    "collapsed": true,
    "slideshow": {
     "slide_type": "fragment"
    }
   },
   "outputs": [],
   "source": [
    "y = randn(N)\n",
    "offspring = Array{Array{Float64}}(undef, λ)\n",
    "F = Inf .* ones(λ);"
   ]
  },
  {
   "cell_type": "markdown",
   "metadata": {
    "slideshow": {
     "slide_type": "fragment"
    }
   },
   "source": [
    "Finally, we need to initialize $\\mathbf{C}, \\mathbf{N}, \\mathbf{w}, \\mathbf{s}, \\mathbf{s_\\sigma},$ and $\\mathbf{\\sigma}$."
   ]
  },
  {
   "cell_type": "code",
   "execution_count": 5,
   "metadata": {
    "collapsed": true,
    "slideshow": {
     "slide_type": "fragment"
    }
   },
   "outputs": [],
   "source": [
    "C = Diagonal{Float64}(I, N)\n",
    "W = zeros(N, λ)\n",
    "s = zeros(N)\n",
    "s_σ = zeros(N)\n",
    "σ = 1.0\n",
    "E = zeros(N, λ);"
   ]
  },
  {
   "cell_type": "markdown",
   "metadata": {
    "slideshow": {
     "slide_type": "slide"
    }
   },
   "source": [
    "Step 1: We calculate the offspring distribution $\\mathbf{w}$ then center it at the center-of-mass individual $\\mathbf{y}$."
   ]
  },
  {
   "cell_type": "markdown",
   "metadata": {
    "slideshow": {
     "slide_type": "fragment"
    }
   },
   "source": [
    "$\\mbox{(L1):} \\quad \n",
    "  \\forall l=1, \\ldots, \\lambda : \\;\\;\n",
    "  \\begin{cases}\n",
    "   & \\mathbf{w}_l \n",
    "          \\leftarrow \\sigma \\sqrt{ \\mathbf{C} } \\,\n",
    "          \\mathbf{N}_l(\\mathbf{0}, \\mathbf{1}),\\\\[2mm]\n",
    "   & \\mathbf{y}_l \\leftarrow \\mathbf{y}  + \\mathbf{w}_l, \\\\[2mm]\n",
    "   & F_l \\leftarrow F(\\mathbf{y}_l),\n",
    "  \\end{cases}$"
   ]
  },
  {
   "cell_type": "code",
   "execution_count": 6,
   "metadata": {
    "slideshow": {
     "slide_type": "fragment"
    }
   },
   "outputs": [
    {
     "data": {
      "text/plain": [
       "2×2 UpperTriangular{Float64,Diagonal{Float64,Array{Float64,1}}}:\n",
       " 1.0  0.0\n",
       "  ⋅   1.0"
      ]
     },
     "execution_count": 6,
     "metadata": {},
     "output_type": "execute_result"
    }
   ],
   "source": [
    "sqrt_c = cholesky((C + C') / 2.0).U"
   ]
  },
  {
   "cell_type": "markdown",
   "metadata": {
    "slideshow": {
     "slide_type": "fragment"
    }
   },
   "source": [
    "Note that our $\\mathbf{C}$ covariance matrix is currently 1, so this first distribution will just be a normal distribution without any transformation. We will then evaluate every individual."
   ]
  },
  {
   "cell_type": "code",
   "execution_count": 7,
   "metadata": {
    "collapsed": true,
    "slideshow": {
     "slide_type": "slide"
    }
   },
   "outputs": [],
   "source": [
    "for i in 1:λ\n",
    "    E[:,i] = randn(N)\n",
    "    W[:,i] = σ * (sqrt_c * E[:,i])\n",
    "    offspring[i] = y + W[:,i]\n",
    "    F[i] = objective(offspring[i])\n",
    "end"
   ]
  },
  {
   "cell_type": "markdown",
   "metadata": {
    "slideshow": {
     "slide_type": "fragment"
    }
   },
   "source": [
    "Now that we have evaluated the individuals, we will select a subset of them to inform the next generation. We'll simply use a truncation selection, taking the top $\\mu$ individuals."
   ]
  },
  {
   "cell_type": "code",
   "execution_count": 8,
   "metadata": {
    "slideshow": {
     "slide_type": "fragment"
    }
   },
   "outputs": [
    {
     "data": {
      "text/plain": [
       "5-element Array{Int64,1}:\n",
       "  2\n",
       " 10\n",
       "  5\n",
       "  9\n",
       "  6"
      ]
     },
     "execution_count": 8,
     "metadata": {},
     "output_type": "execute_result"
    }
   ],
   "source": [
    "idx = sortperm(F)[1:μ]"
   ]
  },
  {
   "cell_type": "markdown",
   "metadata": {
    "slideshow": {
     "slide_type": "slide"
    }
   },
   "source": [
    "Now step 2. We update $\\mathbf{y}$ using the top $\\mu$ individuals in $\\mathbf{w}$"
   ]
  },
  {
   "cell_type": "markdown",
   "metadata": {
    "slideshow": {
     "slide_type": "fragment"
    }
   },
   "source": [
    "$\\mbox{(L2):} \\quad \n",
    "      \\mathbf{y} \\leftarrow \\mathbf{y} + \\langle \\mathbf{w} \\rangle$"
   ]
  },
  {
   "cell_type": "code",
   "execution_count": 9,
   "metadata": {
    "slideshow": {
     "slide_type": "fragment"
    }
   },
   "outputs": [
    {
     "data": {
      "text/plain": [
       "2-element Array{Float64,1}:\n",
       " 2.006513975861757  \n",
       " 0.29454943706039205"
      ]
     },
     "execution_count": 9,
     "metadata": {},
     "output_type": "execute_result"
    }
   ],
   "source": [
    "w = vec(mean(W[:,idx], dims=2))\n",
    "y += w"
   ]
  },
  {
   "cell_type": "markdown",
   "metadata": {
    "slideshow": {
     "slide_type": "slide"
    }
   },
   "source": [
    "In step 3, we update the direction vector $\\mathbf{s}$."
   ]
  },
  {
   "cell_type": "markdown",
   "metadata": {
    "slideshow": {
     "slide_type": "fragment"
    }
   },
   "source": [
    "$\\mbox{(L3):} \\quad \n",
    "            \\mathbf{s} \\leftarrow \\left(1-\\frac{1}{\\tau}\\right)\\mathbf{s}\n",
    "          + \\sqrt{\\frac{\\mu}{\\tau} \\left(2-\\frac{1}{\\tau}\\right)} \\,\n",
    "            \\frac{\\langle \\mathbf{w} \\rangle}{\\sigma}$"
   ]
  },
  {
   "cell_type": "code",
   "execution_count": 10,
   "metadata": {
    "slideshow": {
     "slide_type": "fragment"
    }
   },
   "outputs": [
    {
     "data": {
      "text/plain": [
       "2-element Array{Float64,1}:\n",
       "  1.6568422308571011\n",
       " -1.7943939668537563"
      ]
     },
     "execution_count": 10,
     "metadata": {},
     "output_type": "execute_result"
    }
   ],
   "source": [
    "s = (1.0 - 1.0/τ)*s + (sqrt(μ/τ * (2.0 - 1.0/τ))/σ)*w"
   ]
  },
  {
   "cell_type": "markdown",
   "metadata": {
    "slideshow": {
     "slide_type": "fragment"
    }
   },
   "source": [
    "Next we update our covariance matrix $\\mathbf{C}$. Note that it will no longer be a diagonal matrix: our next update will use a transformed distribution to generate the population."
   ]
  },
  {
   "cell_type": "markdown",
   "metadata": {
    "slideshow": {
     "slide_type": "slide"
    }
   },
   "source": [
    "$\\mbox{(L4):} \\quad \n",
    "      \\mathbf{C} \\leftarrow \n",
    "      \\left(1-\\frac{1}{\\tau_{\\mathrm{c}}}\\right)\\mathbf{C}\n",
    "              + \\frac{1}{\\tau_{\\mathrm{c}}} \\mathbf{s} \\mathbf{s}^T$"
   ]
  },
  {
   "cell_type": "code",
   "execution_count": 11,
   "metadata": {
    "slideshow": {
     "slide_type": "fragment"
    }
   },
   "outputs": [
    {
     "data": {
      "text/plain": [
       "2×2 Array{Float64,2}:\n",
       "  1.43628   -0.743257\n",
       " -0.743257   1.55496 "
      ]
     },
     "execution_count": 11,
     "metadata": {},
     "output_type": "execute_result"
    }
   ],
   "source": [
    "C = (1.0 - 1.0/τ_c).*C + (s./τ_c)*s'"
   ]
  },
  {
   "cell_type": "markdown",
   "metadata": {
    "slideshow": {
     "slide_type": "slide"
    }
   },
   "source": [
    "Finally, we update the $\\sigma$, which is the standard deviation of the distribution we generate in the first step. Note that its initial value was `1.0`."
   ]
  },
  {
   "cell_type": "markdown",
   "metadata": {
    "slideshow": {
     "slide_type": "fragment"
    }
   },
   "source": [
    "$\\mbox{(L5):} \\quad  \n",
    "       \\mathbf{s}_\\sigma\n",
    "       \\leftarrow \\left(1-\\frac{1}{\\tau_\\sigma}\\right) \\mathbf{s}_\\sigma\n",
    "                  + \\sqrt{\\frac{\\mu}{\\tau_\\sigma}\n",
    "                    \\left(2-\\frac{1}{\\tau_\\sigma}\\right)} \\,\n",
    "                      \\langle \\mathbf{N}(\\mathbf{0}, \\mathbf{1}) \\rangle$"
   ]
  },
  {
   "cell_type": "markdown",
   "metadata": {
    "slideshow": {
     "slide_type": "fragment"
    }
   },
   "source": [
    "$\\mbox{(L6):} \\quad  \n",
    "      \\sigma \\leftarrow \\sigma\\exp\\left[\n",
    "                        \\frac{\\| \\mathbf{s}_{\\sigma} \\|^2 - n}\n",
    "                                   {2 n \\sqrt{n} }\n",
    "                                        \\right]$"
   ]
  },
  {
   "cell_type": "code",
   "execution_count": 12,
   "metadata": {
    "slideshow": {
     "slide_type": "fragment"
    }
   },
   "outputs": [
    {
     "data": {
      "text/plain": [
       "2.015596807845942"
      ]
     },
     "execution_count": 12,
     "metadata": {},
     "output_type": "execute_result"
    }
   ],
   "source": [
    "ɛ = vec(mean(E[:,idx], dims=2))\n",
    "s_σ = (1.0 - 1.0/τ_σ)*s_σ + sqrt(μ/τ_σ*(2.0 - 1.0/τ_σ))*ɛ\n",
    "σ = σ*exp(((s_σ'*s_σ)[1] - N)/(2*N*sqrt(N)))"
   ]
  },
  {
   "cell_type": "markdown",
   "metadata": {
    "slideshow": {
     "slide_type": "fragment"
    }
   },
   "source": [
    "That's a lot! Let's put it all together in an object and see how it runs over multiple iterations."
   ]
  },
  {
   "cell_type": "code",
   "execution_count": 13,
   "metadata": {
    "collapsed": true,
    "slideshow": {
     "slide_type": "slide"
    }
   },
   "outputs": [],
   "source": [
    "mutable struct CMAES\n",
    "    N::Int\n",
    "    μ::Int\n",
    "    λ::Int\n",
    "    τ::Float64\n",
    "    τ_c::Float64\n",
    "    τ_σ::Float64\n",
    "    population::Array{Array{Float64}}\n",
    "    offspring::Array{Array{Float64}}\n",
    "    F_μ::Array{Float64}\n",
    "    F_λ::Array{Float64}\n",
    "    C::Array{Float64}\n",
    "    s::Array{Float64}\n",
    "    s_σ::Array{Float64}\n",
    "    σ::Float64\n",
    "    E::Array{Float64}\n",
    "    W::Array{Float64}\n",
    "    x::Array{Float64}\n",
    "end"
   ]
  },
  {
   "cell_type": "code",
   "execution_count": 14,
   "metadata": {
    "slideshow": {
     "slide_type": "slide"
    }
   },
   "outputs": [
    {
     "data": {
      "text/plain": [
       "CMAES"
      ]
     },
     "execution_count": 14,
     "metadata": {},
     "output_type": "execute_result"
    }
   ],
   "source": [
    "function CMAES(;N=2, μ=1, λ=10, τ=sqrt(N), τ_c=N^2, τ_σ=sqrt(N))\n",
    "    x = randn(N)\n",
    "    population = fill(x, µ)\n",
    "    offspring = Array{Array{Float64}}(undef, λ)\n",
    "    F_µ = Inf .* ones(µ)\n",
    "    F_λ = Inf .* ones(λ)\n",
    "    C = Array(Diagonal{Float64}(I, N))\n",
    "    s = zeros(N)\n",
    "    s_σ = zeros(N)\n",
    "    σ = 1.0\n",
    "    E = zeros(N, λ)\n",
    "    W = zeros(N, λ);\n",
    "    CMAES(N, μ, λ, τ, τ_c, τ_σ, population, offspring, F_µ, F_λ, C, s, s_σ, σ, E, W, x)\n",
    "end"
   ]
  },
  {
   "cell_type": "code",
   "execution_count": 15,
   "metadata": {
    "scrolled": true,
    "slideshow": {
     "slide_type": "fragment"
    }
   },
   "outputs": [
    {
     "data": {
      "text/plain": [
       "CMAES(2, 1, 10, 1.4142135623730951, 4.0, 1.4142135623730951, Array{Float64,N} where N[[-0.683024, 0.721947]], Array{Float64,N} where N[#undef, #undef, #undef, #undef, #undef, #undef, #undef, #undef, #undef, #undef], [Inf], [Inf, Inf, Inf, Inf, Inf, Inf, Inf, Inf, Inf, Inf], [1.0 0.0; 0.0 1.0], [0.0, 0.0], [0.0, 0.0], 1.0, [0.0 0.0 … 0.0 0.0; 0.0 0.0 … 0.0 0.0], [0.0 0.0 … 0.0 0.0; 0.0 0.0 … 0.0 0.0], [-0.683024, 0.721947])"
      ]
     },
     "execution_count": 15,
     "metadata": {},
     "output_type": "execute_result"
    }
   ],
   "source": [
    "c = CMAES()"
   ]
  },
  {
   "cell_type": "code",
   "execution_count": 16,
   "metadata": {
    "slideshow": {
     "slide_type": "slide"
    }
   },
   "outputs": [
    {
     "data": {
      "text/plain": [
       "step! (generic function with 1 method)"
      ]
     },
     "execution_count": 16,
     "metadata": {},
     "output_type": "execute_result"
    }
   ],
   "source": [
    "function step!(c::CMAES; obj=objective, visualize=false, anim=Nothing)\n",
    "    # L1\n",
    "    sqrt_c = cholesky((c.C + c.C') / 2.0).U\n",
    "    for i in 1:c.λ\n",
    "        c.E[:,i] = randn(c.N)\n",
    "        c.W[:,i] = c.σ * (sqrt_c * c.E[:,i])\n",
    "        c.offspring[i] = c.x + c.W[:,i]\n",
    "        c.F_λ[i] = obj(c.offspring[i])\n",
    "    end    \n",
    "    # Select new parent population\n",
    "    idx = sortperm(c.F_λ)[1:c.μ]\n",
    "    for i in 1:c.μ\n",
    "        c.population[i] = c.offspring[idx[i]]\n",
    "        c.F_μ[i] = c.F_λ[idx[i]]\n",
    "    end    \n",
    "    # L2\n",
    "    w = vec(mean(c.W[:,idx], dims=2))\n",
    "    c.x += w    \n",
    "    # L3\n",
    "    c.s = (1.0 - 1.0/c.τ)*c.s + (sqrt(c.μ/c.τ * (2.0 - 1.0/c.τ))/c.σ)*w   \n",
    "    # L4\n",
    "    c.C = (1.0 - 1.0/c.τ_c).*c.C + (c.s./c.τ_c)*c.s'    \n",
    "    # L5\n",
    "    ɛ = vec(mean(c.E[:,idx], dims=2))\n",
    "    c.s_σ = (1.0 - 1.0/c.τ_σ)*c.s_σ + sqrt(c.μ/c.τ_σ*(2.0 - 1.0/c.τ_σ))*ɛ    \n",
    "    # L6\n",
    "    c.σ = c.σ*exp(((c.s_σ'*c.s_σ)[1] - c.N)/(2*c.N*sqrt(c.N)))\n",
    "    if visualize\n",
    "        plot(xs, ys, fz, st=:contour)\n",
    "        scatter!([c.offspring[i][1] for i in 1:λ], [c.offspring[i][2] for i in 1:λ], \n",
    "            xlims=(-5, 5), ylims=(-5, 5), legend=:none)\n",
    "        scatter!([c.x[1]], [c.x[2]], color=:black, marker=:rect,\n",
    "            xlims=(-5, 5), ylims=(-5, 5), legend=:none)\n",
    "        frame(anim)\n",
    "    end\n",
    "    c\n",
    "end"
   ]
  },
  {
   "cell_type": "code",
   "execution_count": 17,
   "metadata": {
    "slideshow": {
     "slide_type": "slide"
    }
   },
   "outputs": [
    {
     "data": {
      "text/plain": [
       "plot_obj (generic function with 1 method)"
      ]
     },
     "execution_count": 17,
     "metadata": {},
     "output_type": "execute_result"
    }
   ],
   "source": [
    "function plot_obj()\n",
    "    c = CMAES()\n",
    "    println(\"x initial: \", c.x)\n",
    "    anim = Animation()\n",
    "    for i in 1:100\n",
    "        v = mod(i, 1) == 0\n",
    "        step!(c, visualize=v, anim=anim)\n",
    "    end\n",
    "    println(\"x final: \", c.x)\n",
    "    gif(anim)\n",
    "end"
   ]
  },
  {
   "cell_type": "code",
   "execution_count": 18,
   "metadata": {
    "slideshow": {
     "slide_type": "slide"
    }
   },
   "outputs": [
    {
     "name": "stdout",
     "output_type": "stream",
     "text": [
      "[3.5, -0.2]\n",
      "x initial: [0.561106, -0.452464]\n",
      "x final: [-2.80512, 3.13131]\n"
     ]
    },
    {
     "name": "stderr",
     "output_type": "stream",
     "text": [
      "┌ Info: Saved animation to \n",
      "│   fn = /Users/titouan/Documents/GitHub/evolution/5_strategies/tmp.gif\n",
      "└ @ Plots /Users/titouan/.julia/packages/Plots/ZRCUN/src/animation.jl:102\n"
     ]
    },
    {
     "data": {
      "text/html": [
       "<img src=\"data:image/gif;base64,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\" />"
      ],
      "text/plain": [
       "Plots.AnimatedGif(\"/Users/titouan/Documents/GitHub/evolution/5_strategies/tmp.gif\")"
      ]
     },
     "execution_count": 18,
     "metadata": {},
     "output_type": "execute_result"
    }
   ],
   "source": [
    "xs = -5.0:0.1:5.0\n",
    "ys = -5.0:0.1:5.0\n",
    "\n",
    "objective = himmelblau # sphere, himmelblau, styblinski_tang, rastrigin\n",
    "fz(x, y) = objective([x, y])\n",
    "println(solution) # optimal for sphere and rastrigin\n",
    "plot_obj()"
   ]
  },
  {
   "cell_type": "markdown",
   "metadata": {
    "slideshow": {
     "slide_type": "slide"
    }
   },
   "source": [
    "<div class=\"alert alert-success\">\n",
    "    <b>Exercise</b>\n",
    "    <br/>\n",
    "    Modify the parent population size and child population of the problem. Can you get CMA-ES to reliably converge on the Rastrigin function? What about for higer dimensions of $n$? Report your $\\mu$ and $\\lambda$ values in the class chat.\n",
    "</div>    "
   ]
  },
  {
   "cell_type": "code",
   "execution_count": null,
   "metadata": {
    "collapsed": true
   },
   "outputs": [],
   "source": []
  },
  {
   "cell_type": "code",
   "execution_count": null,
   "metadata": {
    "collapsed": true
   },
   "outputs": [],
   "source": []
  }
 ],
 "metadata": {
  "@webio": {
   "lastCommId": null,
   "lastKernelId": null
  },
  "celltoolbar": "Slideshow",
  "kernelspec": {
   "display_name": "Julia 1.0.5",
   "language": "julia",
   "name": "julia-1.0"
  },
  "language_info": {
   "file_extension": ".jl",
   "mimetype": "application/julia",
   "name": "julia",
   "version": "1.0.5"
  }
 },
 "nbformat": 4,
 "nbformat_minor": 2
}
